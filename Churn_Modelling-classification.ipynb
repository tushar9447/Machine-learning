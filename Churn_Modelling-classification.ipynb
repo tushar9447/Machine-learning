{
 "cells": [
  {
   "cell_type": "code",
   "execution_count": 1,
   "id": "494a89a3",
   "metadata": {},
   "outputs": [],
   "source": [
    "import pandas as pd\n",
    "import numpy as np\n",
    "import matplotlib.pyplot as plt\n",
    "import seaborn as sns\n",
    "\n",
    "from sklearn.model_selection import train_test_split, cross_val_score\n",
    "from sklearn.linear_model import LogisticRegression\n",
    "from sklearn.neighbors import KNeighborsClassifier\n",
    "from sklearn.svm import SVC\n",
    "from sklearn.tree import DecisionTreeClassifier\n",
    "from sklearn.metrics import accuracy_score, classification_report\n",
    "\n",
    "import warnings\n",
    "warnings.filterwarnings(\"ignore\")"
   ]
  },
  {
   "cell_type": "code",
   "execution_count": 2,
   "id": "91eca174",
   "metadata": {},
   "outputs": [
    {
     "data": {
      "text/html": [
       "<div>\n",
       "<style scoped>\n",
       "    .dataframe tbody tr th:only-of-type {\n",
       "        vertical-align: middle;\n",
       "    }\n",
       "\n",
       "    .dataframe tbody tr th {\n",
       "        vertical-align: top;\n",
       "    }\n",
       "\n",
       "    .dataframe thead th {\n",
       "        text-align: right;\n",
       "    }\n",
       "</style>\n",
       "<table border=\"1\" class=\"dataframe\">\n",
       "  <thead>\n",
       "    <tr style=\"text-align: right;\">\n",
       "      <th></th>\n",
       "      <th>CustomerId</th>\n",
       "      <th>Surname</th>\n",
       "      <th>CreditScore</th>\n",
       "      <th>Geography</th>\n",
       "      <th>Gender</th>\n",
       "      <th>Age</th>\n",
       "      <th>Tenure</th>\n",
       "      <th>Balance</th>\n",
       "      <th>NumOfProducts</th>\n",
       "      <th>HasCrCard</th>\n",
       "      <th>IsActiveMember</th>\n",
       "      <th>EstimatedSalary</th>\n",
       "      <th>Exited</th>\n",
       "    </tr>\n",
       "    <tr>\n",
       "      <th>RowNumber</th>\n",
       "      <th></th>\n",
       "      <th></th>\n",
       "      <th></th>\n",
       "      <th></th>\n",
       "      <th></th>\n",
       "      <th></th>\n",
       "      <th></th>\n",
       "      <th></th>\n",
       "      <th></th>\n",
       "      <th></th>\n",
       "      <th></th>\n",
       "      <th></th>\n",
       "      <th></th>\n",
       "    </tr>\n",
       "  </thead>\n",
       "  <tbody>\n",
       "    <tr>\n",
       "      <th>1</th>\n",
       "      <td>15634602</td>\n",
       "      <td>Hargrave</td>\n",
       "      <td>619</td>\n",
       "      <td>France</td>\n",
       "      <td>Female</td>\n",
       "      <td>42</td>\n",
       "      <td>2</td>\n",
       "      <td>0.00</td>\n",
       "      <td>1</td>\n",
       "      <td>1</td>\n",
       "      <td>1</td>\n",
       "      <td>101348.88</td>\n",
       "      <td>1</td>\n",
       "    </tr>\n",
       "    <tr>\n",
       "      <th>2</th>\n",
       "      <td>15647311</td>\n",
       "      <td>Hill</td>\n",
       "      <td>608</td>\n",
       "      <td>Spain</td>\n",
       "      <td>Female</td>\n",
       "      <td>41</td>\n",
       "      <td>1</td>\n",
       "      <td>83807.86</td>\n",
       "      <td>1</td>\n",
       "      <td>0</td>\n",
       "      <td>1</td>\n",
       "      <td>112542.58</td>\n",
       "      <td>0</td>\n",
       "    </tr>\n",
       "    <tr>\n",
       "      <th>3</th>\n",
       "      <td>15619304</td>\n",
       "      <td>Onio</td>\n",
       "      <td>502</td>\n",
       "      <td>France</td>\n",
       "      <td>Female</td>\n",
       "      <td>42</td>\n",
       "      <td>8</td>\n",
       "      <td>159660.80</td>\n",
       "      <td>3</td>\n",
       "      <td>1</td>\n",
       "      <td>0</td>\n",
       "      <td>113931.57</td>\n",
       "      <td>1</td>\n",
       "    </tr>\n",
       "    <tr>\n",
       "      <th>4</th>\n",
       "      <td>15701354</td>\n",
       "      <td>Boni</td>\n",
       "      <td>699</td>\n",
       "      <td>France</td>\n",
       "      <td>Female</td>\n",
       "      <td>39</td>\n",
       "      <td>1</td>\n",
       "      <td>0.00</td>\n",
       "      <td>2</td>\n",
       "      <td>0</td>\n",
       "      <td>0</td>\n",
       "      <td>93826.63</td>\n",
       "      <td>0</td>\n",
       "    </tr>\n",
       "    <tr>\n",
       "      <th>5</th>\n",
       "      <td>15737888</td>\n",
       "      <td>Mitchell</td>\n",
       "      <td>850</td>\n",
       "      <td>Spain</td>\n",
       "      <td>Female</td>\n",
       "      <td>43</td>\n",
       "      <td>2</td>\n",
       "      <td>125510.82</td>\n",
       "      <td>1</td>\n",
       "      <td>1</td>\n",
       "      <td>1</td>\n",
       "      <td>79084.10</td>\n",
       "      <td>0</td>\n",
       "    </tr>\n",
       "  </tbody>\n",
       "</table>\n",
       "</div>"
      ],
      "text/plain": [
       "           CustomerId   Surname  CreditScore Geography  Gender  Age  Tenure  \\\n",
       "RowNumber                                                                     \n",
       "1            15634602  Hargrave          619    France  Female   42       2   \n",
       "2            15647311      Hill          608     Spain  Female   41       1   \n",
       "3            15619304      Onio          502    France  Female   42       8   \n",
       "4            15701354      Boni          699    France  Female   39       1   \n",
       "5            15737888  Mitchell          850     Spain  Female   43       2   \n",
       "\n",
       "             Balance  NumOfProducts  HasCrCard  IsActiveMember  \\\n",
       "RowNumber                                                        \n",
       "1               0.00              1          1               1   \n",
       "2           83807.86              1          0               1   \n",
       "3          159660.80              3          1               0   \n",
       "4               0.00              2          0               0   \n",
       "5          125510.82              1          1               1   \n",
       "\n",
       "           EstimatedSalary  Exited  \n",
       "RowNumber                           \n",
       "1                101348.88       1  \n",
       "2                112542.58       0  \n",
       "3                113931.57       1  \n",
       "4                 93826.63       0  \n",
       "5                 79084.10       0  "
      ]
     },
     "execution_count": 2,
     "metadata": {},
     "output_type": "execute_result"
    }
   ],
   "source": [
    "df = pd.read_excel(\"Churn_Modelling.xlsx\",index_col=0)\n",
    "df.head()"
   ]
  },
  {
   "cell_type": "code",
   "execution_count": 3,
   "id": "e2ac4f68",
   "metadata": {},
   "outputs": [
    {
     "name": "stdout",
     "output_type": "stream",
     "text": [
      "<class 'pandas.core.frame.DataFrame'>\n",
      "Int64Index: 10000 entries, 1 to 10000\n",
      "Data columns (total 13 columns):\n",
      " #   Column           Non-Null Count  Dtype  \n",
      "---  ------           --------------  -----  \n",
      " 0   CustomerId       10000 non-null  int64  \n",
      " 1   Surname          10000 non-null  object \n",
      " 2   CreditScore      10000 non-null  int64  \n",
      " 3   Geography        10000 non-null  object \n",
      " 4   Gender           10000 non-null  object \n",
      " 5   Age              10000 non-null  int64  \n",
      " 6   Tenure           10000 non-null  int64  \n",
      " 7   Balance          10000 non-null  float64\n",
      " 8   NumOfProducts    10000 non-null  int64  \n",
      " 9   HasCrCard        10000 non-null  int64  \n",
      " 10  IsActiveMember   10000 non-null  int64  \n",
      " 11  EstimatedSalary  10000 non-null  float64\n",
      " 12  Exited           10000 non-null  int64  \n",
      "dtypes: float64(2), int64(8), object(3)\n",
      "memory usage: 1.1+ MB\n"
     ]
    }
   ],
   "source": [
    "df.info()"
   ]
  },
  {
   "cell_type": "code",
   "execution_count": 4,
   "id": "e4f7704c",
   "metadata": {},
   "outputs": [
    {
     "data": {
      "text/plain": [
       "CustomerId         0\n",
       "Surname            0\n",
       "CreditScore        0\n",
       "Geography          0\n",
       "Gender             0\n",
       "Age                0\n",
       "Tenure             0\n",
       "Balance            0\n",
       "NumOfProducts      0\n",
       "HasCrCard          0\n",
       "IsActiveMember     0\n",
       "EstimatedSalary    0\n",
       "Exited             0\n",
       "dtype: int64"
      ]
     },
     "execution_count": 4,
     "metadata": {},
     "output_type": "execute_result"
    }
   ],
   "source": [
    "df.isna().sum()"
   ]
  },
  {
   "cell_type": "code",
   "execution_count": 5,
   "id": "73291585",
   "metadata": {},
   "outputs": [
    {
     "data": {
      "text/plain": [
       "0    7963\n",
       "1    2037\n",
       "Name: Exited, dtype: int64"
      ]
     },
     "execution_count": 5,
     "metadata": {},
     "output_type": "execute_result"
    }
   ],
   "source": [
    "df[\"Exited\"].value_counts()"
   ]
  },
  {
   "cell_type": "code",
   "execution_count": 6,
   "id": "4d3dcecd",
   "metadata": {},
   "outputs": [
    {
     "data": {
      "text/html": [
       "<div>\n",
       "<style scoped>\n",
       "    .dataframe tbody tr th:only-of-type {\n",
       "        vertical-align: middle;\n",
       "    }\n",
       "\n",
       "    .dataframe tbody tr th {\n",
       "        vertical-align: top;\n",
       "    }\n",
       "\n",
       "    .dataframe thead th {\n",
       "        text-align: right;\n",
       "    }\n",
       "</style>\n",
       "<table border=\"1\" class=\"dataframe\">\n",
       "  <thead>\n",
       "    <tr style=\"text-align: right;\">\n",
       "      <th></th>\n",
       "      <th>CreditScore</th>\n",
       "      <th>Gender</th>\n",
       "      <th>Age</th>\n",
       "      <th>Tenure</th>\n",
       "      <th>Balance</th>\n",
       "      <th>NumOfProducts</th>\n",
       "      <th>HasCrCard</th>\n",
       "      <th>IsActiveMember</th>\n",
       "      <th>EstimatedSalary</th>\n",
       "      <th>Exited</th>\n",
       "    </tr>\n",
       "    <tr>\n",
       "      <th>RowNumber</th>\n",
       "      <th></th>\n",
       "      <th></th>\n",
       "      <th></th>\n",
       "      <th></th>\n",
       "      <th></th>\n",
       "      <th></th>\n",
       "      <th></th>\n",
       "      <th></th>\n",
       "      <th></th>\n",
       "      <th></th>\n",
       "    </tr>\n",
       "  </thead>\n",
       "  <tbody>\n",
       "    <tr>\n",
       "      <th>1</th>\n",
       "      <td>619</td>\n",
       "      <td>Female</td>\n",
       "      <td>42</td>\n",
       "      <td>2</td>\n",
       "      <td>0.00</td>\n",
       "      <td>1</td>\n",
       "      <td>1</td>\n",
       "      <td>1</td>\n",
       "      <td>101348.88</td>\n",
       "      <td>1</td>\n",
       "    </tr>\n",
       "    <tr>\n",
       "      <th>2</th>\n",
       "      <td>608</td>\n",
       "      <td>Female</td>\n",
       "      <td>41</td>\n",
       "      <td>1</td>\n",
       "      <td>83807.86</td>\n",
       "      <td>1</td>\n",
       "      <td>0</td>\n",
       "      <td>1</td>\n",
       "      <td>112542.58</td>\n",
       "      <td>0</td>\n",
       "    </tr>\n",
       "    <tr>\n",
       "      <th>3</th>\n",
       "      <td>502</td>\n",
       "      <td>Female</td>\n",
       "      <td>42</td>\n",
       "      <td>8</td>\n",
       "      <td>159660.80</td>\n",
       "      <td>3</td>\n",
       "      <td>1</td>\n",
       "      <td>0</td>\n",
       "      <td>113931.57</td>\n",
       "      <td>1</td>\n",
       "    </tr>\n",
       "    <tr>\n",
       "      <th>4</th>\n",
       "      <td>699</td>\n",
       "      <td>Female</td>\n",
       "      <td>39</td>\n",
       "      <td>1</td>\n",
       "      <td>0.00</td>\n",
       "      <td>2</td>\n",
       "      <td>0</td>\n",
       "      <td>0</td>\n",
       "      <td>93826.63</td>\n",
       "      <td>0</td>\n",
       "    </tr>\n",
       "    <tr>\n",
       "      <th>5</th>\n",
       "      <td>850</td>\n",
       "      <td>Female</td>\n",
       "      <td>43</td>\n",
       "      <td>2</td>\n",
       "      <td>125510.82</td>\n",
       "      <td>1</td>\n",
       "      <td>1</td>\n",
       "      <td>1</td>\n",
       "      <td>79084.10</td>\n",
       "      <td>0</td>\n",
       "    </tr>\n",
       "    <tr>\n",
       "      <th>...</th>\n",
       "      <td>...</td>\n",
       "      <td>...</td>\n",
       "      <td>...</td>\n",
       "      <td>...</td>\n",
       "      <td>...</td>\n",
       "      <td>...</td>\n",
       "      <td>...</td>\n",
       "      <td>...</td>\n",
       "      <td>...</td>\n",
       "      <td>...</td>\n",
       "    </tr>\n",
       "    <tr>\n",
       "      <th>9996</th>\n",
       "      <td>771</td>\n",
       "      <td>Male</td>\n",
       "      <td>39</td>\n",
       "      <td>5</td>\n",
       "      <td>0.00</td>\n",
       "      <td>2</td>\n",
       "      <td>1</td>\n",
       "      <td>0</td>\n",
       "      <td>96270.64</td>\n",
       "      <td>0</td>\n",
       "    </tr>\n",
       "    <tr>\n",
       "      <th>9997</th>\n",
       "      <td>516</td>\n",
       "      <td>Male</td>\n",
       "      <td>35</td>\n",
       "      <td>10</td>\n",
       "      <td>57369.61</td>\n",
       "      <td>1</td>\n",
       "      <td>1</td>\n",
       "      <td>1</td>\n",
       "      <td>101699.77</td>\n",
       "      <td>0</td>\n",
       "    </tr>\n",
       "    <tr>\n",
       "      <th>9998</th>\n",
       "      <td>709</td>\n",
       "      <td>Female</td>\n",
       "      <td>36</td>\n",
       "      <td>7</td>\n",
       "      <td>0.00</td>\n",
       "      <td>1</td>\n",
       "      <td>0</td>\n",
       "      <td>1</td>\n",
       "      <td>42085.58</td>\n",
       "      <td>1</td>\n",
       "    </tr>\n",
       "    <tr>\n",
       "      <th>9999</th>\n",
       "      <td>772</td>\n",
       "      <td>Male</td>\n",
       "      <td>42</td>\n",
       "      <td>3</td>\n",
       "      <td>75075.31</td>\n",
       "      <td>2</td>\n",
       "      <td>1</td>\n",
       "      <td>0</td>\n",
       "      <td>92888.52</td>\n",
       "      <td>1</td>\n",
       "    </tr>\n",
       "    <tr>\n",
       "      <th>10000</th>\n",
       "      <td>792</td>\n",
       "      <td>Female</td>\n",
       "      <td>28</td>\n",
       "      <td>4</td>\n",
       "      <td>130142.79</td>\n",
       "      <td>1</td>\n",
       "      <td>1</td>\n",
       "      <td>0</td>\n",
       "      <td>38190.78</td>\n",
       "      <td>0</td>\n",
       "    </tr>\n",
       "  </tbody>\n",
       "</table>\n",
       "<p>10000 rows × 10 columns</p>\n",
       "</div>"
      ],
      "text/plain": [
       "           CreditScore  Gender  Age  Tenure    Balance  NumOfProducts  \\\n",
       "RowNumber                                                               \n",
       "1                  619  Female   42       2       0.00              1   \n",
       "2                  608  Female   41       1   83807.86              1   \n",
       "3                  502  Female   42       8  159660.80              3   \n",
       "4                  699  Female   39       1       0.00              2   \n",
       "5                  850  Female   43       2  125510.82              1   \n",
       "...                ...     ...  ...     ...        ...            ...   \n",
       "9996               771    Male   39       5       0.00              2   \n",
       "9997               516    Male   35      10   57369.61              1   \n",
       "9998               709  Female   36       7       0.00              1   \n",
       "9999               772    Male   42       3   75075.31              2   \n",
       "10000              792  Female   28       4  130142.79              1   \n",
       "\n",
       "           HasCrCard  IsActiveMember  EstimatedSalary  Exited  \n",
       "RowNumber                                                      \n",
       "1                  1               1        101348.88       1  \n",
       "2                  0               1        112542.58       0  \n",
       "3                  1               0        113931.57       1  \n",
       "4                  0               0         93826.63       0  \n",
       "5                  1               1         79084.10       0  \n",
       "...              ...             ...              ...     ...  \n",
       "9996               1               0         96270.64       0  \n",
       "9997               1               1        101699.77       0  \n",
       "9998               0               1         42085.58       1  \n",
       "9999               1               0         92888.52       1  \n",
       "10000              1               0         38190.78       0  \n",
       "\n",
       "[10000 rows x 10 columns]"
      ]
     },
     "execution_count": 6,
     "metadata": {},
     "output_type": "execute_result"
    }
   ],
   "source": [
    "df.drop([\"CustomerId\",\"Surname\",\"Geography\"],axis=1,inplace=True)\n",
    "df"
   ]
  },
  {
   "cell_type": "code",
   "execution_count": 7,
   "id": "8b036a7a",
   "metadata": {},
   "outputs": [
    {
     "data": {
      "text/html": [
       "<div>\n",
       "<style scoped>\n",
       "    .dataframe tbody tr th:only-of-type {\n",
       "        vertical-align: middle;\n",
       "    }\n",
       "\n",
       "    .dataframe tbody tr th {\n",
       "        vertical-align: top;\n",
       "    }\n",
       "\n",
       "    .dataframe thead th {\n",
       "        text-align: right;\n",
       "    }\n",
       "</style>\n",
       "<table border=\"1\" class=\"dataframe\">\n",
       "  <thead>\n",
       "    <tr style=\"text-align: right;\">\n",
       "      <th></th>\n",
       "      <th>CreditScore</th>\n",
       "      <th>Gender</th>\n",
       "      <th>Age</th>\n",
       "      <th>Tenure</th>\n",
       "      <th>Balance</th>\n",
       "      <th>NumOfProducts</th>\n",
       "      <th>HasCrCard</th>\n",
       "      <th>IsActiveMember</th>\n",
       "      <th>EstimatedSalary</th>\n",
       "    </tr>\n",
       "    <tr>\n",
       "      <th>RowNumber</th>\n",
       "      <th></th>\n",
       "      <th></th>\n",
       "      <th></th>\n",
       "      <th></th>\n",
       "      <th></th>\n",
       "      <th></th>\n",
       "      <th></th>\n",
       "      <th></th>\n",
       "      <th></th>\n",
       "    </tr>\n",
       "  </thead>\n",
       "  <tbody>\n",
       "    <tr>\n",
       "      <th>1</th>\n",
       "      <td>619</td>\n",
       "      <td>Female</td>\n",
       "      <td>42</td>\n",
       "      <td>2</td>\n",
       "      <td>0.00</td>\n",
       "      <td>1</td>\n",
       "      <td>1</td>\n",
       "      <td>1</td>\n",
       "      <td>101348.88</td>\n",
       "    </tr>\n",
       "    <tr>\n",
       "      <th>2</th>\n",
       "      <td>608</td>\n",
       "      <td>Female</td>\n",
       "      <td>41</td>\n",
       "      <td>1</td>\n",
       "      <td>83807.86</td>\n",
       "      <td>1</td>\n",
       "      <td>0</td>\n",
       "      <td>1</td>\n",
       "      <td>112542.58</td>\n",
       "    </tr>\n",
       "    <tr>\n",
       "      <th>3</th>\n",
       "      <td>502</td>\n",
       "      <td>Female</td>\n",
       "      <td>42</td>\n",
       "      <td>8</td>\n",
       "      <td>159660.80</td>\n",
       "      <td>3</td>\n",
       "      <td>1</td>\n",
       "      <td>0</td>\n",
       "      <td>113931.57</td>\n",
       "    </tr>\n",
       "    <tr>\n",
       "      <th>4</th>\n",
       "      <td>699</td>\n",
       "      <td>Female</td>\n",
       "      <td>39</td>\n",
       "      <td>1</td>\n",
       "      <td>0.00</td>\n",
       "      <td>2</td>\n",
       "      <td>0</td>\n",
       "      <td>0</td>\n",
       "      <td>93826.63</td>\n",
       "    </tr>\n",
       "    <tr>\n",
       "      <th>5</th>\n",
       "      <td>850</td>\n",
       "      <td>Female</td>\n",
       "      <td>43</td>\n",
       "      <td>2</td>\n",
       "      <td>125510.82</td>\n",
       "      <td>1</td>\n",
       "      <td>1</td>\n",
       "      <td>1</td>\n",
       "      <td>79084.10</td>\n",
       "    </tr>\n",
       "    <tr>\n",
       "      <th>...</th>\n",
       "      <td>...</td>\n",
       "      <td>...</td>\n",
       "      <td>...</td>\n",
       "      <td>...</td>\n",
       "      <td>...</td>\n",
       "      <td>...</td>\n",
       "      <td>...</td>\n",
       "      <td>...</td>\n",
       "      <td>...</td>\n",
       "    </tr>\n",
       "    <tr>\n",
       "      <th>9996</th>\n",
       "      <td>771</td>\n",
       "      <td>Male</td>\n",
       "      <td>39</td>\n",
       "      <td>5</td>\n",
       "      <td>0.00</td>\n",
       "      <td>2</td>\n",
       "      <td>1</td>\n",
       "      <td>0</td>\n",
       "      <td>96270.64</td>\n",
       "    </tr>\n",
       "    <tr>\n",
       "      <th>9997</th>\n",
       "      <td>516</td>\n",
       "      <td>Male</td>\n",
       "      <td>35</td>\n",
       "      <td>10</td>\n",
       "      <td>57369.61</td>\n",
       "      <td>1</td>\n",
       "      <td>1</td>\n",
       "      <td>1</td>\n",
       "      <td>101699.77</td>\n",
       "    </tr>\n",
       "    <tr>\n",
       "      <th>9998</th>\n",
       "      <td>709</td>\n",
       "      <td>Female</td>\n",
       "      <td>36</td>\n",
       "      <td>7</td>\n",
       "      <td>0.00</td>\n",
       "      <td>1</td>\n",
       "      <td>0</td>\n",
       "      <td>1</td>\n",
       "      <td>42085.58</td>\n",
       "    </tr>\n",
       "    <tr>\n",
       "      <th>9999</th>\n",
       "      <td>772</td>\n",
       "      <td>Male</td>\n",
       "      <td>42</td>\n",
       "      <td>3</td>\n",
       "      <td>75075.31</td>\n",
       "      <td>2</td>\n",
       "      <td>1</td>\n",
       "      <td>0</td>\n",
       "      <td>92888.52</td>\n",
       "    </tr>\n",
       "    <tr>\n",
       "      <th>10000</th>\n",
       "      <td>792</td>\n",
       "      <td>Female</td>\n",
       "      <td>28</td>\n",
       "      <td>4</td>\n",
       "      <td>130142.79</td>\n",
       "      <td>1</td>\n",
       "      <td>1</td>\n",
       "      <td>0</td>\n",
       "      <td>38190.78</td>\n",
       "    </tr>\n",
       "  </tbody>\n",
       "</table>\n",
       "<p>10000 rows × 9 columns</p>\n",
       "</div>"
      ],
      "text/plain": [
       "           CreditScore  Gender  Age  Tenure    Balance  NumOfProducts  \\\n",
       "RowNumber                                                               \n",
       "1                  619  Female   42       2       0.00              1   \n",
       "2                  608  Female   41       1   83807.86              1   \n",
       "3                  502  Female   42       8  159660.80              3   \n",
       "4                  699  Female   39       1       0.00              2   \n",
       "5                  850  Female   43       2  125510.82              1   \n",
       "...                ...     ...  ...     ...        ...            ...   \n",
       "9996               771    Male   39       5       0.00              2   \n",
       "9997               516    Male   35      10   57369.61              1   \n",
       "9998               709  Female   36       7       0.00              1   \n",
       "9999               772    Male   42       3   75075.31              2   \n",
       "10000              792  Female   28       4  130142.79              1   \n",
       "\n",
       "           HasCrCard  IsActiveMember  EstimatedSalary  \n",
       "RowNumber                                              \n",
       "1                  1               1        101348.88  \n",
       "2                  0               1        112542.58  \n",
       "3                  1               0        113931.57  \n",
       "4                  0               0         93826.63  \n",
       "5                  1               1         79084.10  \n",
       "...              ...             ...              ...  \n",
       "9996               1               0         96270.64  \n",
       "9997               1               1        101699.77  \n",
       "9998               0               1         42085.58  \n",
       "9999               1               0         92888.52  \n",
       "10000              1               0         38190.78  \n",
       "\n",
       "[10000 rows x 9 columns]"
      ]
     },
     "execution_count": 7,
     "metadata": {},
     "output_type": "execute_result"
    }
   ],
   "source": [
    "x=df.iloc[:,:-1]\n",
    "x"
   ]
  },
  {
   "cell_type": "code",
   "execution_count": 8,
   "id": "b60a2bcb",
   "metadata": {},
   "outputs": [
    {
     "data": {
      "text/plain": [
       "RowNumber\n",
       "1        1\n",
       "2        0\n",
       "3        1\n",
       "4        0\n",
       "5        0\n",
       "        ..\n",
       "9996     0\n",
       "9997     0\n",
       "9998     1\n",
       "9999     1\n",
       "10000    0\n",
       "Name: Exited, Length: 10000, dtype: int64"
      ]
     },
     "execution_count": 8,
     "metadata": {},
     "output_type": "execute_result"
    }
   ],
   "source": [
    "y=df[\"Exited\"]\n",
    "y"
   ]
  },
  {
   "cell_type": "code",
   "execution_count": 9,
   "id": "06ce7981",
   "metadata": {},
   "outputs": [],
   "source": [
    "from sklearn.compose import ColumnTransformer\n",
    "from sklearn.preprocessing import OrdinalEncoder\n",
    "from sklearn.preprocessing import StandardScaler\n",
    "CT = ColumnTransformer(transformers = [ (\"trans1\",OrdinalEncoder(),[\"Gender\"]),\n",
    "                                        (\"trans2\",StandardScaler(),['CreditScore', 'Age', 'Tenure', 'Balance', 'NumOfProducts',\n",
    "                                                                    'HasCrCard', 'IsActiveMember', 'EstimatedSalary'])], remainder='passthrough')\n",
    "x = CT.fit_transform(x)"
   ]
  },
  {
   "cell_type": "code",
   "execution_count": 10,
   "id": "f8c4904b",
   "metadata": {},
   "outputs": [],
   "source": [
    "xtrain,xtest,ytrain,ytest = train_test_split(x,y,test_size=0.20,random_state=1)"
   ]
  },
  {
   "cell_type": "code",
   "execution_count": 11,
   "id": "988e3c01",
   "metadata": {},
   "outputs": [],
   "source": [
    "def mymodel(model):\n",
    "    model.fit(xtrain,ytrain)\n",
    "    ypred=model.predict(xtest)\n",
    "    print(classification_report(ytest,ypred))"
   ]
  },
  {
   "cell_type": "code",
   "execution_count": 12,
   "id": "ef21c830",
   "metadata": {},
   "outputs": [],
   "source": [
    "lreg=LogisticRegression()\n",
    "knn=KNeighborsClassifier()\n",
    "svm=SVC()\n",
    "dt=DecisionTreeClassifier()"
   ]
  },
  {
   "cell_type": "code",
   "execution_count": 13,
   "id": "0aa07dc0",
   "metadata": {},
   "outputs": [
    {
     "name": "stdout",
     "output_type": "stream",
     "text": [
      "              precision    recall  f1-score   support\n",
      "\n",
      "           0       0.82      0.97      0.89      1585\n",
      "           1       0.58      0.17      0.26       415\n",
      "\n",
      "    accuracy                           0.80      2000\n",
      "   macro avg       0.70      0.57      0.57      2000\n",
      "weighted avg       0.77      0.80      0.76      2000\n",
      "\n"
     ]
    }
   ],
   "source": [
    "mymodel(lreg)"
   ]
  },
  {
   "cell_type": "code",
   "execution_count": 14,
   "id": "fa2815f6",
   "metadata": {},
   "outputs": [
    {
     "name": "stdout",
     "output_type": "stream",
     "text": [
      "['lbfgs', 'l2'] ---> 0.8025 \n",
      "['lbfgs', 'none'] ---> 0.802 \n",
      "['liblinear', 'l1'] ---> 0.802 \n",
      "['liblinear', 'l2'] ---> 0.8025 \n",
      "['newton-cg', 'l2'] ---> 0.8025 \n",
      "['newton-cg', 'none'] ---> 0.802 \n",
      "['sag', 'l2'] ---> 0.8025 \n",
      "['sag', 'none'] ---> 0.802 \n",
      "['saga', 'l1'] ---> 0.802 \n",
      "['saga', 'l2'] ---> 0.8025 \n",
      "['saga', 'none'] ---> 0.802 \n"
     ]
    }
   ],
   "source": [
    "params = [ ['lbfgs','l2'],['lbfgs','none'],\n",
    "           ['liblinear','l1'],['liblinear','l2'],\n",
    "           ['newton-cg','l2'],['newton-cg','none'],\n",
    "           ['sag','l2'],['sag','none'],\n",
    "           ['saga','l1'],['saga','l2'],['saga','none']  ]\n",
    "\n",
    "#  ['saga','elasticnet']  --->  Need to perform Scalling on the Data \n",
    "\n",
    "all_combinations = []\n",
    "\n",
    "for i in params:\n",
    "\n",
    "    from sklearn.linear_model import LogisticRegression\n",
    "\n",
    "    model = LogisticRegression(solver=i[0] , penalty=i[1])\n",
    "\n",
    "    model.fit(xtrain,ytrain)\n",
    "\n",
    "    ypred = model.predict(xtest)\n",
    "    \n",
    "    from sklearn.metrics import accuracy_score\n",
    "    acc = accuracy_score(ytest,ypred)\n",
    "    \n",
    "    print(f\"{i} ---> {acc} \")\n",
    "    \n",
    "    all_combinations.append(acc)"
   ]
  },
  {
   "cell_type": "code",
   "execution_count": 15,
   "id": "ad16103c",
   "metadata": {},
   "outputs": [
    {
     "name": "stdout",
     "output_type": "stream",
     "text": [
      "['lbfgs', 'l2'] ---> 0.8025\n"
     ]
    }
   ],
   "source": [
    "# Best Hyperparmeter for Logistic Regression\n",
    "print(f\"{params[all_combinations.index(max(all_combinations))]} ---> {max(all_combinations)}\")"
   ]
  },
  {
   "cell_type": "code",
   "execution_count": 16,
   "id": "0777f380",
   "metadata": {},
   "outputs": [
    {
     "name": "stdout",
     "output_type": "stream",
     "text": [
      "              precision    recall  f1-score   support\n",
      "\n",
      "           0       0.86      0.96      0.90      1585\n",
      "           1       0.70      0.40      0.50       415\n",
      "\n",
      "    accuracy                           0.84      2000\n",
      "   macro avg       0.78      0.68      0.70      2000\n",
      "weighted avg       0.82      0.84      0.82      2000\n",
      "\n"
     ]
    }
   ],
   "source": [
    "mymodel(knn)"
   ]
  },
  {
   "cell_type": "code",
   "execution_count": 17,
   "id": "e9ebcbba",
   "metadata": {},
   "outputs": [
    {
     "name": "stdout",
     "output_type": "stream",
     "text": [
      "1 ----> 0.7935\n",
      "2 ----> 0.8325\n",
      "3 ----> 0.8275\n",
      "4 ----> 0.84\n",
      "5 ----> 0.839\n",
      "6 ----> 0.8445\n",
      "7 ----> 0.8485\n",
      "8 ----> 0.839\n",
      "9 ----> 0.8415\n",
      "10 ----> 0.8415\n",
      "11 ----> 0.8435\n",
      "12 ----> 0.842\n",
      "13 ----> 0.844\n",
      "14 ----> 0.842\n",
      "15 ----> 0.844\n",
      "16 ----> 0.8405\n",
      "17 ----> 0.844\n",
      "18 ----> 0.8415\n",
      "19 ----> 0.844\n",
      "20 ----> 0.844\n",
      "21 ----> 0.8475\n",
      "22 ----> 0.8455\n",
      "23 ----> 0.8445\n",
      "24 ----> 0.844\n",
      "25 ----> 0.844\n",
      "26 ----> 0.842\n",
      "27 ----> 0.8415\n",
      "28 ----> 0.84\n",
      "29 ----> 0.842\n"
     ]
    }
   ],
   "source": [
    "ac_list=[]\n",
    "\n",
    "for i in range(1,30):\n",
    "    knn=KNeighborsClassifier(n_neighbors=i)\n",
    "    knn.fit(xtrain,ytrain)\n",
    "    ypred=knn.predict(xtest)\n",
    "    ac=accuracy_score(ytest,ypred)\n",
    "    ac_list.append(ac)\n",
    "    print(i,\"---->\",ac)"
   ]
  },
  {
   "cell_type": "code",
   "execution_count": 18,
   "id": "7b13d703",
   "metadata": {},
   "outputs": [
    {
     "data": {
      "text/plain": [
       "7"
      ]
     },
     "execution_count": 18,
     "metadata": {},
     "output_type": "execute_result"
    }
   ],
   "source": [
    "ac_list.index(max(ac_list))+1"
   ]
  },
  {
   "cell_type": "code",
   "execution_count": 19,
   "id": "8414e964",
   "metadata": {},
   "outputs": [
    {
     "name": "stdout",
     "output_type": "stream",
     "text": [
      "              precision    recall  f1-score   support\n",
      "\n",
      "           0       0.85      0.98      0.91      1585\n",
      "           1       0.79      0.36      0.50       415\n",
      "\n",
      "    accuracy                           0.85      2000\n",
      "   macro avg       0.82      0.67      0.70      2000\n",
      "weighted avg       0.84      0.85      0.83      2000\n",
      "\n"
     ]
    }
   ],
   "source": [
    "knn=KNeighborsClassifier(n_neighbors=7)\n",
    "knn.fit(xtrain,ytrain)\n",
    "ypred=knn.predict(xtest)\n",
    "print(classification_report(ytest,ypred))"
   ]
  },
  {
   "cell_type": "code",
   "execution_count": 20,
   "id": "91fed9cf",
   "metadata": {},
   "outputs": [
    {
     "name": "stdout",
     "output_type": "stream",
     "text": [
      "7 ---> 0.8485\n"
     ]
    }
   ],
   "source": [
    "# Best Hyperparmeter for KNN\n",
    "print(f\"{ac_list.index(max(ac_list))+1} ---> {max(ac_list)}\")"
   ]
  },
  {
   "cell_type": "code",
   "execution_count": 21,
   "id": "ba445a11",
   "metadata": {},
   "outputs": [
    {
     "name": "stdout",
     "output_type": "stream",
     "text": [
      "              precision    recall  f1-score   support\n",
      "\n",
      "           0       0.86      0.98      0.91      1585\n",
      "           1       0.84      0.37      0.51       415\n",
      "\n",
      "    accuracy                           0.85      2000\n",
      "   macro avg       0.85      0.67      0.71      2000\n",
      "weighted avg       0.85      0.85      0.83      2000\n",
      "\n"
     ]
    }
   ],
   "source": [
    "mymodel(svm)"
   ]
  },
  {
   "cell_type": "markdown",
   "id": "9f915833",
   "metadata": {},
   "source": [
    "# Decision Tree"
   ]
  },
  {
   "cell_type": "code",
   "execution_count": 22,
   "id": "e1a3a4a1",
   "metadata": {},
   "outputs": [
    {
     "name": "stdout",
     "output_type": "stream",
     "text": [
      "              precision    recall  f1-score   support\n",
      "\n",
      "           0       0.86      0.86      0.86      1585\n",
      "           1       0.47      0.47      0.47       415\n",
      "\n",
      "    accuracy                           0.78      2000\n",
      "   macro avg       0.67      0.66      0.67      2000\n",
      "weighted avg       0.78      0.78      0.78      2000\n",
      "\n"
     ]
    }
   ],
   "source": [
    "mymodel(dt)"
   ]
  },
  {
   "cell_type": "markdown",
   "id": "7818a3a5",
   "metadata": {},
   "source": [
    "# Hyper parameter"
   ]
  },
  {
   "cell_type": "code",
   "execution_count": 23,
   "id": "7e353a62",
   "metadata": {},
   "outputs": [
    {
     "name": "stdout",
     "output_type": "stream",
     "text": [
      "              precision    recall  f1-score   support\n",
      "\n",
      "           0       0.86      0.98      0.91      1585\n",
      "           1       0.81      0.38      0.52       415\n",
      "\n",
      "    accuracy                           0.85      2000\n",
      "   macro avg       0.83      0.68      0.72      2000\n",
      "weighted avg       0.85      0.85      0.83      2000\n",
      "\n"
     ]
    }
   ],
   "source": [
    "dt1=DecisionTreeClassifier(max_depth=5)\n",
    "mymodel(dt1)"
   ]
  },
  {
   "cell_type": "code",
   "execution_count": 24,
   "id": "0116e999",
   "metadata": {},
   "outputs": [
    {
     "name": "stdout",
     "output_type": "stream",
     "text": [
      " 1 = 0.7925\n",
      " 2 = 0.828\n",
      " 3 = 0.838\n",
      " 4 = 0.846\n",
      " 5 = 0.853\n",
      " 6 = 0.8535\n",
      " 7 = 0.845\n",
      " 8 = 0.836\n",
      " 9 = 0.8375\n",
      " 10 = 0.827\n",
      " 11 = 0.819\n",
      " 12 = 0.813\n",
      " 13 = 0.8055\n",
      " 14 = 0.8005\n",
      " 15 = 0.798\n",
      " 16 = 0.7905\n",
      " 17 = 0.791\n",
      " 18 = 0.794\n",
      " 19 = 0.78\n",
      " 20 = 0.7915\n",
      " 21 = 0.787\n",
      " 22 = 0.7805\n",
      " 23 = 0.7885\n",
      " 24 = 0.7775\n",
      " 25 = 0.7815\n",
      " 26 = 0.7815\n",
      " 27 = 0.7805\n",
      " 28 = 0.779\n",
      " 29 = 0.7835\n",
      " 30 = 0.784\n",
      " 31 = 0.778\n",
      " 32 = 0.7835\n",
      " 33 = 0.785\n",
      " 34 = 0.7745\n",
      " 35 = 0.7805\n",
      " 36 = 0.7835\n",
      " 37 = 0.7835\n",
      " 38 = 0.778\n",
      " 39 = 0.778\n",
      " 40 = 0.7805\n",
      " 41 = 0.779\n",
      " 42 = 0.784\n",
      " 43 = 0.7775\n",
      " 44 = 0.7775\n",
      " 45 = 0.7805\n",
      " 46 = 0.7815\n",
      " 47 = 0.7865\n",
      " 48 = 0.7845\n",
      " 49 = 0.782\n"
     ]
    }
   ],
   "source": [
    "for i in range(1,50):\n",
    "    dt2=DecisionTreeClassifier(max_depth=i)\n",
    "    dt2.fit(xtrain,ytrain)\n",
    "    ypred=dt2.predict(xtest)\n",
    "    print(f\" {i} = {accuracy_score(ytest,ypred)}\")"
   ]
  },
  {
   "cell_type": "markdown",
   "id": "180c78a8",
   "metadata": {},
   "source": [
    "# max_depth"
   ]
  },
  {
   "cell_type": "code",
   "execution_count": 25,
   "id": "cc643a88",
   "metadata": {},
   "outputs": [
    {
     "name": "stdout",
     "output_type": "stream",
     "text": [
      "              precision    recall  f1-score   support\n",
      "\n",
      "           0       0.86      0.97      0.91      1585\n",
      "           1       0.77      0.41      0.54       415\n",
      "\n",
      "    accuracy                           0.85      2000\n",
      "   macro avg       0.82      0.69      0.73      2000\n",
      "weighted avg       0.84      0.85      0.84      2000\n",
      "\n"
     ]
    }
   ],
   "source": [
    "#best value of max_depth=6\n",
    "dt3=DecisionTreeClassifier(max_depth=6)\n",
    "mymodel(dt3)"
   ]
  },
  {
   "cell_type": "markdown",
   "id": "93e3096b",
   "metadata": {},
   "source": [
    "# min_samples_leaf"
   ]
  },
  {
   "cell_type": "code",
   "execution_count": 26,
   "id": "8fd90b37",
   "metadata": {},
   "outputs": [
    {
     "name": "stdout",
     "output_type": "stream",
     "text": [
      "              precision    recall  f1-score   support\n",
      "\n",
      "           0       0.86      0.93      0.89      1585\n",
      "           1       0.61      0.43      0.51       415\n",
      "\n",
      "    accuracy                           0.82      2000\n",
      "   macro avg       0.74      0.68      0.70      2000\n",
      "weighted avg       0.81      0.82      0.81      2000\n",
      "\n"
     ]
    }
   ],
   "source": [
    "dt4=DecisionTreeClassifier(min_samples_leaf=10)\n",
    "mymodel(dt4)"
   ]
  },
  {
   "cell_type": "code",
   "execution_count": 27,
   "id": "b0376fe6",
   "metadata": {},
   "outputs": [
    {
     "name": "stdout",
     "output_type": "stream",
     "text": [
      "1 = 0.776\n",
      "2 = 0.7935\n",
      "3 = 0.7965\n",
      "4 = 0.8085\n",
      "5 = 0.8085\n",
      "6 = 0.816\n",
      "7 = 0.8145\n",
      "8 = 0.822\n",
      "9 = 0.824\n",
      "10 = 0.8265\n",
      "11 = 0.8295\n",
      "12 = 0.832\n",
      "13 = 0.833\n",
      "14 = 0.8385\n",
      "15 = 0.84\n",
      "16 = 0.84\n",
      "17 = 0.8405\n",
      "18 = 0.845\n",
      "19 = 0.8425\n",
      "20 = 0.844\n",
      "21 = 0.8505\n",
      "22 = 0.8515\n",
      "23 = 0.849\n",
      "24 = 0.8495\n",
      "25 = 0.848\n",
      "26 = 0.8495\n",
      "27 = 0.8505\n",
      "28 = 0.851\n",
      "29 = 0.847\n",
      "30 = 0.848\n",
      "31 = 0.848\n",
      "32 = 0.848\n",
      "33 = 0.848\n",
      "34 = 0.8535\n",
      "35 = 0.8535\n",
      "36 = 0.8535\n",
      "37 = 0.8535\n",
      "38 = 0.8515\n",
      "39 = 0.8515\n",
      "40 = 0.8445\n",
      "41 = 0.8445\n",
      "42 = 0.844\n",
      "43 = 0.847\n",
      "44 = 0.847\n",
      "45 = 0.847\n",
      "46 = 0.847\n",
      "47 = 0.847\n",
      "48 = 0.8435\n",
      "49 = 0.8435\n",
      "50 = 0.8435\n",
      "51 = 0.8435\n",
      "52 = 0.8425\n",
      "53 = 0.8405\n",
      "54 = 0.8425\n",
      "55 = 0.8345\n",
      "56 = 0.8345\n",
      "57 = 0.8345\n",
      "58 = 0.832\n",
      "59 = 0.8325\n",
      "60 = 0.8325\n",
      "61 = 0.838\n",
      "62 = 0.838\n",
      "63 = 0.838\n",
      "64 = 0.838\n",
      "65 = 0.838\n",
      "66 = 0.838\n",
      "67 = 0.838\n",
      "68 = 0.837\n",
      "69 = 0.837\n",
      "70 = 0.837\n",
      "71 = 0.837\n",
      "72 = 0.837\n",
      "73 = 0.837\n",
      "74 = 0.837\n"
     ]
    }
   ],
   "source": [
    "for i in range(1,75):\n",
    "    dt5=DecisionTreeClassifier(min_samples_leaf=i)\n",
    "    dt5.fit(xtrain,ytrain)\n",
    "    ypred=dt5.predict(xtest)\n",
    "    print(f\"{i} = {accuracy_score(ytest,ypred)}\")"
   ]
  },
  {
   "cell_type": "code",
   "execution_count": 28,
   "id": "19c025ea",
   "metadata": {},
   "outputs": [
    {
     "name": "stdout",
     "output_type": "stream",
     "text": [
      "              precision    recall  f1-score   support\n",
      "\n",
      "           0       0.87      0.96      0.91      1585\n",
      "           1       0.74      0.45      0.56       415\n",
      "\n",
      "    accuracy                           0.85      2000\n",
      "   macro avg       0.81      0.70      0.74      2000\n",
      "weighted avg       0.84      0.85      0.84      2000\n",
      "\n"
     ]
    }
   ],
   "source": [
    "dt6=DecisionTreeClassifier(min_samples_leaf=34)\n",
    "mymodel(dt6)"
   ]
  },
  {
   "cell_type": "code",
   "execution_count": 29,
   "id": "1a64825d",
   "metadata": {},
   "outputs": [
    {
     "name": "stdout",
     "output_type": "stream",
     "text": [
      "              precision    recall  f1-score   support\n",
      "\n",
      "           0       0.86      0.97      0.91      1585\n",
      "           1       0.78      0.41      0.54       415\n",
      "\n",
      "    accuracy                           0.85      2000\n",
      "   macro avg       0.82      0.69      0.73      2000\n",
      "weighted avg       0.85      0.85      0.84      2000\n",
      "\n"
     ]
    }
   ],
   "source": [
    "dt7=DecisionTreeClassifier(max_depth=6,min_samples_leaf=34)\n",
    "mymodel(dt7)"
   ]
  },
  {
   "cell_type": "markdown",
   "id": "11007209",
   "metadata": {},
   "source": [
    "# gini"
   ]
  },
  {
   "cell_type": "code",
   "execution_count": 30,
   "id": "d9c9408a",
   "metadata": {},
   "outputs": [
    {
     "name": "stdout",
     "output_type": "stream",
     "text": [
      "              precision    recall  f1-score   support\n",
      "\n",
      "           0       0.87      0.96      0.91      1585\n",
      "           1       0.74      0.45      0.56       415\n",
      "\n",
      "    accuracy                           0.85      2000\n",
      "   macro avg       0.81      0.70      0.74      2000\n",
      "weighted avg       0.84      0.85      0.84      2000\n",
      "\n"
     ]
    }
   ],
   "source": [
    "dt8=DecisionTreeClassifier(criterion=\"gini\",min_samples_leaf=34)\n",
    "mymodel(dt8)"
   ]
  },
  {
   "cell_type": "code",
   "execution_count": 31,
   "id": "e8453340",
   "metadata": {},
   "outputs": [
    {
     "name": "stdout",
     "output_type": "stream",
     "text": [
      "              precision    recall  f1-score   support\n",
      "\n",
      "           0       0.86      0.97      0.91      1585\n",
      "           1       0.77      0.41      0.54       415\n",
      "\n",
      "    accuracy                           0.85      2000\n",
      "   macro avg       0.82      0.69      0.73      2000\n",
      "weighted avg       0.84      0.85      0.84      2000\n",
      "\n"
     ]
    }
   ],
   "source": [
    "dt9=DecisionTreeClassifier(criterion=\"gini\",max_depth=6)\n",
    "mymodel(dt9)"
   ]
  },
  {
   "cell_type": "code",
   "execution_count": 32,
   "id": "2d1300b0",
   "metadata": {},
   "outputs": [
    {
     "name": "stdout",
     "output_type": "stream",
     "text": [
      "              precision    recall  f1-score   support\n",
      "\n",
      "           0       0.86      0.97      0.91      1585\n",
      "           1       0.81      0.40      0.54       415\n",
      "\n",
      "    accuracy                           0.86      2000\n",
      "   macro avg       0.83      0.69      0.73      2000\n",
      "weighted avg       0.85      0.86      0.84      2000\n",
      "\n"
     ]
    }
   ],
   "source": [
    "dt10=DecisionTreeClassifier(criterion=\"entropy\",max_depth=6)\n",
    "mymodel(dt10)"
   ]
  },
  {
   "cell_type": "code",
   "execution_count": 33,
   "id": "1bdf07c2",
   "metadata": {},
   "outputs": [
    {
     "name": "stdout",
     "output_type": "stream",
     "text": [
      "1= 0.7925\n",
      "2= 0.82\n",
      "3= 0.838\n",
      "4= 0.8465\n",
      "5= 0.8555\n",
      "6= 0.856\n",
      "7= 0.85\n",
      "8= 0.849\n",
      "9= 0.8455\n",
      "10= 0.8365\n",
      "11= 0.8335\n",
      "12= 0.8205\n",
      "13= 0.8215\n",
      "14= 0.8105\n",
      "15= 0.8045\n",
      "16= 0.807\n",
      "17= 0.8025\n",
      "18= 0.8\n",
      "19= 0.792\n",
      "20= 0.796\n",
      "21= 0.7945\n",
      "22= 0.796\n",
      "23= 0.7915\n",
      "24= 0.791\n",
      "25= 0.7935\n",
      "26= 0.7925\n",
      "27= 0.7955\n",
      "28= 0.797\n",
      "29= 0.794\n",
      "30= 0.787\n",
      "31= 0.792\n",
      "32= 0.794\n",
      "33= 0.7915\n",
      "34= 0.7925\n",
      "35= 0.792\n",
      "36= 0.7915\n",
      "37= 0.791\n",
      "38= 0.7865\n",
      "39= 0.7915\n",
      "40= 0.7935\n",
      "41= 0.7975\n",
      "42= 0.7885\n",
      "43= 0.789\n",
      "44= 0.7885\n",
      "45= 0.792\n",
      "46= 0.792\n",
      "47= 0.7985\n",
      "48= 0.7875\n",
      "49= 0.7985\n"
     ]
    }
   ],
   "source": [
    "for i in range(1,50):\n",
    "    dt11=DecisionTreeClassifier(criterion=\"entropy\",max_depth=i)\n",
    "    dt11.fit(xtrain,ytrain)\n",
    "    ypred=dt11.predict(xtest)\n",
    "    print(f\"{i}= {accuracy_score(ytest,ypred)}\")"
   ]
  },
  {
   "cell_type": "code",
   "execution_count": 34,
   "id": "50aed6e3",
   "metadata": {},
   "outputs": [
    {
     "name": "stdout",
     "output_type": "stream",
     "text": [
      "              precision    recall  f1-score   support\n",
      "\n",
      "           0       0.86      0.97      0.91      1585\n",
      "           1       0.81      0.40      0.53       415\n",
      "\n",
      "    accuracy                           0.86      2000\n",
      "   macro avg       0.83      0.69      0.72      2000\n",
      "weighted avg       0.85      0.86      0.84      2000\n",
      "\n"
     ]
    }
   ],
   "source": [
    "#best value of max_depth when criterion=entropy\n",
    "dt12=DecisionTreeClassifier(criterion=\"entropy\",max_depth=5)\n",
    "mymodel(dt12)"
   ]
  },
  {
   "cell_type": "code",
   "execution_count": 35,
   "id": "bccd6cbb",
   "metadata": {},
   "outputs": [
    {
     "name": "stdout",
     "output_type": "stream",
     "text": [
      "              precision    recall  f1-score   support\n",
      "\n",
      "           0       0.87      0.93      0.90      1585\n",
      "           1       0.64      0.45      0.52       415\n",
      "\n",
      "    accuracy                           0.83      2000\n",
      "   macro avg       0.75      0.69      0.71      2000\n",
      "weighted avg       0.82      0.83      0.82      2000\n",
      "\n"
     ]
    }
   ],
   "source": [
    "dt13=DecisionTreeClassifier(criterion=\"entropy\",min_samples_leaf=11)\n",
    "mymodel(dt13)"
   ]
  },
  {
   "cell_type": "code",
   "execution_count": 36,
   "id": "a4d018b9",
   "metadata": {},
   "outputs": [
    {
     "name": "stdout",
     "output_type": "stream",
     "text": [
      "1= 0.792\n",
      "2= 0.813\n",
      "3= 0.791\n",
      "4= 0.801\n",
      "5= 0.8055\n",
      "6= 0.8085\n",
      "7= 0.816\n",
      "8= 0.819\n",
      "9= 0.8255\n",
      "10= 0.8295\n",
      "11= 0.8335\n",
      "12= 0.831\n",
      "13= 0.832\n",
      "14= 0.84\n",
      "15= 0.8375\n",
      "16= 0.8355\n",
      "17= 0.832\n",
      "18= 0.833\n",
      "19= 0.832\n",
      "20= 0.8345\n",
      "21= 0.8365\n",
      "22= 0.8415\n",
      "23= 0.8425\n",
      "24= 0.8455\n",
      "25= 0.8495\n",
      "26= 0.8495\n",
      "27= 0.8505\n",
      "28= 0.8535\n",
      "29= 0.8535\n",
      "30= 0.8535\n",
      "31= 0.853\n",
      "32= 0.853\n",
      "33= 0.8535\n",
      "34= 0.8535\n",
      "35= 0.8535\n",
      "36= 0.8535\n",
      "37= 0.854\n",
      "38= 0.854\n",
      "39= 0.853\n",
      "40= 0.853\n",
      "41= 0.8525\n",
      "42= 0.8525\n",
      "43= 0.8525\n",
      "44= 0.8575\n",
      "45= 0.8575\n",
      "46= 0.8575\n",
      "47= 0.8565\n",
      "48= 0.852\n",
      "49= 0.852\n"
     ]
    }
   ],
   "source": [
    "for i in range(1,50):\n",
    "    dt14=DecisionTreeClassifier(criterion=\"entropy\",min_samples_leaf=i)\n",
    "    dt14.fit(xtrain,ytrain)\n",
    "    ypred=dt14.predict(xtest)\n",
    "    print(f\"{i}= {accuracy_score(ytest,ypred)}\")"
   ]
  },
  {
   "cell_type": "code",
   "execution_count": 37,
   "id": "893b7ad4",
   "metadata": {},
   "outputs": [
    {
     "name": "stdout",
     "output_type": "stream",
     "text": [
      "              precision    recall  f1-score   support\n",
      "\n",
      "           0       0.87      0.96      0.91      1585\n",
      "           1       0.76      0.45      0.57       415\n",
      "\n",
      "    accuracy                           0.86      2000\n",
      "   macro avg       0.82      0.71      0.74      2000\n",
      "weighted avg       0.85      0.86      0.84      2000\n",
      "\n"
     ]
    }
   ],
   "source": [
    "# best value of min_samples_leaf=15 when criterion=entropy\n",
    "dt15=DecisionTreeClassifier(criterion=\"entropy\",min_samples_leaf=44)\n",
    "mymodel(dt15)"
   ]
  },
  {
   "cell_type": "markdown",
   "id": "4876c4df",
   "metadata": {},
   "source": [
    "# Final models"
   ]
  },
  {
   "cell_type": "code",
   "execution_count": 38,
   "id": "7323dd82",
   "metadata": {},
   "outputs": [
    {
     "name": "stdout",
     "output_type": "stream",
     "text": [
      "              precision    recall  f1-score   support\n",
      "\n",
      "           0       0.85      0.98      0.91      1585\n",
      "           1       0.81      0.35      0.49       415\n",
      "\n",
      "    accuracy                           0.85      2000\n",
      "   macro avg       0.83      0.66      0.70      2000\n",
      "weighted avg       0.84      0.85      0.82      2000\n",
      "\n"
     ]
    }
   ],
   "source": [
    "#gini\n",
    "dt16=DecisionTreeClassifier(max_depth=5,min_samples_leaf=44)\n",
    "mymodel(dt16)"
   ]
  },
  {
   "cell_type": "code",
   "execution_count": 39,
   "id": "922db8b4",
   "metadata": {},
   "outputs": [
    {
     "name": "stdout",
     "output_type": "stream",
     "text": [
      "              precision    recall  f1-score   support\n",
      "\n",
      "           0       0.87      0.96      0.91      1585\n",
      "           1       0.76      0.45      0.57       415\n",
      "\n",
      "    accuracy                           0.86      2000\n",
      "   macro avg       0.82      0.71      0.74      2000\n",
      "weighted avg       0.85      0.86      0.84      2000\n",
      "\n"
     ]
    }
   ],
   "source": [
    "#entropy\n",
    "dt17=DecisionTreeClassifier(criterion=\"entropy\",min_samples_leaf=44)\n",
    "mymodel(dt17)"
   ]
  },
  {
   "cell_type": "code",
   "execution_count": null,
   "id": "e225d8f7",
   "metadata": {},
   "outputs": [],
   "source": []
  }
 ],
 "metadata": {
  "kernelspec": {
   "display_name": "Python 3 (ipykernel)",
   "language": "python",
   "name": "python3"
  },
  "language_info": {
   "codemirror_mode": {
    "name": "ipython",
    "version": 3
   },
   "file_extension": ".py",
   "mimetype": "text/x-python",
   "name": "python",
   "nbconvert_exporter": "python",
   "pygments_lexer": "ipython3",
   "version": "3.10.5"
  }
 },
 "nbformat": 4,
 "nbformat_minor": 5
}
