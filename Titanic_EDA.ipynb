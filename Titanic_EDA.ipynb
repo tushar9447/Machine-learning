{
 "cells": [
  {
   "cell_type": "code",
   "execution_count": 1,
   "id": "cc1f9993",
   "metadata": {},
   "outputs": [],
   "source": [
    "import pandas as pd\n",
    "import numpy as np\n",
    "import matplotlib.pyplot as plt\n",
    "import seaborn as sns\n",
    "\n",
    "import warnings\n",
    "warnings.filterwarnings(\"ignore\")\n",
    "\n",
    "from sklearn.preprocessing import LabelEncoder\n",
    "LE = LabelEncoder()"
   ]
  },
  {
   "cell_type": "code",
   "execution_count": 2,
   "id": "717d84e7",
   "metadata": {},
   "outputs": [],
   "source": [
    "df = pd.read_csv('titanic.csv')"
   ]
  },
  {
   "cell_type": "code",
   "execution_count": 3,
   "id": "9c686be3",
   "metadata": {},
   "outputs": [
    {
     "data": {
      "text/html": [
       "<div>\n",
       "<style scoped>\n",
       "    .dataframe tbody tr th:only-of-type {\n",
       "        vertical-align: middle;\n",
       "    }\n",
       "\n",
       "    .dataframe tbody tr th {\n",
       "        vertical-align: top;\n",
       "    }\n",
       "\n",
       "    .dataframe thead th {\n",
       "        text-align: right;\n",
       "    }\n",
       "</style>\n",
       "<table border=\"1\" class=\"dataframe\">\n",
       "  <thead>\n",
       "    <tr style=\"text-align: right;\">\n",
       "      <th></th>\n",
       "      <th>PassengerId</th>\n",
       "      <th>Survived</th>\n",
       "      <th>Pclass</th>\n",
       "      <th>Name</th>\n",
       "      <th>Sex</th>\n",
       "      <th>Age</th>\n",
       "      <th>SibSp</th>\n",
       "      <th>Parch</th>\n",
       "      <th>Ticket</th>\n",
       "      <th>Fare</th>\n",
       "      <th>Cabin</th>\n",
       "      <th>Embarked</th>\n",
       "    </tr>\n",
       "  </thead>\n",
       "  <tbody>\n",
       "    <tr>\n",
       "      <th>0</th>\n",
       "      <td>1</td>\n",
       "      <td>0</td>\n",
       "      <td>3</td>\n",
       "      <td>Braund, Mr. Owen Harris</td>\n",
       "      <td>male</td>\n",
       "      <td>22.0</td>\n",
       "      <td>1</td>\n",
       "      <td>0</td>\n",
       "      <td>A/5 21171</td>\n",
       "      <td>7.2500</td>\n",
       "      <td>NaN</td>\n",
       "      <td>S</td>\n",
       "    </tr>\n",
       "    <tr>\n",
       "      <th>1</th>\n",
       "      <td>2</td>\n",
       "      <td>1</td>\n",
       "      <td>1</td>\n",
       "      <td>Cumings, Mrs. John Bradley (Florence Briggs Th...</td>\n",
       "      <td>female</td>\n",
       "      <td>38.0</td>\n",
       "      <td>1</td>\n",
       "      <td>0</td>\n",
       "      <td>PC 17599</td>\n",
       "      <td>71.2833</td>\n",
       "      <td>C85</td>\n",
       "      <td>C</td>\n",
       "    </tr>\n",
       "    <tr>\n",
       "      <th>2</th>\n",
       "      <td>3</td>\n",
       "      <td>1</td>\n",
       "      <td>3</td>\n",
       "      <td>Heikkinen, Miss. Laina</td>\n",
       "      <td>female</td>\n",
       "      <td>26.0</td>\n",
       "      <td>0</td>\n",
       "      <td>0</td>\n",
       "      <td>STON/O2. 3101282</td>\n",
       "      <td>7.9250</td>\n",
       "      <td>NaN</td>\n",
       "      <td>S</td>\n",
       "    </tr>\n",
       "    <tr>\n",
       "      <th>3</th>\n",
       "      <td>4</td>\n",
       "      <td>1</td>\n",
       "      <td>1</td>\n",
       "      <td>Futrelle, Mrs. Jacques Heath (Lily May Peel)</td>\n",
       "      <td>female</td>\n",
       "      <td>35.0</td>\n",
       "      <td>1</td>\n",
       "      <td>0</td>\n",
       "      <td>113803</td>\n",
       "      <td>53.1000</td>\n",
       "      <td>C123</td>\n",
       "      <td>S</td>\n",
       "    </tr>\n",
       "    <tr>\n",
       "      <th>4</th>\n",
       "      <td>5</td>\n",
       "      <td>0</td>\n",
       "      <td>3</td>\n",
       "      <td>Allen, Mr. William Henry</td>\n",
       "      <td>male</td>\n",
       "      <td>35.0</td>\n",
       "      <td>0</td>\n",
       "      <td>0</td>\n",
       "      <td>373450</td>\n",
       "      <td>8.0500</td>\n",
       "      <td>NaN</td>\n",
       "      <td>S</td>\n",
       "    </tr>\n",
       "    <tr>\n",
       "      <th>...</th>\n",
       "      <td>...</td>\n",
       "      <td>...</td>\n",
       "      <td>...</td>\n",
       "      <td>...</td>\n",
       "      <td>...</td>\n",
       "      <td>...</td>\n",
       "      <td>...</td>\n",
       "      <td>...</td>\n",
       "      <td>...</td>\n",
       "      <td>...</td>\n",
       "      <td>...</td>\n",
       "      <td>...</td>\n",
       "    </tr>\n",
       "    <tr>\n",
       "      <th>886</th>\n",
       "      <td>887</td>\n",
       "      <td>0</td>\n",
       "      <td>2</td>\n",
       "      <td>Montvila, Rev. Juozas</td>\n",
       "      <td>male</td>\n",
       "      <td>27.0</td>\n",
       "      <td>0</td>\n",
       "      <td>0</td>\n",
       "      <td>211536</td>\n",
       "      <td>13.0000</td>\n",
       "      <td>NaN</td>\n",
       "      <td>S</td>\n",
       "    </tr>\n",
       "    <tr>\n",
       "      <th>887</th>\n",
       "      <td>888</td>\n",
       "      <td>1</td>\n",
       "      <td>1</td>\n",
       "      <td>Graham, Miss. Margaret Edith</td>\n",
       "      <td>female</td>\n",
       "      <td>19.0</td>\n",
       "      <td>0</td>\n",
       "      <td>0</td>\n",
       "      <td>112053</td>\n",
       "      <td>30.0000</td>\n",
       "      <td>B42</td>\n",
       "      <td>S</td>\n",
       "    </tr>\n",
       "    <tr>\n",
       "      <th>888</th>\n",
       "      <td>889</td>\n",
       "      <td>0</td>\n",
       "      <td>3</td>\n",
       "      <td>Johnston, Miss. Catherine Helen \"Carrie\"</td>\n",
       "      <td>female</td>\n",
       "      <td>NaN</td>\n",
       "      <td>1</td>\n",
       "      <td>2</td>\n",
       "      <td>W./C. 6607</td>\n",
       "      <td>23.4500</td>\n",
       "      <td>NaN</td>\n",
       "      <td>S</td>\n",
       "    </tr>\n",
       "    <tr>\n",
       "      <th>889</th>\n",
       "      <td>890</td>\n",
       "      <td>1</td>\n",
       "      <td>1</td>\n",
       "      <td>Behr, Mr. Karl Howell</td>\n",
       "      <td>male</td>\n",
       "      <td>26.0</td>\n",
       "      <td>0</td>\n",
       "      <td>0</td>\n",
       "      <td>111369</td>\n",
       "      <td>30.0000</td>\n",
       "      <td>C148</td>\n",
       "      <td>C</td>\n",
       "    </tr>\n",
       "    <tr>\n",
       "      <th>890</th>\n",
       "      <td>891</td>\n",
       "      <td>0</td>\n",
       "      <td>3</td>\n",
       "      <td>Dooley, Mr. Patrick</td>\n",
       "      <td>male</td>\n",
       "      <td>32.0</td>\n",
       "      <td>0</td>\n",
       "      <td>0</td>\n",
       "      <td>370376</td>\n",
       "      <td>7.7500</td>\n",
       "      <td>NaN</td>\n",
       "      <td>Q</td>\n",
       "    </tr>\n",
       "  </tbody>\n",
       "</table>\n",
       "<p>891 rows × 12 columns</p>\n",
       "</div>"
      ],
      "text/plain": [
       "     PassengerId  Survived  Pclass  \\\n",
       "0              1         0       3   \n",
       "1              2         1       1   \n",
       "2              3         1       3   \n",
       "3              4         1       1   \n",
       "4              5         0       3   \n",
       "..           ...       ...     ...   \n",
       "886          887         0       2   \n",
       "887          888         1       1   \n",
       "888          889         0       3   \n",
       "889          890         1       1   \n",
       "890          891         0       3   \n",
       "\n",
       "                                                  Name     Sex   Age  SibSp  \\\n",
       "0                              Braund, Mr. Owen Harris    male  22.0      1   \n",
       "1    Cumings, Mrs. John Bradley (Florence Briggs Th...  female  38.0      1   \n",
       "2                               Heikkinen, Miss. Laina  female  26.0      0   \n",
       "3         Futrelle, Mrs. Jacques Heath (Lily May Peel)  female  35.0      1   \n",
       "4                             Allen, Mr. William Henry    male  35.0      0   \n",
       "..                                                 ...     ...   ...    ...   \n",
       "886                              Montvila, Rev. Juozas    male  27.0      0   \n",
       "887                       Graham, Miss. Margaret Edith  female  19.0      0   \n",
       "888           Johnston, Miss. Catherine Helen \"Carrie\"  female   NaN      1   \n",
       "889                              Behr, Mr. Karl Howell    male  26.0      0   \n",
       "890                                Dooley, Mr. Patrick    male  32.0      0   \n",
       "\n",
       "     Parch            Ticket     Fare Cabin Embarked  \n",
       "0        0         A/5 21171   7.2500   NaN        S  \n",
       "1        0          PC 17599  71.2833   C85        C  \n",
       "2        0  STON/O2. 3101282   7.9250   NaN        S  \n",
       "3        0            113803  53.1000  C123        S  \n",
       "4        0            373450   8.0500   NaN        S  \n",
       "..     ...               ...      ...   ...      ...  \n",
       "886      0            211536  13.0000   NaN        S  \n",
       "887      0            112053  30.0000   B42        S  \n",
       "888      2        W./C. 6607  23.4500   NaN        S  \n",
       "889      0            111369  30.0000  C148        C  \n",
       "890      0            370376   7.7500   NaN        Q  \n",
       "\n",
       "[891 rows x 12 columns]"
      ]
     },
     "execution_count": 3,
     "metadata": {},
     "output_type": "execute_result"
    }
   ],
   "source": [
    "df"
   ]
  },
  {
   "cell_type": "markdown",
   "id": "e54e136e",
   "metadata": {},
   "source": [
    "## Target Variable : Survived\n",
    "##  Independent Variable : Others"
   ]
  },
  {
   "cell_type": "code",
   "execution_count": 4,
   "id": "ae775e61",
   "metadata": {},
   "outputs": [
    {
     "name": "stdout",
     "output_type": "stream",
     "text": [
      "<class 'pandas.core.frame.DataFrame'>\n",
      "RangeIndex: 891 entries, 0 to 890\n",
      "Data columns (total 12 columns):\n",
      " #   Column       Non-Null Count  Dtype  \n",
      "---  ------       --------------  -----  \n",
      " 0   PassengerId  891 non-null    int64  \n",
      " 1   Survived     891 non-null    int64  \n",
      " 2   Pclass       891 non-null    int64  \n",
      " 3   Name         891 non-null    object \n",
      " 4   Sex          891 non-null    object \n",
      " 5   Age          714 non-null    float64\n",
      " 6   SibSp        891 non-null    int64  \n",
      " 7   Parch        891 non-null    int64  \n",
      " 8   Ticket       891 non-null    object \n",
      " 9   Fare         891 non-null    float64\n",
      " 10  Cabin        204 non-null    object \n",
      " 11  Embarked     889 non-null    object \n",
      "dtypes: float64(2), int64(5), object(5)\n",
      "memory usage: 83.7+ KB\n"
     ]
    }
   ],
   "source": [
    "df.info()"
   ]
  },
  {
   "cell_type": "markdown",
   "id": "9028fd9f",
   "metadata": {},
   "source": [
    "# Handling Missing Values"
   ]
  },
  {
   "cell_type": "code",
   "execution_count": 5,
   "id": "5d882328",
   "metadata": {},
   "outputs": [
    {
     "data": {
      "text/plain": [
       "PassengerId      0\n",
       "Survived         0\n",
       "Pclass           0\n",
       "Name             0\n",
       "Sex              0\n",
       "Age            177\n",
       "SibSp            0\n",
       "Parch            0\n",
       "Ticket           0\n",
       "Fare             0\n",
       "Cabin          687\n",
       "Embarked         2\n",
       "dtype: int64"
      ]
     },
     "execution_count": 5,
     "metadata": {},
     "output_type": "execute_result"
    }
   ],
   "source": [
    "df.isnull().sum()"
   ]
  },
  {
   "cell_type": "code",
   "execution_count": 6,
   "id": "b1ac11f4",
   "metadata": {
    "scrolled": true
   },
   "outputs": [],
   "source": [
    "# Age -- NaN replacing with Mean\n",
    "df.Age.replace(np.NaN,df.Age.mean(),inplace=True)"
   ]
  },
  {
   "cell_type": "code",
   "execution_count": 7,
   "id": "ec433d23",
   "metadata": {},
   "outputs": [],
   "source": [
    "# Embarked -- NaN replacing with Maximum Weigthed Category\n",
    "df.Embarked.replace(np.NaN,df.Embarked.value_counts().index[0],inplace=True)\n"
   ]
  },
  {
   "cell_type": "code",
   "execution_count": 8,
   "id": "9a90d948",
   "metadata": {},
   "outputs": [],
   "source": [
    "# Cabin -- Dropping Cabin as feature as there are more number of NaN values\n",
    "df.drop(columns=df[['Cabin']],inplace=True)"
   ]
  },
  {
   "cell_type": "code",
   "execution_count": 9,
   "id": "33148f3d",
   "metadata": {},
   "outputs": [
    {
     "data": {
      "text/plain": [
       "PassengerId    0\n",
       "Survived       0\n",
       "Pclass         0\n",
       "Name           0\n",
       "Sex            0\n",
       "Age            0\n",
       "SibSp          0\n",
       "Parch          0\n",
       "Ticket         0\n",
       "Fare           0\n",
       "Embarked       0\n",
       "dtype: int64"
      ]
     },
     "execution_count": 9,
     "metadata": {},
     "output_type": "execute_result"
    }
   ],
   "source": [
    "df.isnull().sum()"
   ]
  },
  {
   "cell_type": "markdown",
   "id": "d980c418",
   "metadata": {},
   "source": [
    "# Handling Outliers"
   ]
  },
  {
   "cell_type": "code",
   "execution_count": 10,
   "id": "7086c2f4",
   "metadata": {},
   "outputs": [
    {
     "data": {
      "image/png": "[encoded data removed]",
      "text/plain": [
       "<Figure size 1080x720 with 4 Axes>"
      ]
     },
     "metadata": {
      "needs_background": "light"
     },
     "output_type": "display_data"
    }
   ],
   "source": [
    "# plotting box plot for all independent variables to see the outliers for all\n",
    "# temporarily for now keeping all the outliers \n",
    "\n",
    "plt.figure(figsize=(15,10))\n",
    "plt.subplot(3,2,1)\n",
    "sns.boxplot(df['Survived'])\n",
    "plt.grid()\n",
    "\n",
    "plt.subplot(3,2,2)\n",
    "sns.boxplot(df['Pclass'])\n",
    "plt.grid()\n",
    "\n",
    "plt.subplot(3,2,3)\n",
    "sns.boxplot(df['Age'])\n",
    "plt.grid()\n",
    "\n",
    "plt.subplot(3,2,4)\n",
    "sns.boxplot(df['Fare'])\n",
    "plt.grid()\n",
    "\n",
    "plt.show()"
   ]
  },
  {
   "cell_type": "code",
   "execution_count": 11,
   "id": "5d131726",
   "metadata": {},
   "outputs": [
    {
     "name": "stdout",
     "output_type": "stream",
     "text": [
      "___Age___\n",
      "Age 2.5 & below ==> 24 records \n",
      "Age 50-60 ==> 38 records \n",
      "Age 60-70 ==> 15 records \n",
      "Age 70 & above ==> 7 records \n",
      "\n",
      "___Fare___\n",
      "Fare 80-100 ==> 21 records \n",
      "Fare 100-200 ==> 33 records \n",
      "Fare 200 & above ==> 20 records \n"
     ]
    }
   ],
   "source": [
    "print(\"___Age___\")\n",
    "print(f\"Age 2.5 & below ==> { len(df[(df.Age <= 2.5) ]) } records \" )\n",
    "print(f\"Age 50-60 ==> { len(df[(df.Age > 50) & (df.Age < 60)]) } records \" )\n",
    "print(f\"Age 60-70 ==> { len(df[(df.Age > 60) & (df.Age < 70)]) } records \" )\n",
    "print(f\"Age 70 & above ==> { len(df[(df.Age >= 70) ]) } records \" )\n",
    "\n",
    "print(\"\\n___Fare___\")\n",
    "print(f\"Fare 80-100 ==> { len(df[(df.Fare > 80) & (df.Fare < 100)]) } records \" )\n",
    "print(f\"Fare 100-200 ==> { len(df[(df.Fare > 100) & (df.Fare < 200)]) } records \" )\n",
    "print(f\"Fare 200 & above ==> { len(df[(df.Fare >= 200)]) } records \" )\n"
   ]
  },
  {
   "cell_type": "markdown",
   "id": "fcef0b8c",
   "metadata": {},
   "source": [
    "# Handling Categorial Data"
   ]
  },
  {
   "cell_type": "code",
   "execution_count": 12,
   "id": "780dee5b",
   "metadata": {},
   "outputs": [
    {
     "name": "stdout",
     "output_type": "stream",
     "text": [
      "<class 'pandas.core.frame.DataFrame'>\n",
      "RangeIndex: 891 entries, 0 to 890\n",
      "Data columns (total 11 columns):\n",
      " #   Column       Non-Null Count  Dtype  \n",
      "---  ------       --------------  -----  \n",
      " 0   PassengerId  891 non-null    int64  \n",
      " 1   Survived     891 non-null    int64  \n",
      " 2   Pclass       891 non-null    int64  \n",
      " 3   Name         891 non-null    object \n",
      " 4   Sex          891 non-null    object \n",
      " 5   Age          891 non-null    float64\n",
      " 6   SibSp        891 non-null    int64  \n",
      " 7   Parch        891 non-null    int64  \n",
      " 8   Ticket       891 non-null    object \n",
      " 9   Fare         891 non-null    float64\n",
      " 10  Embarked     891 non-null    object \n",
      "dtypes: float64(2), int64(5), object(4)\n",
      "memory usage: 76.7+ KB\n"
     ]
    }
   ],
   "source": [
    "df.info()"
   ]
  },
  {
   "cell_type": "code",
   "execution_count": 13,
   "id": "1613e26f",
   "metadata": {},
   "outputs": [
    {
     "data": {
      "text/plain": [
       "0      1\n",
       "1      0\n",
       "2      0\n",
       "3      0\n",
       "4      1\n",
       "      ..\n",
       "886    1\n",
       "887    0\n",
       "888    0\n",
       "889    1\n",
       "890    1\n",
       "Name: Sex, Length: 891, dtype: int64"
      ]
     },
     "execution_count": 13,
     "metadata": {},
     "output_type": "execute_result"
    }
   ],
   "source": [
    "# sex -- LabelEncoding\n",
    "df.Sex = LE.fit_transform(df.Sex)\n",
    "df.Sex.astype(\"int64\")"
   ]
  },
  {
   "cell_type": "code",
   "execution_count": 14,
   "id": "51130bd0",
   "metadata": {},
   "outputs": [
    {
     "data": {
      "text/plain": [
       "0      2\n",
       "1      0\n",
       "2      2\n",
       "3      2\n",
       "4      2\n",
       "      ..\n",
       "886    2\n",
       "887    2\n",
       "888    2\n",
       "889    0\n",
       "890    1\n",
       "Name: Embarked, Length: 891, dtype: int64"
      ]
     },
     "execution_count": 14,
     "metadata": {},
     "output_type": "execute_result"
    }
   ],
   "source": [
    "# Embarked -- LabelEncoding\n",
    "df.Embarked = LE.fit_transform(df.Embarked)\n",
    "df.Embarked.astype(\"int64\")"
   ]
  },
  {
   "cell_type": "code",
   "execution_count": 15,
   "id": "5e2e8ada",
   "metadata": {},
   "outputs": [
    {
     "name": "stdout",
     "output_type": "stream",
     "text": [
      "<class 'pandas.core.frame.DataFrame'>\n",
      "RangeIndex: 891 entries, 0 to 890\n",
      "Data columns (total 11 columns):\n",
      " #   Column       Non-Null Count  Dtype  \n",
      "---  ------       --------------  -----  \n",
      " 0   PassengerId  891 non-null    int64  \n",
      " 1   Survived     891 non-null    int64  \n",
      " 2   Pclass       891 non-null    int64  \n",
      " 3   Name         891 non-null    object \n",
      " 4   Sex          891 non-null    int32  \n",
      " 5   Age          891 non-null    float64\n",
      " 6   SibSp        891 non-null    int64  \n",
      " 7   Parch        891 non-null    int64  \n",
      " 8   Ticket       891 non-null    object \n",
      " 9   Fare         891 non-null    float64\n",
      " 10  Embarked     891 non-null    int32  \n",
      "dtypes: float64(2), int32(2), int64(5), object(2)\n",
      "memory usage: 69.7+ KB\n"
     ]
    }
   ],
   "source": [
    "df.info()"
   ]
  },
  {
   "cell_type": "markdown",
   "id": "d6417348",
   "metadata": {},
   "source": [
    "# Misc Analysis"
   ]
  },
  {
   "cell_type": "code",
   "execution_count": 16,
   "id": "13cf327e",
   "metadata": {},
   "outputs": [
    {
     "data": {
      "image/png": "[encoded data removed]",
      "text/plain": [
       "<Figure size 432x288 with 1 Axes>"
      ]
     },
     "metadata": {
      "needs_background": "light"
     },
     "output_type": "display_data"
    }
   ],
   "source": [
    "# ==> Age is similar to Normally Distributed\n",
    "\n",
    "sns.histplot(df.Age,kde=True)\n",
    "# plt.plot(,color=\"red\")\n",
    "plt.show()"
   ]
  },
  {
   "cell_type": "code",
   "execution_count": 17,
   "id": "22289068",
   "metadata": {},
   "outputs": [
    {
     "data": {
      "image/png": "[encoded data removed]",
      "text/plain": [
       "<Figure size 432x288 with 1 Axes>"
      ]
     },
     "metadata": {
      "needs_background": "light"
     },
     "output_type": "display_data"
    }
   ],
   "source": [
    "# ==> Best chance of Survival in Titanic is in 1-3-2 Pclass order\n",
    "\n",
    "sns.countplot(df[\"Embarked\"])\n",
    "plt.grid()\n",
    "plt.show()"
   ]
  },
  {
   "cell_type": "code",
   "execution_count": 18,
   "id": "db8cb4d0",
   "metadata": {},
   "outputs": [],
   "source": [
    "def get_percentage(x):\n",
    "    return round((int(x)/891)*100,2)"
   ]
  },
  {
   "cell_type": "markdown",
   "id": "615ca067",
   "metadata": {},
   "source": [
    "# 1 - Survived"
   ]
  },
  {
   "cell_type": "code",
   "execution_count": 19,
   "id": "386146e9",
   "metadata": {},
   "outputs": [
    {
     "name": "stdout",
     "output_type": "stream",
     "text": [
      "out of 891 passengers only 342 passengers survived ie. 38.38 %\n"
     ]
    },
    {
     "data": {
      "image/png": "[encoded data removed]",
      "text/plain": [
       "<Figure size 576x360 with 1 Axes>"
      ]
     },
     "metadata": {
      "needs_background": "light"
     },
     "output_type": "display_data"
    }
   ],
   "source": [
    "# count of Die / Survive\n",
    "plt.figure(figsize=(8,5))\n",
    "sns.countplot(df.Survived)\n",
    "people_survived  = (df.Survived == 1).sum()\n",
    "print(f\"out of 891 passengers only {people_survived} passengers survived ie. {get_percentage(people_survived)} %\")"
   ]
  },
  {
   "cell_type": "code",
   "execution_count": 20,
   "id": "991d25b9",
   "metadata": {},
   "outputs": [
    {
     "ename": "ValueError",
     "evalue": "Cannot use `hue` without `x` and `y`",
     "output_type": "error",
     "traceback": [
      "\u001b[1;31m---------------------------------------------------------------------------\u001b[0m",
      "\u001b[1;31mValueError\u001b[0m                                Traceback (most recent call last)",
      "Input \u001b[1;32mIn [20]\u001b[0m, in \u001b[0;36m<cell line: 5>\u001b[1;34m()\u001b[0m\n\u001b[0;32m      2\u001b[0m get_per \u001b[38;5;241m=\u001b[39m \u001b[38;5;28;01mlambda\u001b[39;00m x : \u001b[38;5;28mround\u001b[39m( ( x \u001b[38;5;241m/\u001b[39m x\u001b[38;5;241m.\u001b[39msum() )\u001b[38;5;241m*\u001b[39m\u001b[38;5;241m100\u001b[39m , \u001b[38;5;241m1\u001b[39m )\n\u001b[0;32m      4\u001b[0m plt\u001b[38;5;241m.\u001b[39mfigure(figsize\u001b[38;5;241m=\u001b[39m(\u001b[38;5;241m10\u001b[39m,\u001b[38;5;241m5\u001b[39m))\n\u001b[1;32m----> 5\u001b[0m \u001b[43msns\u001b[49m\u001b[38;5;241;43m.\u001b[39;49m\u001b[43mcountplot\u001b[49m\u001b[43m(\u001b[49m\u001b[43mdf\u001b[49m\u001b[38;5;241;43m.\u001b[39;49m\u001b[43mSurvived\u001b[49m\u001b[43m,\u001b[49m\u001b[43mhue\u001b[49m\u001b[38;5;241;43m=\u001b[39;49m\u001b[43mdf\u001b[49m\u001b[38;5;241;43m.\u001b[39;49m\u001b[43mPclass\u001b[49m\u001b[43m)\u001b[49m\n\u001b[0;32m      6\u001b[0m \u001b[38;5;28mprint\u001b[39m(pd\u001b[38;5;241m.\u001b[39mcrosstab(df\u001b[38;5;241m.\u001b[39mPclass,df\u001b[38;5;241m.\u001b[39mSurvived)\u001b[38;5;241m.\u001b[39mapply(get_per, axis\u001b[38;5;241m=\u001b[39m\u001b[38;5;241m1\u001b[39m))\n\u001b[0;32m      7\u001b[0m plt\u001b[38;5;241m.\u001b[39mgrid()\n",
      "File \u001b[1;32mC:\\Python310\\lib\\site-packages\\seaborn\\categorical.py:2942\u001b[0m, in \u001b[0;36mcountplot\u001b[1;34m(data, x, y, hue, order, hue_order, orient, color, palette, saturation, width, dodge, ax, **kwargs)\u001b[0m\n\u001b[0;32m   2939\u001b[0m \u001b[38;5;28;01melif\u001b[39;00m x \u001b[38;5;129;01mis\u001b[39;00m \u001b[38;5;129;01mnot\u001b[39;00m \u001b[38;5;28;01mNone\u001b[39;00m \u001b[38;5;129;01mand\u001b[39;00m y \u001b[38;5;129;01mis\u001b[39;00m \u001b[38;5;129;01mnot\u001b[39;00m \u001b[38;5;28;01mNone\u001b[39;00m:\n\u001b[0;32m   2940\u001b[0m     \u001b[38;5;28;01mraise\u001b[39;00m \u001b[38;5;167;01mValueError\u001b[39;00m(\u001b[38;5;124m\"\u001b[39m\u001b[38;5;124mCannot pass values for both `x` and `y`\u001b[39m\u001b[38;5;124m\"\u001b[39m)\n\u001b[1;32m-> 2942\u001b[0m plotter \u001b[38;5;241m=\u001b[39m \u001b[43m_CountPlotter\u001b[49m\u001b[43m(\u001b[49m\n\u001b[0;32m   2943\u001b[0m \u001b[43m    \u001b[49m\u001b[43mx\u001b[49m\u001b[43m,\u001b[49m\u001b[43m \u001b[49m\u001b[43my\u001b[49m\u001b[43m,\u001b[49m\u001b[43m \u001b[49m\u001b[43mhue\u001b[49m\u001b[43m,\u001b[49m\u001b[43m \u001b[49m\u001b[43mdata\u001b[49m\u001b[43m,\u001b[49m\u001b[43m \u001b[49m\u001b[43morder\u001b[49m\u001b[43m,\u001b[49m\u001b[43m \u001b[49m\u001b[43mhue_order\u001b[49m\u001b[43m,\u001b[49m\n\u001b[0;32m   2944\u001b[0m \u001b[43m    \u001b[49m\u001b[43mestimator\u001b[49m\u001b[43m,\u001b[49m\u001b[43m \u001b[49m\u001b[43merrorbar\u001b[49m\u001b[43m,\u001b[49m\u001b[43m \u001b[49m\u001b[43mn_boot\u001b[49m\u001b[43m,\u001b[49m\u001b[43m \u001b[49m\u001b[43munits\u001b[49m\u001b[43m,\u001b[49m\u001b[43m \u001b[49m\u001b[43mseed\u001b[49m\u001b[43m,\u001b[49m\n\u001b[0;32m   2945\u001b[0m \u001b[43m    \u001b[49m\u001b[43morient\u001b[49m\u001b[43m,\u001b[49m\u001b[43m \u001b[49m\u001b[43mcolor\u001b[49m\u001b[43m,\u001b[49m\u001b[43m \u001b[49m\u001b[43mpalette\u001b[49m\u001b[43m,\u001b[49m\u001b[43m \u001b[49m\u001b[43msaturation\u001b[49m\u001b[43m,\u001b[49m\n\u001b[0;32m   2946\u001b[0m \u001b[43m    \u001b[49m\u001b[43mwidth\u001b[49m\u001b[43m,\u001b[49m\u001b[43m \u001b[49m\u001b[43merrcolor\u001b[49m\u001b[43m,\u001b[49m\u001b[43m \u001b[49m\u001b[43merrwidth\u001b[49m\u001b[43m,\u001b[49m\u001b[43m \u001b[49m\u001b[43mcapsize\u001b[49m\u001b[43m,\u001b[49m\u001b[43m \u001b[49m\u001b[43mdodge\u001b[49m\n\u001b[0;32m   2947\u001b[0m \u001b[43m\u001b[49m\u001b[43m)\u001b[49m\n\u001b[0;32m   2949\u001b[0m plotter\u001b[38;5;241m.\u001b[39mvalue_label \u001b[38;5;241m=\u001b[39m \u001b[38;5;124m\"\u001b[39m\u001b[38;5;124mcount\u001b[39m\u001b[38;5;124m\"\u001b[39m\n\u001b[0;32m   2951\u001b[0m \u001b[38;5;28;01mif\u001b[39;00m ax \u001b[38;5;129;01mis\u001b[39;00m \u001b[38;5;28;01mNone\u001b[39;00m:\n",
      "File \u001b[1;32mC:\\Python310\\lib\\site-packages\\seaborn\\categorical.py:1530\u001b[0m, in \u001b[0;36m_BarPlotter.__init__\u001b[1;34m(self, x, y, hue, data, order, hue_order, estimator, errorbar, n_boot, units, seed, orient, color, palette, saturation, width, errcolor, errwidth, capsize, dodge)\u001b[0m\n\u001b[0;32m   1525\u001b[0m \u001b[38;5;28;01mdef\u001b[39;00m \u001b[38;5;21m__init__\u001b[39m(\u001b[38;5;28mself\u001b[39m, x, y, hue, data, order, hue_order,\n\u001b[0;32m   1526\u001b[0m              estimator, errorbar, n_boot, units, seed,\n\u001b[0;32m   1527\u001b[0m              orient, color, palette, saturation, width,\n\u001b[0;32m   1528\u001b[0m              errcolor, errwidth, capsize, dodge):\n\u001b[0;32m   1529\u001b[0m     \u001b[38;5;124;03m\"\"\"Initialize the plotter.\"\"\"\u001b[39;00m\n\u001b[1;32m-> 1530\u001b[0m     \u001b[38;5;28;43mself\u001b[39;49m\u001b[38;5;241;43m.\u001b[39;49m\u001b[43mestablish_variables\u001b[49m\u001b[43m(\u001b[49m\u001b[43mx\u001b[49m\u001b[43m,\u001b[49m\u001b[43m \u001b[49m\u001b[43my\u001b[49m\u001b[43m,\u001b[49m\u001b[43m \u001b[49m\u001b[43mhue\u001b[49m\u001b[43m,\u001b[49m\u001b[43m \u001b[49m\u001b[43mdata\u001b[49m\u001b[43m,\u001b[49m\u001b[43m \u001b[49m\u001b[43morient\u001b[49m\u001b[43m,\u001b[49m\n\u001b[0;32m   1531\u001b[0m \u001b[43m                             \u001b[49m\u001b[43morder\u001b[49m\u001b[43m,\u001b[49m\u001b[43m \u001b[49m\u001b[43mhue_order\u001b[49m\u001b[43m,\u001b[49m\u001b[43m \u001b[49m\u001b[43munits\u001b[49m\u001b[43m)\u001b[49m\n\u001b[0;32m   1532\u001b[0m     \u001b[38;5;28mself\u001b[39m\u001b[38;5;241m.\u001b[39mestablish_colors(color, palette, saturation)\n\u001b[0;32m   1533\u001b[0m     \u001b[38;5;28mself\u001b[39m\u001b[38;5;241m.\u001b[39mestimate_statistic(estimator, errorbar, n_boot, seed)\n",
      "File \u001b[1;32mC:\\Python310\\lib\\site-packages\\seaborn\\categorical.py:437\u001b[0m, in \u001b[0;36m_CategoricalPlotter.establish_variables\u001b[1;34m(self, x, y, hue, data, orient, order, hue_order, units)\u001b[0m\n\u001b[0;32m    435\u001b[0m \u001b[38;5;28;01mif\u001b[39;00m hue \u001b[38;5;129;01mis\u001b[39;00m \u001b[38;5;129;01mnot\u001b[39;00m \u001b[38;5;28;01mNone\u001b[39;00m:\n\u001b[0;32m    436\u001b[0m     error \u001b[38;5;241m=\u001b[39m \u001b[38;5;124m\"\u001b[39m\u001b[38;5;124mCannot use `hue` without `x` and `y`\u001b[39m\u001b[38;5;124m\"\u001b[39m\n\u001b[1;32m--> 437\u001b[0m     \u001b[38;5;28;01mraise\u001b[39;00m \u001b[38;5;167;01mValueError\u001b[39;00m(error)\n\u001b[0;32m    439\u001b[0m \u001b[38;5;66;03m# No hue grouping with wide inputs\u001b[39;00m\n\u001b[0;32m    440\u001b[0m plot_hues \u001b[38;5;241m=\u001b[39m \u001b[38;5;28;01mNone\u001b[39;00m\n",
      "\u001b[1;31mValueError\u001b[0m: Cannot use `hue` without `x` and `y`"
     ]
    },
    {
     "data": {
      "text/plain": [
       "<Figure size 720x360 with 0 Axes>"
      ]
     },
     "metadata": {},
     "output_type": "display_data"
    }
   ],
   "source": [
    "# class wise survival\n",
    "get_per = lambda x : round( ( x / x.sum() )*100 , 1 )\n",
    "\n",
    "plt.figure(figsize=(10,5))\n",
    "sns.countplot(df.Survived,hue=df.Pclass)\n",
    "print(pd.crosstab(df.Pclass,df.Survived).apply(get_per, axis=1))\n",
    "plt.grid()\n",
    "plt.show()"
   ]
  },
  {
   "cell_type": "code",
   "execution_count": null,
   "id": "24e3a346",
   "metadata": {
    "scrolled": false
   },
   "outputs": [],
   "source": [
    "# sex wise survival\n",
    "get_per = lambda x : round( ( x / x.sum() )*100 , 1 )\n",
    "\n",
    "plt.figure(figsize=(10,5))\n",
    "sns.countplot(df.Survived,hue=df.Sex)\n",
    "print(pd.crosstab(df.Sex,df.Survived).apply(get_per, axis=1))\n",
    "plt.grid()\n",
    "plt.show()"
   ]
  },
  {
   "cell_type": "code",
   "execution_count": null,
   "id": "788f074a",
   "metadata": {},
   "outputs": [],
   "source": [
    "# age wise survival\n",
    "plt.figure(figsize=(10,5))\n",
    "sns.distplot(df[df.Survived == 0][\"Age\"])     # Blue : Died\n",
    "sns.distplot(df[df.Survived == 1][\"Age\"])     # Red  : Survived"
   ]
  },
  {
   "cell_type": "code",
   "execution_count": null,
   "id": "3aeeb910",
   "metadata": {},
   "outputs": [],
   "source": [
    "# TravelSize wise survival\n",
    "plt.figure(figsize=(15,5))\n",
    "plt.subplot(1,2,1)\n",
    "sns.distplot(df[df.Survived == 0][\"SibSp\"])     # Blue : Died\n",
    "sns.distplot(df[df.Survived == 1][\"SibSp\"])     # Red  : Survived\n",
    "\n",
    "plt.subplot(1,2,2)\n",
    "sns.distplot(df[df.Survived == 0][\"Parch\"])     # Blue : Died\n",
    "sns.distplot(df[df.Survived == 1][\"Parch\"])     # Red  : Survived"
   ]
  },
  {
   "cell_type": "code",
   "execution_count": null,
   "id": "9b44e4a2",
   "metadata": {
    "scrolled": true
   },
   "outputs": [],
   "source": [
    "# Fare wise survival\n",
    "plt.figure(figsize=(10,5))\n",
    "\n",
    "sns.distplot(df[df.Survived == 0][\"Fare\"])     # Blue : Died\n",
    "sns.distplot(df[df.Survived == 1][\"Fare\"])     # Red  : Survived\n"
   ]
  },
  {
   "cell_type": "code",
   "execution_count": null,
   "id": "693ba10e",
   "metadata": {},
   "outputs": [],
   "source": [
    "# Embarked with Survival\n",
    "get_per = lambda x : round( ( x / x.sum() )*100 , 1 )\n",
    "\n",
    "plt.figure(figsize=(10,5))\n",
    "sns.countplot(df.Survived,hue=df.Embarked)\n",
    "print(pd.crosstab(df.Embarked,df.Survived).apply(get_per, axis=1))\n",
    "plt.grid()\n",
    "plt.show()"
   ]
  },
  {
   "cell_type": "markdown",
   "id": "e913d2fc",
   "metadata": {},
   "source": [
    "# Conclussion\n",
    "\n",
    "- Pclass  1 has more survival rate\n",
    "- Female has more chances of survival\n",
    "- Before 18 and after 35 age the chances of surviaval are good\n",
    "- Travelling Single/Dual(0-2) with 1-2 child is safer\n",
    "- buying ticket of $40 increases your chance of survival\n",
    "- Going to \"S\" Destination has more chances of survival"
   ]
  },
  {
   "cell_type": "markdown",
   "id": "d57f8c33",
   "metadata": {},
   "source": [
    "# 2 - Pclass"
   ]
  },
  {
   "cell_type": "code",
   "execution_count": null,
   "id": "634dd90e",
   "metadata": {},
   "outputs": [],
   "source": [
    "# Sex wise Pclass\n",
    "\n",
    "get_per = lambda x : round( ( x / x.sum() )*100 , 1 )\n",
    "\n",
    "plt.figure(figsize=(10,5))\n",
    "sns.countplot(df.Pclass,hue=df.Sex)\n",
    "print(pd.crosstab(df.Sex,df.Pclass).apply(get_per, axis=1))\n",
    "plt.grid()\n",
    "plt.show()"
   ]
  },
  {
   "cell_type": "code",
   "execution_count": null,
   "id": "9d8141ab",
   "metadata": {},
   "outputs": [],
   "source": [
    "# Age wise Pclass\n",
    "\n",
    "sns.distplot(df[df[\"Pclass\"] == 1][\"Age\"],color=\"b\")\n",
    "sns.distplot(df[df[\"Pclass\"] == 2][\"Age\"],color=\"r\")\n",
    "sns.distplot(df[df[\"Pclass\"] == 3][\"Age\"],color=\"g\")"
   ]
  },
  {
   "cell_type": "code",
   "execution_count": null,
   "id": "7395d86d",
   "metadata": {},
   "outputs": [],
   "source": [
    "# TravelSize wise Pclass\n",
    "\n",
    "plt.figure(figsize=(15,5))\n",
    "plt.subplot(1,2,1)\n",
    "sns.distplot(df[df[\"Pclass\"] == 1][\"SibSp\"],color=\"r\")\n",
    "sns.distplot(df[df[\"Pclass\"] == 2][\"SibSp\"],color=\"g\")\n",
    "sns.distplot(df[df[\"Pclass\"] == 3][\"SibSp\"],color=\"b\")\n",
    "\n",
    "plt.subplot(1,2,2)\n",
    "sns.distplot(df[df[\"Pclass\"] == 1][\"Parch\"],color=\"r\")\n",
    "sns.distplot(df[df[\"Pclass\"] == 2][\"Parch\"],color=\"g\")\n",
    "sns.distplot(df[df[\"Pclass\"] == 3][\"Parch\"],color=\"b\")"
   ]
  },
  {
   "cell_type": "code",
   "execution_count": null,
   "id": "96fe4461",
   "metadata": {},
   "outputs": [],
   "source": [
    "# Fare wise Pclass\n",
    "plt.figure(figsize=(10,5))\n",
    "\n",
    "sns.distplot(df[df.Pclass == 1][\"Fare\"],color=\"r\")     \n",
    "sns.distplot(df[df.Pclass == 2][\"Fare\"],color=\"g\")     \n",
    "sns.distplot(df[df.Pclass == 3][\"Fare\"],color=\"b\")     \n",
    "\n"
   ]
  },
  {
   "cell_type": "code",
   "execution_count": null,
   "id": "e1fe8ebe",
   "metadata": {},
   "outputs": [],
   "source": [
    "# Embarked with Pclass\n",
    "get_per = lambda x : round( ( x / x.sum() )*100 , 1 )\n",
    "\n",
    "plt.figure(figsize=(10,5))\n",
    "sns.countplot(df.Pclass,hue=df.Embarked)\n",
    "print(pd.crosstab(df.Embarked,df.Pclass).apply(get_per, axis=1))\n",
    "plt.grid()\n",
    "plt.show()"
   ]
  },
  {
   "cell_type": "code",
   "execution_count": null,
   "id": "bb43eaaa",
   "metadata": {},
   "outputs": [],
   "source": [
    "LE.classes_"
   ]
  },
  {
   "cell_type": "markdown",
   "id": "a659efb2",
   "metadata": {},
   "source": [
    "# Conclusion\n",
    "\n",
    "- Pclass 3 has more female than male\n",
    "- Age wise Pclass \n",
    "        1 ==> Age 20 and up\n",
    "        2 ==> similar to Normally Distribution(people of all age are in Pclass 2)    \n",
    "        3 ==> Age 0 to 50\n",
    "-TravelSize wise Pclass\n",
    "\n",
    "    SibSp\n",
    "        Pclass 1 & 2 trace each other (may be they are in same price segment)\n",
    "        Pclass 3 is majorly elongated \n",
    "    Parch\n",
    "        Pclass 3 was majorly for alone people -- max(5)\n",
    "        Pclass 2 has majority of 1 Parch -- max(4)\n",
    "        Pclass 1 has majority of 2 parch -- max(3)\n",
    "        \n",
    "- Pclss costing 1 > 2 > 3\n",
    "- People gooin to city \"S\" were more in all the 3 classes as compared to other destination ie.( S > C > Q )"
   ]
  },
  {
   "cell_type": "markdown",
   "id": "4ff66d80",
   "metadata": {},
   "source": [
    "# 3 - Sex"
   ]
  },
  {
   "cell_type": "code",
   "execution_count": null,
   "id": "f300b1b6",
   "metadata": {},
   "outputs": [],
   "source": [
    "# Analysis for Age column based upon their Sex\n",
    "print(\"___Male___\")\n",
    "print(\"Mean : \",df[df['Sex'] == \"0\"][\"Age\"].mean())\n",
    "print(\"Median : \",df[df['Sex'] == \"1\"][\"Age\"].median())\n",
    "print(\"___Female___\")\n",
    "print(\"Mean : \",df[df['Sex'] == \"0\"][\"Age\"].mean())\n",
    "print(\"Median : \",df[df['Sex'] == \"1\"][\"Age\"].median())\n",
    "print(df.Age.mean())\n",
    "\n",
    "sns.distplot(df[df.Sex == 0][\"Age\"],color=\"r\")     \n",
    "sns.distplot(df[df.Sex == 1][\"Age\"],color=\"b\")     \n"
   ]
  },
  {
   "cell_type": "code",
   "execution_count": null,
   "id": "7b5f1459",
   "metadata": {},
   "outputs": [],
   "source": [
    "# travel size by sex\n",
    "\n",
    "plt.figure(figsize=(15,5))\n",
    "plt.subplot(1,2,1)\n",
    "sns.distplot(df[df[\"Sex\"] == 0][\"SibSp\"],color=\"r\")\n",
    "sns.distplot(df[df[\"Sex\"] == 1][\"SibSp\"],color=\"g\")\n",
    "\n",
    "\n",
    "plt.subplot(1,2,2)\n",
    "sns.distplot(df[df[\"Sex\"] == 0][\"Parch\"],color=\"r\")\n",
    "sns.distplot(df[df[\"Sex\"] == 1][\"Parch\"],color=\"g\")"
   ]
  },
  {
   "cell_type": "code",
   "execution_count": null,
   "id": "cdca1155",
   "metadata": {},
   "outputs": [],
   "source": [
    "# Fare by Sex\n",
    "plt.figure(figsize=(10,5))\n",
    "\n",
    "sns.distplot(df[df.Sex == 0][\"Fare\"],color=\"r\")     \n",
    "sns.distplot(df[df.Sex == 1][\"Fare\"],color=\"g\")     \n"
   ]
  },
  {
   "cell_type": "code",
   "execution_count": null,
   "id": "c6058e4f",
   "metadata": {},
   "outputs": [],
   "source": [
    "# Embarked with Sex\n",
    "get_per = lambda x : round( ( x / x.sum() )*100 , 1 )\n",
    "\n",
    "plt.figure(figsize=(10,5))\n",
    "sns.countplot(df.Sex,hue=df.Embarked)\n",
    "print(pd.crosstab(df.Embarked,df.Sex).apply(get_per, axis=1))\n",
    "plt.grid()\n",
    "plt.show()"
   ]
  },
  {
   "cell_type": "markdown",
   "id": "564434b5",
   "metadata": {},
   "source": [
    "# conclusion\n",
    "\n",
    "- below age 20 ratio of female is more , age 20-35 male are more, above 35 ratio is close to one another\n",
    "- Travel Wise\n",
    "        SibSp\n",
    "            male travel alone more than female\n",
    "        Parch\n",
    "            female travels more with rgier family\n",
    "- female paid more fare price than male\n",
    "- for all Destination majority was of female"
   ]
  },
  {
   "cell_type": "markdown",
   "id": "ab635b08",
   "metadata": {},
   "source": [
    "# 4 - Age "
   ]
  },
  {
   "cell_type": "code",
   "execution_count": null,
   "id": "4344fb82",
   "metadata": {
    "scrolled": true
   },
   "outputs": [],
   "source": [
    "# Age by destination\n",
    "plt.figure(figsize=(10,5))\n",
    "sns.countplot(df.Age,hue=df.Embarked)\n",
    "plt.grid()\n",
    "plt.show()"
   ]
  },
  {
   "cell_type": "markdown",
   "id": "54e19761",
   "metadata": {},
   "source": [
    "# conclusion\n",
    "\n",
    "- age 25-75 more people were goin to destination \"S\"\n",
    "- destination \"C\" & \"Q\" were throughtout distributed"
   ]
  },
  {
   "cell_type": "markdown",
   "id": "8f7903af",
   "metadata": {},
   "source": [
    "# 5 - TravelSize"
   ]
  },
  {
   "cell_type": "code",
   "execution_count": null,
   "id": "6377eb14",
   "metadata": {},
   "outputs": [],
   "source": [
    "# Age by destination\n",
    "get_per = lambda x : round( ( x / x.sum() )*100 , 1 )\n",
    "\n",
    "\n",
    "\n",
    "plt.figure(figsize=(15,5))\n",
    "plt.subplot(1,2,1)\n",
    "sns.countplot(df.SibSp,hue=df.Embarked)\n",
    "print(pd.crosstab(df.Embarked,df.SibSp).apply(get_per, axis=1))\n",
    "\n",
    "print(\"-----------------------------------------------\")\n",
    "plt.subplot(1,2,2)\n",
    "sns.countplot(df.Parch,hue=df.Embarked)\n",
    "print(pd.crosstab(df.Embarked,df.Parch).apply(get_per, axis=1))\n",
    "\n",
    "plt.grid()\n",
    "plt.show()"
   ]
  },
  {
   "cell_type": "markdown",
   "id": "13aeecad",
   "metadata": {},
   "source": [
    "# Conclusion\n",
    "\n",
    "- SibSp & Parch ( 2 > 1 > 0 )\n",
    "    \n",
    "    "
   ]
  },
  {
   "cell_type": "code",
   "execution_count": null,
   "id": "0a775786",
   "metadata": {
    "scrolled": true
   },
   "outputs": [],
   "source": [
    "df.corr()"
   ]
  },
  {
   "cell_type": "code",
   "execution_count": null,
   "id": "a039fdea",
   "metadata": {},
   "outputs": [],
   "source": []
  },
  {
   "cell_type": "code",
   "execution_count": null,
   "id": "34fcad24",
   "metadata": {},
   "outputs": [],
   "source": []
  }
 ],
 "metadata": {
  "kernelspec": {
   "display_name": "Python 3 (ipykernel)",
   "language": "python",
   "name": "python3"
  },
  "language_info": {
   "codemirror_mode": {
    "name": "ipython",
    "version": 3
   },
   "file_extension": ".py",
   "mimetype": "text/x-python",
   "name": "python",
   "nbconvert_exporter": "python",
   "pygments_lexer": "ipython3",
   "version": "3.10.5"
  }
 },
 "nbformat": 4,
 "nbformat_minor": 5
}
