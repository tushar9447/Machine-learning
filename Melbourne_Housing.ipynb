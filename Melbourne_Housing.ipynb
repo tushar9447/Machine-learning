{
 "cells": [
  {
   "cell_type": "code",
   "execution_count": 1,
   "id": "8f65e23c",
   "metadata": {},
   "outputs": [],
   "source": [
    "import pandas as pd\n",
    "import numpy as np\n",
    "import matplotlib.pyplot as plt\n",
    "import seaborn as sns\n",
    "\n",
    "import warnings\n",
    "warnings.filterwarnings(\"ignore\")"
   ]
  },
  {
   "cell_type": "code",
   "execution_count": 2,
   "id": "6e6c0809",
   "metadata": {},
   "outputs": [
    {
     "data": {
      "text/html": [
       "<div>\n",
       "<style scoped>\n",
       "    .dataframe tbody tr th:only-of-type {\n",
       "        vertical-align: middle;\n",
       "    }\n",
       "\n",
       "    .dataframe tbody tr th {\n",
       "        vertical-align: top;\n",
       "    }\n",
       "\n",
       "    .dataframe thead th {\n",
       "        text-align: right;\n",
       "    }\n",
       "</style>\n",
       "<table border=\"1\" class=\"dataframe\">\n",
       "  <thead>\n",
       "    <tr style=\"text-align: right;\">\n",
       "      <th></th>\n",
       "      <th>11905</th>\n",
       "      <th>4485</th>\n",
       "      <th>9865</th>\n",
       "      <th>9968</th>\n",
       "      <th>4846</th>\n",
       "    </tr>\n",
       "  </thead>\n",
       "  <tbody>\n",
       "    <tr>\n",
       "      <th>Suburb</th>\n",
       "      <td>Brighton</td>\n",
       "      <td>Northcote</td>\n",
       "      <td>Donvale</td>\n",
       "      <td>Mount Waverley</td>\n",
       "      <td>Prahran</td>\n",
       "    </tr>\n",
       "    <tr>\n",
       "      <th>Address</th>\n",
       "      <td>6/105 Cochrane St</td>\n",
       "      <td>14 Northcote St</td>\n",
       "      <td>40 Astelot Dr</td>\n",
       "      <td>5 Armstrong St</td>\n",
       "      <td>395 High St</td>\n",
       "    </tr>\n",
       "    <tr>\n",
       "      <th>Rooms</th>\n",
       "      <td>2</td>\n",
       "      <td>2</td>\n",
       "      <td>3</td>\n",
       "      <td>3</td>\n",
       "      <td>2</td>\n",
       "    </tr>\n",
       "    <tr>\n",
       "      <th>Type</th>\n",
       "      <td>u</td>\n",
       "      <td>h</td>\n",
       "      <td>h</td>\n",
       "      <td>h</td>\n",
       "      <td>h</td>\n",
       "    </tr>\n",
       "    <tr>\n",
       "      <th>Price</th>\n",
       "      <td>845000.0</td>\n",
       "      <td>1050000.0</td>\n",
       "      <td>902000.0</td>\n",
       "      <td>1200000.0</td>\n",
       "      <td>1310000.0</td>\n",
       "    </tr>\n",
       "    <tr>\n",
       "      <th>Method</th>\n",
       "      <td>SP</td>\n",
       "      <td>S</td>\n",
       "      <td>S</td>\n",
       "      <td>VB</td>\n",
       "      <td>S</td>\n",
       "    </tr>\n",
       "    <tr>\n",
       "      <th>SellerG</th>\n",
       "      <td>Buxton</td>\n",
       "      <td>Barry</td>\n",
       "      <td>Hoskins</td>\n",
       "      <td>McGrath</td>\n",
       "      <td>Marshall</td>\n",
       "    </tr>\n",
       "    <tr>\n",
       "      <th>Date</th>\n",
       "      <td>29/07/2017</td>\n",
       "      <td>27/06/2016</td>\n",
       "      <td>24/06/2017</td>\n",
       "      <td>24/06/2017</td>\n",
       "      <td>18/03/2017</td>\n",
       "    </tr>\n",
       "    <tr>\n",
       "      <th>Distance</th>\n",
       "      <td>10.5</td>\n",
       "      <td>5.5</td>\n",
       "      <td>16.1</td>\n",
       "      <td>14.2</td>\n",
       "      <td>4.5</td>\n",
       "    </tr>\n",
       "    <tr>\n",
       "      <th>Postcode</th>\n",
       "      <td>3186.0</td>\n",
       "      <td>3070.0</td>\n",
       "      <td>3111.0</td>\n",
       "      <td>3149.0</td>\n",
       "      <td>3181.0</td>\n",
       "    </tr>\n",
       "    <tr>\n",
       "      <th>Bedroom2</th>\n",
       "      <td>2.0</td>\n",
       "      <td>2.0</td>\n",
       "      <td>3.0</td>\n",
       "      <td>3.0</td>\n",
       "      <td>2.0</td>\n",
       "    </tr>\n",
       "    <tr>\n",
       "      <th>Bathroom</th>\n",
       "      <td>1.0</td>\n",
       "      <td>1.0</td>\n",
       "      <td>1.0</td>\n",
       "      <td>1.0</td>\n",
       "      <td>1.0</td>\n",
       "    </tr>\n",
       "    <tr>\n",
       "      <th>Car</th>\n",
       "      <td>1.0</td>\n",
       "      <td>2.0</td>\n",
       "      <td>2.0</td>\n",
       "      <td>4.0</td>\n",
       "      <td>1.0</td>\n",
       "    </tr>\n",
       "    <tr>\n",
       "      <th>Landsize</th>\n",
       "      <td>100.0</td>\n",
       "      <td>301.0</td>\n",
       "      <td>649.0</td>\n",
       "      <td>807.0</td>\n",
       "      <td>162.0</td>\n",
       "    </tr>\n",
       "    <tr>\n",
       "      <th>BuildingArea</th>\n",
       "      <td>110.0</td>\n",
       "      <td>100.0</td>\n",
       "      <td>NaN</td>\n",
       "      <td>117.0</td>\n",
       "      <td>NaN</td>\n",
       "    </tr>\n",
       "    <tr>\n",
       "      <th>YearBuilt</th>\n",
       "      <td>1960.0</td>\n",
       "      <td>1925.0</td>\n",
       "      <td>NaN</td>\n",
       "      <td>1196.0</td>\n",
       "      <td>NaN</td>\n",
       "    </tr>\n",
       "    <tr>\n",
       "      <th>CouncilArea</th>\n",
       "      <td>Bayside</td>\n",
       "      <td>Darebin</td>\n",
       "      <td>Manningham</td>\n",
       "      <td>Monash</td>\n",
       "      <td>Stonnington</td>\n",
       "    </tr>\n",
       "    <tr>\n",
       "      <th>Lattitude</th>\n",
       "      <td>-37.89569</td>\n",
       "      <td>-37.774</td>\n",
       "      <td>-37.80274</td>\n",
       "      <td>-37.86788</td>\n",
       "      <td>-37.8528</td>\n",
       "    </tr>\n",
       "    <tr>\n",
       "      <th>Longtitude</th>\n",
       "      <td>144.99881</td>\n",
       "      <td>145.0081</td>\n",
       "      <td>145.17952</td>\n",
       "      <td>145.12121</td>\n",
       "      <td>145.0017</td>\n",
       "    </tr>\n",
       "    <tr>\n",
       "      <th>Regionname</th>\n",
       "      <td>Southern Metropolitan</td>\n",
       "      <td>Northern Metropolitan</td>\n",
       "      <td>Eastern Metropolitan</td>\n",
       "      <td>Eastern Metropolitan</td>\n",
       "      <td>Southern Metropolitan</td>\n",
       "    </tr>\n",
       "    <tr>\n",
       "      <th>Propertycount</th>\n",
       "      <td>10579.0</td>\n",
       "      <td>11364.0</td>\n",
       "      <td>4790.0</td>\n",
       "      <td>13366.0</td>\n",
       "      <td>7717.0</td>\n",
       "    </tr>\n",
       "  </tbody>\n",
       "</table>\n",
       "</div>"
      ],
      "text/plain": [
       "                               11905                  4485   \\\n",
       "Suburb                      Brighton              Northcote   \n",
       "Address            6/105 Cochrane St        14 Northcote St   \n",
       "Rooms                              2                      2   \n",
       "Type                               u                      h   \n",
       "Price                       845000.0              1050000.0   \n",
       "Method                            SP                      S   \n",
       "SellerG                       Buxton                  Barry   \n",
       "Date                      29/07/2017             27/06/2016   \n",
       "Distance                        10.5                    5.5   \n",
       "Postcode                      3186.0                 3070.0   \n",
       "Bedroom2                         2.0                    2.0   \n",
       "Bathroom                         1.0                    1.0   \n",
       "Car                              1.0                    2.0   \n",
       "Landsize                       100.0                  301.0   \n",
       "BuildingArea                   110.0                  100.0   \n",
       "YearBuilt                     1960.0                 1925.0   \n",
       "CouncilArea                  Bayside                Darebin   \n",
       "Lattitude                  -37.89569                -37.774   \n",
       "Longtitude                 144.99881               145.0081   \n",
       "Regionname     Southern Metropolitan  Northern Metropolitan   \n",
       "Propertycount                10579.0                11364.0   \n",
       "\n",
       "                              9865                  9968   \\\n",
       "Suburb                      Donvale        Mount Waverley   \n",
       "Address               40 Astelot Dr        5 Armstrong St   \n",
       "Rooms                             3                     3   \n",
       "Type                              h                     h   \n",
       "Price                      902000.0             1200000.0   \n",
       "Method                            S                    VB   \n",
       "SellerG                     Hoskins               McGrath   \n",
       "Date                     24/06/2017            24/06/2017   \n",
       "Distance                       16.1                  14.2   \n",
       "Postcode                     3111.0                3149.0   \n",
       "Bedroom2                        3.0                   3.0   \n",
       "Bathroom                        1.0                   1.0   \n",
       "Car                             2.0                   4.0   \n",
       "Landsize                      649.0                 807.0   \n",
       "BuildingArea                    NaN                 117.0   \n",
       "YearBuilt                       NaN                1196.0   \n",
       "CouncilArea              Manningham                Monash   \n",
       "Lattitude                 -37.80274             -37.86788   \n",
       "Longtitude                145.17952             145.12121   \n",
       "Regionname     Eastern Metropolitan  Eastern Metropolitan   \n",
       "Propertycount                4790.0               13366.0   \n",
       "\n",
       "                               4846   \n",
       "Suburb                       Prahran  \n",
       "Address                  395 High St  \n",
       "Rooms                              2  \n",
       "Type                               h  \n",
       "Price                      1310000.0  \n",
       "Method                             S  \n",
       "SellerG                     Marshall  \n",
       "Date                      18/03/2017  \n",
       "Distance                         4.5  \n",
       "Postcode                      3181.0  \n",
       "Bedroom2                         2.0  \n",
       "Bathroom                         1.0  \n",
       "Car                              1.0  \n",
       "Landsize                       162.0  \n",
       "BuildingArea                     NaN  \n",
       "YearBuilt                        NaN  \n",
       "CouncilArea              Stonnington  \n",
       "Lattitude                   -37.8528  \n",
       "Longtitude                  145.0017  \n",
       "Regionname     Southern Metropolitan  \n",
       "Propertycount                 7717.0  "
      ]
     },
     "execution_count": 2,
     "metadata": {},
     "output_type": "execute_result"
    }
   ],
   "source": [
    "df = pd.read_csv(\"DataSets/melb_data.csv\")\n",
    "df.sample(5).T"
   ]
  },
  {
   "cell_type": "code",
   "execution_count": 3,
   "id": "956c194e",
   "metadata": {},
   "outputs": [
    {
     "name": "stdout",
     "output_type": "stream",
     "text": [
      "<class 'pandas.core.frame.DataFrame'>\n",
      "RangeIndex: 13580 entries, 0 to 13579\n",
      "Data columns (total 21 columns):\n",
      " #   Column         Non-Null Count  Dtype  \n",
      "---  ------         --------------  -----  \n",
      " 0   Suburb         13580 non-null  object \n",
      " 1   Address        13580 non-null  object \n",
      " 2   Rooms          13580 non-null  int64  \n",
      " 3   Type           13580 non-null  object \n",
      " 4   Price          13580 non-null  float64\n",
      " 5   Method         13580 non-null  object \n",
      " 6   SellerG        13580 non-null  object \n",
      " 7   Date           13580 non-null  object \n",
      " 8   Distance       13580 non-null  float64\n",
      " 9   Postcode       13580 non-null  float64\n",
      " 10  Bedroom2       13580 non-null  float64\n",
      " 11  Bathroom       13580 non-null  float64\n",
      " 12  Car            13518 non-null  float64\n",
      " 13  Landsize       13580 non-null  float64\n",
      " 14  BuildingArea   7130 non-null   float64\n",
      " 15  YearBuilt      8205 non-null   float64\n",
      " 16  CouncilArea    12211 non-null  object \n",
      " 17  Lattitude      13580 non-null  float64\n",
      " 18  Longtitude     13580 non-null  float64\n",
      " 19  Regionname     13580 non-null  object \n",
      " 20  Propertycount  13580 non-null  float64\n",
      "dtypes: float64(12), int64(1), object(8)\n",
      "memory usage: 2.2+ MB\n"
     ]
    }
   ],
   "source": [
    "df.info()"
   ]
  },
  {
   "cell_type": "markdown",
   "id": "1c545b07",
   "metadata": {},
   "source": [
    "# Null %"
   ]
  },
  {
   "cell_type": "code",
   "execution_count": 4,
   "id": "ccc2635e",
   "metadata": {},
   "outputs": [
    {
     "data": {
      "text/plain": [
       "Suburb              0\n",
       "Address             0\n",
       "Rooms               0\n",
       "Type                0\n",
       "Price               0\n",
       "Method              0\n",
       "SellerG             0\n",
       "Date                0\n",
       "Distance            0\n",
       "Postcode            0\n",
       "Bedroom2            0\n",
       "Bathroom            0\n",
       "Car                62\n",
       "Landsize            0\n",
       "BuildingArea     6450\n",
       "YearBuilt        5375\n",
       "CouncilArea      1369\n",
       "Lattitude           0\n",
       "Longtitude          0\n",
       "Regionname          0\n",
       "Propertycount       0\n",
       "dtype: int64"
      ]
     },
     "execution_count": 4,
     "metadata": {},
     "output_type": "execute_result"
    }
   ],
   "source": [
    "df.isna().sum()"
   ]
  },
  {
   "cell_type": "code",
   "execution_count": 5,
   "id": "e3c6c21e",
   "metadata": {},
   "outputs": [
    {
     "name": "stdout",
     "output_type": "stream",
     "text": [
      "Car ==========> 0.45655375552282773 \n",
      "BuildingArea ==========> 47.49631811487481 \n",
      "YearBuilt ==========> 39.58026509572901 \n"
     ]
    }
   ],
   "source": [
    "null_cols = [\"Car\",\"BuildingArea\",\"YearBuilt\"]\n",
    "null_vals = [62,6450,5375]\n",
    "for i,j in zip(null_vals,null_cols):\n",
    "    print (f\"{j} ==========> {(((i)/13580)*100)} \" )"
   ]
  },
  {
   "cell_type": "code",
   "execution_count": 6,
   "id": "10fdb3b9",
   "metadata": {},
   "outputs": [
    {
     "data": {
      "text/html": [
       "<div>\n",
       "<style scoped>\n",
       "    .dataframe tbody tr th:only-of-type {\n",
       "        vertical-align: middle;\n",
       "    }\n",
       "\n",
       "    .dataframe tbody tr th {\n",
       "        vertical-align: top;\n",
       "    }\n",
       "\n",
       "    .dataframe thead th {\n",
       "        text-align: right;\n",
       "    }\n",
       "</style>\n",
       "<table border=\"1\" class=\"dataframe\">\n",
       "  <thead>\n",
       "    <tr style=\"text-align: right;\">\n",
       "      <th></th>\n",
       "      <th>count</th>\n",
       "      <th>mean</th>\n",
       "      <th>std</th>\n",
       "      <th>min</th>\n",
       "      <th>25%</th>\n",
       "      <th>50%</th>\n",
       "      <th>75%</th>\n",
       "      <th>max</th>\n",
       "    </tr>\n",
       "  </thead>\n",
       "  <tbody>\n",
       "    <tr>\n",
       "      <th>Rooms</th>\n",
       "      <td>13580.0</td>\n",
       "      <td>2.937997e+00</td>\n",
       "      <td>0.955748</td>\n",
       "      <td>1.00000</td>\n",
       "      <td>2.000000</td>\n",
       "      <td>3.000000</td>\n",
       "      <td>3.000000e+00</td>\n",
       "      <td>1.000000e+01</td>\n",
       "    </tr>\n",
       "    <tr>\n",
       "      <th>Price</th>\n",
       "      <td>13580.0</td>\n",
       "      <td>1.075684e+06</td>\n",
       "      <td>639310.724296</td>\n",
       "      <td>85000.00000</td>\n",
       "      <td>650000.000000</td>\n",
       "      <td>903000.000000</td>\n",
       "      <td>1.330000e+06</td>\n",
       "      <td>9.000000e+06</td>\n",
       "    </tr>\n",
       "    <tr>\n",
       "      <th>Distance</th>\n",
       "      <td>13580.0</td>\n",
       "      <td>1.013778e+01</td>\n",
       "      <td>5.868725</td>\n",
       "      <td>0.00000</td>\n",
       "      <td>6.100000</td>\n",
       "      <td>9.200000</td>\n",
       "      <td>1.300000e+01</td>\n",
       "      <td>4.810000e+01</td>\n",
       "    </tr>\n",
       "    <tr>\n",
       "      <th>Postcode</th>\n",
       "      <td>13580.0</td>\n",
       "      <td>3.105302e+03</td>\n",
       "      <td>90.676964</td>\n",
       "      <td>3000.00000</td>\n",
       "      <td>3044.000000</td>\n",
       "      <td>3084.000000</td>\n",
       "      <td>3.148000e+03</td>\n",
       "      <td>3.977000e+03</td>\n",
       "    </tr>\n",
       "    <tr>\n",
       "      <th>Bedroom2</th>\n",
       "      <td>13580.0</td>\n",
       "      <td>2.914728e+00</td>\n",
       "      <td>0.965921</td>\n",
       "      <td>0.00000</td>\n",
       "      <td>2.000000</td>\n",
       "      <td>3.000000</td>\n",
       "      <td>3.000000e+00</td>\n",
       "      <td>2.000000e+01</td>\n",
       "    </tr>\n",
       "    <tr>\n",
       "      <th>Bathroom</th>\n",
       "      <td>13580.0</td>\n",
       "      <td>1.534242e+00</td>\n",
       "      <td>0.691712</td>\n",
       "      <td>0.00000</td>\n",
       "      <td>1.000000</td>\n",
       "      <td>1.000000</td>\n",
       "      <td>2.000000e+00</td>\n",
       "      <td>8.000000e+00</td>\n",
       "    </tr>\n",
       "    <tr>\n",
       "      <th>Car</th>\n",
       "      <td>13518.0</td>\n",
       "      <td>1.610075e+00</td>\n",
       "      <td>0.962634</td>\n",
       "      <td>0.00000</td>\n",
       "      <td>1.000000</td>\n",
       "      <td>2.000000</td>\n",
       "      <td>2.000000e+00</td>\n",
       "      <td>1.000000e+01</td>\n",
       "    </tr>\n",
       "    <tr>\n",
       "      <th>Landsize</th>\n",
       "      <td>13580.0</td>\n",
       "      <td>5.584161e+02</td>\n",
       "      <td>3990.669241</td>\n",
       "      <td>0.00000</td>\n",
       "      <td>177.000000</td>\n",
       "      <td>440.000000</td>\n",
       "      <td>6.510000e+02</td>\n",
       "      <td>4.330140e+05</td>\n",
       "    </tr>\n",
       "    <tr>\n",
       "      <th>BuildingArea</th>\n",
       "      <td>7130.0</td>\n",
       "      <td>1.519676e+02</td>\n",
       "      <td>541.014538</td>\n",
       "      <td>0.00000</td>\n",
       "      <td>93.000000</td>\n",
       "      <td>126.000000</td>\n",
       "      <td>1.740000e+02</td>\n",
       "      <td>4.451500e+04</td>\n",
       "    </tr>\n",
       "    <tr>\n",
       "      <th>YearBuilt</th>\n",
       "      <td>8205.0</td>\n",
       "      <td>1.964684e+03</td>\n",
       "      <td>37.273762</td>\n",
       "      <td>1196.00000</td>\n",
       "      <td>1940.000000</td>\n",
       "      <td>1970.000000</td>\n",
       "      <td>1.999000e+03</td>\n",
       "      <td>2.018000e+03</td>\n",
       "    </tr>\n",
       "    <tr>\n",
       "      <th>Lattitude</th>\n",
       "      <td>13580.0</td>\n",
       "      <td>-3.780920e+01</td>\n",
       "      <td>0.079260</td>\n",
       "      <td>-38.18255</td>\n",
       "      <td>-37.856822</td>\n",
       "      <td>-37.802355</td>\n",
       "      <td>-3.775640e+01</td>\n",
       "      <td>-3.740853e+01</td>\n",
       "    </tr>\n",
       "    <tr>\n",
       "      <th>Longtitude</th>\n",
       "      <td>13580.0</td>\n",
       "      <td>1.449952e+02</td>\n",
       "      <td>0.103916</td>\n",
       "      <td>144.43181</td>\n",
       "      <td>144.929600</td>\n",
       "      <td>145.000100</td>\n",
       "      <td>1.450583e+02</td>\n",
       "      <td>1.455264e+02</td>\n",
       "    </tr>\n",
       "    <tr>\n",
       "      <th>Propertycount</th>\n",
       "      <td>13580.0</td>\n",
       "      <td>7.454417e+03</td>\n",
       "      <td>4378.581772</td>\n",
       "      <td>249.00000</td>\n",
       "      <td>4380.000000</td>\n",
       "      <td>6555.000000</td>\n",
       "      <td>1.033100e+04</td>\n",
       "      <td>2.165000e+04</td>\n",
       "    </tr>\n",
       "  </tbody>\n",
       "</table>\n",
       "</div>"
      ],
      "text/plain": [
       "                 count          mean            std          min  \\\n",
       "Rooms          13580.0  2.937997e+00       0.955748      1.00000   \n",
       "Price          13580.0  1.075684e+06  639310.724296  85000.00000   \n",
       "Distance       13580.0  1.013778e+01       5.868725      0.00000   \n",
       "Postcode       13580.0  3.105302e+03      90.676964   3000.00000   \n",
       "Bedroom2       13580.0  2.914728e+00       0.965921      0.00000   \n",
       "Bathroom       13580.0  1.534242e+00       0.691712      0.00000   \n",
       "Car            13518.0  1.610075e+00       0.962634      0.00000   \n",
       "Landsize       13580.0  5.584161e+02    3990.669241      0.00000   \n",
       "BuildingArea    7130.0  1.519676e+02     541.014538      0.00000   \n",
       "YearBuilt       8205.0  1.964684e+03      37.273762   1196.00000   \n",
       "Lattitude      13580.0 -3.780920e+01       0.079260    -38.18255   \n",
       "Longtitude     13580.0  1.449952e+02       0.103916    144.43181   \n",
       "Propertycount  13580.0  7.454417e+03    4378.581772    249.00000   \n",
       "\n",
       "                         25%            50%           75%           max  \n",
       "Rooms               2.000000       3.000000  3.000000e+00  1.000000e+01  \n",
       "Price          650000.000000  903000.000000  1.330000e+06  9.000000e+06  \n",
       "Distance            6.100000       9.200000  1.300000e+01  4.810000e+01  \n",
       "Postcode         3044.000000    3084.000000  3.148000e+03  3.977000e+03  \n",
       "Bedroom2            2.000000       3.000000  3.000000e+00  2.000000e+01  \n",
       "Bathroom            1.000000       1.000000  2.000000e+00  8.000000e+00  \n",
       "Car                 1.000000       2.000000  2.000000e+00  1.000000e+01  \n",
       "Landsize          177.000000     440.000000  6.510000e+02  4.330140e+05  \n",
       "BuildingArea       93.000000     126.000000  1.740000e+02  4.451500e+04  \n",
       "YearBuilt        1940.000000    1970.000000  1.999000e+03  2.018000e+03  \n",
       "Lattitude         -37.856822     -37.802355 -3.775640e+01 -3.740853e+01  \n",
       "Longtitude        144.929600     145.000100  1.450583e+02  1.455264e+02  \n",
       "Propertycount    4380.000000    6555.000000  1.033100e+04  2.165000e+04  "
      ]
     },
     "execution_count": 6,
     "metadata": {},
     "output_type": "execute_result"
    }
   ],
   "source": [
    "df.describe().T"
   ]
  },
  {
   "cell_type": "markdown",
   "id": "d9456ac8",
   "metadata": {},
   "source": [
    "# EDA"
   ]
  },
  {
   "cell_type": "code",
   "execution_count": 7,
   "id": "77664f55",
   "metadata": {},
   "outputs": [
    {
     "data": {
      "text/plain": [
       "314"
      ]
     },
     "execution_count": 7,
     "metadata": {},
     "output_type": "execute_result"
    }
   ],
   "source": [
    "# Unique Sububr\n",
    "len(df.Suburb.value_counts())"
   ]
  },
  {
   "cell_type": "code",
   "execution_count": 8,
   "id": "ea035c40",
   "metadata": {},
   "outputs": [
    {
     "name": "stdout",
     "output_type": "stream",
     "text": [
      "3     5881\n",
      "2     3648\n",
      "4     2688\n",
      "1      681\n",
      "5      596\n",
      "6       67\n",
      "7       10\n",
      "8        8\n",
      "10       1\n",
      "Name: Rooms, dtype: int64\n"
     ]
    },
    {
     "data": {
      "image/png": "[encoded data removed]",
      "text/plain": [
       "<Figure size 432x288 with 1 Axes>"
      ]
     },
     "metadata": {
      "needs_background": "light"
     },
     "output_type": "display_data"
    }
   ],
   "source": [
    "print(df.Rooms.value_counts())\n",
    "plt.hist(df.Rooms,bins=15)\n",
    "plt.show()"
   ]
  },
  {
   "cell_type": "code",
   "execution_count": 9,
   "id": "501037ba",
   "metadata": {},
   "outputs": [
    {
     "name": "stdout",
     "output_type": "stream",
     "text": [
      "h    9449\n",
      "u    3017\n",
      "t    1114\n",
      "Name: Type, dtype: int64\n"
     ]
    },
    {
     "data": {
      "image/png": "[encoded data removed]",
      "text/plain": [
       "<Figure size 432x288 with 1 Axes>"
      ]
     },
     "metadata": {
      "needs_background": "light"
     },
     "output_type": "display_data"
    }
   ],
   "source": [
    "print(df.Type.value_counts())\n",
    "\n",
    "plt.hist(df.Type)\n",
    "plt.show()"
   ]
  },
  {
   "cell_type": "code",
   "execution_count": 10,
   "id": "623e55e7",
   "metadata": {},
   "outputs": [
    {
     "name": "stdout",
     "output_type": "stream",
     "text": [
      "S     9022\n",
      "SP    1703\n",
      "PI    1564\n",
      "VB    1199\n",
      "SA      92\n",
      "Name: Method, dtype: int64\n"
     ]
    },
    {
     "data": {
      "image/png": "[encoded data removed]",
      "text/plain": [
       "<Figure size 432x288 with 1 Axes>"
      ]
     },
     "metadata": {
      "needs_background": "light"
     },
     "output_type": "display_data"
    }
   ],
   "source": [
    "print(df.Method.value_counts())\n",
    "\n",
    "sns.histplot(data=df,x=df.Method,hue=df.Type,multiple=\"dodge\",shrink=0.8)\n",
    "plt.show()"
   ]
  },
  {
   "cell_type": "code",
   "execution_count": 11,
   "id": "7475376d",
   "metadata": {},
   "outputs": [
    {
     "name": "stdout",
     "output_type": "stream",
     "text": [
      "Nelson           1565\n",
      "Jellis           1316\n",
      "hockingstuart    1167\n",
      "Barry            1011\n",
      "Ray               701\n",
      "                 ... \n",
      "Prowse              1\n",
      "Luxe                1\n",
      "Zahn                1\n",
      "Homes               1\n",
      "Point               1\n",
      "Name: SellerG, Length: 268, dtype: int64\n"
     ]
    },
    {
     "data": {
      "image/png": "[encoded data removed]",
      "text/plain": [
       "<Figure size 720x360 with 1 Axes>"
      ]
     },
     "metadata": {
      "needs_background": "light"
     },
     "output_type": "display_data"
    }
   ],
   "source": [
    "print(df.SellerG.value_counts())\n",
    "plt.figure(figsize=(10,5))\n",
    "# sns.histplot(df.SellerG,kde=True)\n",
    "# sns.histplot(df.Price,kde=True,color=\"Red\")\n",
    "sns.histplot(data=df,y=df.SellerG,x=df.Price,bins=250,kde=True,color=\"Red\")\n",
    "plt.xticks(rotation=90)\n",
    "plt.show()"
   ]
  },
  {
   "cell_type": "code",
   "execution_count": 12,
   "id": "b8c7463a",
   "metadata": {},
   "outputs": [
    {
     "name": "stdout",
     "output_type": "stream",
     "text": [
      "11.2    739\n",
      "9.2     367\n",
      "13.9    324\n",
      "7.8     306\n",
      "4.6     263\n",
      "       ... \n",
      "37.5      1\n",
      "29.3      1\n",
      "47.4      1\n",
      "39.8      1\n",
      "48.1      1\n",
      "Name: Distance, Length: 202, dtype: int64\n"
     ]
    },
    {
     "data": {
      "image/png": "[encoded data removed]",
      "text/plain": [
       "<Figure size 432x288 with 1 Axes>"
      ]
     },
     "metadata": {
      "needs_background": "light"
     },
     "output_type": "display_data"
    }
   ],
   "source": [
    "print(df.Distance.value_counts())\n",
    "sns.histplot(df.Distance,kde=True)\n",
    "plt.show()"
   ]
  },
  {
   "cell_type": "code",
   "execution_count": 13,
   "id": "504a1252",
   "metadata": {},
   "outputs": [
    {
     "name": "stdout",
     "output_type": "stream",
     "text": [
      "3073.0    359\n",
      "3020.0    306\n",
      "3121.0    292\n",
      "3040.0    290\n",
      "3046.0    284\n",
      "         ... \n",
      "3340.0      1\n",
      "3158.0      1\n",
      "3808.0      1\n",
      "3777.0      1\n",
      "3793.0      1\n",
      "Name: Postcode, Length: 198, dtype: int64\n"
     ]
    },
    {
     "data": {
      "image/png": "[encoded data removed]",
      "text/plain": [
       "<Figure size 432x288 with 1 Axes>"
      ]
     },
     "metadata": {
      "needs_background": "light"
     },
     "output_type": "display_data"
    }
   ],
   "source": [
    "print(df.Postcode.value_counts())\n",
    "sns.histplot(df.Postcode,kde=True)\n",
    "plt.show()"
   ]
  },
  {
   "cell_type": "code",
   "execution_count": 14,
   "id": "18a2eb16",
   "metadata": {},
   "outputs": [
    {
     "name": "stdout",
     "output_type": "stream",
     "text": [
      "3.0     5896\n",
      "2.0     3737\n",
      "4.0     2601\n",
      "1.0      691\n",
      "5.0      556\n",
      "6.0       63\n",
      "0.0       16\n",
      "7.0       10\n",
      "8.0        5\n",
      "9.0        3\n",
      "20.0       1\n",
      "10.0       1\n",
      "Name: Bedroom2, dtype: int64\n"
     ]
    },
    {
     "data": {
      "image/png": "[encoded data removed]",
      "text/plain": [
       "<Figure size 432x288 with 1 Axes>"
      ]
     },
     "metadata": {
      "needs_background": "light"
     },
     "output_type": "display_data"
    }
   ],
   "source": [
    "print(df.Bedroom2.value_counts())\n",
    "sns.histplot(df.Bedroom2,kde=True)\n",
    "sns.histplot(df.Bathroom,kde=True,color='Red')\n",
    "plt.show()"
   ]
  },
  {
   "cell_type": "code",
   "execution_count": 15,
   "id": "1ca2b5c9",
   "metadata": {},
   "outputs": [
    {
     "data": {
      "image/png": "[encoded data removed]",
      "text/plain": [
       "<Figure size 432x288 with 1 Axes>"
      ]
     },
     "metadata": {
      "needs_background": "light"
     },
     "output_type": "display_data"
    }
   ],
   "source": [
    "sns.histplot(df.Car,kde=True)\n",
    "plt.show()"
   ]
  },
  {
   "cell_type": "code",
   "execution_count": 16,
   "id": "6bb337b9",
   "metadata": {},
   "outputs": [
    {
     "data": {
      "image/png": "[encoded data removed]",
      "text/plain": [
       "<Figure size 432x288 with 1 Axes>"
      ]
     },
     "metadata": {
      "needs_background": "light"
     },
     "output_type": "display_data"
    }
   ],
   "source": [
    "plt.plot(df.Landsize,alpha=0.6)\n",
    "plt.plot(df.BuildingArea,color=\"Red\",alpha=0.6)\n",
    "plt.show()"
   ]
  },
  {
   "cell_type": "code",
   "execution_count": 17,
   "id": "abdc7e23",
   "metadata": {},
   "outputs": [
    {
     "data": {
      "image/png": "[encoded data removed]",
      "text/plain": [
       "<Figure size 432x288 with 1 Axes>"
      ]
     },
     "metadata": {
      "needs_background": "light"
     },
     "output_type": "display_data"
    }
   ],
   "source": [
    "plt.plot(df.Landsize,color='Red',alpha=0.6)\n",
    "plt.show()"
   ]
  },
  {
   "cell_type": "code",
   "execution_count": 18,
   "id": "23cf7f5c",
   "metadata": {},
   "outputs": [
    {
     "data": {
      "image/png": "[encoded data removed]",
      "text/plain": [
       "<Figure size 432x288 with 1 Axes>"
      ]
     },
     "metadata": {
      "needs_background": "light"
     },
     "output_type": "display_data"
    }
   ],
   "source": [
    "plt.plot(df.YearBuilt)\n",
    "plt.show()"
   ]
  },
  {
   "cell_type": "code",
   "execution_count": 19,
   "id": "f66a16f8",
   "metadata": {},
   "outputs": [
    {
     "data": {
      "image/png": "[encoded data removed]",
      "text/plain": [
       "<Figure size 432x288 with 1 Axes>"
      ]
     },
     "metadata": {
      "needs_background": "light"
     },
     "output_type": "display_data"
    }
   ],
   "source": [
    "sns.histplot(df.Regionname,kde=True)\n",
    "plt.xticks(rotation=90)\n",
    "plt.show()"
   ]
  },
  {
   "cell_type": "code",
   "execution_count": 20,
   "id": "2fe7ea44",
   "metadata": {},
   "outputs": [
    {
     "data": {
      "image/png": "[encoded data removed]",
      "text/plain": [
       "<Figure size 432x288 with 1 Axes>"
      ]
     },
     "metadata": {
      "needs_background": "light"
     },
     "output_type": "display_data"
    }
   ],
   "source": [
    "sns.histplot(df.Propertycount,kde=True)\n",
    "plt.show()"
   ]
  },
  {
   "cell_type": "markdown",
   "id": "4f7e8564",
   "metadata": {},
   "source": [
    "# Droping cols"
   ]
  },
  {
   "cell_type": "code",
   "execution_count": 21,
   "id": "b5700c56",
   "metadata": {},
   "outputs": [
    {
     "data": {
      "text/html": [
       "<div>\n",
       "<style scoped>\n",
       "    .dataframe tbody tr th:only-of-type {\n",
       "        vertical-align: middle;\n",
       "    }\n",
       "\n",
       "    .dataframe tbody tr th {\n",
       "        vertical-align: top;\n",
       "    }\n",
       "\n",
       "    .dataframe thead th {\n",
       "        text-align: right;\n",
       "    }\n",
       "</style>\n",
       "<table border=\"1\" class=\"dataframe\">\n",
       "  <thead>\n",
       "    <tr style=\"text-align: right;\">\n",
       "      <th></th>\n",
       "      <th>Suburb</th>\n",
       "      <th>Rooms</th>\n",
       "      <th>Type</th>\n",
       "      <th>Price</th>\n",
       "      <th>Method</th>\n",
       "      <th>SellerG</th>\n",
       "      <th>Date</th>\n",
       "      <th>Distance</th>\n",
       "      <th>Postcode</th>\n",
       "      <th>Bedroom2</th>\n",
       "      <th>Bathroom</th>\n",
       "      <th>Car</th>\n",
       "      <th>Landsize</th>\n",
       "      <th>BuildingArea</th>\n",
       "      <th>YearBuilt</th>\n",
       "      <th>Regionname</th>\n",
       "      <th>Propertycount</th>\n",
       "    </tr>\n",
       "  </thead>\n",
       "  <tbody>\n",
       "    <tr>\n",
       "      <th>0</th>\n",
       "      <td>Abbotsford</td>\n",
       "      <td>2</td>\n",
       "      <td>h</td>\n",
       "      <td>1480000.0</td>\n",
       "      <td>S</td>\n",
       "      <td>Biggin</td>\n",
       "      <td>3/12/2016</td>\n",
       "      <td>2.5</td>\n",
       "      <td>3067.0</td>\n",
       "      <td>2.0</td>\n",
       "      <td>1.0</td>\n",
       "      <td>1.0</td>\n",
       "      <td>202.0</td>\n",
       "      <td>NaN</td>\n",
       "      <td>NaN</td>\n",
       "      <td>Northern Metropolitan</td>\n",
       "      <td>4019.0</td>\n",
       "    </tr>\n",
       "    <tr>\n",
       "      <th>1</th>\n",
       "      <td>Abbotsford</td>\n",
       "      <td>2</td>\n",
       "      <td>h</td>\n",
       "      <td>1035000.0</td>\n",
       "      <td>S</td>\n",
       "      <td>Biggin</td>\n",
       "      <td>4/02/2016</td>\n",
       "      <td>2.5</td>\n",
       "      <td>3067.0</td>\n",
       "      <td>2.0</td>\n",
       "      <td>1.0</td>\n",
       "      <td>0.0</td>\n",
       "      <td>156.0</td>\n",
       "      <td>79.0</td>\n",
       "      <td>1900.0</td>\n",
       "      <td>Northern Metropolitan</td>\n",
       "      <td>4019.0</td>\n",
       "    </tr>\n",
       "    <tr>\n",
       "      <th>2</th>\n",
       "      <td>Abbotsford</td>\n",
       "      <td>3</td>\n",
       "      <td>h</td>\n",
       "      <td>1465000.0</td>\n",
       "      <td>SP</td>\n",
       "      <td>Biggin</td>\n",
       "      <td>4/03/2017</td>\n",
       "      <td>2.5</td>\n",
       "      <td>3067.0</td>\n",
       "      <td>3.0</td>\n",
       "      <td>2.0</td>\n",
       "      <td>0.0</td>\n",
       "      <td>134.0</td>\n",
       "      <td>150.0</td>\n",
       "      <td>1900.0</td>\n",
       "      <td>Northern Metropolitan</td>\n",
       "      <td>4019.0</td>\n",
       "    </tr>\n",
       "    <tr>\n",
       "      <th>3</th>\n",
       "      <td>Abbotsford</td>\n",
       "      <td>3</td>\n",
       "      <td>h</td>\n",
       "      <td>850000.0</td>\n",
       "      <td>PI</td>\n",
       "      <td>Biggin</td>\n",
       "      <td>4/03/2017</td>\n",
       "      <td>2.5</td>\n",
       "      <td>3067.0</td>\n",
       "      <td>3.0</td>\n",
       "      <td>2.0</td>\n",
       "      <td>1.0</td>\n",
       "      <td>94.0</td>\n",
       "      <td>NaN</td>\n",
       "      <td>NaN</td>\n",
       "      <td>Northern Metropolitan</td>\n",
       "      <td>4019.0</td>\n",
       "    </tr>\n",
       "    <tr>\n",
       "      <th>4</th>\n",
       "      <td>Abbotsford</td>\n",
       "      <td>4</td>\n",
       "      <td>h</td>\n",
       "      <td>1600000.0</td>\n",
       "      <td>VB</td>\n",
       "      <td>Nelson</td>\n",
       "      <td>4/06/2016</td>\n",
       "      <td>2.5</td>\n",
       "      <td>3067.0</td>\n",
       "      <td>3.0</td>\n",
       "      <td>1.0</td>\n",
       "      <td>2.0</td>\n",
       "      <td>120.0</td>\n",
       "      <td>142.0</td>\n",
       "      <td>2014.0</td>\n",
       "      <td>Northern Metropolitan</td>\n",
       "      <td>4019.0</td>\n",
       "    </tr>\n",
       "    <tr>\n",
       "      <th>...</th>\n",
       "      <td>...</td>\n",
       "      <td>...</td>\n",
       "      <td>...</td>\n",
       "      <td>...</td>\n",
       "      <td>...</td>\n",
       "      <td>...</td>\n",
       "      <td>...</td>\n",
       "      <td>...</td>\n",
       "      <td>...</td>\n",
       "      <td>...</td>\n",
       "      <td>...</td>\n",
       "      <td>...</td>\n",
       "      <td>...</td>\n",
       "      <td>...</td>\n",
       "      <td>...</td>\n",
       "      <td>...</td>\n",
       "      <td>...</td>\n",
       "    </tr>\n",
       "    <tr>\n",
       "      <th>13575</th>\n",
       "      <td>Wheelers Hill</td>\n",
       "      <td>4</td>\n",
       "      <td>h</td>\n",
       "      <td>1245000.0</td>\n",
       "      <td>S</td>\n",
       "      <td>Barry</td>\n",
       "      <td>26/08/2017</td>\n",
       "      <td>16.7</td>\n",
       "      <td>3150.0</td>\n",
       "      <td>4.0</td>\n",
       "      <td>2.0</td>\n",
       "      <td>2.0</td>\n",
       "      <td>652.0</td>\n",
       "      <td>NaN</td>\n",
       "      <td>1981.0</td>\n",
       "      <td>South-Eastern Metropolitan</td>\n",
       "      <td>7392.0</td>\n",
       "    </tr>\n",
       "    <tr>\n",
       "      <th>13576</th>\n",
       "      <td>Williamstown</td>\n",
       "      <td>3</td>\n",
       "      <td>h</td>\n",
       "      <td>1031000.0</td>\n",
       "      <td>SP</td>\n",
       "      <td>Williams</td>\n",
       "      <td>26/08/2017</td>\n",
       "      <td>6.8</td>\n",
       "      <td>3016.0</td>\n",
       "      <td>3.0</td>\n",
       "      <td>2.0</td>\n",
       "      <td>2.0</td>\n",
       "      <td>333.0</td>\n",
       "      <td>133.0</td>\n",
       "      <td>1995.0</td>\n",
       "      <td>Western Metropolitan</td>\n",
       "      <td>6380.0</td>\n",
       "    </tr>\n",
       "    <tr>\n",
       "      <th>13577</th>\n",
       "      <td>Williamstown</td>\n",
       "      <td>3</td>\n",
       "      <td>h</td>\n",
       "      <td>1170000.0</td>\n",
       "      <td>S</td>\n",
       "      <td>Raine</td>\n",
       "      <td>26/08/2017</td>\n",
       "      <td>6.8</td>\n",
       "      <td>3016.0</td>\n",
       "      <td>3.0</td>\n",
       "      <td>2.0</td>\n",
       "      <td>4.0</td>\n",
       "      <td>436.0</td>\n",
       "      <td>NaN</td>\n",
       "      <td>1997.0</td>\n",
       "      <td>Western Metropolitan</td>\n",
       "      <td>6380.0</td>\n",
       "    </tr>\n",
       "    <tr>\n",
       "      <th>13578</th>\n",
       "      <td>Williamstown</td>\n",
       "      <td>4</td>\n",
       "      <td>h</td>\n",
       "      <td>2500000.0</td>\n",
       "      <td>PI</td>\n",
       "      <td>Sweeney</td>\n",
       "      <td>26/08/2017</td>\n",
       "      <td>6.8</td>\n",
       "      <td>3016.0</td>\n",
       "      <td>4.0</td>\n",
       "      <td>1.0</td>\n",
       "      <td>5.0</td>\n",
       "      <td>866.0</td>\n",
       "      <td>157.0</td>\n",
       "      <td>1920.0</td>\n",
       "      <td>Western Metropolitan</td>\n",
       "      <td>6380.0</td>\n",
       "    </tr>\n",
       "    <tr>\n",
       "      <th>13579</th>\n",
       "      <td>Yarraville</td>\n",
       "      <td>4</td>\n",
       "      <td>h</td>\n",
       "      <td>1285000.0</td>\n",
       "      <td>SP</td>\n",
       "      <td>Village</td>\n",
       "      <td>26/08/2017</td>\n",
       "      <td>6.3</td>\n",
       "      <td>3013.0</td>\n",
       "      <td>4.0</td>\n",
       "      <td>1.0</td>\n",
       "      <td>1.0</td>\n",
       "      <td>362.0</td>\n",
       "      <td>112.0</td>\n",
       "      <td>1920.0</td>\n",
       "      <td>Western Metropolitan</td>\n",
       "      <td>6543.0</td>\n",
       "    </tr>\n",
       "  </tbody>\n",
       "</table>\n",
       "<p>13580 rows × 17 columns</p>\n",
       "</div>"
      ],
      "text/plain": [
       "              Suburb  Rooms Type      Price Method   SellerG        Date  \\\n",
       "0         Abbotsford      2    h  1480000.0      S    Biggin   3/12/2016   \n",
       "1         Abbotsford      2    h  1035000.0      S    Biggin   4/02/2016   \n",
       "2         Abbotsford      3    h  1465000.0     SP    Biggin   4/03/2017   \n",
       "3         Abbotsford      3    h   850000.0     PI    Biggin   4/03/2017   \n",
       "4         Abbotsford      4    h  1600000.0     VB    Nelson   4/06/2016   \n",
       "...              ...    ...  ...        ...    ...       ...         ...   \n",
       "13575  Wheelers Hill      4    h  1245000.0      S     Barry  26/08/2017   \n",
       "13576   Williamstown      3    h  1031000.0     SP  Williams  26/08/2017   \n",
       "13577   Williamstown      3    h  1170000.0      S     Raine  26/08/2017   \n",
       "13578   Williamstown      4    h  2500000.0     PI   Sweeney  26/08/2017   \n",
       "13579     Yarraville      4    h  1285000.0     SP   Village  26/08/2017   \n",
       "\n",
       "       Distance  Postcode  Bedroom2  Bathroom  Car  Landsize  BuildingArea  \\\n",
       "0           2.5    3067.0       2.0       1.0  1.0     202.0           NaN   \n",
       "1           2.5    3067.0       2.0       1.0  0.0     156.0          79.0   \n",
       "2           2.5    3067.0       3.0       2.0  0.0     134.0         150.0   \n",
       "3           2.5    3067.0       3.0       2.0  1.0      94.0           NaN   \n",
       "4           2.5    3067.0       3.0       1.0  2.0     120.0         142.0   \n",
       "...         ...       ...       ...       ...  ...       ...           ...   \n",
       "13575      16.7    3150.0       4.0       2.0  2.0     652.0           NaN   \n",
       "13576       6.8    3016.0       3.0       2.0  2.0     333.0         133.0   \n",
       "13577       6.8    3016.0       3.0       2.0  4.0     436.0           NaN   \n",
       "13578       6.8    3016.0       4.0       1.0  5.0     866.0         157.0   \n",
       "13579       6.3    3013.0       4.0       1.0  1.0     362.0         112.0   \n",
       "\n",
       "       YearBuilt                  Regionname  Propertycount  \n",
       "0            NaN       Northern Metropolitan         4019.0  \n",
       "1         1900.0       Northern Metropolitan         4019.0  \n",
       "2         1900.0       Northern Metropolitan         4019.0  \n",
       "3            NaN       Northern Metropolitan         4019.0  \n",
       "4         2014.0       Northern Metropolitan         4019.0  \n",
       "...          ...                         ...            ...  \n",
       "13575     1981.0  South-Eastern Metropolitan         7392.0  \n",
       "13576     1995.0        Western Metropolitan         6380.0  \n",
       "13577     1997.0        Western Metropolitan         6380.0  \n",
       "13578     1920.0        Western Metropolitan         6380.0  \n",
       "13579     1920.0        Western Metropolitan         6543.0  \n",
       "\n",
       "[13580 rows x 17 columns]"
      ]
     },
     "execution_count": 21,
     "metadata": {},
     "output_type": "execute_result"
    }
   ],
   "source": [
    "# address,council area,lat,long\n",
    "df.drop(columns=df[[\"Address\",\"CouncilArea\",\"Lattitude\",\"Longtitude\"]],axis=1,inplace=True)\n",
    "df"
   ]
  },
  {
   "cell_type": "markdown",
   "id": "ce1f4887",
   "metadata": {},
   "source": [
    "# Outliers"
   ]
  },
  {
   "cell_type": "code",
   "execution_count": 22,
   "id": "6986618d",
   "metadata": {},
   "outputs": [
    {
     "data": {
      "image/png": "[encoded data removed]",
      "text/plain": [
       "<Figure size 432x288 with 1 Axes>"
      ]
     },
     "metadata": {
      "needs_background": "light"
     },
     "output_type": "display_data"
    }
   ],
   "source": [
    "sns.boxplot(data=df,x=\"Propertycount\",y=\"Type\")\n",
    "plt.grid()"
   ]
  },
  {
   "cell_type": "code",
   "execution_count": 23,
   "id": "51e20395",
   "metadata": {
    "scrolled": false
   },
   "outputs": [],
   "source": [
    "out1 = df[ (df.Propertycount > 17000) & (df.Type == \"h\") ].index\n",
    "df.drop(out1,inplace=True)"
   ]
  },
  {
   "cell_type": "code",
   "execution_count": 24,
   "id": "fbfeffd4",
   "metadata": {
    "scrolled": false
   },
   "outputs": [],
   "source": [
    "out2 = df[ (df.Propertycount > 20000) & (df.Type == \"u\") ].index\n",
    "df.drop(out2,inplace=True)"
   ]
  },
  {
   "cell_type": "code",
   "execution_count": 25,
   "id": "a6231762",
   "metadata": {
    "scrolled": true
   },
   "outputs": [],
   "source": [
    "out3 = df[ (df.Propertycount > 20000) & (df.Type == \"t\") ].index\n",
    "df.drop(out3,inplace=True)"
   ]
  },
  {
   "cell_type": "code",
   "execution_count": 26,
   "id": "370ed7aa",
   "metadata": {
    "scrolled": false
   },
   "outputs": [
    {
     "data": {
      "image/png": "[encoded data removed]",
      "text/plain": [
       "<Figure size 432x288 with 1 Axes>"
      ]
     },
     "metadata": {
      "needs_background": "light"
     },
     "output_type": "display_data"
    }
   ],
   "source": [
    "sns.boxplot(data=df,x=\"Propertycount\",y=\"Method\")\n",
    "plt.grid()"
   ]
  },
  {
   "cell_type": "code",
   "execution_count": 27,
   "id": "4de30d58",
   "metadata": {},
   "outputs": [],
   "source": [
    "out4 = df[ (df.Propertycount > 16000) & (df.Method == \"S\") ].index\n",
    "df.drop(out4,inplace=True)"
   ]
  },
  {
   "cell_type": "code",
   "execution_count": 28,
   "id": "f6e96b7d",
   "metadata": {},
   "outputs": [],
   "source": [
    "out5 = df[ (df.Propertycount > 16000) & (df.Method == \"SP\") ].index\n",
    "df.drop(out5,inplace=True)"
   ]
  },
  {
   "cell_type": "code",
   "execution_count": 29,
   "id": "8da80639",
   "metadata": {},
   "outputs": [],
   "source": [
    "out6 = df[ (df.Propertycount > 16000) & (df.Method == \"VB\") ].index\n",
    "df.drop(out6,inplace=True)"
   ]
  },
  {
   "cell_type": "code",
   "execution_count": 30,
   "id": "64d358a8",
   "metadata": {},
   "outputs": [],
   "source": [
    "out7 = df[ (df.Propertycount > 14000) & (df.Method == \"SA\") ].index\n",
    "df.drop(out7,inplace=True)"
   ]
  },
  {
   "cell_type": "code",
   "execution_count": 31,
   "id": "be9e53b5",
   "metadata": {},
   "outputs": [],
   "source": [
    "# sns.pairplot(df)\n",
    "# plt.grid()"
   ]
  },
  {
   "cell_type": "markdown",
   "id": "c3604260",
   "metadata": {},
   "source": [
    "# Handling Missing Values"
   ]
  },
  {
   "cell_type": "code",
   "execution_count": 32,
   "id": "fe3791f1",
   "metadata": {},
   "outputs": [],
   "source": [
    "df.fillna(value=np.NaN,inplace=True)"
   ]
  },
  {
   "cell_type": "code",
   "execution_count": 33,
   "id": "0c19ee47",
   "metadata": {
    "scrolled": false
   },
   "outputs": [
    {
     "data": {
      "text/plain": [
       "Suburb              0\n",
       "Rooms               0\n",
       "Type                0\n",
       "Price               0\n",
       "Method              0\n",
       "SellerG             0\n",
       "Date                0\n",
       "Distance            0\n",
       "Postcode            0\n",
       "Bedroom2            0\n",
       "Bathroom            0\n",
       "Car                62\n",
       "Landsize            0\n",
       "BuildingArea     6210\n",
       "YearBuilt        5172\n",
       "Regionname          0\n",
       "Propertycount       0\n",
       "dtype: int64"
      ]
     },
     "execution_count": 33,
     "metadata": {},
     "output_type": "execute_result"
    }
   ],
   "source": [
    "df.isna().sum()"
   ]
  },
  {
   "cell_type": "code",
   "execution_count": 34,
   "id": "65157629",
   "metadata": {},
   "outputs": [],
   "source": [
    "# Car\n",
    "df.dropna(subset=\"Car\",inplace=True)"
   ]
  },
  {
   "cell_type": "code",
   "execution_count": 35,
   "id": "d5d3873a",
   "metadata": {
    "scrolled": true
   },
   "outputs": [
    {
     "data": {
      "image/png": "[encoded data removed]",
      "text/plain": [
       "<Figure size 432x288 with 1 Axes>"
      ]
     },
     "metadata": {
      "needs_background": "light"
     },
     "output_type": "display_data"
    }
   ],
   "source": [
    "plt.plot(df.Landsize)\n",
    "plt.grid()"
   ]
  },
  {
   "cell_type": "code",
   "execution_count": 36,
   "id": "943110b7",
   "metadata": {},
   "outputs": [],
   "source": [
    "# # Getting mean of BuildingArea depending upon the LandSize[0:2000:4000:6000:...] for filling BuildingArea\n",
    "# l1 = [x for x in range(0,14000,2000)]\n",
    "# l2 = [x for x in range(2000,16000,2000)]\n",
    "# mean_list = []\n",
    "\n",
    "# for i,j in zip(l1,l2):\n",
    "#     sample = df[ (df.Landsize > i) & (df.Landsize < j)]\n",
    "#     mean_list.append(sample.BuildingArea.mean())"
   ]
  },
  {
   "cell_type": "code",
   "execution_count": 37,
   "id": "62783b55",
   "metadata": {},
   "outputs": [],
   "source": [
    "# Getting mean of BuildingArea depending upon the LandSize[0:2000:4000:6000:...] for filling BuildingArea\n",
    "\n",
    "    \n",
    "# -- Getting Values for Replacing\n",
    "l1 = [x for x in range(0,14000,2000)]\n",
    "l2 = [x for x in range(2000,16000,2000)]\n",
    "mean_list = []\n",
    "\n",
    "for i,j in zip(l1,l2):\n",
    "    sample = df[ (df.Landsize > i) & (df.Landsize < j)]\n",
    "    mean_list.append(sample.BuildingArea.mean())\n",
    "\n",
    "\n",
    "# -- Replacing\n",
    "def Get_BuildingArea(val):\n",
    "    BuildingArea = val[0]\n",
    "    LandSize = val[1]\n",
    "    \n",
    "    if(pd.isna(BuildingArea)):\n",
    "        if (LandSize < 2000):\n",
    "            return mean_list[0]\n",
    "        \n",
    "        elif (LandSize < 4000):\n",
    "            return mean_list[1]\n",
    "        \n",
    "        elif (LandSize < 6000):\n",
    "            return mean_list[2]\n",
    "        \n",
    "        elif (LandSize < 8000):\n",
    "            return mean_list[3]\n",
    "        \n",
    "        elif (LandSize < 10000):\n",
    "            return mean_list[4]\n",
    "        \n",
    "        else: \n",
    "            return np.mean(mean_list[:5])\n",
    "   \n",
    "    \n",
    "    else:\n",
    "        return BuildingArea\n",
    "    \n",
    "    "
   ]
  },
  {
   "cell_type": "code",
   "execution_count": 38,
   "id": "0abb784d",
   "metadata": {},
   "outputs": [],
   "source": [
    "df.BuildingArea = df[[\"BuildingArea\",\"Landsize\"]].apply(Get_BuildingArea,axis=1)\n"
   ]
  },
  {
   "cell_type": "code",
   "execution_count": 39,
   "id": "dc30ba9d",
   "metadata": {},
   "outputs": [
    {
     "data": {
      "text/plain": [
       "Suburb              0\n",
       "Rooms               0\n",
       "Type                0\n",
       "Price               0\n",
       "Method              0\n",
       "SellerG             0\n",
       "Date                0\n",
       "Distance            0\n",
       "Postcode            0\n",
       "Bedroom2            0\n",
       "Bathroom            0\n",
       "Car                 0\n",
       "Landsize            0\n",
       "BuildingArea        0\n",
       "YearBuilt        5141\n",
       "Regionname          0\n",
       "Propertycount       0\n",
       "dtype: int64"
      ]
     },
     "execution_count": 39,
     "metadata": {},
     "output_type": "execute_result"
    }
   ],
   "source": [
    "df.isna().sum()"
   ]
  },
  {
   "cell_type": "code",
   "execution_count": 40,
   "id": "a5790958",
   "metadata": {},
   "outputs": [
    {
     "data": {
      "image/png": "[encoded data removed]",
      "text/plain": [
       "<Figure size 432x288 with 1 Axes>"
      ]
     },
     "metadata": {
      "needs_background": "light"
     },
     "output_type": "display_data"
    }
   ],
   "source": [
    "# YearBuilt will be replaced with mean of yearbuilt with same postcode assuming that the area has the same years of building\n",
    "plt.plot(df.Postcode)\n",
    "plt.grid()"
   ]
  },
  {
   "cell_type": "code",
   "execution_count": 41,
   "id": "9dc41840",
   "metadata": {},
   "outputs": [],
   "source": [
    "# YearBuilt will be replaced with mean of yearbuilt with same postcode assuming that the area has the same years of building\n",
    "\n",
    "    \n",
    "# -- Geting Values for Replacement\n",
    "PostCode_List = df.Postcode.unique()\n",
    "\n",
    "PostCode_mean_list = {}\n",
    "\n",
    "for i in PostCode_List:\n",
    "    sample = df[df.Postcode == i]\n",
    "    PostCode_mean_list[i] = (sample.YearBuilt.mean())\n",
    "\n",
    "# -- Replacing\n",
    "def Get_YearBuilt(val):\n",
    "    Postcode = val[0]\n",
    "    YearBuilt = val[1]\n",
    "    \n",
    "    if(pd.isna(YearBuilt)):\n",
    "        return PostCode_mean_list[Postcode]\n",
    "\n",
    "    else:\n",
    "        return YearBuilt"
   ]
  },
  {
   "cell_type": "code",
   "execution_count": 42,
   "id": "fc97a1fa",
   "metadata": {},
   "outputs": [
    {
     "data": {
      "text/plain": [
       "1945.1842105263158"
      ]
     },
     "execution_count": 42,
     "metadata": {},
     "output_type": "execute_result"
    }
   ],
   "source": [
    "# Checking Function\n",
    "Get_YearBuilt([3067,np.NaN])"
   ]
  },
  {
   "cell_type": "code",
   "execution_count": 43,
   "id": "e4239d4d",
   "metadata": {},
   "outputs": [],
   "source": [
    "df.YearBuilt = df[[\"Postcode\",\"YearBuilt\"]].apply(Get_YearBuilt,axis=1)"
   ]
  },
  {
   "cell_type": "code",
   "execution_count": 44,
   "id": "f36d969b",
   "metadata": {},
   "outputs": [],
   "source": [
    "df[\"YearBuilt\"].replace(to_replace=np.NaN,value=df.YearBuilt.mean(),inplace=True)"
   ]
  },
  {
   "cell_type": "code",
   "execution_count": 45,
   "id": "1516aa52",
   "metadata": {},
   "outputs": [],
   "source": [
    "df.YearBuilt = df[[\"YearBuilt\"]].apply(round,axis=1)"
   ]
  },
  {
   "cell_type": "code",
   "execution_count": 46,
   "id": "adc84d78",
   "metadata": {
    "scrolled": true
   },
   "outputs": [
    {
     "data": {
      "text/plain": [
       "Suburb           0\n",
       "Rooms            0\n",
       "Type             0\n",
       "Price            0\n",
       "Method           0\n",
       "SellerG          0\n",
       "Date             0\n",
       "Distance         0\n",
       "Postcode         0\n",
       "Bedroom2         0\n",
       "Bathroom         0\n",
       "Car              0\n",
       "Landsize         0\n",
       "BuildingArea     0\n",
       "YearBuilt        0\n",
       "Regionname       0\n",
       "Propertycount    0\n",
       "dtype: int64"
      ]
     },
     "execution_count": 46,
     "metadata": {},
     "output_type": "execute_result"
    }
   ],
   "source": [
    "df.isna().sum()"
   ]
  },
  {
   "cell_type": "markdown",
   "id": "e0904a68",
   "metadata": {},
   "source": [
    "# Cleaned DataFrame"
   ]
  },
  {
   "cell_type": "code",
   "execution_count": 47,
   "id": "6b92844a",
   "metadata": {},
   "outputs": [
    {
     "data": {
      "text/html": [
       "<div>\n",
       "<style scoped>\n",
       "    .dataframe tbody tr th:only-of-type {\n",
       "        vertical-align: middle;\n",
       "    }\n",
       "\n",
       "    .dataframe tbody tr th {\n",
       "        vertical-align: top;\n",
       "    }\n",
       "\n",
       "    .dataframe thead th {\n",
       "        text-align: right;\n",
       "    }\n",
       "</style>\n",
       "<table border=\"1\" class=\"dataframe\">\n",
       "  <thead>\n",
       "    <tr style=\"text-align: right;\">\n",
       "      <th></th>\n",
       "      <th>2041</th>\n",
       "      <th>3766</th>\n",
       "      <th>5017</th>\n",
       "      <th>881</th>\n",
       "      <th>7989</th>\n",
       "    </tr>\n",
       "  </thead>\n",
       "  <tbody>\n",
       "    <tr>\n",
       "      <th>Suburb</th>\n",
       "      <td>Coburg North</td>\n",
       "      <td>Maidstone</td>\n",
       "      <td>Preston</td>\n",
       "      <td>Bentleigh East</td>\n",
       "      <td>Heidelberg West</td>\n",
       "    </tr>\n",
       "    <tr>\n",
       "      <th>Rooms</th>\n",
       "      <td>4</td>\n",
       "      <td>2</td>\n",
       "      <td>3</td>\n",
       "      <td>3</td>\n",
       "      <td>3</td>\n",
       "    </tr>\n",
       "    <tr>\n",
       "      <th>Type</th>\n",
       "      <td>h</td>\n",
       "      <td>h</td>\n",
       "      <td>h</td>\n",
       "      <td>h</td>\n",
       "      <td>h</td>\n",
       "    </tr>\n",
       "    <tr>\n",
       "      <th>Price</th>\n",
       "      <td>820000.0</td>\n",
       "      <td>830000.0</td>\n",
       "      <td>1030000.0</td>\n",
       "      <td>1189000.0</td>\n",
       "      <td>855000.0</td>\n",
       "    </tr>\n",
       "    <tr>\n",
       "      <th>Method</th>\n",
       "      <td>SP</td>\n",
       "      <td>S</td>\n",
       "      <td>S</td>\n",
       "      <td>S</td>\n",
       "      <td>S</td>\n",
       "    </tr>\n",
       "    <tr>\n",
       "      <th>SellerG</th>\n",
       "      <td>Brad</td>\n",
       "      <td>Rendina</td>\n",
       "      <td>Love</td>\n",
       "      <td>hockingstuart</td>\n",
       "      <td>Barry</td>\n",
       "    </tr>\n",
       "    <tr>\n",
       "      <th>Date</th>\n",
       "      <td>4/03/2017</td>\n",
       "      <td>27/11/2016</td>\n",
       "      <td>28/05/2016</td>\n",
       "      <td>17/09/2016</td>\n",
       "      <td>8/04/2017</td>\n",
       "    </tr>\n",
       "    <tr>\n",
       "      <th>Distance</th>\n",
       "      <td>9.2</td>\n",
       "      <td>9.2</td>\n",
       "      <td>8.8</td>\n",
       "      <td>13.9</td>\n",
       "      <td>9.4</td>\n",
       "    </tr>\n",
       "    <tr>\n",
       "      <th>Postcode</th>\n",
       "      <td>3058.0</td>\n",
       "      <td>3012.0</td>\n",
       "      <td>3072.0</td>\n",
       "      <td>3165.0</td>\n",
       "      <td>3081.0</td>\n",
       "    </tr>\n",
       "    <tr>\n",
       "      <th>Bedroom2</th>\n",
       "      <td>4.0</td>\n",
       "      <td>2.0</td>\n",
       "      <td>3.0</td>\n",
       "      <td>4.0</td>\n",
       "      <td>3.0</td>\n",
       "    </tr>\n",
       "    <tr>\n",
       "      <th>Bathroom</th>\n",
       "      <td>1.0</td>\n",
       "      <td>1.0</td>\n",
       "      <td>2.0</td>\n",
       "      <td>2.0</td>\n",
       "      <td>1.0</td>\n",
       "    </tr>\n",
       "    <tr>\n",
       "      <th>Car</th>\n",
       "      <td>3.0</td>\n",
       "      <td>2.0</td>\n",
       "      <td>3.0</td>\n",
       "      <td>2.0</td>\n",
       "      <td>2.0</td>\n",
       "    </tr>\n",
       "    <tr>\n",
       "      <th>Landsize</th>\n",
       "      <td>498.0</td>\n",
       "      <td>318.0</td>\n",
       "      <td>427.0</td>\n",
       "      <td>337.0</td>\n",
       "      <td>658.0</td>\n",
       "    </tr>\n",
       "    <tr>\n",
       "      <th>BuildingArea</th>\n",
       "      <td>157.707259</td>\n",
       "      <td>157.707259</td>\n",
       "      <td>157.707259</td>\n",
       "      <td>157.707259</td>\n",
       "      <td>99.0</td>\n",
       "    </tr>\n",
       "    <tr>\n",
       "      <th>YearBuilt</th>\n",
       "      <td>1956.0</td>\n",
       "      <td>1963.0</td>\n",
       "      <td>1955.0</td>\n",
       "      <td>2010.0</td>\n",
       "      <td>1960.0</td>\n",
       "    </tr>\n",
       "    <tr>\n",
       "      <th>Regionname</th>\n",
       "      <td>Northern Metropolitan</td>\n",
       "      <td>Western Metropolitan</td>\n",
       "      <td>Northern Metropolitan</td>\n",
       "      <td>Southern Metropolitan</td>\n",
       "      <td>Eastern Metropolitan</td>\n",
       "    </tr>\n",
       "    <tr>\n",
       "      <th>Propertycount</th>\n",
       "      <td>3445.0</td>\n",
       "      <td>3873.0</td>\n",
       "      <td>14577.0</td>\n",
       "      <td>10969.0</td>\n",
       "      <td>2674.0</td>\n",
       "    </tr>\n",
       "  </tbody>\n",
       "</table>\n",
       "</div>"
      ],
      "text/plain": [
       "                                2041                  3766  \\\n",
       "Suburb                  Coburg North             Maidstone   \n",
       "Rooms                              4                     2   \n",
       "Type                               h                     h   \n",
       "Price                       820000.0              830000.0   \n",
       "Method                            SP                     S   \n",
       "SellerG                         Brad               Rendina   \n",
       "Date                       4/03/2017            27/11/2016   \n",
       "Distance                         9.2                   9.2   \n",
       "Postcode                      3058.0                3012.0   \n",
       "Bedroom2                         4.0                   2.0   \n",
       "Bathroom                         1.0                   1.0   \n",
       "Car                              3.0                   2.0   \n",
       "Landsize                       498.0                 318.0   \n",
       "BuildingArea              157.707259            157.707259   \n",
       "YearBuilt                     1956.0                1963.0   \n",
       "Regionname     Northern Metropolitan  Western Metropolitan   \n",
       "Propertycount                 3445.0                3873.0   \n",
       "\n",
       "                                5017                   881   \\\n",
       "Suburb                       Preston         Bentleigh East   \n",
       "Rooms                              3                      3   \n",
       "Type                               h                      h   \n",
       "Price                      1030000.0              1189000.0   \n",
       "Method                             S                      S   \n",
       "SellerG                         Love          hockingstuart   \n",
       "Date                      28/05/2016             17/09/2016   \n",
       "Distance                         8.8                   13.9   \n",
       "Postcode                      3072.0                 3165.0   \n",
       "Bedroom2                         3.0                    4.0   \n",
       "Bathroom                         2.0                    2.0   \n",
       "Car                              3.0                    2.0   \n",
       "Landsize                       427.0                  337.0   \n",
       "BuildingArea              157.707259             157.707259   \n",
       "YearBuilt                     1955.0                 2010.0   \n",
       "Regionname     Northern Metropolitan  Southern Metropolitan   \n",
       "Propertycount                14577.0                10969.0   \n",
       "\n",
       "                               7989  \n",
       "Suburb              Heidelberg West  \n",
       "Rooms                             3  \n",
       "Type                              h  \n",
       "Price                      855000.0  \n",
       "Method                            S  \n",
       "SellerG                       Barry  \n",
       "Date                      8/04/2017  \n",
       "Distance                        9.4  \n",
       "Postcode                     3081.0  \n",
       "Bedroom2                        3.0  \n",
       "Bathroom                        1.0  \n",
       "Car                             2.0  \n",
       "Landsize                      658.0  \n",
       "BuildingArea                   99.0  \n",
       "YearBuilt                    1960.0  \n",
       "Regionname     Eastern Metropolitan  \n",
       "Propertycount                2674.0  "
      ]
     },
     "execution_count": 47,
     "metadata": {},
     "output_type": "execute_result"
    }
   ],
   "source": [
    "df.sample(5).T"
   ]
  },
  {
   "cell_type": "markdown",
   "id": "f1834aa6",
   "metadata": {},
   "source": [
    "# Feature Engineering (Date)"
   ]
  },
  {
   "cell_type": "code",
   "execution_count": 48,
   "id": "6070b0e5",
   "metadata": {},
   "outputs": [],
   "source": [
    "df.Date = pd.to_datetime(df.Date)"
   ]
  },
  {
   "cell_type": "code",
   "execution_count": 49,
   "id": "2163499a",
   "metadata": {},
   "outputs": [],
   "source": [
    "df.Date = df.Date.dt.year"
   ]
  },
  {
   "cell_type": "code",
   "execution_count": 50,
   "id": "49d41bee",
   "metadata": {},
   "outputs": [
    {
     "data": {
      "text/html": [
       "<div>\n",
       "<style scoped>\n",
       "    .dataframe tbody tr th:only-of-type {\n",
       "        vertical-align: middle;\n",
       "    }\n",
       "\n",
       "    .dataframe tbody tr th {\n",
       "        vertical-align: top;\n",
       "    }\n",
       "\n",
       "    .dataframe thead th {\n",
       "        text-align: right;\n",
       "    }\n",
       "</style>\n",
       "<table border=\"1\" class=\"dataframe\">\n",
       "  <thead>\n",
       "    <tr style=\"text-align: right;\">\n",
       "      <th></th>\n",
       "      <th>15</th>\n",
       "      <th>13102</th>\n",
       "      <th>9677</th>\n",
       "      <th>2716</th>\n",
       "      <th>7899</th>\n",
       "    </tr>\n",
       "  </thead>\n",
       "  <tbody>\n",
       "    <tr>\n",
       "      <th>Suburb</th>\n",
       "      <td>Abbotsford</td>\n",
       "      <td>Balwyn North</td>\n",
       "      <td>Ormond</td>\n",
       "      <td>Footscray</td>\n",
       "      <td>Glenroy</td>\n",
       "    </tr>\n",
       "    <tr>\n",
       "      <th>Rooms</th>\n",
       "      <td>2</td>\n",
       "      <td>4</td>\n",
       "      <td>2</td>\n",
       "      <td>2</td>\n",
       "      <td>3</td>\n",
       "    </tr>\n",
       "    <tr>\n",
       "      <th>Type</th>\n",
       "      <td>h</td>\n",
       "      <td>h</td>\n",
       "      <td>h</td>\n",
       "      <td>h</td>\n",
       "      <td>h</td>\n",
       "    </tr>\n",
       "    <tr>\n",
       "      <th>Price</th>\n",
       "      <td>1310000.0</td>\n",
       "      <td>1400000.0</td>\n",
       "      <td>695000.0</td>\n",
       "      <td>835000.0</td>\n",
       "      <td>895000.0</td>\n",
       "    </tr>\n",
       "    <tr>\n",
       "      <th>Method</th>\n",
       "      <td>S</td>\n",
       "      <td>VB</td>\n",
       "      <td>S</td>\n",
       "      <td>SP</td>\n",
       "      <td>S</td>\n",
       "    </tr>\n",
       "    <tr>\n",
       "      <th>SellerG</th>\n",
       "      <td>Jellis</td>\n",
       "      <td>hockingstuart</td>\n",
       "      <td>Buxton</td>\n",
       "      <td>Jas</td>\n",
       "      <td>Barry</td>\n",
       "    </tr>\n",
       "    <tr>\n",
       "      <th>Date</th>\n",
       "      <td>2016</td>\n",
       "      <td>2017</td>\n",
       "      <td>2017</td>\n",
       "      <td>2016</td>\n",
       "      <td>2017</td>\n",
       "    </tr>\n",
       "    <tr>\n",
       "      <th>Distance</th>\n",
       "      <td>2.5</td>\n",
       "      <td>9.7</td>\n",
       "      <td>11.4</td>\n",
       "      <td>6.4</td>\n",
       "      <td>13.0</td>\n",
       "    </tr>\n",
       "    <tr>\n",
       "      <th>Postcode</th>\n",
       "      <td>3067.0</td>\n",
       "      <td>3104.0</td>\n",
       "      <td>3204.0</td>\n",
       "      <td>3011.0</td>\n",
       "      <td>3046.0</td>\n",
       "    </tr>\n",
       "    <tr>\n",
       "      <th>Bedroom2</th>\n",
       "      <td>2.0</td>\n",
       "      <td>4.0</td>\n",
       "      <td>2.0</td>\n",
       "      <td>2.0</td>\n",
       "      <td>3.0</td>\n",
       "    </tr>\n",
       "    <tr>\n",
       "      <th>Bathroom</th>\n",
       "      <td>1.0</td>\n",
       "      <td>2.0</td>\n",
       "      <td>1.0</td>\n",
       "      <td>1.0</td>\n",
       "      <td>1.0</td>\n",
       "    </tr>\n",
       "    <tr>\n",
       "      <th>Car</th>\n",
       "      <td>2.0</td>\n",
       "      <td>1.0</td>\n",
       "      <td>1.0</td>\n",
       "      <td>1.0</td>\n",
       "      <td>2.0</td>\n",
       "    </tr>\n",
       "    <tr>\n",
       "      <th>Landsize</th>\n",
       "      <td>238.0</td>\n",
       "      <td>629.0</td>\n",
       "      <td>126.0</td>\n",
       "      <td>222.0</td>\n",
       "      <td>697.0</td>\n",
       "    </tr>\n",
       "    <tr>\n",
       "      <th>BuildingArea</th>\n",
       "      <td>97.0</td>\n",
       "      <td>157.707259</td>\n",
       "      <td>75.45</td>\n",
       "      <td>109.0</td>\n",
       "      <td>148.0</td>\n",
       "    </tr>\n",
       "    <tr>\n",
       "      <th>YearBuilt</th>\n",
       "      <td>1890.0</td>\n",
       "      <td>1971.0</td>\n",
       "      <td>1970.0</td>\n",
       "      <td>1920.0</td>\n",
       "      <td>1955.0</td>\n",
       "    </tr>\n",
       "    <tr>\n",
       "      <th>Regionname</th>\n",
       "      <td>Northern Metropolitan</td>\n",
       "      <td>Southern Metropolitan</td>\n",
       "      <td>Southern Metropolitan</td>\n",
       "      <td>Western Metropolitan</td>\n",
       "      <td>Northern Metropolitan</td>\n",
       "    </tr>\n",
       "    <tr>\n",
       "      <th>Propertycount</th>\n",
       "      <td>4019.0</td>\n",
       "      <td>7809.0</td>\n",
       "      <td>3578.0</td>\n",
       "      <td>7570.0</td>\n",
       "      <td>8870.0</td>\n",
       "    </tr>\n",
       "  </tbody>\n",
       "</table>\n",
       "</div>"
      ],
      "text/plain": [
       "                               15                     13102  \\\n",
       "Suburb                    Abbotsford           Balwyn North   \n",
       "Rooms                              2                      4   \n",
       "Type                               h                      h   \n",
       "Price                      1310000.0              1400000.0   \n",
       "Method                             S                     VB   \n",
       "SellerG                       Jellis          hockingstuart   \n",
       "Date                            2016                   2017   \n",
       "Distance                         2.5                    9.7   \n",
       "Postcode                      3067.0                 3104.0   \n",
       "Bedroom2                         2.0                    4.0   \n",
       "Bathroom                         1.0                    2.0   \n",
       "Car                              2.0                    1.0   \n",
       "Landsize                       238.0                  629.0   \n",
       "BuildingArea                    97.0             157.707259   \n",
       "YearBuilt                     1890.0                 1971.0   \n",
       "Regionname     Northern Metropolitan  Southern Metropolitan   \n",
       "Propertycount                 4019.0                 7809.0   \n",
       "\n",
       "                               9677                  2716   \\\n",
       "Suburb                        Ormond             Footscray   \n",
       "Rooms                              2                     2   \n",
       "Type                               h                     h   \n",
       "Price                       695000.0              835000.0   \n",
       "Method                             S                    SP   \n",
       "SellerG                       Buxton                   Jas   \n",
       "Date                            2017                  2016   \n",
       "Distance                        11.4                   6.4   \n",
       "Postcode                      3204.0                3011.0   \n",
       "Bedroom2                         2.0                   2.0   \n",
       "Bathroom                         1.0                   1.0   \n",
       "Car                              1.0                   1.0   \n",
       "Landsize                       126.0                 222.0   \n",
       "BuildingArea                   75.45                 109.0   \n",
       "YearBuilt                     1970.0                1920.0   \n",
       "Regionname     Southern Metropolitan  Western Metropolitan   \n",
       "Propertycount                 3578.0                7570.0   \n",
       "\n",
       "                               7899   \n",
       "Suburb                       Glenroy  \n",
       "Rooms                              3  \n",
       "Type                               h  \n",
       "Price                       895000.0  \n",
       "Method                             S  \n",
       "SellerG                        Barry  \n",
       "Date                            2017  \n",
       "Distance                        13.0  \n",
       "Postcode                      3046.0  \n",
       "Bedroom2                         3.0  \n",
       "Bathroom                         1.0  \n",
       "Car                              2.0  \n",
       "Landsize                       697.0  \n",
       "BuildingArea                   148.0  \n",
       "YearBuilt                     1955.0  \n",
       "Regionname     Northern Metropolitan  \n",
       "Propertycount                 8870.0  "
      ]
     },
     "execution_count": 50,
     "metadata": {},
     "output_type": "execute_result"
    }
   ],
   "source": [
    "df.sample(5).T"
   ]
  },
  {
   "cell_type": "markdown",
   "id": "c46e9ab4",
   "metadata": {},
   "source": [
    "# Segregating"
   ]
  },
  {
   "cell_type": "code",
   "execution_count": 51,
   "id": "e73b9d74",
   "metadata": {},
   "outputs": [],
   "source": [
    "# Bringing Price to Last\n",
    "new_col_list = df.columns.tolist()\n",
    "new_col_list = new_col_list[4:] + new_col_list[0:4]\n",
    "new_col_list\n",
    "df = df[new_col_list]"
   ]
  },
  {
   "cell_type": "code",
   "execution_count": 52,
   "id": "c4117d04",
   "metadata": {},
   "outputs": [
    {
     "data": {
      "text/html": [
       "<div>\n",
       "<style scoped>\n",
       "    .dataframe tbody tr th:only-of-type {\n",
       "        vertical-align: middle;\n",
       "    }\n",
       "\n",
       "    .dataframe tbody tr th {\n",
       "        vertical-align: top;\n",
       "    }\n",
       "\n",
       "    .dataframe thead th {\n",
       "        text-align: right;\n",
       "    }\n",
       "</style>\n",
       "<table border=\"1\" class=\"dataframe\">\n",
       "  <thead>\n",
       "    <tr style=\"text-align: right;\">\n",
       "      <th></th>\n",
       "      <th>Method</th>\n",
       "      <th>SellerG</th>\n",
       "      <th>Date</th>\n",
       "      <th>Distance</th>\n",
       "      <th>Postcode</th>\n",
       "      <th>Bedroom2</th>\n",
       "      <th>Bathroom</th>\n",
       "      <th>Car</th>\n",
       "      <th>Landsize</th>\n",
       "      <th>BuildingArea</th>\n",
       "      <th>YearBuilt</th>\n",
       "      <th>Regionname</th>\n",
       "      <th>Propertycount</th>\n",
       "      <th>Suburb</th>\n",
       "      <th>Rooms</th>\n",
       "      <th>Type</th>\n",
       "    </tr>\n",
       "  </thead>\n",
       "  <tbody>\n",
       "    <tr>\n",
       "      <th>0</th>\n",
       "      <td>S</td>\n",
       "      <td>Biggin</td>\n",
       "      <td>2016</td>\n",
       "      <td>2.5</td>\n",
       "      <td>3067.0</td>\n",
       "      <td>2.0</td>\n",
       "      <td>1.0</td>\n",
       "      <td>1.0</td>\n",
       "      <td>202.0</td>\n",
       "      <td>157.707259</td>\n",
       "      <td>1945.0</td>\n",
       "      <td>Northern Metropolitan</td>\n",
       "      <td>4019.0</td>\n",
       "      <td>Abbotsford</td>\n",
       "      <td>2</td>\n",
       "      <td>h</td>\n",
       "    </tr>\n",
       "    <tr>\n",
       "      <th>1</th>\n",
       "      <td>S</td>\n",
       "      <td>Biggin</td>\n",
       "      <td>2016</td>\n",
       "      <td>2.5</td>\n",
       "      <td>3067.0</td>\n",
       "      <td>2.0</td>\n",
       "      <td>1.0</td>\n",
       "      <td>0.0</td>\n",
       "      <td>156.0</td>\n",
       "      <td>79.000000</td>\n",
       "      <td>1900.0</td>\n",
       "      <td>Northern Metropolitan</td>\n",
       "      <td>4019.0</td>\n",
       "      <td>Abbotsford</td>\n",
       "      <td>2</td>\n",
       "      <td>h</td>\n",
       "    </tr>\n",
       "    <tr>\n",
       "      <th>2</th>\n",
       "      <td>SP</td>\n",
       "      <td>Biggin</td>\n",
       "      <td>2017</td>\n",
       "      <td>2.5</td>\n",
       "      <td>3067.0</td>\n",
       "      <td>3.0</td>\n",
       "      <td>2.0</td>\n",
       "      <td>0.0</td>\n",
       "      <td>134.0</td>\n",
       "      <td>150.000000</td>\n",
       "      <td>1900.0</td>\n",
       "      <td>Northern Metropolitan</td>\n",
       "      <td>4019.0</td>\n",
       "      <td>Abbotsford</td>\n",
       "      <td>3</td>\n",
       "      <td>h</td>\n",
       "    </tr>\n",
       "    <tr>\n",
       "      <th>3</th>\n",
       "      <td>PI</td>\n",
       "      <td>Biggin</td>\n",
       "      <td>2017</td>\n",
       "      <td>2.5</td>\n",
       "      <td>3067.0</td>\n",
       "      <td>3.0</td>\n",
       "      <td>2.0</td>\n",
       "      <td>1.0</td>\n",
       "      <td>94.0</td>\n",
       "      <td>157.707259</td>\n",
       "      <td>1945.0</td>\n",
       "      <td>Northern Metropolitan</td>\n",
       "      <td>4019.0</td>\n",
       "      <td>Abbotsford</td>\n",
       "      <td>3</td>\n",
       "      <td>h</td>\n",
       "    </tr>\n",
       "    <tr>\n",
       "      <th>4</th>\n",
       "      <td>VB</td>\n",
       "      <td>Nelson</td>\n",
       "      <td>2016</td>\n",
       "      <td>2.5</td>\n",
       "      <td>3067.0</td>\n",
       "      <td>3.0</td>\n",
       "      <td>1.0</td>\n",
       "      <td>2.0</td>\n",
       "      <td>120.0</td>\n",
       "      <td>142.000000</td>\n",
       "      <td>2014.0</td>\n",
       "      <td>Northern Metropolitan</td>\n",
       "      <td>4019.0</td>\n",
       "      <td>Abbotsford</td>\n",
       "      <td>4</td>\n",
       "      <td>h</td>\n",
       "    </tr>\n",
       "    <tr>\n",
       "      <th>...</th>\n",
       "      <td>...</td>\n",
       "      <td>...</td>\n",
       "      <td>...</td>\n",
       "      <td>...</td>\n",
       "      <td>...</td>\n",
       "      <td>...</td>\n",
       "      <td>...</td>\n",
       "      <td>...</td>\n",
       "      <td>...</td>\n",
       "      <td>...</td>\n",
       "      <td>...</td>\n",
       "      <td>...</td>\n",
       "      <td>...</td>\n",
       "      <td>...</td>\n",
       "      <td>...</td>\n",
       "      <td>...</td>\n",
       "    </tr>\n",
       "    <tr>\n",
       "      <th>13575</th>\n",
       "      <td>S</td>\n",
       "      <td>Barry</td>\n",
       "      <td>2017</td>\n",
       "      <td>16.7</td>\n",
       "      <td>3150.0</td>\n",
       "      <td>4.0</td>\n",
       "      <td>2.0</td>\n",
       "      <td>2.0</td>\n",
       "      <td>652.0</td>\n",
       "      <td>157.707259</td>\n",
       "      <td>1981.0</td>\n",
       "      <td>South-Eastern Metropolitan</td>\n",
       "      <td>7392.0</td>\n",
       "      <td>Wheelers Hill</td>\n",
       "      <td>4</td>\n",
       "      <td>h</td>\n",
       "    </tr>\n",
       "    <tr>\n",
       "      <th>13576</th>\n",
       "      <td>SP</td>\n",
       "      <td>Williams</td>\n",
       "      <td>2017</td>\n",
       "      <td>6.8</td>\n",
       "      <td>3016.0</td>\n",
       "      <td>3.0</td>\n",
       "      <td>2.0</td>\n",
       "      <td>2.0</td>\n",
       "      <td>333.0</td>\n",
       "      <td>133.000000</td>\n",
       "      <td>1995.0</td>\n",
       "      <td>Western Metropolitan</td>\n",
       "      <td>6380.0</td>\n",
       "      <td>Williamstown</td>\n",
       "      <td>3</td>\n",
       "      <td>h</td>\n",
       "    </tr>\n",
       "    <tr>\n",
       "      <th>13577</th>\n",
       "      <td>S</td>\n",
       "      <td>Raine</td>\n",
       "      <td>2017</td>\n",
       "      <td>6.8</td>\n",
       "      <td>3016.0</td>\n",
       "      <td>3.0</td>\n",
       "      <td>2.0</td>\n",
       "      <td>4.0</td>\n",
       "      <td>436.0</td>\n",
       "      <td>157.707259</td>\n",
       "      <td>1997.0</td>\n",
       "      <td>Western Metropolitan</td>\n",
       "      <td>6380.0</td>\n",
       "      <td>Williamstown</td>\n",
       "      <td>3</td>\n",
       "      <td>h</td>\n",
       "    </tr>\n",
       "    <tr>\n",
       "      <th>13578</th>\n",
       "      <td>PI</td>\n",
       "      <td>Sweeney</td>\n",
       "      <td>2017</td>\n",
       "      <td>6.8</td>\n",
       "      <td>3016.0</td>\n",
       "      <td>4.0</td>\n",
       "      <td>1.0</td>\n",
       "      <td>5.0</td>\n",
       "      <td>866.0</td>\n",
       "      <td>157.000000</td>\n",
       "      <td>1920.0</td>\n",
       "      <td>Western Metropolitan</td>\n",
       "      <td>6380.0</td>\n",
       "      <td>Williamstown</td>\n",
       "      <td>4</td>\n",
       "      <td>h</td>\n",
       "    </tr>\n",
       "    <tr>\n",
       "      <th>13579</th>\n",
       "      <td>SP</td>\n",
       "      <td>Village</td>\n",
       "      <td>2017</td>\n",
       "      <td>6.3</td>\n",
       "      <td>3013.0</td>\n",
       "      <td>4.0</td>\n",
       "      <td>1.0</td>\n",
       "      <td>1.0</td>\n",
       "      <td>362.0</td>\n",
       "      <td>112.000000</td>\n",
       "      <td>1920.0</td>\n",
       "      <td>Western Metropolitan</td>\n",
       "      <td>6543.0</td>\n",
       "      <td>Yarraville</td>\n",
       "      <td>4</td>\n",
       "      <td>h</td>\n",
       "    </tr>\n",
       "  </tbody>\n",
       "</table>\n",
       "<p>13024 rows × 16 columns</p>\n",
       "</div>"
      ],
      "text/plain": [
       "      Method   SellerG  Date  Distance  Postcode  Bedroom2  Bathroom  Car  \\\n",
       "0          S    Biggin  2016       2.5    3067.0       2.0       1.0  1.0   \n",
       "1          S    Biggin  2016       2.5    3067.0       2.0       1.0  0.0   \n",
       "2         SP    Biggin  2017       2.5    3067.0       3.0       2.0  0.0   \n",
       "3         PI    Biggin  2017       2.5    3067.0       3.0       2.0  1.0   \n",
       "4         VB    Nelson  2016       2.5    3067.0       3.0       1.0  2.0   \n",
       "...      ...       ...   ...       ...       ...       ...       ...  ...   \n",
       "13575      S     Barry  2017      16.7    3150.0       4.0       2.0  2.0   \n",
       "13576     SP  Williams  2017       6.8    3016.0       3.0       2.0  2.0   \n",
       "13577      S     Raine  2017       6.8    3016.0       3.0       2.0  4.0   \n",
       "13578     PI   Sweeney  2017       6.8    3016.0       4.0       1.0  5.0   \n",
       "13579     SP   Village  2017       6.3    3013.0       4.0       1.0  1.0   \n",
       "\n",
       "       Landsize  BuildingArea  YearBuilt                  Regionname  \\\n",
       "0         202.0    157.707259     1945.0       Northern Metropolitan   \n",
       "1         156.0     79.000000     1900.0       Northern Metropolitan   \n",
       "2         134.0    150.000000     1900.0       Northern Metropolitan   \n",
       "3          94.0    157.707259     1945.0       Northern Metropolitan   \n",
       "4         120.0    142.000000     2014.0       Northern Metropolitan   \n",
       "...         ...           ...        ...                         ...   \n",
       "13575     652.0    157.707259     1981.0  South-Eastern Metropolitan   \n",
       "13576     333.0    133.000000     1995.0        Western Metropolitan   \n",
       "13577     436.0    157.707259     1997.0        Western Metropolitan   \n",
       "13578     866.0    157.000000     1920.0        Western Metropolitan   \n",
       "13579     362.0    112.000000     1920.0        Western Metropolitan   \n",
       "\n",
       "       Propertycount         Suburb  Rooms Type  \n",
       "0             4019.0     Abbotsford      2    h  \n",
       "1             4019.0     Abbotsford      2    h  \n",
       "2             4019.0     Abbotsford      3    h  \n",
       "3             4019.0     Abbotsford      3    h  \n",
       "4             4019.0     Abbotsford      4    h  \n",
       "...              ...            ...    ...  ...  \n",
       "13575         7392.0  Wheelers Hill      4    h  \n",
       "13576         6380.0   Williamstown      3    h  \n",
       "13577         6380.0   Williamstown      3    h  \n",
       "13578         6380.0   Williamstown      4    h  \n",
       "13579         6543.0     Yarraville      4    h  \n",
       "\n",
       "[13024 rows x 16 columns]"
      ]
     },
     "execution_count": 52,
     "metadata": {},
     "output_type": "execute_result"
    }
   ],
   "source": [
    "X = df.iloc[:,:-1]\n",
    "X"
   ]
  },
  {
   "cell_type": "code",
   "execution_count": 53,
   "id": "56aa065c",
   "metadata": {},
   "outputs": [
    {
     "data": {
      "text/plain": [
       "0        1480000.0\n",
       "1        1035000.0\n",
       "2        1465000.0\n",
       "3         850000.0\n",
       "4        1600000.0\n",
       "           ...    \n",
       "13575    1245000.0\n",
       "13576    1031000.0\n",
       "13577    1170000.0\n",
       "13578    2500000.0\n",
       "13579    1285000.0\n",
       "Name: Price, Length: 13024, dtype: float64"
      ]
     },
     "execution_count": 53,
     "metadata": {},
     "output_type": "execute_result"
    }
   ],
   "source": [
    "Y = df.iloc[:,-1]\n",
    "Y"
   ]
  },
  {
   "cell_type": "markdown",
   "id": "4ace7722",
   "metadata": {},
   "source": [
    "# Encoding"
   ]
  },
  {
   "cell_type": "code",
   "execution_count": 54,
   "id": "46b072eb",
   "metadata": {},
   "outputs": [
    {
     "name": "stdout",
     "output_type": "stream",
     "text": [
      "Unique Values\n",
      "===============\n",
      "Method ---> 5\n",
      "SellerG ---> 263\n",
      "Regionname ---> 8\n",
      "Suburb ---> 310\n",
      "Type ---> 3\n"
     ]
    }
   ],
   "source": [
    "# Getting list of all categorial values which needs to be encoded\n",
    "# df_scalling = list(X.columns)\n",
    "df_cat = df.select_dtypes(['object']).columns\n",
    "print(\"Unique Values\\n===============\")\n",
    "for i in df_cat:\n",
    "    print(f\"{i} ---> {len(df[i].unique())}\")"
   ]
  },
  {
   "cell_type": "code",
   "execution_count": 55,
   "id": "a6313ea2",
   "metadata": {},
   "outputs": [
    {
     "data": {
      "text/plain": [
       "array([[1.000e+00, 2.200e+01, 2.000e+00, ..., 1.945e+03, 4.019e+03,\n",
       "        2.000e+00],\n",
       "       [1.000e+00, 2.200e+01, 2.000e+00, ..., 1.900e+03, 4.019e+03,\n",
       "        2.000e+00],\n",
       "       [3.000e+00, 2.200e+01, 2.000e+00, ..., 1.900e+03, 4.019e+03,\n",
       "        3.000e+00],\n",
       "       ...,\n",
       "       [1.000e+00, 1.890e+02, 6.000e+00, ..., 1.997e+03, 6.380e+03,\n",
       "        3.000e+00],\n",
       "       [0.000e+00, 2.170e+02, 6.000e+00, ..., 1.920e+03, 6.380e+03,\n",
       "        4.000e+00],\n",
       "       [3.000e+00, 2.340e+02, 6.000e+00, ..., 1.920e+03, 6.543e+03,\n",
       "        4.000e+00]])"
      ]
     },
     "execution_count": 55,
     "metadata": {},
     "output_type": "execute_result"
    }
   ],
   "source": [
    "from sklearn.preprocessing import OrdinalEncoder\n",
    "from sklearn.preprocessing import StandardScaler\n",
    "from sklearn.compose import ColumnTransformer\n",
    "\n",
    "\n",
    "CT = ColumnTransformer(transformers=[ (\"Trans1_encoding\", OrdinalEncoder(), df_cat ) ] , remainder=\"passthrough\" )\n",
    "X = CT.fit_transform(X)\n",
    "X"
   ]
  },
  {
   "cell_type": "code",
   "execution_count": 56,
   "id": "04f0433b",
   "metadata": {},
   "outputs": [
    {
     "data": {
      "text/plain": [
       "[('Trans1_encoding',\n",
       "  OrdinalEncoder(),\n",
       "  Index(['Method', 'SellerG', 'Regionname', 'Suburb', 'Type'], dtype='object')),\n",
       " ('remainder', 'passthrough', [2, 3, 4, 5, 6, 7, 8, 9, 10, 12, 14])]"
      ]
     },
     "execution_count": 56,
     "metadata": {},
     "output_type": "execute_result"
    }
   ],
   "source": [
    "CT.transformers_"
   ]
  },
  {
   "cell_type": "markdown",
   "id": "3781f1e9",
   "metadata": {},
   "source": [
    "# Splitting"
   ]
  },
  {
   "cell_type": "code",
   "execution_count": 57,
   "id": "104466a1",
   "metadata": {},
   "outputs": [],
   "source": [
    "from sklearn.model_selection import train_test_split\n",
    "X_train,X_test,Y_train,Y_test = train_test_split(X,Y,test_size=0.2,random_state=1)"
   ]
  },
  {
   "cell_type": "markdown",
   "id": "2356eed5",
   "metadata": {},
   "source": [
    "# Modelling"
   ]
  },
  {
   "cell_type": "code",
   "execution_count": 72,
   "id": "5f6dee93",
   "metadata": {},
   "outputs": [],
   "source": [
    "from sklearn.metrics import r2_score,mean_absolute_error,mean_squared_error\n",
    "def Calculate_Model(model,coef = 0):\n",
    "    model.fit(X_train,Y_train)\n",
    "    Y_pred = model.predict(X_test)\n",
    "    \n",
    "    print(f\"R2 ---> {r2_score(Y_test,Y_pred)}\")    \n",
    "    print(f\"MAE ---> {mean_absolute_error(Y_test,Y_pred)}\")    \n",
    "    print(f\"MSE ---> {mean_squared_error(Y_test,Y_pred)}\")    \n",
    "    print(f\"RMSE ---> {np.sqrt(mean_squared_error(Y_test,Y_pred))}\")    \n",
    "\n",
    "    \n",
    "    if(coef==1):\n",
    "        print(model.coef_)"
   ]
  },
  {
   "cell_type": "markdown",
   "id": "05caa9f2",
   "metadata": {},
   "source": [
    "# LinearRegression"
   ]
  },
  {
   "cell_type": "code",
   "execution_count": 73,
   "id": "e92d9cc0",
   "metadata": {},
   "outputs": [
    {
     "name": "stdout",
     "output_type": "stream",
     "text": [
      "R2 ---> 0.5587388326326368\n",
      "MAE ---> 290470.47338299744\n",
      "MSE ---> 180761280720.6359\n",
      "RMSE ---> 425160.3000288666\n",
      "[-1.20890228e+04 -2.41786489e+02  1.70482450e+04 -6.22222600e+02\n",
      " -1.95551312e+05  6.22986356e+04 -4.71472899e+04  1.82173049e+03\n",
      "  1.38143074e+04  2.37277342e+05  5.85944121e+04  2.61657512e+00\n",
      "  3.37963866e+01 -3.32047075e+03  3.09360369e+00  1.72376399e+05]\n"
     ]
    }
   ],
   "source": [
    "from sklearn.linear_model import LinearRegression\n",
    "LR = LinearRegression()\n",
    "Calculate_Model(LR,1)"
   ]
  },
  {
   "cell_type": "markdown",
   "id": "a6b6bf2f",
   "metadata": {},
   "source": [
    "# SVR"
   ]
  },
  {
   "cell_type": "code",
   "execution_count": 74,
   "id": "1c5e003c",
   "metadata": {},
   "outputs": [
    {
     "name": "stdout",
     "output_type": "stream",
     "text": [
      "R2 ---> -0.06721546344994334\n",
      "MAE ---> 444115.00043649884\n",
      "MSE ---> 437181533849.9395\n",
      "RMSE ---> 661197.046159418\n"
     ]
    }
   ],
   "source": [
    "from sklearn.svm import SVR\n",
    "SVR = SVR()\n",
    "Calculate_Model(SVR)"
   ]
  },
  {
   "cell_type": "markdown",
   "id": "c291144c",
   "metadata": {},
   "source": [
    "# Hypertuning"
   ]
  },
  {
   "cell_type": "code",
   "execution_count": 76,
   "id": "e745bdcc",
   "metadata": {},
   "outputs": [],
   "source": [
    "def Get_Max_Test(Values_List):\n",
    "    max_val = 0\n",
    "    max_index = 0\n",
    "    for i in Values_List:\n",
    "        if max_val < i[-1]:\n",
    "            max_val = i[-1]\n",
    "            max_index = Values_List.index(i)\n",
    "    return Values_List[max_index]\n",
    "\n",
    "def Get_Max_Train(Values_List):\n",
    "    max_val = 0\n",
    "    max_index = 0\n",
    "    for i in Values_List:\n",
    "        if max_val < i[1]:\n",
    "            max_val = i[1]\n",
    "            max_index = Values_List.index(i)\n",
    "    return Values_List[max_index]"
   ]
  },
  {
   "cell_type": "code",
   "execution_count": 77,
   "id": "0dcd6272",
   "metadata": {},
   "outputs": [
    {
     "name": "stdout",
     "output_type": "stream",
     "text": [
      "R2 ---> 0.5587393150579603\n",
      "MAE ---> 290457.70086822566\n",
      "MSE ---> 180761083096.58514\n",
      "RMSE ---> 425160.06761757995\n",
      "[-1.20867722e+04 -2.41836283e+02  1.70473619e+04 -6.22225536e+02\n",
      " -1.95445429e+05  6.22061718e+04 -4.71433524e+04  1.82171772e+03\n",
      "  1.42738682e+04  2.37084127e+05  5.86065858e+04  2.61762812e+00\n",
      "  3.38073678e+01 -3.32076489e+03  3.09315021e+00  1.72010404e+05]\n"
     ]
    }
   ],
   "source": [
    "# Ridge\n",
    "from sklearn.linear_model import Ridge\n",
    "L2 = Ridge(alpha=3)\n",
    "Calculate_Model(L2,1)"
   ]
  },
  {
   "cell_type": "code",
   "execution_count": 78,
   "id": "76b4832f",
   "metadata": {},
   "outputs": [],
   "source": [
    "Ridge_List = []\n",
    "\n",
    "for i in range(100):\n",
    "    L2 = Ridge(alpha = i)\n",
    "    L2.fit(X_train,Y_train)   \n",
    "    L2_train = L2.score(X_train,Y_train) # Train Acc\n",
    "    L2_test  = L2.score(X_test,Y_test)   # Test Acc   \n",
    "    Ridge_List.append([i,L2_train,L2_test])"
   ]
  },
  {
   "cell_type": "code",
   "execution_count": 79,
   "id": "b1c041aa",
   "metadata": {},
   "outputs": [
    {
     "name": "stdout",
     "output_type": "stream",
     "text": [
      "Best Train :  [0, 0.5385896606130307, 0.5587388326326364]\n",
      "Best Test :  [11, 0.5385884930147791, 0.5587398374084744]\n"
     ]
    }
   ],
   "source": [
    "print(\"Best Train : \",Get_Max_Train(Ridge_List))\n",
    "print(\"Best Test : \",Get_Max_Test(Ridge_List))"
   ]
  },
  {
   "cell_type": "code",
   "execution_count": 80,
   "id": "8abb91c4",
   "metadata": {},
   "outputs": [
    {
     "name": "stdout",
     "output_type": "stream",
     "text": [
      "R2 ---> 0.5587391393026663\n",
      "MAE ---> 290469.8820026819\n",
      "MSE ---> 180761155094.20102\n",
      "RMSE ---> 425160.1522887593\n",
      "[-1.20865988e+04 -2.41786634e+02  1.70473638e+04 -6.22222678e+02\n",
      " -1.95547137e+05  6.22852907e+04 -4.71465939e+04  1.82172197e+03\n",
      "  1.38154199e+04  2.37271949e+05  5.85924648e+04  2.61663146e+00\n",
      "  3.37969482e+01 -3.32048370e+03  3.09364468e+00  1.72376700e+05]\n"
     ]
    }
   ],
   "source": [
    "# Lasso\n",
    "from sklearn.linear_model import Lasso\n",
    "L1 = Lasso(alpha=3)\n",
    "Calculate_Model(L1,1)"
   ]
  },
  {
   "cell_type": "code",
   "execution_count": 83,
   "id": "efb9527b",
   "metadata": {},
   "outputs": [],
   "source": [
    "Lasso_List = []\n",
    "for i in range(1,300):\n",
    "\n",
    "    L1 = Lasso(alpha = i)\n",
    "    L1.fit(X_train,Y_train)\n",
    "    \n",
    "    L1_train = L1.score(X_train,Y_train) # Train Acc\n",
    "    L1_test  = L1.score(X_test,Y_test)   # Test Acc\n",
    "    \n",
    "    Lasso_List.append([i,L1_train,L1_test])"
   ]
  },
  {
   "cell_type": "code",
   "execution_count": 84,
   "id": "b79d72c8",
   "metadata": {},
   "outputs": [
    {
     "name": "stdout",
     "output_type": "stream",
     "text": [
      "Best Train :  [1, 0.5385896605911453, 0.5587389348995137]\n",
      "Best Test :  [299, 0.5385877040303941, 0.5587674708784698]\n"
     ]
    }
   ],
   "source": [
    "print(\"Best Train : \",Get_Max_Train(Lasso_List))\n",
    "print(\"Best Test : \",Get_Max_Test(Lasso_List))"
   ]
  },
  {
   "cell_type": "code",
   "execution_count": null,
   "id": "e2162d50",
   "metadata": {},
   "outputs": [],
   "source": []
  },
  {
   "cell_type": "code",
   "execution_count": null,
   "id": "d49e99a9",
   "metadata": {},
   "outputs": [],
   "source": []
  }
 ],
 "metadata": {
  "kernelspec": {
   "display_name": "Python 3 (ipykernel)",
   "language": "python",
   "name": "python3"
  },
  "language_info": {
   "codemirror_mode": {
    "name": "ipython",
    "version": 3
   },
   "file_extension": ".py",
   "mimetype": "text/x-python",
   "name": "python",
   "nbconvert_exporter": "python",
   "pygments_lexer": "ipython3",
   "version": "3.10.5"
  }
 },
 "nbformat": 4,
 "nbformat_minor": 5
}
