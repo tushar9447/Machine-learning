{
 "cells": [
  {
   "cell_type": "code",
   "execution_count": null,
   "id": "f3bbcece",
   "metadata": {},
   "outputs": [],
   "source": [
    "import pandas as pd\n",
    "import numpy as np\n",
    "import matplotlib.pyplot as plt\n",
    "import seaborn as sns\n",
    "\n",
    "from sklearn.model_selection import train_test_split, cross_val_score\n",
    "from sklearn.linear_model import LogisticRegression\n",
    "from sklearn.neighbors import KNeighborsClassifier\n",
    "from sklearn.svm import SVC\n",
    "from sklearn.tree import DecisionTreeClassifier\n",
    "from sklearn.metrics import accuracy_score, classification_report\n",
    "\n",
    "import warnings\n",
    "warnings.filterwarnings(\"ignore\")"
   ]
  },
  {
   "cell_type": "code",
   "execution_count": 2,
   "id": "3cdc2bdc",
   "metadata": {},
   "outputs": [
    {
     "data": {
      "text/html": [
       "<div>\n",
       "<style scoped>\n",
       "    .dataframe tbody tr th:only-of-type {\n",
       "        vertical-align: middle;\n",
       "    }\n",
       "\n",
       "    .dataframe tbody tr th {\n",
       "        vertical-align: top;\n",
       "    }\n",
       "\n",
       "    .dataframe thead th {\n",
       "        text-align: right;\n",
       "    }\n",
       "</style>\n",
       "<table border=\"1\" class=\"dataframe\">\n",
       "  <thead>\n",
       "    <tr style=\"text-align: right;\">\n",
       "      <th></th>\n",
       "      <th>Pregnancies</th>\n",
       "      <th>Glucose</th>\n",
       "      <th>BloodPressure</th>\n",
       "      <th>SkinThickness</th>\n",
       "      <th>Insulin</th>\n",
       "      <th>BMI</th>\n",
       "      <th>DiabetesPedigreeFunction</th>\n",
       "      <th>Age</th>\n",
       "      <th>Outcome</th>\n",
       "    </tr>\n",
       "  </thead>\n",
       "  <tbody>\n",
       "    <tr>\n",
       "      <th>0</th>\n",
       "      <td>6</td>\n",
       "      <td>148</td>\n",
       "      <td>72</td>\n",
       "      <td>35</td>\n",
       "      <td>0</td>\n",
       "      <td>33.6</td>\n",
       "      <td>0.627</td>\n",
       "      <td>50</td>\n",
       "      <td>1</td>\n",
       "    </tr>\n",
       "    <tr>\n",
       "      <th>1</th>\n",
       "      <td>1</td>\n",
       "      <td>85</td>\n",
       "      <td>66</td>\n",
       "      <td>29</td>\n",
       "      <td>0</td>\n",
       "      <td>26.6</td>\n",
       "      <td>0.351</td>\n",
       "      <td>31</td>\n",
       "      <td>0</td>\n",
       "    </tr>\n",
       "    <tr>\n",
       "      <th>2</th>\n",
       "      <td>8</td>\n",
       "      <td>183</td>\n",
       "      <td>64</td>\n",
       "      <td>0</td>\n",
       "      <td>0</td>\n",
       "      <td>23.3</td>\n",
       "      <td>0.672</td>\n",
       "      <td>32</td>\n",
       "      <td>1</td>\n",
       "    </tr>\n",
       "    <tr>\n",
       "      <th>3</th>\n",
       "      <td>1</td>\n",
       "      <td>89</td>\n",
       "      <td>66</td>\n",
       "      <td>23</td>\n",
       "      <td>94</td>\n",
       "      <td>28.1</td>\n",
       "      <td>0.167</td>\n",
       "      <td>21</td>\n",
       "      <td>0</td>\n",
       "    </tr>\n",
       "    <tr>\n",
       "      <th>4</th>\n",
       "      <td>0</td>\n",
       "      <td>137</td>\n",
       "      <td>40</td>\n",
       "      <td>35</td>\n",
       "      <td>168</td>\n",
       "      <td>43.1</td>\n",
       "      <td>2.288</td>\n",
       "      <td>33</td>\n",
       "      <td>1</td>\n",
       "    </tr>\n",
       "  </tbody>\n",
       "</table>\n",
       "</div>"
      ],
      "text/plain": [
       "   Pregnancies  Glucose  BloodPressure  SkinThickness  Insulin   BMI  \\\n",
       "0            6      148             72             35        0  33.6   \n",
       "1            1       85             66             29        0  26.6   \n",
       "2            8      183             64              0        0  23.3   \n",
       "3            1       89             66             23       94  28.1   \n",
       "4            0      137             40             35      168  43.1   \n",
       "\n",
       "   DiabetesPedigreeFunction  Age  Outcome  \n",
       "0                     0.627   50        1  \n",
       "1                     0.351   31        0  \n",
       "2                     0.672   32        1  \n",
       "3                     0.167   21        0  \n",
       "4                     2.288   33        1  "
      ]
     },
     "execution_count": 2,
     "metadata": {},
     "output_type": "execute_result"
    }
   ],
   "source": [
    "df = pd.read_csv(\"diabetes.csv\")\n",
    "df.head()"
   ]
  },
  {
   "cell_type": "code",
   "execution_count": 3,
   "id": "ed0483eb",
   "metadata": {},
   "outputs": [
    {
     "name": "stdout",
     "output_type": "stream",
     "text": [
      "<class 'pandas.core.frame.DataFrame'>\n",
      "RangeIndex: 768 entries, 0 to 767\n",
      "Data columns (total 9 columns):\n",
      " #   Column                    Non-Null Count  Dtype  \n",
      "---  ------                    --------------  -----  \n",
      " 0   Pregnancies               768 non-null    int64  \n",
      " 1   Glucose                   768 non-null    int64  \n",
      " 2   BloodPressure             768 non-null    int64  \n",
      " 3   SkinThickness             768 non-null    int64  \n",
      " 4   Insulin                   768 non-null    int64  \n",
      " 5   BMI                       768 non-null    float64\n",
      " 6   DiabetesPedigreeFunction  768 non-null    float64\n",
      " 7   Age                       768 non-null    int64  \n",
      " 8   Outcome                   768 non-null    int64  \n",
      "dtypes: float64(2), int64(7)\n",
      "memory usage: 54.1 KB\n"
     ]
    }
   ],
   "source": [
    "df.info()"
   ]
  },
  {
   "cell_type": "code",
   "execution_count": 4,
   "id": "8107ca3c",
   "metadata": {},
   "outputs": [
    {
     "data": {
      "text/plain": [
       "Pregnancies                 0\n",
       "Glucose                     0\n",
       "BloodPressure               0\n",
       "SkinThickness               0\n",
       "Insulin                     0\n",
       "BMI                         0\n",
       "DiabetesPedigreeFunction    0\n",
       "Age                         0\n",
       "Outcome                     0\n",
       "dtype: int64"
      ]
     },
     "execution_count": 4,
     "metadata": {},
     "output_type": "execute_result"
    }
   ],
   "source": [
    "df.isna().sum()"
   ]
  },
  {
   "cell_type": "code",
   "execution_count": 5,
   "id": "8841ec17",
   "metadata": {},
   "outputs": [
    {
     "data": {
      "text/plain": [
       "0    500\n",
       "1    268\n",
       "Name: Outcome, dtype: int64"
      ]
     },
     "execution_count": 5,
     "metadata": {},
     "output_type": "execute_result"
    }
   ],
   "source": [
    "df[\"Outcome\"].value_counts()"
   ]
  },
  {
   "cell_type": "code",
   "execution_count": 6,
   "id": "db509339",
   "metadata": {},
   "outputs": [
    {
     "data": {
      "text/html": [
       "<div>\n",
       "<style scoped>\n",
       "    .dataframe tbody tr th:only-of-type {\n",
       "        vertical-align: middle;\n",
       "    }\n",
       "\n",
       "    .dataframe tbody tr th {\n",
       "        vertical-align: top;\n",
       "    }\n",
       "\n",
       "    .dataframe thead th {\n",
       "        text-align: right;\n",
       "    }\n",
       "</style>\n",
       "<table border=\"1\" class=\"dataframe\">\n",
       "  <thead>\n",
       "    <tr style=\"text-align: right;\">\n",
       "      <th></th>\n",
       "      <th>Pregnancies</th>\n",
       "      <th>Glucose</th>\n",
       "      <th>BloodPressure</th>\n",
       "      <th>SkinThickness</th>\n",
       "      <th>Insulin</th>\n",
       "      <th>BMI</th>\n",
       "      <th>DiabetesPedigreeFunction</th>\n",
       "      <th>Age</th>\n",
       "      <th>Outcome</th>\n",
       "    </tr>\n",
       "  </thead>\n",
       "  <tbody>\n",
       "    <tr>\n",
       "      <th>count</th>\n",
       "      <td>768.000000</td>\n",
       "      <td>768.000000</td>\n",
       "      <td>768.000000</td>\n",
       "      <td>768.000000</td>\n",
       "      <td>768.000000</td>\n",
       "      <td>768.000000</td>\n",
       "      <td>768.000000</td>\n",
       "      <td>768.000000</td>\n",
       "      <td>768.000000</td>\n",
       "    </tr>\n",
       "    <tr>\n",
       "      <th>mean</th>\n",
       "      <td>3.845052</td>\n",
       "      <td>120.894531</td>\n",
       "      <td>69.105469</td>\n",
       "      <td>20.536458</td>\n",
       "      <td>79.799479</td>\n",
       "      <td>31.992578</td>\n",
       "      <td>0.471876</td>\n",
       "      <td>33.240885</td>\n",
       "      <td>0.348958</td>\n",
       "    </tr>\n",
       "    <tr>\n",
       "      <th>std</th>\n",
       "      <td>3.369578</td>\n",
       "      <td>31.972618</td>\n",
       "      <td>19.355807</td>\n",
       "      <td>15.952218</td>\n",
       "      <td>115.244002</td>\n",
       "      <td>7.884160</td>\n",
       "      <td>0.331329</td>\n",
       "      <td>11.760232</td>\n",
       "      <td>0.476951</td>\n",
       "    </tr>\n",
       "    <tr>\n",
       "      <th>min</th>\n",
       "      <td>0.000000</td>\n",
       "      <td>0.000000</td>\n",
       "      <td>0.000000</td>\n",
       "      <td>0.000000</td>\n",
       "      <td>0.000000</td>\n",
       "      <td>0.000000</td>\n",
       "      <td>0.078000</td>\n",
       "      <td>21.000000</td>\n",
       "      <td>0.000000</td>\n",
       "    </tr>\n",
       "    <tr>\n",
       "      <th>25%</th>\n",
       "      <td>1.000000</td>\n",
       "      <td>99.000000</td>\n",
       "      <td>62.000000</td>\n",
       "      <td>0.000000</td>\n",
       "      <td>0.000000</td>\n",
       "      <td>27.300000</td>\n",
       "      <td>0.243750</td>\n",
       "      <td>24.000000</td>\n",
       "      <td>0.000000</td>\n",
       "    </tr>\n",
       "    <tr>\n",
       "      <th>50%</th>\n",
       "      <td>3.000000</td>\n",
       "      <td>117.000000</td>\n",
       "      <td>72.000000</td>\n",
       "      <td>23.000000</td>\n",
       "      <td>30.500000</td>\n",
       "      <td>32.000000</td>\n",
       "      <td>0.372500</td>\n",
       "      <td>29.000000</td>\n",
       "      <td>0.000000</td>\n",
       "    </tr>\n",
       "    <tr>\n",
       "      <th>75%</th>\n",
       "      <td>6.000000</td>\n",
       "      <td>140.250000</td>\n",
       "      <td>80.000000</td>\n",
       "      <td>32.000000</td>\n",
       "      <td>127.250000</td>\n",
       "      <td>36.600000</td>\n",
       "      <td>0.626250</td>\n",
       "      <td>41.000000</td>\n",
       "      <td>1.000000</td>\n",
       "    </tr>\n",
       "    <tr>\n",
       "      <th>max</th>\n",
       "      <td>17.000000</td>\n",
       "      <td>199.000000</td>\n",
       "      <td>122.000000</td>\n",
       "      <td>99.000000</td>\n",
       "      <td>846.000000</td>\n",
       "      <td>67.100000</td>\n",
       "      <td>2.420000</td>\n",
       "      <td>81.000000</td>\n",
       "      <td>1.000000</td>\n",
       "    </tr>\n",
       "  </tbody>\n",
       "</table>\n",
       "</div>"
      ],
      "text/plain": [
       "       Pregnancies     Glucose  BloodPressure  SkinThickness     Insulin  \\\n",
       "count   768.000000  768.000000     768.000000     768.000000  768.000000   \n",
       "mean      3.845052  120.894531      69.105469      20.536458   79.799479   \n",
       "std       3.369578   31.972618      19.355807      15.952218  115.244002   \n",
       "min       0.000000    0.000000       0.000000       0.000000    0.000000   \n",
       "25%       1.000000   99.000000      62.000000       0.000000    0.000000   \n",
       "50%       3.000000  117.000000      72.000000      23.000000   30.500000   \n",
       "75%       6.000000  140.250000      80.000000      32.000000  127.250000   \n",
       "max      17.000000  199.000000     122.000000      99.000000  846.000000   \n",
       "\n",
       "              BMI  DiabetesPedigreeFunction         Age     Outcome  \n",
       "count  768.000000                768.000000  768.000000  768.000000  \n",
       "mean    31.992578                  0.471876   33.240885    0.348958  \n",
       "std      7.884160                  0.331329   11.760232    0.476951  \n",
       "min      0.000000                  0.078000   21.000000    0.000000  \n",
       "25%     27.300000                  0.243750   24.000000    0.000000  \n",
       "50%     32.000000                  0.372500   29.000000    0.000000  \n",
       "75%     36.600000                  0.626250   41.000000    1.000000  \n",
       "max     67.100000                  2.420000   81.000000    1.000000  "
      ]
     },
     "execution_count": 6,
     "metadata": {},
     "output_type": "execute_result"
    }
   ],
   "source": [
    "df.describe()"
   ]
  },
  {
   "cell_type": "code",
   "execution_count": 7,
   "id": "4fa22796",
   "metadata": {},
   "outputs": [],
   "source": [
    "ml=[\"Glucose\",\"BloodPressure\",\"SkinThickness\",\"Insulin\",\"BMI\"]\n",
    "for i in ml:\n",
    "    df[i].replace(0,np.nan,inplace=True)\n",
    "    df[i].fillna(df[i].mean(),inplace=True)"
   ]
  },
  {
   "cell_type": "code",
   "execution_count": 8,
   "id": "0fccdfb3",
   "metadata": {},
   "outputs": [
    {
     "data": {
      "text/html": [
       "<div>\n",
       "<style scoped>\n",
       "    .dataframe tbody tr th:only-of-type {\n",
       "        vertical-align: middle;\n",
       "    }\n",
       "\n",
       "    .dataframe tbody tr th {\n",
       "        vertical-align: top;\n",
       "    }\n",
       "\n",
       "    .dataframe thead th {\n",
       "        text-align: right;\n",
       "    }\n",
       "</style>\n",
       "<table border=\"1\" class=\"dataframe\">\n",
       "  <thead>\n",
       "    <tr style=\"text-align: right;\">\n",
       "      <th></th>\n",
       "      <th>Pregnancies</th>\n",
       "      <th>Glucose</th>\n",
       "      <th>BloodPressure</th>\n",
       "      <th>SkinThickness</th>\n",
       "      <th>Insulin</th>\n",
       "      <th>BMI</th>\n",
       "      <th>DiabetesPedigreeFunction</th>\n",
       "      <th>Age</th>\n",
       "      <th>Outcome</th>\n",
       "    </tr>\n",
       "  </thead>\n",
       "  <tbody>\n",
       "    <tr>\n",
       "      <th>count</th>\n",
       "      <td>768.000000</td>\n",
       "      <td>768.000000</td>\n",
       "      <td>768.000000</td>\n",
       "      <td>768.000000</td>\n",
       "      <td>768.000000</td>\n",
       "      <td>768.000000</td>\n",
       "      <td>768.000000</td>\n",
       "      <td>768.000000</td>\n",
       "      <td>768.000000</td>\n",
       "    </tr>\n",
       "    <tr>\n",
       "      <th>mean</th>\n",
       "      <td>3.845052</td>\n",
       "      <td>121.686763</td>\n",
       "      <td>72.405184</td>\n",
       "      <td>29.153420</td>\n",
       "      <td>155.548223</td>\n",
       "      <td>32.457464</td>\n",
       "      <td>0.471876</td>\n",
       "      <td>33.240885</td>\n",
       "      <td>0.348958</td>\n",
       "    </tr>\n",
       "    <tr>\n",
       "      <th>std</th>\n",
       "      <td>3.369578</td>\n",
       "      <td>30.435949</td>\n",
       "      <td>12.096346</td>\n",
       "      <td>8.790942</td>\n",
       "      <td>85.021108</td>\n",
       "      <td>6.875151</td>\n",
       "      <td>0.331329</td>\n",
       "      <td>11.760232</td>\n",
       "      <td>0.476951</td>\n",
       "    </tr>\n",
       "    <tr>\n",
       "      <th>min</th>\n",
       "      <td>0.000000</td>\n",
       "      <td>44.000000</td>\n",
       "      <td>24.000000</td>\n",
       "      <td>7.000000</td>\n",
       "      <td>14.000000</td>\n",
       "      <td>18.200000</td>\n",
       "      <td>0.078000</td>\n",
       "      <td>21.000000</td>\n",
       "      <td>0.000000</td>\n",
       "    </tr>\n",
       "    <tr>\n",
       "      <th>25%</th>\n",
       "      <td>1.000000</td>\n",
       "      <td>99.750000</td>\n",
       "      <td>64.000000</td>\n",
       "      <td>25.000000</td>\n",
       "      <td>121.500000</td>\n",
       "      <td>27.500000</td>\n",
       "      <td>0.243750</td>\n",
       "      <td>24.000000</td>\n",
       "      <td>0.000000</td>\n",
       "    </tr>\n",
       "    <tr>\n",
       "      <th>50%</th>\n",
       "      <td>3.000000</td>\n",
       "      <td>117.000000</td>\n",
       "      <td>72.202592</td>\n",
       "      <td>29.153420</td>\n",
       "      <td>155.548223</td>\n",
       "      <td>32.400000</td>\n",
       "      <td>0.372500</td>\n",
       "      <td>29.000000</td>\n",
       "      <td>0.000000</td>\n",
       "    </tr>\n",
       "    <tr>\n",
       "      <th>75%</th>\n",
       "      <td>6.000000</td>\n",
       "      <td>140.250000</td>\n",
       "      <td>80.000000</td>\n",
       "      <td>32.000000</td>\n",
       "      <td>155.548223</td>\n",
       "      <td>36.600000</td>\n",
       "      <td>0.626250</td>\n",
       "      <td>41.000000</td>\n",
       "      <td>1.000000</td>\n",
       "    </tr>\n",
       "    <tr>\n",
       "      <th>max</th>\n",
       "      <td>17.000000</td>\n",
       "      <td>199.000000</td>\n",
       "      <td>122.000000</td>\n",
       "      <td>99.000000</td>\n",
       "      <td>846.000000</td>\n",
       "      <td>67.100000</td>\n",
       "      <td>2.420000</td>\n",
       "      <td>81.000000</td>\n",
       "      <td>1.000000</td>\n",
       "    </tr>\n",
       "  </tbody>\n",
       "</table>\n",
       "</div>"
      ],
      "text/plain": [
       "       Pregnancies     Glucose  BloodPressure  SkinThickness     Insulin  \\\n",
       "count   768.000000  768.000000     768.000000     768.000000  768.000000   \n",
       "mean      3.845052  121.686763      72.405184      29.153420  155.548223   \n",
       "std       3.369578   30.435949      12.096346       8.790942   85.021108   \n",
       "min       0.000000   44.000000      24.000000       7.000000   14.000000   \n",
       "25%       1.000000   99.750000      64.000000      25.000000  121.500000   \n",
       "50%       3.000000  117.000000      72.202592      29.153420  155.548223   \n",
       "75%       6.000000  140.250000      80.000000      32.000000  155.548223   \n",
       "max      17.000000  199.000000     122.000000      99.000000  846.000000   \n",
       "\n",
       "              BMI  DiabetesPedigreeFunction         Age     Outcome  \n",
       "count  768.000000                768.000000  768.000000  768.000000  \n",
       "mean    32.457464                  0.471876   33.240885    0.348958  \n",
       "std      6.875151                  0.331329   11.760232    0.476951  \n",
       "min     18.200000                  0.078000   21.000000    0.000000  \n",
       "25%     27.500000                  0.243750   24.000000    0.000000  \n",
       "50%     32.400000                  0.372500   29.000000    0.000000  \n",
       "75%     36.600000                  0.626250   41.000000    1.000000  \n",
       "max     67.100000                  2.420000   81.000000    1.000000  "
      ]
     },
     "execution_count": 8,
     "metadata": {},
     "output_type": "execute_result"
    }
   ],
   "source": [
    "df.describe()"
   ]
  },
  {
   "cell_type": "code",
   "execution_count": 9,
   "id": "44761d6f",
   "metadata": {},
   "outputs": [
    {
     "data": {
      "text/html": [
       "<div>\n",
       "<style scoped>\n",
       "    .dataframe tbody tr th:only-of-type {\n",
       "        vertical-align: middle;\n",
       "    }\n",
       "\n",
       "    .dataframe tbody tr th {\n",
       "        vertical-align: top;\n",
       "    }\n",
       "\n",
       "    .dataframe thead th {\n",
       "        text-align: right;\n",
       "    }\n",
       "</style>\n",
       "<table border=\"1\" class=\"dataframe\">\n",
       "  <thead>\n",
       "    <tr style=\"text-align: right;\">\n",
       "      <th></th>\n",
       "      <th>Glucose</th>\n",
       "      <th>BloodPressure</th>\n",
       "      <th>SkinThickness</th>\n",
       "      <th>Insulin</th>\n",
       "      <th>BMI</th>\n",
       "      <th>DiabetesPedigreeFunction</th>\n",
       "      <th>Age</th>\n",
       "    </tr>\n",
       "  </thead>\n",
       "  <tbody>\n",
       "    <tr>\n",
       "      <th>0</th>\n",
       "      <td>148.0</td>\n",
       "      <td>72.0</td>\n",
       "      <td>35.00000</td>\n",
       "      <td>155.548223</td>\n",
       "      <td>33.6</td>\n",
       "      <td>0.627</td>\n",
       "      <td>50</td>\n",
       "    </tr>\n",
       "    <tr>\n",
       "      <th>1</th>\n",
       "      <td>85.0</td>\n",
       "      <td>66.0</td>\n",
       "      <td>29.00000</td>\n",
       "      <td>155.548223</td>\n",
       "      <td>26.6</td>\n",
       "      <td>0.351</td>\n",
       "      <td>31</td>\n",
       "    </tr>\n",
       "    <tr>\n",
       "      <th>2</th>\n",
       "      <td>183.0</td>\n",
       "      <td>64.0</td>\n",
       "      <td>29.15342</td>\n",
       "      <td>155.548223</td>\n",
       "      <td>23.3</td>\n",
       "      <td>0.672</td>\n",
       "      <td>32</td>\n",
       "    </tr>\n",
       "    <tr>\n",
       "      <th>3</th>\n",
       "      <td>89.0</td>\n",
       "      <td>66.0</td>\n",
       "      <td>23.00000</td>\n",
       "      <td>94.000000</td>\n",
       "      <td>28.1</td>\n",
       "      <td>0.167</td>\n",
       "      <td>21</td>\n",
       "    </tr>\n",
       "    <tr>\n",
       "      <th>4</th>\n",
       "      <td>137.0</td>\n",
       "      <td>40.0</td>\n",
       "      <td>35.00000</td>\n",
       "      <td>168.000000</td>\n",
       "      <td>43.1</td>\n",
       "      <td>2.288</td>\n",
       "      <td>33</td>\n",
       "    </tr>\n",
       "    <tr>\n",
       "      <th>...</th>\n",
       "      <td>...</td>\n",
       "      <td>...</td>\n",
       "      <td>...</td>\n",
       "      <td>...</td>\n",
       "      <td>...</td>\n",
       "      <td>...</td>\n",
       "      <td>...</td>\n",
       "    </tr>\n",
       "    <tr>\n",
       "      <th>763</th>\n",
       "      <td>101.0</td>\n",
       "      <td>76.0</td>\n",
       "      <td>48.00000</td>\n",
       "      <td>180.000000</td>\n",
       "      <td>32.9</td>\n",
       "      <td>0.171</td>\n",
       "      <td>63</td>\n",
       "    </tr>\n",
       "    <tr>\n",
       "      <th>764</th>\n",
       "      <td>122.0</td>\n",
       "      <td>70.0</td>\n",
       "      <td>27.00000</td>\n",
       "      <td>155.548223</td>\n",
       "      <td>36.8</td>\n",
       "      <td>0.340</td>\n",
       "      <td>27</td>\n",
       "    </tr>\n",
       "    <tr>\n",
       "      <th>765</th>\n",
       "      <td>121.0</td>\n",
       "      <td>72.0</td>\n",
       "      <td>23.00000</td>\n",
       "      <td>112.000000</td>\n",
       "      <td>26.2</td>\n",
       "      <td>0.245</td>\n",
       "      <td>30</td>\n",
       "    </tr>\n",
       "    <tr>\n",
       "      <th>766</th>\n",
       "      <td>126.0</td>\n",
       "      <td>60.0</td>\n",
       "      <td>29.15342</td>\n",
       "      <td>155.548223</td>\n",
       "      <td>30.1</td>\n",
       "      <td>0.349</td>\n",
       "      <td>47</td>\n",
       "    </tr>\n",
       "    <tr>\n",
       "      <th>767</th>\n",
       "      <td>93.0</td>\n",
       "      <td>70.0</td>\n",
       "      <td>31.00000</td>\n",
       "      <td>155.548223</td>\n",
       "      <td>30.4</td>\n",
       "      <td>0.315</td>\n",
       "      <td>23</td>\n",
       "    </tr>\n",
       "  </tbody>\n",
       "</table>\n",
       "<p>768 rows × 7 columns</p>\n",
       "</div>"
      ],
      "text/plain": [
       "     Glucose  BloodPressure  SkinThickness     Insulin   BMI  \\\n",
       "0      148.0           72.0       35.00000  155.548223  33.6   \n",
       "1       85.0           66.0       29.00000  155.548223  26.6   \n",
       "2      183.0           64.0       29.15342  155.548223  23.3   \n",
       "3       89.0           66.0       23.00000   94.000000  28.1   \n",
       "4      137.0           40.0       35.00000  168.000000  43.1   \n",
       "..       ...            ...            ...         ...   ...   \n",
       "763    101.0           76.0       48.00000  180.000000  32.9   \n",
       "764    122.0           70.0       27.00000  155.548223  36.8   \n",
       "765    121.0           72.0       23.00000  112.000000  26.2   \n",
       "766    126.0           60.0       29.15342  155.548223  30.1   \n",
       "767     93.0           70.0       31.00000  155.548223  30.4   \n",
       "\n",
       "     DiabetesPedigreeFunction  Age  \n",
       "0                       0.627   50  \n",
       "1                       0.351   31  \n",
       "2                       0.672   32  \n",
       "3                       0.167   21  \n",
       "4                       2.288   33  \n",
       "..                        ...  ...  \n",
       "763                     0.171   63  \n",
       "764                     0.340   27  \n",
       "765                     0.245   30  \n",
       "766                     0.349   47  \n",
       "767                     0.315   23  \n",
       "\n",
       "[768 rows x 7 columns]"
      ]
     },
     "execution_count": 9,
     "metadata": {},
     "output_type": "execute_result"
    }
   ],
   "source": [
    "x=df.iloc[:,1:-1]\n",
    "x"
   ]
  },
  {
   "cell_type": "code",
   "execution_count": 10,
   "id": "eb71b4c3",
   "metadata": {},
   "outputs": [
    {
     "data": {
      "text/plain": [
       "0      1\n",
       "1      0\n",
       "2      1\n",
       "3      0\n",
       "4      1\n",
       "      ..\n",
       "763    0\n",
       "764    0\n",
       "765    0\n",
       "766    1\n",
       "767    0\n",
       "Name: Outcome, Length: 768, dtype: int64"
      ]
     },
     "execution_count": 10,
     "metadata": {},
     "output_type": "execute_result"
    }
   ],
   "source": [
    "y=df[\"Outcome\"]\n",
    "y"
   ]
  },
  {
   "cell_type": "code",
   "execution_count": 11,
   "id": "6fad7ea1",
   "metadata": {},
   "outputs": [],
   "source": [
    "#standarization\n",
    "from sklearn.preprocessing import StandardScaler\n",
    "sc=StandardScaler()\n",
    "x=sc.fit_transform(x)"
   ]
  },
  {
   "cell_type": "code",
   "execution_count": 12,
   "id": "b5fc9e0c",
   "metadata": {},
   "outputs": [],
   "source": [
    "# Applying train test split\n",
    "xtrain,xtest,ytrain,ytest = train_test_split(x,y,test_size=0.20,random_state=1)"
   ]
  },
  {
   "cell_type": "code",
   "execution_count": 13,
   "id": "187edbdb",
   "metadata": {},
   "outputs": [],
   "source": [
    "def mymodel(model):\n",
    "    model.fit(xtrain,ytrain)\n",
    "    ypred=model.predict(xtest)\n",
    "    print(classification_report(ytest,ypred))"
   ]
  },
  {
   "cell_type": "code",
   "execution_count": 14,
   "id": "11ed1ad5",
   "metadata": {},
   "outputs": [],
   "source": [
    "lreg=LogisticRegression()\n",
    "knn=KNeighborsClassifier()\n",
    "svm=SVC()\n",
    "dt=DecisionTreeClassifier()"
   ]
  },
  {
   "cell_type": "code",
   "execution_count": 15,
   "id": "dcf934b8",
   "metadata": {},
   "outputs": [
    {
     "name": "stdout",
     "output_type": "stream",
     "text": [
      "              precision    recall  f1-score   support\n",
      "\n",
      "           0       0.80      0.89      0.84        99\n",
      "           1       0.75      0.60      0.67        55\n",
      "\n",
      "    accuracy                           0.79       154\n",
      "   macro avg       0.78      0.74      0.75       154\n",
      "weighted avg       0.78      0.79      0.78       154\n",
      "\n"
     ]
    }
   ],
   "source": [
    "mymodel(lreg)"
   ]
  },
  {
   "cell_type": "code",
   "execution_count": 16,
   "id": "645a7ac6",
   "metadata": {},
   "outputs": [
    {
     "name": "stdout",
     "output_type": "stream",
     "text": [
      "              precision    recall  f1-score   support\n",
      "\n",
      "           0       0.80      0.87      0.83        99\n",
      "           1       0.72      0.62      0.67        55\n",
      "\n",
      "    accuracy                           0.78       154\n",
      "   macro avg       0.76      0.74      0.75       154\n",
      "weighted avg       0.78      0.78      0.77       154\n",
      "\n"
     ]
    }
   ],
   "source": [
    "mymodel(knn)"
   ]
  },
  {
   "cell_type": "code",
   "execution_count": 17,
   "id": "dd2190d6",
   "metadata": {},
   "outputs": [
    {
     "name": "stdout",
     "output_type": "stream",
     "text": [
      "              precision    recall  f1-score   support\n",
      "\n",
      "           0       0.79      0.93      0.86        99\n",
      "           1       0.82      0.56      0.67        55\n",
      "\n",
      "    accuracy                           0.80       154\n",
      "   macro avg       0.80      0.75      0.76       154\n",
      "weighted avg       0.80      0.80      0.79       154\n",
      "\n"
     ]
    }
   ],
   "source": [
    "mymodel(svm)"
   ]
  },
  {
   "cell_type": "code",
   "execution_count": 18,
   "id": "9519423d",
   "metadata": {},
   "outputs": [
    {
     "name": "stdout",
     "output_type": "stream",
     "text": [
      "              precision    recall  f1-score   support\n",
      "\n",
      "           0       0.77      0.82      0.79        99\n",
      "           1       0.63      0.56      0.60        55\n",
      "\n",
      "    accuracy                           0.73       154\n",
      "   macro avg       0.70      0.69      0.70       154\n",
      "weighted avg       0.72      0.73      0.72       154\n",
      "\n"
     ]
    }
   ],
   "source": [
    "mymodel(dt)"
   ]
  },
  {
   "cell_type": "code",
   "execution_count": 19,
   "id": "ff6dc4ba",
   "metadata": {},
   "outputs": [
    {
     "data": {
      "text/plain": [
       "1.0"
      ]
     },
     "execution_count": 19,
     "metadata": {},
     "output_type": "execute_result"
    }
   ],
   "source": [
    "dt.score(xtrain,ytrain)"
   ]
  },
  {
   "cell_type": "markdown",
   "id": "9e8cc857",
   "metadata": {},
   "source": [
    "# HYPER-PARAMETER"
   ]
  },
  {
   "cell_type": "code",
   "execution_count": 20,
   "id": "d5a1791d",
   "metadata": {},
   "outputs": [
    {
     "name": "stdout",
     "output_type": "stream",
     "text": [
      "              precision    recall  f1-score   support\n",
      "\n",
      "           0       0.81      0.84      0.83        99\n",
      "           1       0.69      0.65      0.67        55\n",
      "\n",
      "    accuracy                           0.77       154\n",
      "   macro avg       0.75      0.75      0.75       154\n",
      "weighted avg       0.77      0.77      0.77       154\n",
      "\n"
     ]
    }
   ],
   "source": [
    "dt1=DecisionTreeClassifier(max_depth=5)\n",
    "mymodel(dt1)"
   ]
  },
  {
   "cell_type": "code",
   "execution_count": 21,
   "id": "cd454b11",
   "metadata": {},
   "outputs": [
    {
     "name": "stdout",
     "output_type": "stream",
     "text": [
      "1 = 0.7337662337662337\n",
      "2 = 0.7922077922077922\n",
      "3 = 0.7792207792207793\n",
      "4 = 0.7662337662337663\n",
      "5 = 0.7662337662337663\n",
      "6 = 0.8116883116883117\n",
      "7 = 0.7532467532467533\n",
      "8 = 0.7272727272727273\n",
      "9 = 0.7207792207792207\n",
      "10 = 0.6818181818181818\n",
      "11 = 0.7077922077922078\n",
      "12 = 0.7012987012987013\n",
      "13 = 0.6818181818181818\n",
      "14 = 0.7012987012987013\n",
      "15 = 0.6948051948051948\n",
      "16 = 0.6753246753246753\n",
      "17 = 0.7337662337662337\n",
      "18 = 0.6883116883116883\n",
      "19 = 0.7142857142857143\n",
      "20 = 0.6753246753246753\n",
      "21 = 0.6883116883116883\n",
      "22 = 0.6818181818181818\n",
      "23 = 0.7272727272727273\n",
      "24 = 0.7012987012987013\n",
      "25 = 0.7142857142857143\n",
      "26 = 0.6883116883116883\n",
      "27 = 0.6948051948051948\n",
      "28 = 0.6948051948051948\n",
      "29 = 0.6818181818181818\n",
      "30 = 0.7077922077922078\n",
      "31 = 0.7142857142857143\n",
      "32 = 0.6688311688311688\n",
      "33 = 0.7012987012987013\n",
      "34 = 0.7077922077922078\n",
      "35 = 0.6688311688311688\n",
      "36 = 0.7142857142857143\n",
      "37 = 0.7142857142857143\n",
      "38 = 0.6883116883116883\n",
      "39 = 0.7207792207792207\n",
      "40 = 0.6948051948051948\n",
      "41 = 0.7077922077922078\n",
      "42 = 0.6883116883116883\n",
      "43 = 0.7207792207792207\n",
      "44 = 0.7142857142857143\n",
      "45 = 0.7077922077922078\n",
      "46 = 0.6818181818181818\n",
      "47 = 0.7012987012987013\n",
      "48 = 0.7077922077922078\n",
      "49 = 0.6818181818181818\n",
      "50 = 0.7077922077922078\n"
     ]
    }
   ],
   "source": [
    "for i in range(1,51):\n",
    "    dt2=DecisionTreeClassifier(max_depth=i)\n",
    "    dt2.fit(xtrain,ytrain)\n",
    "    ypred=dt2.predict(xtest)\n",
    "    print(f\"{i} = {accuracy_score(ytest,ypred)}\")"
   ]
  },
  {
   "cell_type": "code",
   "execution_count": 22,
   "id": "489c09b3",
   "metadata": {},
   "outputs": [
    {
     "name": "stdout",
     "output_type": "stream",
     "text": [
      "              precision    recall  f1-score   support\n",
      "\n",
      "           0       0.88      0.78      0.82        99\n",
      "           1       0.67      0.80      0.73        55\n",
      "\n",
      "    accuracy                           0.79       154\n",
      "   macro avg       0.77      0.79      0.78       154\n",
      "weighted avg       0.80      0.79      0.79       154\n",
      "\n"
     ]
    }
   ],
   "source": [
    "#best value of max_depth=6\n",
    "dt3=DecisionTreeClassifier(max_depth=6)\n",
    "mymodel(dt3)"
   ]
  },
  {
   "cell_type": "code",
   "execution_count": 23,
   "id": "ab8c0b1b",
   "metadata": {},
   "outputs": [
    {
     "name": "stdout",
     "output_type": "stream",
     "text": [
      "              precision    recall  f1-score   support\n",
      "\n",
      "           0       0.85      0.89      0.87        99\n",
      "           1       0.78      0.73      0.75        55\n",
      "\n",
      "    accuracy                           0.83       154\n",
      "   macro avg       0.82      0.81      0.81       154\n",
      "weighted avg       0.83      0.83      0.83       154\n",
      "\n"
     ]
    }
   ],
   "source": [
    "dt4=DecisionTreeClassifier(min_samples_leaf=10)\n",
    "mymodel(dt4)"
   ]
  },
  {
   "cell_type": "code",
   "execution_count": 24,
   "id": "af4fceb5",
   "metadata": {},
   "outputs": [
    {
     "name": "stdout",
     "output_type": "stream",
     "text": [
      "1 = 0.6948051948051948\n",
      "2 = 0.7272727272727273\n",
      "3 = 0.6753246753246753\n",
      "4 = 0.6883116883116883\n",
      "5 = 0.7077922077922078\n",
      "6 = 0.7597402597402597\n",
      "7 = 0.7987012987012987\n",
      "8 = 0.7987012987012987\n",
      "9 = 0.7857142857142857\n",
      "10 = 0.8311688311688312\n",
      "11 = 0.8311688311688312\n",
      "12 = 0.8311688311688312\n",
      "13 = 0.8311688311688312\n",
      "14 = 0.8311688311688312\n",
      "15 = 0.8181818181818182\n",
      "16 = 0.8116883116883117\n",
      "17 = 0.8116883116883117\n",
      "18 = 0.8116883116883117\n",
      "19 = 0.8376623376623377\n",
      "20 = 0.8376623376623377\n",
      "21 = 0.8376623376623377\n",
      "22 = 0.8246753246753247\n",
      "23 = 0.8246753246753247\n",
      "24 = 0.8246753246753247\n",
      "25 = 0.8246753246753247\n",
      "26 = 0.8246753246753247\n",
      "27 = 0.8246753246753247\n",
      "28 = 0.8181818181818182\n",
      "29 = 0.7987012987012987\n",
      "30 = 0.8051948051948052\n",
      "31 = 0.8051948051948052\n",
      "32 = 0.8246753246753247\n",
      "33 = 0.8246753246753247\n",
      "34 = 0.8246753246753247\n",
      "35 = 0.8246753246753247\n",
      "36 = 0.8246753246753247\n",
      "37 = 0.8246753246753247\n",
      "38 = 0.8051948051948052\n",
      "39 = 0.8051948051948052\n",
      "40 = 0.8051948051948052\n",
      "41 = 0.7922077922077922\n",
      "42 = 0.7922077922077922\n",
      "43 = 0.7922077922077922\n",
      "44 = 0.7922077922077922\n",
      "45 = 0.7922077922077922\n",
      "46 = 0.7922077922077922\n",
      "47 = 0.7922077922077922\n",
      "48 = 0.7922077922077922\n",
      "49 = 0.7922077922077922\n",
      "50 = 0.7922077922077922\n",
      "51 = 0.7922077922077922\n",
      "52 = 0.7922077922077922\n",
      "53 = 0.7922077922077922\n",
      "54 = 0.7922077922077922\n",
      "55 = 0.7922077922077922\n",
      "56 = 0.7922077922077922\n",
      "57 = 0.7922077922077922\n",
      "58 = 0.7922077922077922\n",
      "59 = 0.7922077922077922\n",
      "60 = 0.7922077922077922\n",
      "61 = 0.7922077922077922\n",
      "62 = 0.7922077922077922\n",
      "63 = 0.7337662337662337\n",
      "64 = 0.7337662337662337\n",
      "65 = 0.7337662337662337\n",
      "66 = 0.7337662337662337\n",
      "67 = 0.7597402597402597\n",
      "68 = 0.7597402597402597\n",
      "69 = 0.7597402597402597\n",
      "70 = 0.7597402597402597\n",
      "71 = 0.7597402597402597\n",
      "72 = 0.7597402597402597\n",
      "73 = 0.7597402597402597\n",
      "74 = 0.7597402597402597\n"
     ]
    }
   ],
   "source": [
    "for i in range(1,75):\n",
    "    dt5=DecisionTreeClassifier(min_samples_leaf=i)\n",
    "    dt5.fit(xtrain,ytrain)\n",
    "    ypred=dt5.predict(xtest)\n",
    "    print(f\"{i} = {accuracy_score(ytest,ypred)}\")"
   ]
  },
  {
   "cell_type": "code",
   "execution_count": 25,
   "id": "22e323b1",
   "metadata": {},
   "outputs": [
    {
     "name": "stdout",
     "output_type": "stream",
     "text": [
      "              precision    recall  f1-score   support\n",
      "\n",
      "           0       0.85      0.89      0.87        99\n",
      "           1       0.78      0.73      0.75        55\n",
      "\n",
      "    accuracy                           0.83       154\n",
      "   macro avg       0.82      0.81      0.81       154\n",
      "weighted avg       0.83      0.83      0.83       154\n",
      "\n"
     ]
    }
   ],
   "source": [
    "dt6=DecisionTreeClassifier(min_samples_leaf=10)\n",
    "mymodel(dt6)"
   ]
  },
  {
   "cell_type": "code",
   "execution_count": 26,
   "id": "76de563e",
   "metadata": {},
   "outputs": [
    {
     "name": "stdout",
     "output_type": "stream",
     "text": [
      "              precision    recall  f1-score   support\n",
      "\n",
      "           0       0.89      0.87      0.88        99\n",
      "           1       0.77      0.80      0.79        55\n",
      "\n",
      "    accuracy                           0.84       154\n",
      "   macro avg       0.83      0.83      0.83       154\n",
      "weighted avg       0.85      0.84      0.84       154\n",
      "\n"
     ]
    }
   ],
   "source": [
    "dt7=DecisionTreeClassifier(max_depth=6,min_samples_leaf=10)\n",
    "mymodel(dt7)"
   ]
  },
  {
   "cell_type": "markdown",
   "id": "33a6da66",
   "metadata": {},
   "source": [
    "# GINI"
   ]
  },
  {
   "cell_type": "code",
   "execution_count": 27,
   "id": "8c5d9f47",
   "metadata": {},
   "outputs": [
    {
     "name": "stdout",
     "output_type": "stream",
     "text": [
      "              precision    recall  f1-score   support\n",
      "\n",
      "           0       0.85      0.89      0.87        99\n",
      "           1       0.78      0.73      0.75        55\n",
      "\n",
      "    accuracy                           0.83       154\n",
      "   macro avg       0.82      0.81      0.81       154\n",
      "weighted avg       0.83      0.83      0.83       154\n",
      "\n"
     ]
    }
   ],
   "source": [
    "dt8=DecisionTreeClassifier(criterion=\"gini\",min_samples_leaf=10)\n",
    "mymodel(dt8)"
   ]
  },
  {
   "cell_type": "code",
   "execution_count": 28,
   "id": "4934a2b1",
   "metadata": {},
   "outputs": [
    {
     "name": "stdout",
     "output_type": "stream",
     "text": [
      "              precision    recall  f1-score   support\n",
      "\n",
      "           0       0.86      0.80      0.83        99\n",
      "           1       0.68      0.76      0.72        55\n",
      "\n",
      "    accuracy                           0.79       154\n",
      "   macro avg       0.77      0.78      0.77       154\n",
      "weighted avg       0.79      0.79      0.79       154\n",
      "\n"
     ]
    }
   ],
   "source": [
    "dt9=DecisionTreeClassifier(criterion=\"gini\",max_depth=6)\n",
    "mymodel(dt9)"
   ]
  },
  {
   "cell_type": "code",
   "execution_count": 29,
   "id": "52089fdd",
   "metadata": {},
   "outputs": [
    {
     "name": "stdout",
     "output_type": "stream",
     "text": [
      "              precision    recall  f1-score   support\n",
      "\n",
      "           0       0.87      0.78      0.82        99\n",
      "           1       0.66      0.78      0.72        55\n",
      "\n",
      "    accuracy                           0.78       154\n",
      "   macro avg       0.76      0.78      0.77       154\n",
      "weighted avg       0.79      0.78      0.78       154\n",
      "\n"
     ]
    }
   ],
   "source": [
    "dt10=DecisionTreeClassifier(criterion=\"entropy\",max_depth=6)\n",
    "mymodel(dt10)"
   ]
  },
  {
   "cell_type": "code",
   "execution_count": 30,
   "id": "8207964b",
   "metadata": {},
   "outputs": [
    {
     "name": "stdout",
     "output_type": "stream",
     "text": [
      "1= 0.7337662337662337\n",
      "2= 0.7337662337662337\n",
      "3= 0.7922077922077922\n",
      "4= 0.7857142857142857\n",
      "5= 0.7857142857142857\n",
      "6= 0.7662337662337663\n",
      "7= 0.7662337662337663\n",
      "8= 0.7532467532467533\n",
      "9= 0.7337662337662337\n",
      "10= 0.7467532467532467\n",
      "11= 0.7402597402597403\n",
      "12= 0.7402597402597403\n",
      "13= 0.7337662337662337\n",
      "14= 0.7597402597402597\n",
      "15= 0.7337662337662337\n",
      "16= 0.7337662337662337\n",
      "17= 0.7402597402597403\n",
      "18= 0.7337662337662337\n",
      "19= 0.7337662337662337\n",
      "20= 0.7142857142857143\n",
      "21= 0.7207792207792207\n",
      "22= 0.7272727272727273\n",
      "23= 0.7337662337662337\n",
      "24= 0.7402597402597403\n",
      "25= 0.7207792207792207\n",
      "26= 0.7272727272727273\n",
      "27= 0.7077922077922078\n",
      "28= 0.7012987012987013\n",
      "29= 0.7207792207792207\n",
      "30= 0.7337662337662337\n",
      "31= 0.7402597402597403\n",
      "32= 0.7207792207792207\n",
      "33= 0.7142857142857143\n",
      "34= 0.7207792207792207\n",
      "35= 0.7142857142857143\n",
      "36= 0.7272727272727273\n",
      "37= 0.7142857142857143\n",
      "38= 0.7142857142857143\n",
      "39= 0.7337662337662337\n",
      "40= 0.7337662337662337\n",
      "41= 0.7207792207792207\n",
      "42= 0.7207792207792207\n",
      "43= 0.7077922077922078\n",
      "44= 0.7142857142857143\n",
      "45= 0.7272727272727273\n",
      "46= 0.7207792207792207\n",
      "47= 0.7142857142857143\n",
      "48= 0.7207792207792207\n",
      "49= 0.7207792207792207\n"
     ]
    }
   ],
   "source": [
    "for i in range(1,50):\n",
    "    dt11=DecisionTreeClassifier(criterion=\"entropy\",max_depth=i)\n",
    "    dt11.fit(xtrain,ytrain)\n",
    "    ypred=dt11.predict(xtest)\n",
    "    print(f\"{i}= {accuracy_score(ytest,ypred)}\")"
   ]
  },
  {
   "cell_type": "code",
   "execution_count": 31,
   "id": "145ba945",
   "metadata": {},
   "outputs": [
    {
     "name": "stdout",
     "output_type": "stream",
     "text": [
      "              precision    recall  f1-score   support\n",
      "\n",
      "           0       0.88      0.75      0.81        99\n",
      "           1       0.64      0.82      0.72        55\n",
      "\n",
      "    accuracy                           0.77       154\n",
      "   macro avg       0.76      0.78      0.76       154\n",
      "weighted avg       0.80      0.77      0.78       154\n",
      "\n"
     ]
    }
   ],
   "source": [
    "#best value of max_depth when criterion=entropy\n",
    "dt12=DecisionTreeClassifier(criterion=\"entropy\",max_depth=5)\n",
    "mymodel(dt12)"
   ]
  },
  {
   "cell_type": "code",
   "execution_count": 32,
   "id": "ac2623f0",
   "metadata": {},
   "outputs": [
    {
     "name": "stdout",
     "output_type": "stream",
     "text": [
      "              precision    recall  f1-score   support\n",
      "\n",
      "           0       0.79      0.85      0.82        99\n",
      "           1       0.69      0.60      0.64        55\n",
      "\n",
      "    accuracy                           0.76       154\n",
      "   macro avg       0.74      0.72      0.73       154\n",
      "weighted avg       0.75      0.76      0.76       154\n",
      "\n"
     ]
    }
   ],
   "source": [
    "dt13=DecisionTreeClassifier(criterion=\"entropy\",min_samples_leaf=10)\n",
    "mymodel(dt13)"
   ]
  },
  {
   "cell_type": "code",
   "execution_count": 33,
   "id": "62b95be7",
   "metadata": {},
   "outputs": [
    {
     "name": "stdout",
     "output_type": "stream",
     "text": [
      "1= 0.7142857142857143\n",
      "2= 0.7142857142857143\n",
      "3= 0.7142857142857143\n",
      "4= 0.7727272727272727\n",
      "5= 0.7597402597402597\n",
      "6= 0.7272727272727273\n",
      "7= 0.7402597402597403\n",
      "8= 0.7922077922077922\n",
      "9= 0.7597402597402597\n",
      "10= 0.7792207792207793\n",
      "11= 0.7922077922077922\n",
      "12= 0.7922077922077922\n",
      "13= 0.7987012987012987\n",
      "14= 0.8181818181818182\n",
      "15= 0.8116883116883117\n",
      "16= 0.8116883116883117\n",
      "17= 0.8116883116883117\n",
      "18= 0.8116883116883117\n",
      "19= 0.8116883116883117\n",
      "20= 0.8116883116883117\n",
      "21= 0.8051948051948052\n",
      "22= 0.8051948051948052\n",
      "23= 0.8051948051948052\n",
      "24= 0.8181818181818182\n",
      "25= 0.8181818181818182\n",
      "26= 0.8051948051948052\n",
      "27= 0.8311688311688312\n",
      "28= 0.8246753246753247\n",
      "29= 0.8051948051948052\n",
      "30= 0.8116883116883117\n",
      "31= 0.8116883116883117\n",
      "32= 0.8181818181818182\n",
      "33= 0.8181818181818182\n",
      "34= 0.8181818181818182\n",
      "35= 0.8181818181818182\n",
      "36= 0.8181818181818182\n",
      "37= 0.8181818181818182\n",
      "38= 0.8181818181818182\n",
      "39= 0.8181818181818182\n",
      "40= 0.8181818181818182\n",
      "41= 0.8181818181818182\n",
      "42= 0.8181818181818182\n",
      "43= 0.7987012987012987\n",
      "44= 0.7987012987012987\n",
      "45= 0.7857142857142857\n",
      "46= 0.7857142857142857\n",
      "47= 0.7857142857142857\n",
      "48= 0.7857142857142857\n",
      "49= 0.7857142857142857\n"
     ]
    }
   ],
   "source": [
    "for i in range(1,50):\n",
    "    dt14=DecisionTreeClassifier(criterion=\"entropy\",min_samples_leaf=i)\n",
    "    dt14.fit(xtrain,ytrain)\n",
    "    ypred=dt14.predict(xtest)\n",
    "    print(f\"{i}= {accuracy_score(ytest,ypred)}\")"
   ]
  },
  {
   "cell_type": "code",
   "execution_count": 34,
   "id": "08c42a68",
   "metadata": {},
   "outputs": [
    {
     "name": "stdout",
     "output_type": "stream",
     "text": [
      "              precision    recall  f1-score   support\n",
      "\n",
      "           0       0.84      0.89      0.86        99\n",
      "           1       0.78      0.69      0.73        55\n",
      "\n",
      "    accuracy                           0.82       154\n",
      "   macro avg       0.81      0.79      0.80       154\n",
      "weighted avg       0.82      0.82      0.82       154\n",
      "\n"
     ]
    }
   ],
   "source": [
    "# best value of min_samples_leaf=15 when criterion=entropy\n",
    "dt15=DecisionTreeClassifier(criterion=\"entropy\",min_samples_leaf=14)\n",
    "mymodel(dt15)"
   ]
  },
  {
   "cell_type": "markdown",
   "id": "d8126393",
   "metadata": {},
   "source": [
    "# final models"
   ]
  },
  {
   "cell_type": "code",
   "execution_count": 35,
   "id": "8e65458e",
   "metadata": {},
   "outputs": [
    {
     "name": "stdout",
     "output_type": "stream",
     "text": [
      "              precision    recall  f1-score   support\n",
      "\n",
      "           0       0.90      0.86      0.88        99\n",
      "           1       0.77      0.84      0.80        55\n",
      "\n",
      "    accuracy                           0.85       154\n",
      "   macro avg       0.84      0.85      0.84       154\n",
      "weighted avg       0.86      0.85      0.85       154\n",
      "\n"
     ]
    }
   ],
   "source": [
    "#gini\n",
    "dt16=DecisionTreeClassifier(max_depth=6,min_samples_leaf=14)\n",
    "mymodel(dt16)"
   ]
  },
  {
   "cell_type": "code",
   "execution_count": 36,
   "id": "d5c28542",
   "metadata": {},
   "outputs": [
    {
     "name": "stdout",
     "output_type": "stream",
     "text": [
      "              precision    recall  f1-score   support\n",
      "\n",
      "           0       0.84      0.89      0.86        99\n",
      "           1       0.78      0.69      0.73        55\n",
      "\n",
      "    accuracy                           0.82       154\n",
      "   macro avg       0.81      0.79      0.80       154\n",
      "weighted avg       0.82      0.82      0.82       154\n",
      "\n"
     ]
    }
   ],
   "source": [
    "#entropy\n",
    "dt17=DecisionTreeClassifier(criterion=\"entropy\",min_samples_leaf=14)\n",
    "mymodel(dt17)"
   ]
  },
  {
   "cell_type": "code",
   "execution_count": null,
   "id": "dd71d237",
   "metadata": {},
   "outputs": [],
   "source": []
  }
 ],
 "metadata": {
  "kernelspec": {
   "display_name": "Python 3 (ipykernel)",
   "language": "python",
   "name": "python3"
  },
  "language_info": {
   "codemirror_mode": {
    "name": "ipython",
    "version": 3
   },
   "file_extension": ".py",
   "mimetype": "text/x-python",
   "name": "python",
   "nbconvert_exporter": "python",
   "pygments_lexer": "ipython3",
   "version": "3.10.5"
  }
 },
 "nbformat": 4,
 "nbformat_minor": 5
}
