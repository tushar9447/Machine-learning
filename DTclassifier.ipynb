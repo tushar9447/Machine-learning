{
 "cells": [
  {
   "cell_type": "code",
   "execution_count": 1,
   "id": "27bf7922",
   "metadata": {},
   "outputs": [],
   "source": [
    "import numpy as np\n",
    "import pandas as pd\n",
    "import matplotlib.pyplot as plt\n",
    "import seaborn as sns\n",
    "\n",
    "from sklearn.model_selection import train_test_split, cross_val_score\n",
    "from sklearn.linear_model import LogisticRegression\n",
    "from sklearn.neighbors import KNeighborsClassifier\n",
    "from sklearn.svm import SVC\n",
    "from sklearn.tree import DecisionTreeClassifier\n",
    "from sklearn.metrics import accuracy_score, classification_report\n",
    "\n",
    "import warnings\n",
    "warnings.filterwarnings(\"ignore\")"
   ]
  },
  {
   "cell_type": "code",
   "execution_count": 2,
   "id": "1dee72b3",
   "metadata": {},
   "outputs": [
    {
     "data": {
      "text/html": [
       "<div>\n",
       "<style scoped>\n",
       "    .dataframe tbody tr th:only-of-type {\n",
       "        vertical-align: middle;\n",
       "    }\n",
       "\n",
       "    .dataframe tbody tr th {\n",
       "        vertical-align: top;\n",
       "    }\n",
       "\n",
       "    .dataframe thead th {\n",
       "        text-align: right;\n",
       "    }\n",
       "</style>\n",
       "<table border=\"1\" class=\"dataframe\">\n",
       "  <thead>\n",
       "    <tr style=\"text-align: right;\">\n",
       "      <th></th>\n",
       "      <th>age</th>\n",
       "      <th>job</th>\n",
       "      <th>marital</th>\n",
       "      <th>education</th>\n",
       "      <th>default</th>\n",
       "      <th>balance</th>\n",
       "      <th>housing</th>\n",
       "      <th>loan</th>\n",
       "      <th>contact</th>\n",
       "      <th>day</th>\n",
       "      <th>month</th>\n",
       "      <th>duration</th>\n",
       "      <th>campaign</th>\n",
       "      <th>pdays</th>\n",
       "      <th>previous</th>\n",
       "      <th>poutcome</th>\n",
       "      <th>deposit</th>\n",
       "    </tr>\n",
       "  </thead>\n",
       "  <tbody>\n",
       "    <tr>\n",
       "      <th>0</th>\n",
       "      <td>59</td>\n",
       "      <td>0</td>\n",
       "      <td>1</td>\n",
       "      <td>1</td>\n",
       "      <td>0</td>\n",
       "      <td>2343</td>\n",
       "      <td>1</td>\n",
       "      <td>0</td>\n",
       "      <td>2</td>\n",
       "      <td>5</td>\n",
       "      <td>8</td>\n",
       "      <td>1042</td>\n",
       "      <td>1</td>\n",
       "      <td>-1</td>\n",
       "      <td>0</td>\n",
       "      <td>3</td>\n",
       "      <td>1</td>\n",
       "    </tr>\n",
       "    <tr>\n",
       "      <th>1</th>\n",
       "      <td>56</td>\n",
       "      <td>0</td>\n",
       "      <td>1</td>\n",
       "      <td>1</td>\n",
       "      <td>0</td>\n",
       "      <td>45</td>\n",
       "      <td>0</td>\n",
       "      <td>0</td>\n",
       "      <td>2</td>\n",
       "      <td>5</td>\n",
       "      <td>8</td>\n",
       "      <td>1467</td>\n",
       "      <td>1</td>\n",
       "      <td>-1</td>\n",
       "      <td>0</td>\n",
       "      <td>3</td>\n",
       "      <td>1</td>\n",
       "    </tr>\n",
       "    <tr>\n",
       "      <th>2</th>\n",
       "      <td>41</td>\n",
       "      <td>9</td>\n",
       "      <td>1</td>\n",
       "      <td>1</td>\n",
       "      <td>0</td>\n",
       "      <td>1270</td>\n",
       "      <td>1</td>\n",
       "      <td>0</td>\n",
       "      <td>2</td>\n",
       "      <td>5</td>\n",
       "      <td>8</td>\n",
       "      <td>1389</td>\n",
       "      <td>1</td>\n",
       "      <td>-1</td>\n",
       "      <td>0</td>\n",
       "      <td>3</td>\n",
       "      <td>1</td>\n",
       "    </tr>\n",
       "    <tr>\n",
       "      <th>3</th>\n",
       "      <td>55</td>\n",
       "      <td>7</td>\n",
       "      <td>1</td>\n",
       "      <td>1</td>\n",
       "      <td>0</td>\n",
       "      <td>2476</td>\n",
       "      <td>1</td>\n",
       "      <td>0</td>\n",
       "      <td>2</td>\n",
       "      <td>5</td>\n",
       "      <td>8</td>\n",
       "      <td>579</td>\n",
       "      <td>1</td>\n",
       "      <td>-1</td>\n",
       "      <td>0</td>\n",
       "      <td>3</td>\n",
       "      <td>1</td>\n",
       "    </tr>\n",
       "    <tr>\n",
       "      <th>4</th>\n",
       "      <td>54</td>\n",
       "      <td>0</td>\n",
       "      <td>1</td>\n",
       "      <td>2</td>\n",
       "      <td>0</td>\n",
       "      <td>184</td>\n",
       "      <td>0</td>\n",
       "      <td>0</td>\n",
       "      <td>2</td>\n",
       "      <td>5</td>\n",
       "      <td>8</td>\n",
       "      <td>673</td>\n",
       "      <td>2</td>\n",
       "      <td>-1</td>\n",
       "      <td>0</td>\n",
       "      <td>3</td>\n",
       "      <td>1</td>\n",
       "    </tr>\n",
       "  </tbody>\n",
       "</table>\n",
       "</div>"
      ],
      "text/plain": [
       "   age  job  marital  education  default  balance  housing  loan  contact  \\\n",
       "0   59    0        1          1        0     2343        1     0        2   \n",
       "1   56    0        1          1        0       45        0     0        2   \n",
       "2   41    9        1          1        0     1270        1     0        2   \n",
       "3   55    7        1          1        0     2476        1     0        2   \n",
       "4   54    0        1          2        0      184        0     0        2   \n",
       "\n",
       "   day  month  duration  campaign  pdays  previous  poutcome  deposit  \n",
       "0    5      8      1042         1     -1         0         3        1  \n",
       "1    5      8      1467         1     -1         0         3        1  \n",
       "2    5      8      1389         1     -1         0         3        1  \n",
       "3    5      8       579         1     -1         0         3        1  \n",
       "4    5      8       673         2     -1         0         3        1  "
      ]
     },
     "execution_count": 2,
     "metadata": {},
     "output_type": "execute_result"
    }
   ],
   "source": [
    "df=pd.read_csv(\"bank.csv\")\n",
    "df.head()"
   ]
  },
  {
   "cell_type": "code",
   "execution_count": 3,
   "id": "191d472d",
   "metadata": {},
   "outputs": [
    {
     "name": "stdout",
     "output_type": "stream",
     "text": [
      "<class 'pandas.core.frame.DataFrame'>\n",
      "RangeIndex: 11162 entries, 0 to 11161\n",
      "Data columns (total 17 columns):\n",
      " #   Column     Non-Null Count  Dtype\n",
      "---  ------     --------------  -----\n",
      " 0   age        11162 non-null  int64\n",
      " 1   job        11162 non-null  int64\n",
      " 2   marital    11162 non-null  int64\n",
      " 3   education  11162 non-null  int64\n",
      " 4   default    11162 non-null  int64\n",
      " 5   balance    11162 non-null  int64\n",
      " 6   housing    11162 non-null  int64\n",
      " 7   loan       11162 non-null  int64\n",
      " 8   contact    11162 non-null  int64\n",
      " 9   day        11162 non-null  int64\n",
      " 10  month      11162 non-null  int64\n",
      " 11  duration   11162 non-null  int64\n",
      " 12  campaign   11162 non-null  int64\n",
      " 13  pdays      11162 non-null  int64\n",
      " 14  previous   11162 non-null  int64\n",
      " 15  poutcome   11162 non-null  int64\n",
      " 16  deposit    11162 non-null  int64\n",
      "dtypes: int64(17)\n",
      "memory usage: 1.4 MB\n"
     ]
    }
   ],
   "source": [
    "df.info()"
   ]
  },
  {
   "cell_type": "code",
   "execution_count": 4,
   "id": "e14b44fa",
   "metadata": {},
   "outputs": [
    {
     "data": {
      "text/plain": [
       "age          0\n",
       "job          0\n",
       "marital      0\n",
       "education    0\n",
       "default      0\n",
       "balance      0\n",
       "housing      0\n",
       "loan         0\n",
       "contact      0\n",
       "day          0\n",
       "month        0\n",
       "duration     0\n",
       "campaign     0\n",
       "pdays        0\n",
       "previous     0\n",
       "poutcome     0\n",
       "deposit      0\n",
       "dtype: int64"
      ]
     },
     "execution_count": 4,
     "metadata": {},
     "output_type": "execute_result"
    }
   ],
   "source": [
    "df.isna().sum()"
   ]
  },
  {
   "cell_type": "code",
   "execution_count": 5,
   "id": "82ae1d41",
   "metadata": {},
   "outputs": [
    {
     "data": {
      "text/plain": [
       "0    5873\n",
       "1    5289\n",
       "Name: deposit, dtype: int64"
      ]
     },
     "execution_count": 5,
     "metadata": {},
     "output_type": "execute_result"
    }
   ],
   "source": [
    "df[\"deposit\"].value_counts()"
   ]
  },
  {
   "cell_type": "code",
   "execution_count": 6,
   "id": "a0b351dd",
   "metadata": {},
   "outputs": [
    {
     "data": {
      "text/html": [
       "<div>\n",
       "<style scoped>\n",
       "    .dataframe tbody tr th:only-of-type {\n",
       "        vertical-align: middle;\n",
       "    }\n",
       "\n",
       "    .dataframe tbody tr th {\n",
       "        vertical-align: top;\n",
       "    }\n",
       "\n",
       "    .dataframe thead th {\n",
       "        text-align: right;\n",
       "    }\n",
       "</style>\n",
       "<table border=\"1\" class=\"dataframe\">\n",
       "  <thead>\n",
       "    <tr style=\"text-align: right;\">\n",
       "      <th></th>\n",
       "      <th>age</th>\n",
       "      <th>job</th>\n",
       "      <th>marital</th>\n",
       "      <th>education</th>\n",
       "      <th>default</th>\n",
       "      <th>balance</th>\n",
       "      <th>housing</th>\n",
       "      <th>loan</th>\n",
       "      <th>contact</th>\n",
       "      <th>day</th>\n",
       "      <th>month</th>\n",
       "      <th>duration</th>\n",
       "      <th>campaign</th>\n",
       "      <th>pdays</th>\n",
       "      <th>previous</th>\n",
       "      <th>poutcome</th>\n",
       "    </tr>\n",
       "  </thead>\n",
       "  <tbody>\n",
       "    <tr>\n",
       "      <th>0</th>\n",
       "      <td>59</td>\n",
       "      <td>0</td>\n",
       "      <td>1</td>\n",
       "      <td>1</td>\n",
       "      <td>0</td>\n",
       "      <td>2343</td>\n",
       "      <td>1</td>\n",
       "      <td>0</td>\n",
       "      <td>2</td>\n",
       "      <td>5</td>\n",
       "      <td>8</td>\n",
       "      <td>1042</td>\n",
       "      <td>1</td>\n",
       "      <td>-1</td>\n",
       "      <td>0</td>\n",
       "      <td>3</td>\n",
       "    </tr>\n",
       "    <tr>\n",
       "      <th>1</th>\n",
       "      <td>56</td>\n",
       "      <td>0</td>\n",
       "      <td>1</td>\n",
       "      <td>1</td>\n",
       "      <td>0</td>\n",
       "      <td>45</td>\n",
       "      <td>0</td>\n",
       "      <td>0</td>\n",
       "      <td>2</td>\n",
       "      <td>5</td>\n",
       "      <td>8</td>\n",
       "      <td>1467</td>\n",
       "      <td>1</td>\n",
       "      <td>-1</td>\n",
       "      <td>0</td>\n",
       "      <td>3</td>\n",
       "    </tr>\n",
       "    <tr>\n",
       "      <th>2</th>\n",
       "      <td>41</td>\n",
       "      <td>9</td>\n",
       "      <td>1</td>\n",
       "      <td>1</td>\n",
       "      <td>0</td>\n",
       "      <td>1270</td>\n",
       "      <td>1</td>\n",
       "      <td>0</td>\n",
       "      <td>2</td>\n",
       "      <td>5</td>\n",
       "      <td>8</td>\n",
       "      <td>1389</td>\n",
       "      <td>1</td>\n",
       "      <td>-1</td>\n",
       "      <td>0</td>\n",
       "      <td>3</td>\n",
       "    </tr>\n",
       "    <tr>\n",
       "      <th>3</th>\n",
       "      <td>55</td>\n",
       "      <td>7</td>\n",
       "      <td>1</td>\n",
       "      <td>1</td>\n",
       "      <td>0</td>\n",
       "      <td>2476</td>\n",
       "      <td>1</td>\n",
       "      <td>0</td>\n",
       "      <td>2</td>\n",
       "      <td>5</td>\n",
       "      <td>8</td>\n",
       "      <td>579</td>\n",
       "      <td>1</td>\n",
       "      <td>-1</td>\n",
       "      <td>0</td>\n",
       "      <td>3</td>\n",
       "    </tr>\n",
       "    <tr>\n",
       "      <th>4</th>\n",
       "      <td>54</td>\n",
       "      <td>0</td>\n",
       "      <td>1</td>\n",
       "      <td>2</td>\n",
       "      <td>0</td>\n",
       "      <td>184</td>\n",
       "      <td>0</td>\n",
       "      <td>0</td>\n",
       "      <td>2</td>\n",
       "      <td>5</td>\n",
       "      <td>8</td>\n",
       "      <td>673</td>\n",
       "      <td>2</td>\n",
       "      <td>-1</td>\n",
       "      <td>0</td>\n",
       "      <td>3</td>\n",
       "    </tr>\n",
       "    <tr>\n",
       "      <th>...</th>\n",
       "      <td>...</td>\n",
       "      <td>...</td>\n",
       "      <td>...</td>\n",
       "      <td>...</td>\n",
       "      <td>...</td>\n",
       "      <td>...</td>\n",
       "      <td>...</td>\n",
       "      <td>...</td>\n",
       "      <td>...</td>\n",
       "      <td>...</td>\n",
       "      <td>...</td>\n",
       "      <td>...</td>\n",
       "      <td>...</td>\n",
       "      <td>...</td>\n",
       "      <td>...</td>\n",
       "      <td>...</td>\n",
       "    </tr>\n",
       "    <tr>\n",
       "      <th>11157</th>\n",
       "      <td>33</td>\n",
       "      <td>1</td>\n",
       "      <td>2</td>\n",
       "      <td>0</td>\n",
       "      <td>0</td>\n",
       "      <td>1</td>\n",
       "      <td>1</td>\n",
       "      <td>0</td>\n",
       "      <td>0</td>\n",
       "      <td>20</td>\n",
       "      <td>0</td>\n",
       "      <td>257</td>\n",
       "      <td>1</td>\n",
       "      <td>-1</td>\n",
       "      <td>0</td>\n",
       "      <td>3</td>\n",
       "    </tr>\n",
       "    <tr>\n",
       "      <th>11158</th>\n",
       "      <td>39</td>\n",
       "      <td>7</td>\n",
       "      <td>1</td>\n",
       "      <td>1</td>\n",
       "      <td>0</td>\n",
       "      <td>733</td>\n",
       "      <td>0</td>\n",
       "      <td>0</td>\n",
       "      <td>2</td>\n",
       "      <td>16</td>\n",
       "      <td>6</td>\n",
       "      <td>83</td>\n",
       "      <td>4</td>\n",
       "      <td>-1</td>\n",
       "      <td>0</td>\n",
       "      <td>3</td>\n",
       "    </tr>\n",
       "    <tr>\n",
       "      <th>11159</th>\n",
       "      <td>32</td>\n",
       "      <td>9</td>\n",
       "      <td>2</td>\n",
       "      <td>1</td>\n",
       "      <td>0</td>\n",
       "      <td>29</td>\n",
       "      <td>0</td>\n",
       "      <td>0</td>\n",
       "      <td>0</td>\n",
       "      <td>19</td>\n",
       "      <td>1</td>\n",
       "      <td>156</td>\n",
       "      <td>2</td>\n",
       "      <td>-1</td>\n",
       "      <td>0</td>\n",
       "      <td>3</td>\n",
       "    </tr>\n",
       "    <tr>\n",
       "      <th>11160</th>\n",
       "      <td>43</td>\n",
       "      <td>9</td>\n",
       "      <td>1</td>\n",
       "      <td>1</td>\n",
       "      <td>0</td>\n",
       "      <td>0</td>\n",
       "      <td>0</td>\n",
       "      <td>1</td>\n",
       "      <td>0</td>\n",
       "      <td>8</td>\n",
       "      <td>8</td>\n",
       "      <td>9</td>\n",
       "      <td>2</td>\n",
       "      <td>172</td>\n",
       "      <td>5</td>\n",
       "      <td>0</td>\n",
       "    </tr>\n",
       "    <tr>\n",
       "      <th>11161</th>\n",
       "      <td>34</td>\n",
       "      <td>9</td>\n",
       "      <td>1</td>\n",
       "      <td>1</td>\n",
       "      <td>0</td>\n",
       "      <td>0</td>\n",
       "      <td>0</td>\n",
       "      <td>0</td>\n",
       "      <td>0</td>\n",
       "      <td>9</td>\n",
       "      <td>5</td>\n",
       "      <td>628</td>\n",
       "      <td>1</td>\n",
       "      <td>-1</td>\n",
       "      <td>0</td>\n",
       "      <td>3</td>\n",
       "    </tr>\n",
       "  </tbody>\n",
       "</table>\n",
       "<p>11162 rows × 16 columns</p>\n",
       "</div>"
      ],
      "text/plain": [
       "       age  job  marital  education  default  balance  housing  loan  contact  \\\n",
       "0       59    0        1          1        0     2343        1     0        2   \n",
       "1       56    0        1          1        0       45        0     0        2   \n",
       "2       41    9        1          1        0     1270        1     0        2   \n",
       "3       55    7        1          1        0     2476        1     0        2   \n",
       "4       54    0        1          2        0      184        0     0        2   \n",
       "...    ...  ...      ...        ...      ...      ...      ...   ...      ...   \n",
       "11157   33    1        2          0        0        1        1     0        0   \n",
       "11158   39    7        1          1        0      733        0     0        2   \n",
       "11159   32    9        2          1        0       29        0     0        0   \n",
       "11160   43    9        1          1        0        0        0     1        0   \n",
       "11161   34    9        1          1        0        0        0     0        0   \n",
       "\n",
       "       day  month  duration  campaign  pdays  previous  poutcome  \n",
       "0        5      8      1042         1     -1         0         3  \n",
       "1        5      8      1467         1     -1         0         3  \n",
       "2        5      8      1389         1     -1         0         3  \n",
       "3        5      8       579         1     -1         0         3  \n",
       "4        5      8       673         2     -1         0         3  \n",
       "...    ...    ...       ...       ...    ...       ...       ...  \n",
       "11157   20      0       257         1     -1         0         3  \n",
       "11158   16      6        83         4     -1         0         3  \n",
       "11159   19      1       156         2     -1         0         3  \n",
       "11160    8      8         9         2    172         5         0  \n",
       "11161    9      5       628         1     -1         0         3  \n",
       "\n",
       "[11162 rows x 16 columns]"
      ]
     },
     "execution_count": 6,
     "metadata": {},
     "output_type": "execute_result"
    }
   ],
   "source": [
    "x=df.iloc[:,:-1]\n",
    "x"
   ]
  },
  {
   "cell_type": "code",
   "execution_count": 7,
   "id": "6391b82b",
   "metadata": {},
   "outputs": [
    {
     "data": {
      "text/plain": [
       "0        1\n",
       "1        1\n",
       "2        1\n",
       "3        1\n",
       "4        1\n",
       "        ..\n",
       "11157    0\n",
       "11158    0\n",
       "11159    0\n",
       "11160    0\n",
       "11161    0\n",
       "Name: deposit, Length: 11162, dtype: int64"
      ]
     },
     "execution_count": 7,
     "metadata": {},
     "output_type": "execute_result"
    }
   ],
   "source": [
    "y=df.iloc[:,-1]\n",
    "y"
   ]
  },
  {
   "cell_type": "code",
   "execution_count": 8,
   "id": "6e88a95d",
   "metadata": {},
   "outputs": [],
   "source": [
    "xtrain,xtest,ytrain,ytest=train_test_split(x,y,test_size=0.03,random_state=1)"
   ]
  },
  {
   "cell_type": "code",
   "execution_count": 9,
   "id": "4d4f1c7d",
   "metadata": {},
   "outputs": [],
   "source": [
    "def mymodel(model):\n",
    "    model.fit(xtrain,ytrain)\n",
    "    ypred=model.predict(xtest)\n",
    "    print(classification_report(ytest,ypred))"
   ]
  },
  {
   "cell_type": "code",
   "execution_count": 10,
   "id": "d7981b95",
   "metadata": {},
   "outputs": [],
   "source": [
    "lreg=LogisticRegression()\n",
    "knn=KNeighborsClassifier()\n",
    "svm=SVC()\n",
    "dt=DecisionTreeClassifier()"
   ]
  },
  {
   "cell_type": "code",
   "execution_count": 11,
   "id": "649ac492",
   "metadata": {},
   "outputs": [
    {
     "name": "stdout",
     "output_type": "stream",
     "text": [
      "              precision    recall  f1-score   support\n",
      "\n",
      "           0       0.80      0.81      0.81       179\n",
      "           1       0.78      0.77      0.77       156\n",
      "\n",
      "    accuracy                           0.79       335\n",
      "   macro avg       0.79      0.79      0.79       335\n",
      "weighted avg       0.79      0.79      0.79       335\n",
      "\n"
     ]
    }
   ],
   "source": [
    "mymodel(lreg)"
   ]
  },
  {
   "cell_type": "code",
   "execution_count": 12,
   "id": "8d63556f",
   "metadata": {},
   "outputs": [
    {
     "name": "stdout",
     "output_type": "stream",
     "text": [
      "              precision    recall  f1-score   support\n",
      "\n",
      "           0       0.79      0.76      0.77       179\n",
      "           1       0.74      0.77      0.75       156\n",
      "\n",
      "    accuracy                           0.76       335\n",
      "   macro avg       0.76      0.76      0.76       335\n",
      "weighted avg       0.77      0.76      0.76       335\n",
      "\n"
     ]
    }
   ],
   "source": [
    "mymodel(knn)"
   ]
  },
  {
   "cell_type": "code",
   "execution_count": 13,
   "id": "2914d448",
   "metadata": {},
   "outputs": [
    {
     "name": "stdout",
     "output_type": "stream",
     "text": [
      "              precision    recall  f1-score   support\n",
      "\n",
      "           0       0.75      0.84      0.79       179\n",
      "           1       0.79      0.68      0.73       156\n",
      "\n",
      "    accuracy                           0.77       335\n",
      "   macro avg       0.77      0.76      0.76       335\n",
      "weighted avg       0.77      0.77      0.77       335\n",
      "\n"
     ]
    }
   ],
   "source": [
    "mymodel(svm)"
   ]
  },
  {
   "cell_type": "code",
   "execution_count": 14,
   "id": "b5c04d72",
   "metadata": {},
   "outputs": [
    {
     "name": "stdout",
     "output_type": "stream",
     "text": [
      "              precision    recall  f1-score   support\n",
      "\n",
      "           0       0.84      0.80      0.82       179\n",
      "           1       0.79      0.82      0.80       156\n",
      "\n",
      "    accuracy                           0.81       335\n",
      "   macro avg       0.81      0.81      0.81       335\n",
      "weighted avg       0.81      0.81      0.81       335\n",
      "\n"
     ]
    }
   ],
   "source": [
    "mymodel(dt)"
   ]
  },
  {
   "cell_type": "code",
   "execution_count": 15,
   "id": "80c7ada6",
   "metadata": {},
   "outputs": [
    {
     "data": {
      "text/plain": [
       "1.0"
      ]
     },
     "execution_count": 15,
     "metadata": {},
     "output_type": "execute_result"
    }
   ],
   "source": [
    "dt.score(xtrain,ytrain)"
   ]
  },
  {
   "cell_type": "markdown",
   "id": "0389fc6f",
   "metadata": {},
   "source": [
    "# hyperparamter"
   ]
  },
  {
   "cell_type": "code",
   "execution_count": 16,
   "id": "a980983b",
   "metadata": {},
   "outputs": [
    {
     "name": "stdout",
     "output_type": "stream",
     "text": [
      "              precision    recall  f1-score   support\n",
      "\n",
      "           0       0.90      0.72      0.80       179\n",
      "           1       0.74      0.91      0.82       156\n",
      "\n",
      "    accuracy                           0.81       335\n",
      "   macro avg       0.82      0.82      0.81       335\n",
      "weighted avg       0.83      0.81      0.81       335\n",
      "\n"
     ]
    }
   ],
   "source": [
    "dt1=DecisionTreeClassifier(max_depth=5)\n",
    "mymodel(dt1)"
   ]
  },
  {
   "cell_type": "code",
   "execution_count": 17,
   "id": "c2efd471",
   "metadata": {},
   "outputs": [
    {
     "name": "stdout",
     "output_type": "stream",
     "text": [
      "1 = 0.6985074626865672\n",
      "2 = 0.6985074626865672\n",
      "3 = 0.7791044776119403\n",
      "4 = 0.7791044776119403\n",
      "5 = 0.808955223880597\n",
      "6 = 0.8149253731343283\n",
      "7 = 0.8149253731343283\n",
      "8 = 0.8298507462686567\n",
      "9 = 0.8298507462686567\n",
      "10 = 0.844776119402985\n",
      "11 = 0.8328358208955224\n",
      "12 = 0.835820895522388\n",
      "13 = 0.826865671641791\n",
      "14 = 0.8328358208955224\n",
      "15 = 0.8208955223880597\n",
      "16 = 0.808955223880597\n",
      "17 = 0.7880597014925373\n",
      "18 = 0.7940298507462686\n",
      "19 = 0.7970149253731343\n",
      "20 = 0.7761194029850746\n",
      "21 = 0.7970149253731343\n",
      "22 = 0.7880597014925373\n",
      "23 = 0.7701492537313432\n",
      "24 = 0.8059701492537313\n",
      "25 = 0.7850746268656716\n",
      "26 = 0.7880597014925373\n",
      "27 = 0.7880597014925373\n",
      "28 = 0.7880597014925373\n",
      "29 = 0.7850746268656716\n",
      "30 = 0.7701492537313432\n",
      "31 = 0.7910447761194029\n",
      "32 = 0.7880597014925373\n",
      "33 = 0.8029850746268656\n",
      "34 = 0.7791044776119403\n",
      "35 = 0.7791044776119403\n",
      "36 = 0.7850746268656716\n",
      "37 = 0.7910447761194029\n",
      "38 = 0.7880597014925373\n",
      "39 = 0.7701492537313432\n",
      "40 = 0.7940298507462686\n",
      "41 = 0.7850746268656716\n",
      "42 = 0.7850746268656716\n",
      "43 = 0.7880597014925373\n",
      "44 = 0.7940298507462686\n",
      "45 = 0.8\n",
      "46 = 0.7910447761194029\n",
      "47 = 0.8029850746268656\n",
      "48 = 0.7850746268656716\n",
      "49 = 0.7850746268656716\n",
      "50 = 0.7850746268656716\n"
     ]
    }
   ],
   "source": [
    "for i in range(1,51):\n",
    "    dt2=DecisionTreeClassifier(max_depth=i)\n",
    "    dt2.fit(xtrain,ytrain)\n",
    "    ypred=dt2.predict(xtest)\n",
    "    print(f\"{i} = {accuracy_score(ytest,ypred)}\")"
   ]
  },
  {
   "cell_type": "code",
   "execution_count": 18,
   "id": "a09b88a5",
   "metadata": {},
   "outputs": [
    {
     "name": "stdout",
     "output_type": "stream",
     "text": [
      "              precision    recall  f1-score   support\n",
      "\n",
      "           0       0.89      0.82      0.85       179\n",
      "           1       0.81      0.88      0.84       156\n",
      "\n",
      "    accuracy                           0.85       335\n",
      "   macro avg       0.85      0.85      0.85       335\n",
      "weighted avg       0.85      0.85      0.85       335\n",
      "\n"
     ]
    }
   ],
   "source": [
    "#best value of max_depth=10\n",
    "dt3=DecisionTreeClassifier(max_depth=10)\n",
    "mymodel(dt3)"
   ]
  },
  {
   "cell_type": "code",
   "execution_count": 19,
   "id": "89f44407",
   "metadata": {},
   "outputs": [
    {
     "name": "stdout",
     "output_type": "stream",
     "text": [
      "              precision    recall  f1-score   support\n",
      "\n",
      "           0       0.89      0.83      0.86       179\n",
      "           1       0.82      0.88      0.85       156\n",
      "\n",
      "    accuracy                           0.85       335\n",
      "   macro avg       0.85      0.86      0.85       335\n",
      "weighted avg       0.86      0.85      0.85       335\n",
      "\n"
     ]
    }
   ],
   "source": [
    "dt4=DecisionTreeClassifier(min_samples_leaf=10)\n",
    "mymodel(dt4)"
   ]
  },
  {
   "cell_type": "code",
   "execution_count": 20,
   "id": "48601c7d",
   "metadata": {},
   "outputs": [
    {
     "name": "stdout",
     "output_type": "stream",
     "text": [
      "1 = 0.7880597014925373\n",
      "2 = 0.8119402985074626\n",
      "3 = 0.7940298507462686\n",
      "4 = 0.8119402985074626\n",
      "5 = 0.826865671641791\n",
      "6 = 0.8328358208955224\n",
      "7 = 0.835820895522388\n",
      "8 = 0.835820895522388\n",
      "9 = 0.8477611940298507\n",
      "10 = 0.8567164179104477\n",
      "11 = 0.8686567164179104\n",
      "12 = 0.8507462686567164\n",
      "13 = 0.8417910447761194\n",
      "14 = 0.8208955223880597\n",
      "15 = 0.8208955223880597\n",
      "16 = 0.817910447761194\n",
      "17 = 0.8238805970149253\n",
      "18 = 0.826865671641791\n",
      "19 = 0.8238805970149253\n",
      "20 = 0.8238805970149253\n",
      "21 = 0.835820895522388\n",
      "22 = 0.8328358208955224\n",
      "23 = 0.8328358208955224\n",
      "24 = 0.8417910447761194\n",
      "25 = 0.8477611940298507\n",
      "26 = 0.844776119402985\n",
      "27 = 0.844776119402985\n",
      "28 = 0.8537313432835821\n",
      "29 = 0.8477611940298507\n",
      "30 = 0.844776119402985\n",
      "31 = 0.844776119402985\n",
      "32 = 0.844776119402985\n",
      "33 = 0.8417910447761194\n",
      "34 = 0.8477611940298507\n",
      "35 = 0.8417910447761194\n",
      "36 = 0.8328358208955224\n",
      "37 = 0.8417910447761194\n",
      "38 = 0.844776119402985\n",
      "39 = 0.8417910447761194\n",
      "40 = 0.844776119402985\n",
      "41 = 0.844776119402985\n",
      "42 = 0.844776119402985\n",
      "43 = 0.844776119402985\n",
      "44 = 0.8417910447761194\n",
      "45 = 0.8417910447761194\n",
      "46 = 0.8477611940298507\n",
      "47 = 0.844776119402985\n",
      "48 = 0.8477611940298507\n",
      "49 = 0.8477611940298507\n",
      "50 = 0.8477611940298507\n",
      "51 = 0.8477611940298507\n",
      "52 = 0.8477611940298507\n",
      "53 = 0.8477611940298507\n",
      "54 = 0.8537313432835821\n",
      "55 = 0.8537313432835821\n",
      "56 = 0.8537313432835821\n",
      "57 = 0.8537313432835821\n",
      "58 = 0.8537313432835821\n",
      "59 = 0.8537313432835821\n",
      "60 = 0.8537313432835821\n",
      "61 = 0.8537313432835821\n",
      "62 = 0.8537313432835821\n",
      "63 = 0.8537313432835821\n",
      "64 = 0.8537313432835821\n",
      "65 = 0.8567164179104477\n",
      "66 = 0.8567164179104477\n",
      "67 = 0.8567164179104477\n",
      "68 = 0.8567164179104477\n",
      "69 = 0.8507462686567164\n",
      "70 = 0.8507462686567164\n",
      "71 = 0.8567164179104477\n",
      "72 = 0.8567164179104477\n",
      "73 = 0.8567164179104477\n",
      "74 = 0.8567164179104477\n"
     ]
    }
   ],
   "source": [
    "for i in range(1,75):\n",
    "    dt5=DecisionTreeClassifier(min_samples_leaf=i)\n",
    "    dt5.fit(xtrain,ytrain)\n",
    "    ypred=dt5.predict(xtest)\n",
    "    print(f\"{i} = {accuracy_score(ytest,ypred)}\")"
   ]
  },
  {
   "cell_type": "code",
   "execution_count": 21,
   "id": "c37053b0",
   "metadata": {},
   "outputs": [
    {
     "name": "stdout",
     "output_type": "stream",
     "text": [
      "              precision    recall  f1-score   support\n",
      "\n",
      "           0       0.89      0.83      0.86       179\n",
      "           1       0.82      0.88      0.85       156\n",
      "\n",
      "    accuracy                           0.85       335\n",
      "   macro avg       0.85      0.86      0.85       335\n",
      "weighted avg       0.86      0.85      0.85       335\n",
      "\n"
     ]
    }
   ],
   "source": [
    "dt6=DecisionTreeClassifier(min_samples_leaf=11)\n",
    "mymodel(dt6)"
   ]
  },
  {
   "cell_type": "code",
   "execution_count": 22,
   "id": "513a2cc3",
   "metadata": {},
   "outputs": [
    {
     "name": "stdout",
     "output_type": "stream",
     "text": [
      "              precision    recall  f1-score   support\n",
      "\n",
      "           0       0.90      0.81      0.85       179\n",
      "           1       0.80      0.90      0.85       156\n",
      "\n",
      "    accuracy                           0.85       335\n",
      "   macro avg       0.85      0.85      0.85       335\n",
      "weighted avg       0.86      0.85      0.85       335\n",
      "\n"
     ]
    }
   ],
   "source": [
    "dt7=DecisionTreeClassifier(max_depth=10,min_samples_leaf=11)\n",
    "mymodel(dt7)"
   ]
  },
  {
   "cell_type": "markdown",
   "id": "8c4628a4",
   "metadata": {},
   "source": [
    "# gini"
   ]
  },
  {
   "cell_type": "code",
   "execution_count": 23,
   "id": "6d3ad8c2",
   "metadata": {},
   "outputs": [
    {
     "name": "stdout",
     "output_type": "stream",
     "text": [
      "              precision    recall  f1-score   support\n",
      "\n",
      "           0       0.89      0.84      0.87       179\n",
      "           1       0.83      0.88      0.85       156\n",
      "\n",
      "    accuracy                           0.86       335\n",
      "   macro avg       0.86      0.86      0.86       335\n",
      "weighted avg       0.86      0.86      0.86       335\n",
      "\n"
     ]
    }
   ],
   "source": [
    "dt8=DecisionTreeClassifier(criterion=\"gini\",min_samples_leaf=11)\n",
    "mymodel(dt8)"
   ]
  },
  {
   "cell_type": "code",
   "execution_count": 24,
   "id": "02906f4d",
   "metadata": {},
   "outputs": [
    {
     "name": "stdout",
     "output_type": "stream",
     "text": [
      "              precision    recall  f1-score   support\n",
      "\n",
      "           0       0.89      0.82      0.85       179\n",
      "           1       0.81      0.88      0.85       156\n",
      "\n",
      "    accuracy                           0.85       335\n",
      "   macro avg       0.85      0.85      0.85       335\n",
      "weighted avg       0.85      0.85      0.85       335\n",
      "\n"
     ]
    }
   ],
   "source": [
    "dt9=DecisionTreeClassifier(criterion=\"gini\",max_depth=10)\n",
    "mymodel(dt9)"
   ]
  },
  {
   "cell_type": "code",
   "execution_count": 25,
   "id": "fb7ae379",
   "metadata": {},
   "outputs": [
    {
     "name": "stdout",
     "output_type": "stream",
     "text": [
      "              precision    recall  f1-score   support\n",
      "\n",
      "           0       0.90      0.81      0.85       179\n",
      "           1       0.80      0.90      0.85       156\n",
      "\n",
      "    accuracy                           0.85       335\n",
      "   macro avg       0.85      0.85      0.85       335\n",
      "weighted avg       0.86      0.85      0.85       335\n",
      "\n"
     ]
    }
   ],
   "source": [
    "dt10=DecisionTreeClassifier(criterion=\"entropy\",max_depth=10)\n",
    "mymodel(dt10)"
   ]
  },
  {
   "cell_type": "code",
   "execution_count": 26,
   "id": "2416d797",
   "metadata": {},
   "outputs": [
    {
     "name": "stdout",
     "output_type": "stream",
     "text": [
      "1= 0.6985074626865672\n",
      "2= 0.6985074626865672\n",
      "3= 0.7582089552238805\n",
      "4= 0.7791044776119403\n",
      "5= 0.7820895522388059\n",
      "6= 0.8149253731343283\n",
      "7= 0.817910447761194\n",
      "8= 0.817910447761194\n",
      "9= 0.844776119402985\n",
      "10= 0.8507462686567164\n",
      "11= 0.8417910447761194\n",
      "12= 0.8208955223880597\n",
      "13= 0.8597014925373134\n",
      "14= 0.826865671641791\n",
      "15= 0.8328358208955224\n",
      "16= 0.8208955223880597\n",
      "17= 0.8059701492537313\n",
      "18= 0.7970149253731343\n",
      "19= 0.8029850746268656\n",
      "20= 0.826865671641791\n",
      "21= 0.8029850746268656\n",
      "22= 0.8059701492537313\n",
      "23= 0.8\n",
      "24= 0.7940298507462686\n",
      "25= 0.8059701492537313\n",
      "26= 0.8059701492537313\n",
      "27= 0.8\n",
      "28= 0.8059701492537313\n",
      "29= 0.7970149253731343\n",
      "30= 0.8\n",
      "31= 0.7850746268656716\n",
      "32= 0.8059701492537313\n",
      "33= 0.8059701492537313\n",
      "34= 0.8\n",
      "35= 0.8\n",
      "36= 0.7880597014925373\n",
      "37= 0.7850746268656716\n",
      "38= 0.8029850746268656\n",
      "39= 0.7850746268656716\n",
      "40= 0.7970149253731343\n",
      "41= 0.8059701492537313\n",
      "42= 0.8059701492537313\n",
      "43= 0.8029850746268656\n",
      "44= 0.7880597014925373\n",
      "45= 0.7970149253731343\n",
      "46= 0.8029850746268656\n",
      "47= 0.8\n",
      "48= 0.8059701492537313\n",
      "49= 0.7910447761194029\n"
     ]
    }
   ],
   "source": [
    "for i in range(1,50):\n",
    "    dt11=DecisionTreeClassifier(criterion=\"entropy\",max_depth=i)\n",
    "    dt11.fit(xtrain,ytrain)\n",
    "    ypred=dt11.predict(xtest)\n",
    "    print(f\"{i}= {accuracy_score(ytest,ypred)}\")"
   ]
  },
  {
   "cell_type": "code",
   "execution_count": 27,
   "id": "92a04b7f",
   "metadata": {},
   "outputs": [
    {
     "name": "stdout",
     "output_type": "stream",
     "text": [
      "              precision    recall  f1-score   support\n",
      "\n",
      "           0       0.90      0.81      0.85       179\n",
      "           1       0.80      0.90      0.85       156\n",
      "\n",
      "    accuracy                           0.85       335\n",
      "   macro avg       0.85      0.85      0.85       335\n",
      "weighted avg       0.86      0.85      0.85       335\n",
      "\n"
     ]
    }
   ],
   "source": [
    "#best value of max_depth when criterion=entropy\n",
    "dt12=DecisionTreeClassifier(criterion=\"entropy\",max_depth=10)\n",
    "mymodel(dt12)"
   ]
  },
  {
   "cell_type": "code",
   "execution_count": 28,
   "id": "cd6c8761",
   "metadata": {},
   "outputs": [
    {
     "name": "stdout",
     "output_type": "stream",
     "text": [
      "              precision    recall  f1-score   support\n",
      "\n",
      "           0       0.86      0.82      0.84       179\n",
      "           1       0.80      0.85      0.83       156\n",
      "\n",
      "    accuracy                           0.83       335\n",
      "   macro avg       0.83      0.83      0.83       335\n",
      "weighted avg       0.83      0.83      0.83       335\n",
      "\n"
     ]
    }
   ],
   "source": [
    "dt13=DecisionTreeClassifier(criterion=\"entropy\",min_samples_leaf=11)\n",
    "mymodel(dt13)"
   ]
  },
  {
   "cell_type": "code",
   "execution_count": 29,
   "id": "e417d6ff",
   "metadata": {},
   "outputs": [
    {
     "name": "stdout",
     "output_type": "stream",
     "text": [
      "1= 0.8029850746268656\n",
      "2= 0.8\n",
      "3= 0.8\n",
      "4= 0.7850746268656716\n",
      "5= 0.7940298507462686\n",
      "6= 0.808955223880597\n",
      "7= 0.8208955223880597\n",
      "8= 0.8149253731343283\n",
      "9= 0.8208955223880597\n",
      "10= 0.8238805970149253\n",
      "11= 0.835820895522388\n",
      "12= 0.8298507462686567\n",
      "13= 0.808955223880597\n",
      "14= 0.8119402985074626\n",
      "15= 0.8328358208955224\n",
      "16= 0.8208955223880597\n",
      "17= 0.8208955223880597\n",
      "18= 0.8149253731343283\n",
      "19= 0.817910447761194\n",
      "20= 0.817910447761194\n",
      "21= 0.835820895522388\n",
      "22= 0.8298507462686567\n",
      "23= 0.8298507462686567\n",
      "24= 0.8388059701492537\n",
      "25= 0.8328358208955224\n",
      "26= 0.8328358208955224\n",
      "27= 0.835820895522388\n",
      "28= 0.844776119402985\n",
      "29= 0.844776119402985\n",
      "30= 0.8417910447761194\n",
      "31= 0.8417910447761194\n",
      "32= 0.8417910447761194\n",
      "33= 0.8507462686567164\n",
      "34= 0.8507462686567164\n",
      "35= 0.8507462686567164\n",
      "36= 0.8537313432835821\n",
      "37= 0.8597014925373134\n",
      "38= 0.8597014925373134\n",
      "39= 0.8567164179104477\n",
      "40= 0.8597014925373134\n",
      "41= 0.8597014925373134\n",
      "42= 0.8567164179104477\n",
      "43= 0.8537313432835821\n",
      "44= 0.8597014925373134\n",
      "45= 0.8626865671641791\n",
      "46= 0.8567164179104477\n",
      "47= 0.8597014925373134\n",
      "48= 0.8567164179104477\n",
      "49= 0.8567164179104477\n"
     ]
    }
   ],
   "source": [
    "for i in range(1,50):\n",
    "    dt14=DecisionTreeClassifier(criterion=\"entropy\",min_samples_leaf=i)\n",
    "    dt14.fit(xtrain,ytrain)\n",
    "    ypred=dt14.predict(xtest)\n",
    "    print(f\"{i}= {accuracy_score(ytest,ypred)}\")"
   ]
  },
  {
   "cell_type": "code",
   "execution_count": 30,
   "id": "540c63c5",
   "metadata": {},
   "outputs": [
    {
     "name": "stdout",
     "output_type": "stream",
     "text": [
      "              precision    recall  f1-score   support\n",
      "\n",
      "           0       0.91      0.82      0.86       179\n",
      "           1       0.82      0.90      0.86       156\n",
      "\n",
      "    accuracy                           0.86       335\n",
      "   macro avg       0.86      0.86      0.86       335\n",
      "weighted avg       0.86      0.86      0.86       335\n",
      "\n"
     ]
    }
   ],
   "source": [
    "# best value of min_samples_leaf=15 when criterion=entropy\n",
    "dt15=DecisionTreeClassifier(criterion=\"entropy\",min_samples_leaf=40)\n",
    "mymodel(dt15)"
   ]
  },
  {
   "cell_type": "markdown",
   "id": "7c5a9963",
   "metadata": {},
   "source": [
    "# final models"
   ]
  },
  {
   "cell_type": "code",
   "execution_count": 31,
   "id": "54f0af2e",
   "metadata": {},
   "outputs": [
    {
     "name": "stdout",
     "output_type": "stream",
     "text": [
      "              precision    recall  f1-score   support\n",
      "\n",
      "           0       0.90      0.82      0.86       179\n",
      "           1       0.81      0.90      0.85       156\n",
      "\n",
      "    accuracy                           0.86       335\n",
      "   macro avg       0.86      0.86      0.86       335\n",
      "weighted avg       0.86      0.86      0.86       335\n",
      "\n"
     ]
    }
   ],
   "source": [
    "#gini\n",
    "dt16=DecisionTreeClassifier(max_depth=10,min_samples_leaf=40)\n",
    "mymodel(dt16)"
   ]
  },
  {
   "cell_type": "code",
   "execution_count": 32,
   "id": "42d1577f",
   "metadata": {},
   "outputs": [
    {
     "name": "stdout",
     "output_type": "stream",
     "text": [
      "              precision    recall  f1-score   support\n",
      "\n",
      "           0       0.91      0.82      0.86       179\n",
      "           1       0.82      0.90      0.86       156\n",
      "\n",
      "    accuracy                           0.86       335\n",
      "   macro avg       0.86      0.86      0.86       335\n",
      "weighted avg       0.86      0.86      0.86       335\n",
      "\n"
     ]
    }
   ],
   "source": [
    "#entropy\n",
    "dt17=DecisionTreeClassifier(criterion=\"entropy\",min_samples_leaf=41)\n",
    "mymodel(dt17)"
   ]
  },
  {
   "cell_type": "markdown",
   "id": "33af7dbe",
   "metadata": {},
   "source": [
    "# Random forest"
   ]
  },
  {
   "cell_type": "code",
   "execution_count": 33,
   "id": "624eb2bd",
   "metadata": {},
   "outputs": [],
   "source": [
    "from sklearn.ensemble import RandomForestClassifier"
   ]
  },
  {
   "cell_type": "code",
   "execution_count": 34,
   "id": "2a190f47",
   "metadata": {},
   "outputs": [
    {
     "name": "stdout",
     "output_type": "stream",
     "text": [
      "              precision    recall  f1-score   support\n",
      "\n",
      "           0       0.93      0.83      0.87       179\n",
      "           1       0.82      0.92      0.87       156\n",
      "\n",
      "    accuracy                           0.87       335\n",
      "   macro avg       0.87      0.87      0.87       335\n",
      "weighted avg       0.88      0.87      0.87       335\n",
      "\n"
     ]
    }
   ],
   "source": [
    "rf=RandomForestClassifier()\n",
    "rf.fit(xtrain,ytrain)\n",
    "ypred=rf.predict(xtest)\n",
    "print(classification_report(ytest,ypred))"
   ]
  },
  {
   "cell_type": "code",
   "execution_count": null,
   "id": "9a6dac65",
   "metadata": {},
   "outputs": [],
   "source": []
  },
  {
   "cell_type": "code",
   "execution_count": null,
   "id": "d26cbe9d",
   "metadata": {},
   "outputs": [],
   "source": []
  }
 ],
 "metadata": {
  "kernelspec": {
   "display_name": "Python 3 (ipykernel)",
   "language": "python",
   "name": "python3"
  },
  "language_info": {
   "codemirror_mode": {
    "name": "ipython",
    "version": 3
   },
   "file_extension": ".py",
   "mimetype": "text/x-python",
   "name": "python",
   "nbconvert_exporter": "python",
   "pygments_lexer": "ipython3",
   "version": "3.10.5"
  }
 },
 "nbformat": 4,
 "nbformat_minor": 5
}
