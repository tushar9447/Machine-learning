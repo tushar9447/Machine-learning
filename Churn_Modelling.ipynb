{
 "cells": [
  {
   "cell_type": "code",
   "execution_count": 1,
   "id": "abe02e75",
   "metadata": {},
   "outputs": [],
   "source": [
    "import pandas as pd\n",
    "import numpy as  np\n",
    "import matplotlib.pyplot as plt\n",
    "import seaborn as sns\n",
    "\n",
    "from sklearn.model_selection import train_test_split\n",
    "from sklearn.metrics import classification_report,accuracy_score\n",
    "\n",
    "from sklearn.linear_model import LogisticRegression\n",
    "from sklearn.svm import SVC\n",
    "from sklearn.neighbors import KNeighborsClassifier\n",
    "from sklearn.tree import DecisionTreeClassifier\n",
    "\n",
    "import warnings\n",
    "warnings.filterwarnings(\"ignore\")"
   ]
  },
  {
   "cell_type": "code",
   "execution_count": 2,
   "id": "cbf79dec",
   "metadata": {},
   "outputs": [
    {
     "data": {
      "text/html": [
       "<div>\n",
       "<style scoped>\n",
       "    .dataframe tbody tr th:only-of-type {\n",
       "        vertical-align: middle;\n",
       "    }\n",
       "\n",
       "    .dataframe tbody tr th {\n",
       "        vertical-align: top;\n",
       "    }\n",
       "\n",
       "    .dataframe thead th {\n",
       "        text-align: right;\n",
       "    }\n",
       "</style>\n",
       "<table border=\"1\" class=\"dataframe\">\n",
       "  <thead>\n",
       "    <tr style=\"text-align: right;\">\n",
       "      <th></th>\n",
       "      <th>CustomerId</th>\n",
       "      <th>Surname</th>\n",
       "      <th>CreditScore</th>\n",
       "      <th>Geography</th>\n",
       "      <th>Gender</th>\n",
       "      <th>Age</th>\n",
       "      <th>Tenure</th>\n",
       "      <th>Balance</th>\n",
       "      <th>NumOfProducts</th>\n",
       "      <th>HasCrCard</th>\n",
       "      <th>IsActiveMember</th>\n",
       "      <th>EstimatedSalary</th>\n",
       "      <th>Exited</th>\n",
       "    </tr>\n",
       "    <tr>\n",
       "      <th>RowNumber</th>\n",
       "      <th></th>\n",
       "      <th></th>\n",
       "      <th></th>\n",
       "      <th></th>\n",
       "      <th></th>\n",
       "      <th></th>\n",
       "      <th></th>\n",
       "      <th></th>\n",
       "      <th></th>\n",
       "      <th></th>\n",
       "      <th></th>\n",
       "      <th></th>\n",
       "      <th></th>\n",
       "    </tr>\n",
       "  </thead>\n",
       "  <tbody>\n",
       "    <tr>\n",
       "      <th>1</th>\n",
       "      <td>15634602</td>\n",
       "      <td>Hargrave</td>\n",
       "      <td>619</td>\n",
       "      <td>France</td>\n",
       "      <td>Female</td>\n",
       "      <td>42</td>\n",
       "      <td>2</td>\n",
       "      <td>0.00</td>\n",
       "      <td>1</td>\n",
       "      <td>1</td>\n",
       "      <td>1</td>\n",
       "      <td>101348.88</td>\n",
       "      <td>1</td>\n",
       "    </tr>\n",
       "    <tr>\n",
       "      <th>2</th>\n",
       "      <td>15647311</td>\n",
       "      <td>Hill</td>\n",
       "      <td>608</td>\n",
       "      <td>Spain</td>\n",
       "      <td>Female</td>\n",
       "      <td>41</td>\n",
       "      <td>1</td>\n",
       "      <td>83807.86</td>\n",
       "      <td>1</td>\n",
       "      <td>0</td>\n",
       "      <td>1</td>\n",
       "      <td>112542.58</td>\n",
       "      <td>0</td>\n",
       "    </tr>\n",
       "    <tr>\n",
       "      <th>3</th>\n",
       "      <td>15619304</td>\n",
       "      <td>Onio</td>\n",
       "      <td>502</td>\n",
       "      <td>France</td>\n",
       "      <td>Female</td>\n",
       "      <td>42</td>\n",
       "      <td>8</td>\n",
       "      <td>159660.80</td>\n",
       "      <td>3</td>\n",
       "      <td>1</td>\n",
       "      <td>0</td>\n",
       "      <td>113931.57</td>\n",
       "      <td>1</td>\n",
       "    </tr>\n",
       "    <tr>\n",
       "      <th>4</th>\n",
       "      <td>15701354</td>\n",
       "      <td>Boni</td>\n",
       "      <td>699</td>\n",
       "      <td>France</td>\n",
       "      <td>Female</td>\n",
       "      <td>39</td>\n",
       "      <td>1</td>\n",
       "      <td>0.00</td>\n",
       "      <td>2</td>\n",
       "      <td>0</td>\n",
       "      <td>0</td>\n",
       "      <td>93826.63</td>\n",
       "      <td>0</td>\n",
       "    </tr>\n",
       "    <tr>\n",
       "      <th>5</th>\n",
       "      <td>15737888</td>\n",
       "      <td>Mitchell</td>\n",
       "      <td>850</td>\n",
       "      <td>Spain</td>\n",
       "      <td>Female</td>\n",
       "      <td>43</td>\n",
       "      <td>2</td>\n",
       "      <td>125510.82</td>\n",
       "      <td>1</td>\n",
       "      <td>1</td>\n",
       "      <td>1</td>\n",
       "      <td>79084.10</td>\n",
       "      <td>0</td>\n",
       "    </tr>\n",
       "  </tbody>\n",
       "</table>\n",
       "</div>"
      ],
      "text/plain": [
       "           CustomerId   Surname  CreditScore Geography  Gender  Age  Tenure  \\\n",
       "RowNumber                                                                     \n",
       "1            15634602  Hargrave          619    France  Female   42       2   \n",
       "2            15647311      Hill          608     Spain  Female   41       1   \n",
       "3            15619304      Onio          502    France  Female   42       8   \n",
       "4            15701354      Boni          699    France  Female   39       1   \n",
       "5            15737888  Mitchell          850     Spain  Female   43       2   \n",
       "\n",
       "             Balance  NumOfProducts  HasCrCard  IsActiveMember  \\\n",
       "RowNumber                                                        \n",
       "1               0.00              1          1               1   \n",
       "2           83807.86              1          0               1   \n",
       "3          159660.80              3          1               0   \n",
       "4               0.00              2          0               0   \n",
       "5          125510.82              1          1               1   \n",
       "\n",
       "           EstimatedSalary  Exited  \n",
       "RowNumber                           \n",
       "1                101348.88       1  \n",
       "2                112542.58       0  \n",
       "3                113931.57       1  \n",
       "4                 93826.63       0  \n",
       "5                 79084.10       0  "
      ]
     },
     "execution_count": 2,
     "metadata": {},
     "output_type": "execute_result"
    }
   ],
   "source": [
    "df = pd.read_excel(\"DataSets/Churn_Modelling.xlsx\",index_col=0)\n",
    "df.head()"
   ]
  },
  {
   "cell_type": "code",
   "execution_count": 3,
   "id": "fee754c7",
   "metadata": {},
   "outputs": [
    {
     "name": "stdout",
     "output_type": "stream",
     "text": [
      "<class 'pandas.core.frame.DataFrame'>\n",
      "Int64Index: 10000 entries, 1 to 10000\n",
      "Data columns (total 13 columns):\n",
      " #   Column           Non-Null Count  Dtype  \n",
      "---  ------           --------------  -----  \n",
      " 0   CustomerId       10000 non-null  int64  \n",
      " 1   Surname          10000 non-null  object \n",
      " 2   CreditScore      10000 non-null  int64  \n",
      " 3   Geography        10000 non-null  object \n",
      " 4   Gender           10000 non-null  object \n",
      " 5   Age              10000 non-null  int64  \n",
      " 6   Tenure           10000 non-null  int64  \n",
      " 7   Balance          10000 non-null  float64\n",
      " 8   NumOfProducts    10000 non-null  int64  \n",
      " 9   HasCrCard        10000 non-null  int64  \n",
      " 10  IsActiveMember   10000 non-null  int64  \n",
      " 11  EstimatedSalary  10000 non-null  float64\n",
      " 12  Exited           10000 non-null  int64  \n",
      "dtypes: float64(2), int64(8), object(3)\n",
      "memory usage: 1.1+ MB\n"
     ]
    }
   ],
   "source": [
    "df.info()"
   ]
  },
  {
   "cell_type": "code",
   "execution_count": 4,
   "id": "1155bca6",
   "metadata": {},
   "outputs": [
    {
     "data": {
      "text/html": [
       "<div>\n",
       "<style scoped>\n",
       "    .dataframe tbody tr th:only-of-type {\n",
       "        vertical-align: middle;\n",
       "    }\n",
       "\n",
       "    .dataframe tbody tr th {\n",
       "        vertical-align: top;\n",
       "    }\n",
       "\n",
       "    .dataframe thead th {\n",
       "        text-align: right;\n",
       "    }\n",
       "</style>\n",
       "<table border=\"1\" class=\"dataframe\">\n",
       "  <thead>\n",
       "    <tr style=\"text-align: right;\">\n",
       "      <th></th>\n",
       "      <th>CustomerId</th>\n",
       "      <th>CreditScore</th>\n",
       "      <th>Age</th>\n",
       "      <th>Tenure</th>\n",
       "      <th>Balance</th>\n",
       "      <th>NumOfProducts</th>\n",
       "      <th>HasCrCard</th>\n",
       "      <th>IsActiveMember</th>\n",
       "      <th>EstimatedSalary</th>\n",
       "      <th>Exited</th>\n",
       "    </tr>\n",
       "  </thead>\n",
       "  <tbody>\n",
       "    <tr>\n",
       "      <th>count</th>\n",
       "      <td>1.000000e+04</td>\n",
       "      <td>10000.000000</td>\n",
       "      <td>10000.000000</td>\n",
       "      <td>10000.000000</td>\n",
       "      <td>10000.000000</td>\n",
       "      <td>10000.000000</td>\n",
       "      <td>10000.00000</td>\n",
       "      <td>10000.000000</td>\n",
       "      <td>10000.000000</td>\n",
       "      <td>10000.000000</td>\n",
       "    </tr>\n",
       "    <tr>\n",
       "      <th>mean</th>\n",
       "      <td>1.569094e+07</td>\n",
       "      <td>650.528800</td>\n",
       "      <td>38.921800</td>\n",
       "      <td>5.012800</td>\n",
       "      <td>76485.889288</td>\n",
       "      <td>1.530200</td>\n",
       "      <td>0.70550</td>\n",
       "      <td>0.515100</td>\n",
       "      <td>100090.239881</td>\n",
       "      <td>0.203700</td>\n",
       "    </tr>\n",
       "    <tr>\n",
       "      <th>std</th>\n",
       "      <td>7.193619e+04</td>\n",
       "      <td>96.653299</td>\n",
       "      <td>10.487806</td>\n",
       "      <td>2.892174</td>\n",
       "      <td>62397.405202</td>\n",
       "      <td>0.581654</td>\n",
       "      <td>0.45584</td>\n",
       "      <td>0.499797</td>\n",
       "      <td>57510.492818</td>\n",
       "      <td>0.402769</td>\n",
       "    </tr>\n",
       "    <tr>\n",
       "      <th>min</th>\n",
       "      <td>1.556570e+07</td>\n",
       "      <td>350.000000</td>\n",
       "      <td>18.000000</td>\n",
       "      <td>0.000000</td>\n",
       "      <td>0.000000</td>\n",
       "      <td>1.000000</td>\n",
       "      <td>0.00000</td>\n",
       "      <td>0.000000</td>\n",
       "      <td>11.580000</td>\n",
       "      <td>0.000000</td>\n",
       "    </tr>\n",
       "    <tr>\n",
       "      <th>25%</th>\n",
       "      <td>1.562853e+07</td>\n",
       "      <td>584.000000</td>\n",
       "      <td>32.000000</td>\n",
       "      <td>3.000000</td>\n",
       "      <td>0.000000</td>\n",
       "      <td>1.000000</td>\n",
       "      <td>0.00000</td>\n",
       "      <td>0.000000</td>\n",
       "      <td>51002.110000</td>\n",
       "      <td>0.000000</td>\n",
       "    </tr>\n",
       "    <tr>\n",
       "      <th>50%</th>\n",
       "      <td>1.569074e+07</td>\n",
       "      <td>652.000000</td>\n",
       "      <td>37.000000</td>\n",
       "      <td>5.000000</td>\n",
       "      <td>97198.540000</td>\n",
       "      <td>1.000000</td>\n",
       "      <td>1.00000</td>\n",
       "      <td>1.000000</td>\n",
       "      <td>100193.915000</td>\n",
       "      <td>0.000000</td>\n",
       "    </tr>\n",
       "    <tr>\n",
       "      <th>75%</th>\n",
       "      <td>1.575323e+07</td>\n",
       "      <td>718.000000</td>\n",
       "      <td>44.000000</td>\n",
       "      <td>7.000000</td>\n",
       "      <td>127644.240000</td>\n",
       "      <td>2.000000</td>\n",
       "      <td>1.00000</td>\n",
       "      <td>1.000000</td>\n",
       "      <td>149388.247500</td>\n",
       "      <td>0.000000</td>\n",
       "    </tr>\n",
       "    <tr>\n",
       "      <th>max</th>\n",
       "      <td>1.581569e+07</td>\n",
       "      <td>850.000000</td>\n",
       "      <td>92.000000</td>\n",
       "      <td>10.000000</td>\n",
       "      <td>250898.090000</td>\n",
       "      <td>4.000000</td>\n",
       "      <td>1.00000</td>\n",
       "      <td>1.000000</td>\n",
       "      <td>199992.480000</td>\n",
       "      <td>1.000000</td>\n",
       "    </tr>\n",
       "  </tbody>\n",
       "</table>\n",
       "</div>"
      ],
      "text/plain": [
       "         CustomerId   CreditScore           Age        Tenure        Balance  \\\n",
       "count  1.000000e+04  10000.000000  10000.000000  10000.000000   10000.000000   \n",
       "mean   1.569094e+07    650.528800     38.921800      5.012800   76485.889288   \n",
       "std    7.193619e+04     96.653299     10.487806      2.892174   62397.405202   \n",
       "min    1.556570e+07    350.000000     18.000000      0.000000       0.000000   \n",
       "25%    1.562853e+07    584.000000     32.000000      3.000000       0.000000   \n",
       "50%    1.569074e+07    652.000000     37.000000      5.000000   97198.540000   \n",
       "75%    1.575323e+07    718.000000     44.000000      7.000000  127644.240000   \n",
       "max    1.581569e+07    850.000000     92.000000     10.000000  250898.090000   \n",
       "\n",
       "       NumOfProducts    HasCrCard  IsActiveMember  EstimatedSalary  \\\n",
       "count   10000.000000  10000.00000    10000.000000     10000.000000   \n",
       "mean        1.530200      0.70550        0.515100    100090.239881   \n",
       "std         0.581654      0.45584        0.499797     57510.492818   \n",
       "min         1.000000      0.00000        0.000000        11.580000   \n",
       "25%         1.000000      0.00000        0.000000     51002.110000   \n",
       "50%         1.000000      1.00000        1.000000    100193.915000   \n",
       "75%         2.000000      1.00000        1.000000    149388.247500   \n",
       "max         4.000000      1.00000        1.000000    199992.480000   \n",
       "\n",
       "             Exited  \n",
       "count  10000.000000  \n",
       "mean       0.203700  \n",
       "std        0.402769  \n",
       "min        0.000000  \n",
       "25%        0.000000  \n",
       "50%        0.000000  \n",
       "75%        0.000000  \n",
       "max        1.000000  "
      ]
     },
     "execution_count": 4,
     "metadata": {},
     "output_type": "execute_result"
    }
   ],
   "source": [
    "df.describe()"
   ]
  },
  {
   "cell_type": "code",
   "execution_count": 5,
   "id": "b99fb7b6",
   "metadata": {},
   "outputs": [
    {
     "data": {
      "text/html": [
       "<div>\n",
       "<style scoped>\n",
       "    .dataframe tbody tr th:only-of-type {\n",
       "        vertical-align: middle;\n",
       "    }\n",
       "\n",
       "    .dataframe tbody tr th {\n",
       "        vertical-align: top;\n",
       "    }\n",
       "\n",
       "    .dataframe thead th {\n",
       "        text-align: right;\n",
       "    }\n",
       "</style>\n",
       "<table border=\"1\" class=\"dataframe\">\n",
       "  <thead>\n",
       "    <tr style=\"text-align: right;\">\n",
       "      <th></th>\n",
       "      <th>CreditScore</th>\n",
       "      <th>Gender</th>\n",
       "      <th>Age</th>\n",
       "      <th>Tenure</th>\n",
       "      <th>Balance</th>\n",
       "      <th>NumOfProducts</th>\n",
       "      <th>HasCrCard</th>\n",
       "      <th>IsActiveMember</th>\n",
       "      <th>EstimatedSalary</th>\n",
       "      <th>Exited</th>\n",
       "    </tr>\n",
       "    <tr>\n",
       "      <th>RowNumber</th>\n",
       "      <th></th>\n",
       "      <th></th>\n",
       "      <th></th>\n",
       "      <th></th>\n",
       "      <th></th>\n",
       "      <th></th>\n",
       "      <th></th>\n",
       "      <th></th>\n",
       "      <th></th>\n",
       "      <th></th>\n",
       "    </tr>\n",
       "  </thead>\n",
       "  <tbody>\n",
       "    <tr>\n",
       "      <th>1</th>\n",
       "      <td>619</td>\n",
       "      <td>Female</td>\n",
       "      <td>42</td>\n",
       "      <td>2</td>\n",
       "      <td>0.00</td>\n",
       "      <td>1</td>\n",
       "      <td>1</td>\n",
       "      <td>1</td>\n",
       "      <td>101348.88</td>\n",
       "      <td>1</td>\n",
       "    </tr>\n",
       "    <tr>\n",
       "      <th>2</th>\n",
       "      <td>608</td>\n",
       "      <td>Female</td>\n",
       "      <td>41</td>\n",
       "      <td>1</td>\n",
       "      <td>83807.86</td>\n",
       "      <td>1</td>\n",
       "      <td>0</td>\n",
       "      <td>1</td>\n",
       "      <td>112542.58</td>\n",
       "      <td>0</td>\n",
       "    </tr>\n",
       "    <tr>\n",
       "      <th>3</th>\n",
       "      <td>502</td>\n",
       "      <td>Female</td>\n",
       "      <td>42</td>\n",
       "      <td>8</td>\n",
       "      <td>159660.80</td>\n",
       "      <td>3</td>\n",
       "      <td>1</td>\n",
       "      <td>0</td>\n",
       "      <td>113931.57</td>\n",
       "      <td>1</td>\n",
       "    </tr>\n",
       "    <tr>\n",
       "      <th>4</th>\n",
       "      <td>699</td>\n",
       "      <td>Female</td>\n",
       "      <td>39</td>\n",
       "      <td>1</td>\n",
       "      <td>0.00</td>\n",
       "      <td>2</td>\n",
       "      <td>0</td>\n",
       "      <td>0</td>\n",
       "      <td>93826.63</td>\n",
       "      <td>0</td>\n",
       "    </tr>\n",
       "    <tr>\n",
       "      <th>5</th>\n",
       "      <td>850</td>\n",
       "      <td>Female</td>\n",
       "      <td>43</td>\n",
       "      <td>2</td>\n",
       "      <td>125510.82</td>\n",
       "      <td>1</td>\n",
       "      <td>1</td>\n",
       "      <td>1</td>\n",
       "      <td>79084.10</td>\n",
       "      <td>0</td>\n",
       "    </tr>\n",
       "    <tr>\n",
       "      <th>...</th>\n",
       "      <td>...</td>\n",
       "      <td>...</td>\n",
       "      <td>...</td>\n",
       "      <td>...</td>\n",
       "      <td>...</td>\n",
       "      <td>...</td>\n",
       "      <td>...</td>\n",
       "      <td>...</td>\n",
       "      <td>...</td>\n",
       "      <td>...</td>\n",
       "    </tr>\n",
       "    <tr>\n",
       "      <th>9996</th>\n",
       "      <td>771</td>\n",
       "      <td>Male</td>\n",
       "      <td>39</td>\n",
       "      <td>5</td>\n",
       "      <td>0.00</td>\n",
       "      <td>2</td>\n",
       "      <td>1</td>\n",
       "      <td>0</td>\n",
       "      <td>96270.64</td>\n",
       "      <td>0</td>\n",
       "    </tr>\n",
       "    <tr>\n",
       "      <th>9997</th>\n",
       "      <td>516</td>\n",
       "      <td>Male</td>\n",
       "      <td>35</td>\n",
       "      <td>10</td>\n",
       "      <td>57369.61</td>\n",
       "      <td>1</td>\n",
       "      <td>1</td>\n",
       "      <td>1</td>\n",
       "      <td>101699.77</td>\n",
       "      <td>0</td>\n",
       "    </tr>\n",
       "    <tr>\n",
       "      <th>9998</th>\n",
       "      <td>709</td>\n",
       "      <td>Female</td>\n",
       "      <td>36</td>\n",
       "      <td>7</td>\n",
       "      <td>0.00</td>\n",
       "      <td>1</td>\n",
       "      <td>0</td>\n",
       "      <td>1</td>\n",
       "      <td>42085.58</td>\n",
       "      <td>1</td>\n",
       "    </tr>\n",
       "    <tr>\n",
       "      <th>9999</th>\n",
       "      <td>772</td>\n",
       "      <td>Male</td>\n",
       "      <td>42</td>\n",
       "      <td>3</td>\n",
       "      <td>75075.31</td>\n",
       "      <td>2</td>\n",
       "      <td>1</td>\n",
       "      <td>0</td>\n",
       "      <td>92888.52</td>\n",
       "      <td>1</td>\n",
       "    </tr>\n",
       "    <tr>\n",
       "      <th>10000</th>\n",
       "      <td>792</td>\n",
       "      <td>Female</td>\n",
       "      <td>28</td>\n",
       "      <td>4</td>\n",
       "      <td>130142.79</td>\n",
       "      <td>1</td>\n",
       "      <td>1</td>\n",
       "      <td>0</td>\n",
       "      <td>38190.78</td>\n",
       "      <td>0</td>\n",
       "    </tr>\n",
       "  </tbody>\n",
       "</table>\n",
       "<p>10000 rows × 10 columns</p>\n",
       "</div>"
      ],
      "text/plain": [
       "           CreditScore  Gender  Age  Tenure    Balance  NumOfProducts  \\\n",
       "RowNumber                                                               \n",
       "1                  619  Female   42       2       0.00              1   \n",
       "2                  608  Female   41       1   83807.86              1   \n",
       "3                  502  Female   42       8  159660.80              3   \n",
       "4                  699  Female   39       1       0.00              2   \n",
       "5                  850  Female   43       2  125510.82              1   \n",
       "...                ...     ...  ...     ...        ...            ...   \n",
       "9996               771    Male   39       5       0.00              2   \n",
       "9997               516    Male   35      10   57369.61              1   \n",
       "9998               709  Female   36       7       0.00              1   \n",
       "9999               772    Male   42       3   75075.31              2   \n",
       "10000              792  Female   28       4  130142.79              1   \n",
       "\n",
       "           HasCrCard  IsActiveMember  EstimatedSalary  Exited  \n",
       "RowNumber                                                      \n",
       "1                  1               1        101348.88       1  \n",
       "2                  0               1        112542.58       0  \n",
       "3                  1               0        113931.57       1  \n",
       "4                  0               0         93826.63       0  \n",
       "5                  1               1         79084.10       0  \n",
       "...              ...             ...              ...     ...  \n",
       "9996               1               0         96270.64       0  \n",
       "9997               1               1        101699.77       0  \n",
       "9998               0               1         42085.58       1  \n",
       "9999               1               0         92888.52       1  \n",
       "10000              1               0         38190.78       0  \n",
       "\n",
       "[10000 rows x 10 columns]"
      ]
     },
     "execution_count": 5,
     "metadata": {},
     "output_type": "execute_result"
    }
   ],
   "source": [
    "df.drop([\"CustomerId\",\"Surname\",\"Geography\"],axis=1,inplace=True)\n",
    "df"
   ]
  },
  {
   "cell_type": "code",
   "execution_count": 6,
   "id": "1da6f56b",
   "metadata": {},
   "outputs": [
    {
     "data": {
      "text/plain": [
       "0    7963\n",
       "1    2037\n",
       "Name: Exited, dtype: int64"
      ]
     },
     "execution_count": 6,
     "metadata": {},
     "output_type": "execute_result"
    }
   ],
   "source": [
    "df.Exited.value_counts()"
   ]
  },
  {
   "cell_type": "code",
   "execution_count": 7,
   "id": "ee73bbce",
   "metadata": {},
   "outputs": [
    {
     "data": {
      "text/html": [
       "<div>\n",
       "<style scoped>\n",
       "    .dataframe tbody tr th:only-of-type {\n",
       "        vertical-align: middle;\n",
       "    }\n",
       "\n",
       "    .dataframe tbody tr th {\n",
       "        vertical-align: top;\n",
       "    }\n",
       "\n",
       "    .dataframe thead th {\n",
       "        text-align: right;\n",
       "    }\n",
       "</style>\n",
       "<table border=\"1\" class=\"dataframe\">\n",
       "  <thead>\n",
       "    <tr style=\"text-align: right;\">\n",
       "      <th></th>\n",
       "      <th>CreditScore</th>\n",
       "      <th>Gender</th>\n",
       "      <th>Age</th>\n",
       "      <th>Tenure</th>\n",
       "      <th>Balance</th>\n",
       "      <th>NumOfProducts</th>\n",
       "      <th>HasCrCard</th>\n",
       "      <th>IsActiveMember</th>\n",
       "      <th>EstimatedSalary</th>\n",
       "    </tr>\n",
       "    <tr>\n",
       "      <th>RowNumber</th>\n",
       "      <th></th>\n",
       "      <th></th>\n",
       "      <th></th>\n",
       "      <th></th>\n",
       "      <th></th>\n",
       "      <th></th>\n",
       "      <th></th>\n",
       "      <th></th>\n",
       "      <th></th>\n",
       "    </tr>\n",
       "  </thead>\n",
       "  <tbody>\n",
       "    <tr>\n",
       "      <th>1</th>\n",
       "      <td>619</td>\n",
       "      <td>Female</td>\n",
       "      <td>42</td>\n",
       "      <td>2</td>\n",
       "      <td>0.00</td>\n",
       "      <td>1</td>\n",
       "      <td>1</td>\n",
       "      <td>1</td>\n",
       "      <td>101348.88</td>\n",
       "    </tr>\n",
       "    <tr>\n",
       "      <th>2</th>\n",
       "      <td>608</td>\n",
       "      <td>Female</td>\n",
       "      <td>41</td>\n",
       "      <td>1</td>\n",
       "      <td>83807.86</td>\n",
       "      <td>1</td>\n",
       "      <td>0</td>\n",
       "      <td>1</td>\n",
       "      <td>112542.58</td>\n",
       "    </tr>\n",
       "    <tr>\n",
       "      <th>3</th>\n",
       "      <td>502</td>\n",
       "      <td>Female</td>\n",
       "      <td>42</td>\n",
       "      <td>8</td>\n",
       "      <td>159660.80</td>\n",
       "      <td>3</td>\n",
       "      <td>1</td>\n",
       "      <td>0</td>\n",
       "      <td>113931.57</td>\n",
       "    </tr>\n",
       "    <tr>\n",
       "      <th>4</th>\n",
       "      <td>699</td>\n",
       "      <td>Female</td>\n",
       "      <td>39</td>\n",
       "      <td>1</td>\n",
       "      <td>0.00</td>\n",
       "      <td>2</td>\n",
       "      <td>0</td>\n",
       "      <td>0</td>\n",
       "      <td>93826.63</td>\n",
       "    </tr>\n",
       "    <tr>\n",
       "      <th>5</th>\n",
       "      <td>850</td>\n",
       "      <td>Female</td>\n",
       "      <td>43</td>\n",
       "      <td>2</td>\n",
       "      <td>125510.82</td>\n",
       "      <td>1</td>\n",
       "      <td>1</td>\n",
       "      <td>1</td>\n",
       "      <td>79084.10</td>\n",
       "    </tr>\n",
       "  </tbody>\n",
       "</table>\n",
       "</div>"
      ],
      "text/plain": [
       "           CreditScore  Gender  Age  Tenure    Balance  NumOfProducts  \\\n",
       "RowNumber                                                               \n",
       "1                  619  Female   42       2       0.00              1   \n",
       "2                  608  Female   41       1   83807.86              1   \n",
       "3                  502  Female   42       8  159660.80              3   \n",
       "4                  699  Female   39       1       0.00              2   \n",
       "5                  850  Female   43       2  125510.82              1   \n",
       "\n",
       "           HasCrCard  IsActiveMember  EstimatedSalary  \n",
       "RowNumber                                              \n",
       "1                  1               1        101348.88  \n",
       "2                  0               1        112542.58  \n",
       "3                  1               0        113931.57  \n",
       "4                  0               0         93826.63  \n",
       "5                  1               1         79084.10  "
      ]
     },
     "execution_count": 7,
     "metadata": {},
     "output_type": "execute_result"
    }
   ],
   "source": [
    "X = df.iloc[:,:-1]\n",
    "X.head(5)"
   ]
  },
  {
   "cell_type": "code",
   "execution_count": 8,
   "id": "9f3f1a52",
   "metadata": {},
   "outputs": [
    {
     "data": {
      "text/plain": [
       "RowNumber\n",
       "1        1\n",
       "2        0\n",
       "3        1\n",
       "4        0\n",
       "5        0\n",
       "        ..\n",
       "9996     0\n",
       "9997     0\n",
       "9998     1\n",
       "9999     1\n",
       "10000    0\n",
       "Name: Exited, Length: 10000, dtype: int64"
      ]
     },
     "execution_count": 8,
     "metadata": {},
     "output_type": "execute_result"
    }
   ],
   "source": [
    "Y = df.Exited\n",
    "Y"
   ]
  },
  {
   "cell_type": "code",
   "execution_count": 9,
   "id": "1820b511",
   "metadata": {},
   "outputs": [
    {
     "data": {
      "text/plain": [
       "Index(['CreditScore', 'Gender', 'Age', 'Tenure', 'Balance', 'NumOfProducts',\n",
       "       'HasCrCard', 'IsActiveMember', 'EstimatedSalary', 'Exited'],\n",
       "      dtype='object')"
      ]
     },
     "execution_count": 9,
     "metadata": {},
     "output_type": "execute_result"
    }
   ],
   "source": [
    "df.columns"
   ]
  },
  {
   "cell_type": "code",
   "execution_count": 10,
   "id": "1dcdc649",
   "metadata": {},
   "outputs": [],
   "source": [
    "from sklearn.compose import ColumnTransformer\n",
    "from sklearn.preprocessing import OrdinalEncoder\n",
    "from sklearn.preprocessing import StandardScaler\n",
    "CT = ColumnTransformer(transformers = [ (\"trans1\",OrdinalEncoder(),[\"Gender\"]),\n",
    "                                        (\"trans2\",StandardScaler(),['CreditScore', 'Age', 'Tenure', 'Balance', 'NumOfProducts',\n",
    "                                                                    'HasCrCard', 'IsActiveMember', 'EstimatedSalary'])],\n",
    "                       remainder='passthrough')\n",
    "X = CT.fit_transform(X)"
   ]
  },
  {
   "cell_type": "code",
   "execution_count": 11,
   "id": "8e22abf4",
   "metadata": {},
   "outputs": [
    {
     "data": {
      "text/plain": [
       "array([ 0.        , -0.32622142,  0.29351742, -1.04175968, -1.22584767,\n",
       "       -0.91158349,  0.64609167,  0.97024255,  0.02188649])"
      ]
     },
     "execution_count": 11,
     "metadata": {},
     "output_type": "execute_result"
    }
   ],
   "source": [
    "X[0]"
   ]
  },
  {
   "cell_type": "code",
   "execution_count": 12,
   "id": "f91b30ed",
   "metadata": {},
   "outputs": [],
   "source": [
    "X_train,X_test,Y_train,Y_test = train_test_split(X,Y,test_size=0.3,random_state=1)"
   ]
  },
  {
   "cell_type": "code",
   "execution_count": 13,
   "id": "44623bcb",
   "metadata": {},
   "outputs": [],
   "source": [
    "def CalModel(model):\n",
    "    model.fit(X_train,Y_train)\n",
    "    Y_pred = model.predict(X_test)\n",
    "    print(classification_report(Y_test,Y_pred))"
   ]
  },
  {
   "cell_type": "markdown",
   "id": "cea8214a",
   "metadata": {},
   "source": [
    "# Logistic Regression"
   ]
  },
  {
   "cell_type": "code",
   "execution_count": 14,
   "id": "8794f909",
   "metadata": {},
   "outputs": [
    {
     "name": "stdout",
     "output_type": "stream",
     "text": [
      "              precision    recall  f1-score   support\n",
      "\n",
      "           0       0.82      0.97      0.89      2373\n",
      "           1       0.64      0.17      0.27       627\n",
      "\n",
      "    accuracy                           0.81      3000\n",
      "   macro avg       0.73      0.57      0.58      3000\n",
      "weighted avg       0.78      0.81      0.76      3000\n",
      "\n"
     ]
    }
   ],
   "source": [
    "LOG_REG = LogisticRegression()\n",
    "CalModel(LOG_REG)"
   ]
  },
  {
   "cell_type": "code",
   "execution_count": 15,
   "id": "9467eb40",
   "metadata": {},
   "outputs": [
    {
     "name": "stdout",
     "output_type": "stream",
     "text": [
      "['lbfgs', 'l2'] ---> 0.8066666666666666 \n",
      "['lbfgs', 'none'] ---> 0.8066666666666666 \n",
      "['liblinear', 'l1'] ---> 0.8066666666666666 \n",
      "['liblinear', 'l2'] ---> 0.8066666666666666 \n",
      "['newton-cg', 'l2'] ---> 0.8066666666666666 \n",
      "['newton-cg', 'none'] ---> 0.8066666666666666 \n",
      "['sag', 'l2'] ---> 0.8066666666666666 \n",
      "['sag', 'none'] ---> 0.8066666666666666 \n",
      "['saga', 'l1'] ---> 0.8066666666666666 \n",
      "['saga', 'l2'] ---> 0.8066666666666666 \n",
      "['saga', 'none'] ---> 0.8066666666666666 \n"
     ]
    }
   ],
   "source": [
    "params = [ ['lbfgs','l2'],['lbfgs','none'],\n",
    "           ['liblinear','l1'],['liblinear','l2'],\n",
    "           ['newton-cg','l2'],['newton-cg','none'],\n",
    "           ['sag','l2'],['sag','none'],\n",
    "           ['saga','l1'],['saga','l2'],['saga','none']  ]\n",
    "\n",
    "#  ['saga','elasticnet']  --->  Need to perform Scalling on the Data \n",
    "\n",
    "all_combinations = []\n",
    "\n",
    "for i in params:\n",
    "\n",
    "    from sklearn.linear_model import LogisticRegression\n",
    "\n",
    "    model = LogisticRegression(solver=i[0] , penalty=i[1])\n",
    "\n",
    "    model.fit(X_train,Y_train)\n",
    "\n",
    "    Y_pred = model.predict(X_test)\n",
    "    \n",
    "    from sklearn.metrics import accuracy_score\n",
    "    acc = accuracy_score(Y_test,Y_pred)\n",
    "    \n",
    "    print(f\"{i} ---> {acc} \")\n",
    "    \n",
    "    all_combinations.append(acc)"
   ]
  },
  {
   "cell_type": "code",
   "execution_count": 16,
   "id": "9f3a049c",
   "metadata": {},
   "outputs": [
    {
     "name": "stdout",
     "output_type": "stream",
     "text": [
      "['lbfgs', 'l2'] ---> 0.8066666666666666\n"
     ]
    }
   ],
   "source": [
    "# Best Hyperparmeter for Logistic Regression\n",
    "print(f\"{params[all_combinations.index(max(all_combinations))]} ---> {max(all_combinations)}\")"
   ]
  },
  {
   "cell_type": "markdown",
   "id": "f1c9290f",
   "metadata": {},
   "source": [
    "# KNN"
   ]
  },
  {
   "cell_type": "code",
   "execution_count": 17,
   "id": "8e5c8b2c",
   "metadata": {},
   "outputs": [
    {
     "name": "stdout",
     "output_type": "stream",
     "text": [
      "              precision    recall  f1-score   support\n",
      "\n",
      "           0       0.85      0.95      0.90      2373\n",
      "           1       0.69      0.39      0.50       627\n",
      "\n",
      "    accuracy                           0.84      3000\n",
      "   macro avg       0.77      0.67      0.70      3000\n",
      "weighted avg       0.82      0.84      0.82      3000\n",
      "\n"
     ]
    }
   ],
   "source": [
    "KNN = KNeighborsClassifier()\n",
    "CalModel(KNN)"
   ]
  },
  {
   "cell_type": "code",
   "execution_count": 18,
   "id": "a65728f4",
   "metadata": {},
   "outputs": [
    {
     "name": "stdout",
     "output_type": "stream",
     "text": [
      "1 ----> 0.7886666666666666\n",
      "2 ----> 0.8303333333333334\n",
      "3 ----> 0.8243333333333334\n",
      "4 ----> 0.835\n",
      "5 ----> 0.8356666666666667\n",
      "6 ----> 0.8353333333333334\n",
      "7 ----> 0.8393333333333334\n",
      "8 ----> 0.8373333333333334\n",
      "9 ----> 0.8406666666666667\n",
      "10 ----> 0.8376666666666667\n",
      "11 ----> 0.8373333333333334\n",
      "12 ----> 0.838\n",
      "13 ----> 0.8406666666666667\n",
      "14 ----> 0.838\n",
      "15 ----> 0.8403333333333334\n",
      "16 ----> 0.8406666666666667\n",
      "17 ----> 0.8446666666666667\n",
      "18 ----> 0.8423333333333334\n",
      "19 ----> 0.8423333333333334\n",
      "20 ----> 0.8426666666666667\n",
      "21 ----> 0.8443333333333334\n",
      "22 ----> 0.84\n",
      "23 ----> 0.842\n",
      "24 ----> 0.839\n",
      "25 ----> 0.8413333333333334\n",
      "26 ----> 0.8373333333333334\n",
      "27 ----> 0.8396666666666667\n",
      "28 ----> 0.835\n",
      "29 ----> 0.839\n",
      "30 ----> 0.8356666666666667\n",
      "31 ----> 0.839\n",
      "32 ----> 0.8376666666666667\n",
      "33 ----> 0.8373333333333334\n",
      "34 ----> 0.8366666666666667\n",
      "35 ----> 0.8366666666666667\n",
      "36 ----> 0.8346666666666667\n",
      "37 ----> 0.836\n",
      "38 ----> 0.8343333333333334\n",
      "39 ----> 0.8333333333333334\n",
      "40 ----> 0.833\n",
      "41 ----> 0.833\n",
      "42 ----> 0.833\n",
      "43 ----> 0.8326666666666667\n",
      "44 ----> 0.8313333333333334\n",
      "45 ----> 0.8316666666666667\n",
      "46 ----> 0.8296666666666667\n",
      "47 ----> 0.832\n",
      "48 ----> 0.8306666666666667\n",
      "49 ----> 0.8323333333333334\n"
     ]
    }
   ],
   "source": [
    "KNN_LIST = []\n",
    "for i in range(1,50):\n",
    "    KNN = KNeighborsClassifier(n_neighbors=i)\n",
    "    KNN.fit(X_train,Y_train)\n",
    "    Y_pred = KNN.predict(X_test)\n",
    "    print(f\"{i} ----> {accuracy_score(Y_test,Y_pred)}\")\n",
    "    KNN_LIST.append(accuracy_score(Y_test,Y_pred))"
   ]
  },
  {
   "cell_type": "code",
   "execution_count": 19,
   "id": "df4469e7",
   "metadata": {},
   "outputs": [
    {
     "name": "stdout",
     "output_type": "stream",
     "text": [
      "17 ---> 0.8446666666666667\n"
     ]
    }
   ],
   "source": [
    "# Best Hyperparmeter for KNN\n",
    "print(f\"{KNN_LIST.index(max(KNN_LIST))+1} ---> {max(KNN_LIST)}\")"
   ]
  },
  {
   "cell_type": "markdown",
   "id": "eaa0f54e",
   "metadata": {},
   "source": [
    "# Decision Tree"
   ]
  },
  {
   "cell_type": "code",
   "execution_count": 20,
   "id": "58eef5d8",
   "metadata": {
    "scrolled": true
   },
   "outputs": [
    {
     "name": "stdout",
     "output_type": "stream",
     "text": [
      "              precision    recall  f1-score   support\n",
      "\n",
      "           0       0.87      0.86      0.86      2373\n",
      "           1       0.49      0.50      0.49       627\n",
      "\n",
      "    accuracy                           0.78      3000\n",
      "   macro avg       0.68      0.68      0.68      3000\n",
      "weighted avg       0.79      0.78      0.79      3000\n",
      "\n"
     ]
    }
   ],
   "source": [
    "DTC_GINI = DecisionTreeClassifier()\n",
    "CalModel(DTC_GINI)"
   ]
  },
  {
   "cell_type": "code",
   "execution_count": 21,
   "id": "5255fd8f",
   "metadata": {},
   "outputs": [
    {
     "name": "stdout",
     "output_type": "stream",
     "text": [
      "              precision    recall  f1-score   support\n",
      "\n",
      "           0       0.87      0.86      0.86      2373\n",
      "           1       0.49      0.49      0.49       627\n",
      "\n",
      "    accuracy                           0.79      3000\n",
      "   macro avg       0.68      0.68      0.68      3000\n",
      "weighted avg       0.79      0.79      0.79      3000\n",
      "\n"
     ]
    }
   ],
   "source": [
    "DTC_ENTROPY = DecisionTreeClassifier(criterion=\"entropy\")\n",
    "CalModel(DTC_ENTROPY)"
   ]
  },
  {
   "cell_type": "markdown",
   "id": "497f7552",
   "metadata": {},
   "source": [
    "### MAX_DEPT"
   ]
  },
  {
   "cell_type": "code",
   "execution_count": 22,
   "id": "a5fbb0de",
   "metadata": {},
   "outputs": [
    {
     "name": "stdout",
     "output_type": "stream",
     "text": [
      "1 ---> 0.791\n",
      "2 ---> 0.8256666666666667\n",
      "3 ---> 0.8393333333333334\n",
      "4 ---> 0.8483333333333334\n",
      "5 ---> 0.8546666666666667\n",
      "6 ---> 0.8436666666666667\n",
      "7 ---> 0.8473333333333334\n",
      "8 ---> 0.8453333333333334\n",
      "9 ---> 0.8333333333333334\n",
      "10 ---> 0.8286666666666667\n",
      "11 ---> 0.823\n",
      "12 ---> 0.8213333333333334\n",
      "13 ---> 0.8076666666666666\n",
      "14 ---> 0.801\n",
      "15 ---> 0.7993333333333333\n",
      "16 ---> 0.7993333333333333\n",
      "17 ---> 0.793\n",
      "18 ---> 0.789\n",
      "19 ---> 0.7853333333333333\n",
      "20 ---> 0.7856666666666666\n",
      "21 ---> 0.7846666666666666\n",
      "22 ---> 0.7876666666666666\n",
      "23 ---> 0.788\n",
      "24 ---> 0.786\n",
      "25 ---> 0.7883333333333333\n",
      "26 ---> 0.783\n",
      "27 ---> 0.7866666666666666\n",
      "28 ---> 0.7853333333333333\n",
      "29 ---> 0.7873333333333333\n",
      "30 ---> 0.7826666666666666\n",
      "31 ---> 0.7886666666666666\n",
      "32 ---> 0.7866666666666666\n",
      "33 ---> 0.784\n",
      "34 ---> 0.7853333333333333\n",
      "35 ---> 0.7873333333333333\n",
      "36 ---> 0.7843333333333333\n",
      "37 ---> 0.7776666666666666\n",
      "38 ---> 0.784\n",
      "39 ---> 0.7856666666666666\n",
      "40 ---> 0.7863333333333333\n",
      "41 ---> 0.787\n",
      "42 ---> 0.78\n",
      "43 ---> 0.784\n",
      "44 ---> 0.7853333333333333\n",
      "45 ---> 0.7846666666666666\n",
      "46 ---> 0.7853333333333333\n",
      "47 ---> 0.7906666666666666\n",
      "48 ---> 0.7856666666666666\n",
      "49 ---> 0.7836666666666666\n"
     ]
    }
   ],
   "source": [
    "MAX_DEPT_LIST = []\n",
    "for i in range(1,50):\n",
    "    DTC_1 = DecisionTreeClassifier(max_depth=i,)\n",
    "    DTC_1.fit(X_train,Y_train)\n",
    "    Y_pred = DTC_1.predict(X_test)\n",
    "    print(f\"{i} ---> {accuracy_score(Y_test,Y_pred)}\")\n",
    "    MAX_DEPT_LIST.append(accuracy_score(Y_test,Y_pred))"
   ]
  },
  {
   "cell_type": "code",
   "execution_count": 23,
   "id": "a89f5120",
   "metadata": {},
   "outputs": [
    {
     "name": "stdout",
     "output_type": "stream",
     "text": [
      "5 ---> 0.8546666666666667\n"
     ]
    }
   ],
   "source": [
    "print(f\"{MAX_DEPT_LIST.index(max(MAX_DEPT_LIST))+1} ---> {max(MAX_DEPT_LIST)}\")"
   ]
  },
  {
   "cell_type": "code",
   "execution_count": 24,
   "id": "ed8f3687",
   "metadata": {},
   "outputs": [
    {
     "name": "stdout",
     "output_type": "stream",
     "text": [
      "              precision    recall  f1-score   support\n",
      "\n",
      "           0       0.86      0.97      0.91      2373\n",
      "           1       0.79      0.41      0.54       627\n",
      "\n",
      "    accuracy                           0.85      3000\n",
      "   macro avg       0.83      0.69      0.73      3000\n",
      "weighted avg       0.85      0.85      0.84      3000\n",
      "\n"
     ]
    }
   ],
   "source": [
    "DTC_MAX_DEPT_LIST = DecisionTreeClassifier(max_depth=5)\n",
    "CalModel(DTC_MAX_DEPT_LIST)"
   ]
  },
  {
   "cell_type": "markdown",
   "id": "78505e58",
   "metadata": {},
   "source": [
    "### MIN_SAMPLE_SPLIT"
   ]
  },
  {
   "cell_type": "code",
   "execution_count": 25,
   "id": "2fd175a4",
   "metadata": {},
   "outputs": [
    {
     "name": "stdout",
     "output_type": "stream",
     "text": [
      "2 ---> 0.7816666666666666\n",
      "3 ---> 0.7896666666666666\n",
      "4 ---> 0.786\n",
      "5 ---> 0.7903333333333333\n",
      "6 ---> 0.7893333333333333\n",
      "7 ---> 0.7893333333333333\n",
      "8 ---> 0.7886666666666666\n",
      "9 ---> 0.7926666666666666\n",
      "10 ---> 0.7933333333333333\n",
      "11 ---> 0.7946666666666666\n",
      "12 ---> 0.7973333333333333\n",
      "13 ---> 0.7973333333333333\n",
      "14 ---> 0.799\n",
      "15 ---> 0.8016666666666666\n",
      "16 ---> 0.8016666666666666\n",
      "17 ---> 0.8076666666666666\n",
      "18 ---> 0.808\n",
      "19 ---> 0.81\n",
      "20 ---> 0.813\n",
      "21 ---> 0.814\n",
      "22 ---> 0.814\n",
      "23 ---> 0.8156666666666667\n",
      "24 ---> 0.8173333333333334\n",
      "25 ---> 0.8233333333333334\n",
      "26 ---> 0.8216666666666667\n",
      "27 ---> 0.823\n",
      "28 ---> 0.8233333333333334\n",
      "29 ---> 0.821\n",
      "30 ---> 0.82\n",
      "31 ---> 0.8196666666666667\n",
      "32 ---> 0.8206666666666667\n",
      "33 ---> 0.821\n",
      "34 ---> 0.8206666666666667\n",
      "35 ---> 0.822\n",
      "36 ---> 0.8226666666666667\n",
      "37 ---> 0.8166666666666667\n",
      "38 ---> 0.821\n",
      "39 ---> 0.8176666666666667\n",
      "40 ---> 0.818\n",
      "41 ---> 0.8196666666666667\n",
      "42 ---> 0.817\n",
      "43 ---> 0.82\n",
      "44 ---> 0.8176666666666667\n",
      "45 ---> 0.819\n",
      "46 ---> 0.8223333333333334\n",
      "47 ---> 0.822\n",
      "48 ---> 0.8226666666666667\n",
      "49 ---> 0.8226666666666667\n"
     ]
    }
   ],
   "source": [
    "MIN_SAMPLE_SPLIT = []\n",
    "for i in range(2,50):\n",
    "    DTC_2 = DecisionTreeClassifier(min_samples_split=i)\n",
    "    DTC_2.fit(X_train,Y_train)\n",
    "    Y_pred = DTC_2.predict(X_test)\n",
    "    \n",
    "    print(f\"{i} ---> {accuracy_score(Y_test,Y_pred)}\")\n",
    "    \n",
    "    MIN_SAMPLE_SPLIT.append(accuracy_score(Y_test,Y_pred))"
   ]
  },
  {
   "cell_type": "code",
   "execution_count": 26,
   "id": "31df7adf",
   "metadata": {},
   "outputs": [
    {
     "name": "stdout",
     "output_type": "stream",
     "text": [
      "25 ---> 0.8233333333333334\n"
     ]
    }
   ],
   "source": [
    "print(f\"{MIN_SAMPLE_SPLIT.index(max(MIN_SAMPLE_SPLIT))+2} ---> {max(MIN_SAMPLE_SPLIT)}\")"
   ]
  },
  {
   "cell_type": "code",
   "execution_count": 27,
   "id": "85d4e932",
   "metadata": {},
   "outputs": [
    {
     "name": "stdout",
     "output_type": "stream",
     "text": [
      "              precision    recall  f1-score   support\n",
      "\n",
      "           0       0.87      0.92      0.89      2373\n",
      "           1       0.59      0.47      0.52       627\n",
      "\n",
      "    accuracy                           0.82      3000\n",
      "   macro avg       0.73      0.69      0.71      3000\n",
      "weighted avg       0.81      0.82      0.81      3000\n",
      "\n"
     ]
    }
   ],
   "source": [
    "DTC_MIN_SAMPLE_SPLIT = DecisionTreeClassifier(min_samples_split=25)\n",
    "CalModel(DTC_MIN_SAMPLE_SPLIT)"
   ]
  },
  {
   "cell_type": "markdown",
   "id": "ff5b1fe6",
   "metadata": {},
   "source": [
    "### MIN_SAMPLE_LEAF"
   ]
  },
  {
   "cell_type": "code",
   "execution_count": 28,
   "id": "5863133c",
   "metadata": {},
   "outputs": [
    {
     "name": "stdout",
     "output_type": "stream",
     "text": [
      "1 ---> 0.7876666666666666\n",
      "2 ---> 0.8003333333333333\n",
      "3 ---> 0.7983333333333333\n",
      "4 ---> 0.8133333333333334\n",
      "5 ---> 0.818\n",
      "6 ---> 0.8186666666666667\n",
      "7 ---> 0.8263333333333334\n",
      "8 ---> 0.823\n",
      "9 ---> 0.8286666666666667\n",
      "10 ---> 0.8266666666666667\n",
      "11 ---> 0.8323333333333334\n",
      "12 ---> 0.836\n",
      "13 ---> 0.8373333333333334\n",
      "14 ---> 0.84\n",
      "15 ---> 0.8343333333333334\n",
      "16 ---> 0.8353333333333334\n",
      "17 ---> 0.838\n",
      "18 ---> 0.8376666666666667\n",
      "19 ---> 0.835\n",
      "20 ---> 0.84\n",
      "21 ---> 0.8403333333333334\n",
      "22 ---> 0.8433333333333334\n",
      "23 ---> 0.8463333333333334\n",
      "24 ---> 0.8473333333333334\n",
      "25 ---> 0.8483333333333334\n",
      "26 ---> 0.8446666666666667\n",
      "27 ---> 0.8453333333333334\n",
      "28 ---> 0.8443333333333334\n",
      "29 ---> 0.8443333333333334\n",
      "30 ---> 0.8443333333333334\n",
      "31 ---> 0.847\n",
      "32 ---> 0.8443333333333334\n",
      "33 ---> 0.8443333333333334\n",
      "34 ---> 0.842\n",
      "35 ---> 0.835\n",
      "36 ---> 0.837\n",
      "37 ---> 0.8356666666666667\n",
      "38 ---> 0.8356666666666667\n",
      "39 ---> 0.8356666666666667\n",
      "40 ---> 0.8383333333333334\n",
      "41 ---> 0.8366666666666667\n",
      "42 ---> 0.84\n",
      "43 ---> 0.84\n",
      "44 ---> 0.8426666666666667\n",
      "45 ---> 0.8406666666666667\n",
      "46 ---> 0.8406666666666667\n",
      "47 ---> 0.8326666666666667\n",
      "48 ---> 0.8326666666666667\n",
      "49 ---> 0.8296666666666667\n"
     ]
    }
   ],
   "source": [
    "MIN_SAMPLE_LEAF = []\n",
    "for i in range(1,50):\n",
    "    DTC_3 = DecisionTreeClassifier(min_samples_leaf=i)\n",
    "    DTC_3.fit(X_train,Y_train)\n",
    "    Y_pred = DTC_3.predict(X_test)\n",
    "    \n",
    "    print(f\"{i} ---> {accuracy_score(Y_test,Y_pred)}\")\n",
    "    \n",
    "    MIN_SAMPLE_LEAF.append(accuracy_score(Y_test,Y_pred))"
   ]
  },
  {
   "cell_type": "code",
   "execution_count": 29,
   "id": "e045cd95",
   "metadata": {},
   "outputs": [
    {
     "name": "stdout",
     "output_type": "stream",
     "text": [
      "26 ---> 0.8483333333333334\n"
     ]
    }
   ],
   "source": [
    "print(f\"{MIN_SAMPLE_LEAF.index(max(MIN_SAMPLE_LEAF))+2} ---> {max(MIN_SAMPLE_LEAF)}\")"
   ]
  },
  {
   "cell_type": "code",
   "execution_count": 30,
   "id": "87b7fb52",
   "metadata": {
    "scrolled": false
   },
   "outputs": [
    {
     "name": "stdout",
     "output_type": "stream",
     "text": [
      "              precision    recall  f1-score   support\n",
      "\n",
      "           0       0.87      0.92      0.89      2373\n",
      "           1       0.59      0.46      0.52       627\n",
      "\n",
      "    accuracy                           0.82      3000\n",
      "   macro avg       0.73      0.69      0.71      3000\n",
      "weighted avg       0.81      0.82      0.81      3000\n",
      "\n"
     ]
    }
   ],
   "source": [
    "DTC_MIN_SAMPLE_LEAF = DecisionTreeClassifier(min_samples_split=25)\n",
    "CalModel(DTC_MIN_SAMPLE_LEAF)"
   ]
  },
  {
   "cell_type": "markdown",
   "id": "0318a0d4",
   "metadata": {},
   "source": [
    "# Stratified K-FOLD on Decision Tree"
   ]
  },
  {
   "cell_type": "code",
   "execution_count": 31,
   "id": "664730fd",
   "metadata": {},
   "outputs": [],
   "source": [
    "from sklearn.model_selection import StratifiedKFold\n",
    "from sklearn.model_selection import cross_val_score\n",
    "\n",
    "SKFOLD_LIST = []\n",
    "\n",
    "for i in range(2,20):\n",
    "    skfolds = StratifiedKFold(n_splits=i)\n",
    "\n",
    "    DTC_SKFOLD = DecisionTreeClassifier()\n",
    "\n",
    "    scores = cross_val_score(DTC_SKFOLD,X,Y,cv=skfolds)\n",
    "    \n",
    "    SKFOLD_LIST.append(np.mean(scores))\n",
    "\n"
   ]
  },
  {
   "cell_type": "code",
   "execution_count": 32,
   "id": "31c4e6a9",
   "metadata": {},
   "outputs": [
    {
     "name": "stdout",
     "output_type": "stream",
     "text": [
      "10 ---> 0.7866000000000001\n"
     ]
    }
   ],
   "source": [
    "print(f\"{SKFOLD_LIST.index(max(SKFOLD_LIST))+2} ---> {max(SKFOLD_LIST)}\")"
   ]
  },
  {
   "cell_type": "code",
   "execution_count": null,
   "id": "c20b6af0",
   "metadata": {},
   "outputs": [],
   "source": []
  },
  {
   "cell_type": "code",
   "execution_count": null,
   "id": "dd3d24f5",
   "metadata": {},
   "outputs": [],
   "source": []
  },
  {
   "cell_type": "code",
   "execution_count": null,
   "id": "6b84c13b",
   "metadata": {},
   "outputs": [],
   "source": []
  }
 ],
 "metadata": {
  "kernelspec": {
   "display_name": "Python 3 (ipykernel)",
   "language": "python",
   "name": "python3"
  },
  "language_info": {
   "codemirror_mode": {
    "name": "ipython",
    "version": 3
   },
   "file_extension": ".py",
   "mimetype": "text/x-python",
   "name": "python",
   "nbconvert_exporter": "python",
   "pygments_lexer": "ipython3",
   "version": "3.10.5"
  }
 },
 "nbformat": 4,
 "nbformat_minor": 5
}
