{
 "cells": [
  {
   "cell_type": "code",
   "execution_count": 1,
   "id": "e3413f7a",
   "metadata": {},
   "outputs": [],
   "source": [
    "import pandas as pd\n",
    "import numpy as np\n",
    "import matplotlib.pyplot as plt\n",
    "import seaborn as sns\n",
    "\n",
    "import warnings\n",
    "warnings.filterwarnings(\"ignore\")"
   ]
  },
  {
   "cell_type": "code",
   "execution_count": 2,
   "id": "e17077ed",
   "metadata": {},
   "outputs": [
    {
     "data": {
      "text/html": [
       "<div>\n",
       "<style scoped>\n",
       "    .dataframe tbody tr th:only-of-type {\n",
       "        vertical-align: middle;\n",
       "    }\n",
       "\n",
       "    .dataframe tbody tr th {\n",
       "        vertical-align: top;\n",
       "    }\n",
       "\n",
       "    .dataframe thead th {\n",
       "        text-align: right;\n",
       "    }\n",
       "</style>\n",
       "<table border=\"1\" class=\"dataframe\">\n",
       "  <thead>\n",
       "    <tr style=\"text-align: right;\">\n",
       "      <th></th>\n",
       "      <th>Pregnancies</th>\n",
       "      <th>Glucose</th>\n",
       "      <th>BloodPressure</th>\n",
       "      <th>SkinThickness</th>\n",
       "      <th>Insulin</th>\n",
       "      <th>BMI</th>\n",
       "      <th>DiabetesPedigreeFunction</th>\n",
       "      <th>Age</th>\n",
       "      <th>Outcome</th>\n",
       "    </tr>\n",
       "  </thead>\n",
       "  <tbody>\n",
       "    <tr>\n",
       "      <th>0</th>\n",
       "      <td>6</td>\n",
       "      <td>148</td>\n",
       "      <td>72</td>\n",
       "      <td>35</td>\n",
       "      <td>0</td>\n",
       "      <td>33.6</td>\n",
       "      <td>0.627</td>\n",
       "      <td>50</td>\n",
       "      <td>1</td>\n",
       "    </tr>\n",
       "    <tr>\n",
       "      <th>1</th>\n",
       "      <td>1</td>\n",
       "      <td>85</td>\n",
       "      <td>66</td>\n",
       "      <td>29</td>\n",
       "      <td>0</td>\n",
       "      <td>26.6</td>\n",
       "      <td>0.351</td>\n",
       "      <td>31</td>\n",
       "      <td>0</td>\n",
       "    </tr>\n",
       "    <tr>\n",
       "      <th>2</th>\n",
       "      <td>8</td>\n",
       "      <td>183</td>\n",
       "      <td>64</td>\n",
       "      <td>0</td>\n",
       "      <td>0</td>\n",
       "      <td>23.3</td>\n",
       "      <td>0.672</td>\n",
       "      <td>32</td>\n",
       "      <td>1</td>\n",
       "    </tr>\n",
       "    <tr>\n",
       "      <th>3</th>\n",
       "      <td>1</td>\n",
       "      <td>89</td>\n",
       "      <td>66</td>\n",
       "      <td>23</td>\n",
       "      <td>94</td>\n",
       "      <td>28.1</td>\n",
       "      <td>0.167</td>\n",
       "      <td>21</td>\n",
       "      <td>0</td>\n",
       "    </tr>\n",
       "    <tr>\n",
       "      <th>4</th>\n",
       "      <td>0</td>\n",
       "      <td>137</td>\n",
       "      <td>40</td>\n",
       "      <td>35</td>\n",
       "      <td>168</td>\n",
       "      <td>43.1</td>\n",
       "      <td>2.288</td>\n",
       "      <td>33</td>\n",
       "      <td>1</td>\n",
       "    </tr>\n",
       "  </tbody>\n",
       "</table>\n",
       "</div>"
      ],
      "text/plain": [
       "   Pregnancies  Glucose  BloodPressure  SkinThickness  Insulin   BMI  \\\n",
       "0            6      148             72             35        0  33.6   \n",
       "1            1       85             66             29        0  26.6   \n",
       "2            8      183             64              0        0  23.3   \n",
       "3            1       89             66             23       94  28.1   \n",
       "4            0      137             40             35      168  43.1   \n",
       "\n",
       "   DiabetesPedigreeFunction  Age  Outcome  \n",
       "0                     0.627   50        1  \n",
       "1                     0.351   31        0  \n",
       "2                     0.672   32        1  \n",
       "3                     0.167   21        0  \n",
       "4                     2.288   33        1  "
      ]
     },
     "execution_count": 2,
     "metadata": {},
     "output_type": "execute_result"
    }
   ],
   "source": [
    "df = pd.read_csv(\"diabetes.csv\")\n",
    "df.head()"
   ]
  },
  {
   "cell_type": "code",
   "execution_count": 3,
   "id": "106287cb",
   "metadata": {},
   "outputs": [],
   "source": [
    "ml=[\"Glucose\",\"BloodPressure\",\"SkinThickness\",\"Insulin\",\"BMI\"]\n",
    "for i in ml:\n",
    "    df[i].replace(0,np.nan,inplace=True)\n",
    "    df[i].fillna(df[i].mean(),inplace=True)"
   ]
  },
  {
   "cell_type": "code",
   "execution_count": 4,
   "id": "21edc7be",
   "metadata": {},
   "outputs": [
    {
     "data": {
      "text/html": [
       "<div>\n",
       "<style scoped>\n",
       "    .dataframe tbody tr th:only-of-type {\n",
       "        vertical-align: middle;\n",
       "    }\n",
       "\n",
       "    .dataframe tbody tr th {\n",
       "        vertical-align: top;\n",
       "    }\n",
       "\n",
       "    .dataframe thead th {\n",
       "        text-align: right;\n",
       "    }\n",
       "</style>\n",
       "<table border=\"1\" class=\"dataframe\">\n",
       "  <thead>\n",
       "    <tr style=\"text-align: right;\">\n",
       "      <th></th>\n",
       "      <th>Pregnancies</th>\n",
       "      <th>Glucose</th>\n",
       "      <th>BloodPressure</th>\n",
       "      <th>SkinThickness</th>\n",
       "      <th>Insulin</th>\n",
       "      <th>BMI</th>\n",
       "      <th>DiabetesPedigreeFunction</th>\n",
       "      <th>Age</th>\n",
       "      <th>Outcome</th>\n",
       "    </tr>\n",
       "  </thead>\n",
       "  <tbody>\n",
       "    <tr>\n",
       "      <th>count</th>\n",
       "      <td>768.000000</td>\n",
       "      <td>768.000000</td>\n",
       "      <td>768.000000</td>\n",
       "      <td>768.000000</td>\n",
       "      <td>768.000000</td>\n",
       "      <td>768.000000</td>\n",
       "      <td>768.000000</td>\n",
       "      <td>768.000000</td>\n",
       "      <td>768.000000</td>\n",
       "    </tr>\n",
       "    <tr>\n",
       "      <th>mean</th>\n",
       "      <td>3.845052</td>\n",
       "      <td>121.686763</td>\n",
       "      <td>72.405184</td>\n",
       "      <td>29.153420</td>\n",
       "      <td>155.548223</td>\n",
       "      <td>32.457464</td>\n",
       "      <td>0.471876</td>\n",
       "      <td>33.240885</td>\n",
       "      <td>0.348958</td>\n",
       "    </tr>\n",
       "    <tr>\n",
       "      <th>std</th>\n",
       "      <td>3.369578</td>\n",
       "      <td>30.435949</td>\n",
       "      <td>12.096346</td>\n",
       "      <td>8.790942</td>\n",
       "      <td>85.021108</td>\n",
       "      <td>6.875151</td>\n",
       "      <td>0.331329</td>\n",
       "      <td>11.760232</td>\n",
       "      <td>0.476951</td>\n",
       "    </tr>\n",
       "    <tr>\n",
       "      <th>min</th>\n",
       "      <td>0.000000</td>\n",
       "      <td>44.000000</td>\n",
       "      <td>24.000000</td>\n",
       "      <td>7.000000</td>\n",
       "      <td>14.000000</td>\n",
       "      <td>18.200000</td>\n",
       "      <td>0.078000</td>\n",
       "      <td>21.000000</td>\n",
       "      <td>0.000000</td>\n",
       "    </tr>\n",
       "    <tr>\n",
       "      <th>25%</th>\n",
       "      <td>1.000000</td>\n",
       "      <td>99.750000</td>\n",
       "      <td>64.000000</td>\n",
       "      <td>25.000000</td>\n",
       "      <td>121.500000</td>\n",
       "      <td>27.500000</td>\n",
       "      <td>0.243750</td>\n",
       "      <td>24.000000</td>\n",
       "      <td>0.000000</td>\n",
       "    </tr>\n",
       "    <tr>\n",
       "      <th>50%</th>\n",
       "      <td>3.000000</td>\n",
       "      <td>117.000000</td>\n",
       "      <td>72.202592</td>\n",
       "      <td>29.153420</td>\n",
       "      <td>155.548223</td>\n",
       "      <td>32.400000</td>\n",
       "      <td>0.372500</td>\n",
       "      <td>29.000000</td>\n",
       "      <td>0.000000</td>\n",
       "    </tr>\n",
       "    <tr>\n",
       "      <th>75%</th>\n",
       "      <td>6.000000</td>\n",
       "      <td>140.250000</td>\n",
       "      <td>80.000000</td>\n",
       "      <td>32.000000</td>\n",
       "      <td>155.548223</td>\n",
       "      <td>36.600000</td>\n",
       "      <td>0.626250</td>\n",
       "      <td>41.000000</td>\n",
       "      <td>1.000000</td>\n",
       "    </tr>\n",
       "    <tr>\n",
       "      <th>max</th>\n",
       "      <td>17.000000</td>\n",
       "      <td>199.000000</td>\n",
       "      <td>122.000000</td>\n",
       "      <td>99.000000</td>\n",
       "      <td>846.000000</td>\n",
       "      <td>67.100000</td>\n",
       "      <td>2.420000</td>\n",
       "      <td>81.000000</td>\n",
       "      <td>1.000000</td>\n",
       "    </tr>\n",
       "  </tbody>\n",
       "</table>\n",
       "</div>"
      ],
      "text/plain": [
       "       Pregnancies     Glucose  BloodPressure  SkinThickness     Insulin  \\\n",
       "count   768.000000  768.000000     768.000000     768.000000  768.000000   \n",
       "mean      3.845052  121.686763      72.405184      29.153420  155.548223   \n",
       "std       3.369578   30.435949      12.096346       8.790942   85.021108   \n",
       "min       0.000000   44.000000      24.000000       7.000000   14.000000   \n",
       "25%       1.000000   99.750000      64.000000      25.000000  121.500000   \n",
       "50%       3.000000  117.000000      72.202592      29.153420  155.548223   \n",
       "75%       6.000000  140.250000      80.000000      32.000000  155.548223   \n",
       "max      17.000000  199.000000     122.000000      99.000000  846.000000   \n",
       "\n",
       "              BMI  DiabetesPedigreeFunction         Age     Outcome  \n",
       "count  768.000000                768.000000  768.000000  768.000000  \n",
       "mean    32.457464                  0.471876   33.240885    0.348958  \n",
       "std      6.875151                  0.331329   11.760232    0.476951  \n",
       "min     18.200000                  0.078000   21.000000    0.000000  \n",
       "25%     27.500000                  0.243750   24.000000    0.000000  \n",
       "50%     32.400000                  0.372500   29.000000    0.000000  \n",
       "75%     36.600000                  0.626250   41.000000    1.000000  \n",
       "max     67.100000                  2.420000   81.000000    1.000000  "
      ]
     },
     "execution_count": 4,
     "metadata": {},
     "output_type": "execute_result"
    }
   ],
   "source": [
    "df.describe()"
   ]
  },
  {
   "cell_type": "code",
   "execution_count": 5,
   "id": "7c7f99e3",
   "metadata": {},
   "outputs": [
    {
     "data": {
      "text/html": [
       "<div>\n",
       "<style scoped>\n",
       "    .dataframe tbody tr th:only-of-type {\n",
       "        vertical-align: middle;\n",
       "    }\n",
       "\n",
       "    .dataframe tbody tr th {\n",
       "        vertical-align: top;\n",
       "    }\n",
       "\n",
       "    .dataframe thead th {\n",
       "        text-align: right;\n",
       "    }\n",
       "</style>\n",
       "<table border=\"1\" class=\"dataframe\">\n",
       "  <thead>\n",
       "    <tr style=\"text-align: right;\">\n",
       "      <th></th>\n",
       "      <th>Glucose</th>\n",
       "      <th>BloodPressure</th>\n",
       "      <th>SkinThickness</th>\n",
       "      <th>Insulin</th>\n",
       "      <th>BMI</th>\n",
       "      <th>DiabetesPedigreeFunction</th>\n",
       "      <th>Age</th>\n",
       "    </tr>\n",
       "  </thead>\n",
       "  <tbody>\n",
       "    <tr>\n",
       "      <th>0</th>\n",
       "      <td>148.0</td>\n",
       "      <td>72.0</td>\n",
       "      <td>35.00000</td>\n",
       "      <td>155.548223</td>\n",
       "      <td>33.6</td>\n",
       "      <td>0.627</td>\n",
       "      <td>50</td>\n",
       "    </tr>\n",
       "    <tr>\n",
       "      <th>1</th>\n",
       "      <td>85.0</td>\n",
       "      <td>66.0</td>\n",
       "      <td>29.00000</td>\n",
       "      <td>155.548223</td>\n",
       "      <td>26.6</td>\n",
       "      <td>0.351</td>\n",
       "      <td>31</td>\n",
       "    </tr>\n",
       "    <tr>\n",
       "      <th>2</th>\n",
       "      <td>183.0</td>\n",
       "      <td>64.0</td>\n",
       "      <td>29.15342</td>\n",
       "      <td>155.548223</td>\n",
       "      <td>23.3</td>\n",
       "      <td>0.672</td>\n",
       "      <td>32</td>\n",
       "    </tr>\n",
       "    <tr>\n",
       "      <th>3</th>\n",
       "      <td>89.0</td>\n",
       "      <td>66.0</td>\n",
       "      <td>23.00000</td>\n",
       "      <td>94.000000</td>\n",
       "      <td>28.1</td>\n",
       "      <td>0.167</td>\n",
       "      <td>21</td>\n",
       "    </tr>\n",
       "    <tr>\n",
       "      <th>4</th>\n",
       "      <td>137.0</td>\n",
       "      <td>40.0</td>\n",
       "      <td>35.00000</td>\n",
       "      <td>168.000000</td>\n",
       "      <td>43.1</td>\n",
       "      <td>2.288</td>\n",
       "      <td>33</td>\n",
       "    </tr>\n",
       "    <tr>\n",
       "      <th>...</th>\n",
       "      <td>...</td>\n",
       "      <td>...</td>\n",
       "      <td>...</td>\n",
       "      <td>...</td>\n",
       "      <td>...</td>\n",
       "      <td>...</td>\n",
       "      <td>...</td>\n",
       "    </tr>\n",
       "    <tr>\n",
       "      <th>763</th>\n",
       "      <td>101.0</td>\n",
       "      <td>76.0</td>\n",
       "      <td>48.00000</td>\n",
       "      <td>180.000000</td>\n",
       "      <td>32.9</td>\n",
       "      <td>0.171</td>\n",
       "      <td>63</td>\n",
       "    </tr>\n",
       "    <tr>\n",
       "      <th>764</th>\n",
       "      <td>122.0</td>\n",
       "      <td>70.0</td>\n",
       "      <td>27.00000</td>\n",
       "      <td>155.548223</td>\n",
       "      <td>36.8</td>\n",
       "      <td>0.340</td>\n",
       "      <td>27</td>\n",
       "    </tr>\n",
       "    <tr>\n",
       "      <th>765</th>\n",
       "      <td>121.0</td>\n",
       "      <td>72.0</td>\n",
       "      <td>23.00000</td>\n",
       "      <td>112.000000</td>\n",
       "      <td>26.2</td>\n",
       "      <td>0.245</td>\n",
       "      <td>30</td>\n",
       "    </tr>\n",
       "    <tr>\n",
       "      <th>766</th>\n",
       "      <td>126.0</td>\n",
       "      <td>60.0</td>\n",
       "      <td>29.15342</td>\n",
       "      <td>155.548223</td>\n",
       "      <td>30.1</td>\n",
       "      <td>0.349</td>\n",
       "      <td>47</td>\n",
       "    </tr>\n",
       "    <tr>\n",
       "      <th>767</th>\n",
       "      <td>93.0</td>\n",
       "      <td>70.0</td>\n",
       "      <td>31.00000</td>\n",
       "      <td>155.548223</td>\n",
       "      <td>30.4</td>\n",
       "      <td>0.315</td>\n",
       "      <td>23</td>\n",
       "    </tr>\n",
       "  </tbody>\n",
       "</table>\n",
       "<p>768 rows × 7 columns</p>\n",
       "</div>"
      ],
      "text/plain": [
       "     Glucose  BloodPressure  SkinThickness     Insulin   BMI  \\\n",
       "0      148.0           72.0       35.00000  155.548223  33.6   \n",
       "1       85.0           66.0       29.00000  155.548223  26.6   \n",
       "2      183.0           64.0       29.15342  155.548223  23.3   \n",
       "3       89.0           66.0       23.00000   94.000000  28.1   \n",
       "4      137.0           40.0       35.00000  168.000000  43.1   \n",
       "..       ...            ...            ...         ...   ...   \n",
       "763    101.0           76.0       48.00000  180.000000  32.9   \n",
       "764    122.0           70.0       27.00000  155.548223  36.8   \n",
       "765    121.0           72.0       23.00000  112.000000  26.2   \n",
       "766    126.0           60.0       29.15342  155.548223  30.1   \n",
       "767     93.0           70.0       31.00000  155.548223  30.4   \n",
       "\n",
       "     DiabetesPedigreeFunction  Age  \n",
       "0                       0.627   50  \n",
       "1                       0.351   31  \n",
       "2                       0.672   32  \n",
       "3                       0.167   21  \n",
       "4                       2.288   33  \n",
       "..                        ...  ...  \n",
       "763                     0.171   63  \n",
       "764                     0.340   27  \n",
       "765                     0.245   30  \n",
       "766                     0.349   47  \n",
       "767                     0.315   23  \n",
       "\n",
       "[768 rows x 7 columns]"
      ]
     },
     "execution_count": 5,
     "metadata": {},
     "output_type": "execute_result"
    }
   ],
   "source": [
    "x=df.iloc[:,1:-1]\n",
    "x"
   ]
  },
  {
   "cell_type": "code",
   "execution_count": 6,
   "id": "8ad5cfc8",
   "metadata": {},
   "outputs": [
    {
     "data": {
      "text/plain": [
       "0      1\n",
       "1      0\n",
       "2      1\n",
       "3      0\n",
       "4      1\n",
       "      ..\n",
       "763    0\n",
       "764    0\n",
       "765    0\n",
       "766    1\n",
       "767    0\n",
       "Name: Outcome, Length: 768, dtype: int64"
      ]
     },
     "execution_count": 6,
     "metadata": {},
     "output_type": "execute_result"
    }
   ],
   "source": [
    "y=df[\"Outcome\"]\n",
    "y"
   ]
  },
  {
   "cell_type": "code",
   "execution_count": 7,
   "id": "25376adf",
   "metadata": {},
   "outputs": [],
   "source": [
    "#standarization\n",
    "from sklearn.preprocessing import StandardScaler\n",
    "sc=StandardScaler()\n",
    "x=sc.fit_transform(x)"
   ]
  },
  {
   "cell_type": "code",
   "execution_count": 8,
   "id": "37ce1392",
   "metadata": {},
   "outputs": [],
   "source": [
    "# Applying train test split\n",
    "from sklearn.model_selection import train_test_split\n",
    "xtrain,xtest,ytrain,ytest = train_test_split(x,y,test_size=0.20,random_state=1)"
   ]
  },
  {
   "cell_type": "code",
   "execution_count": 9,
   "id": "335cfdae",
   "metadata": {},
   "outputs": [],
   "source": [
    "from sklearn.linear_model import LogisticRegression"
   ]
  },
  {
   "cell_type": "code",
   "execution_count": 10,
   "id": "2a22e928",
   "metadata": {},
   "outputs": [],
   "source": [
    "model=LogisticRegression(solver='liblinear')\n",
    "\n",
    "model.fit(xtrain,ytrain)\n",
    "\n",
    "ypred=model.predict(xtest)"
   ]
  },
  {
   "cell_type": "code",
   "execution_count": 11,
   "id": "9435d424",
   "metadata": {},
   "outputs": [],
   "source": [
    "from sklearn.metrics import accuracy_score"
   ]
  },
  {
   "cell_type": "code",
   "execution_count": 12,
   "id": "2e32c990",
   "metadata": {},
   "outputs": [
    {
     "data": {
      "text/plain": [
       "0.7857142857142857"
      ]
     },
     "execution_count": 12,
     "metadata": {},
     "output_type": "execute_result"
    }
   ],
   "source": [
    "accuracy_score(ytest,ypred)"
   ]
  },
  {
   "cell_type": "code",
   "execution_count": 13,
   "id": "34b833a2",
   "metadata": {},
   "outputs": [],
   "source": [
    "from sklearn.metrics import classification_report"
   ]
  },
  {
   "cell_type": "code",
   "execution_count": 14,
   "id": "0067f643",
   "metadata": {},
   "outputs": [
    {
     "name": "stdout",
     "output_type": "stream",
     "text": [
      "              precision    recall  f1-score   support\n",
      "\n",
      "           0       0.80      0.89      0.84        99\n",
      "           1       0.75      0.60      0.67        55\n",
      "\n",
      "    accuracy                           0.79       154\n",
      "   macro avg       0.78      0.74      0.75       154\n",
      "weighted avg       0.78      0.79      0.78       154\n",
      "\n"
     ]
    }
   ],
   "source": [
    "print(classification_report(ytest,ypred))"
   ]
  },
  {
   "cell_type": "code",
   "execution_count": 15,
   "id": "b454c5fc",
   "metadata": {},
   "outputs": [
    {
     "name": "stdout",
     "output_type": "stream",
     "text": [
      "Actual values     -: [0 0 0 0 0 0 0 0 0 0 0 0 1 1 0 1 1 0 0 0 1 1 1 1 0]\n",
      "Predicted values  -: [0 0 0 0 0 0 0 0 0 0 0 0 1 1 0 1 0 0 0 0 0 0 1 0 0]\n"
     ]
    }
   ],
   "source": [
    "print(f\"Actual values     -: {ytest[:25].values}\")\n",
    "print(f\"Predicted values  -: {ypred[:25]}\")"
   ]
  },
  {
   "cell_type": "code",
   "execution_count": 16,
   "id": "1a655ecf",
   "metadata": {},
   "outputs": [
    {
     "data": {
      "text/plain": [
       "array([[0.5662516 , 0.4337484 ],\n",
       "       [0.68827677, 0.31172323],\n",
       "       [0.89781719, 0.10218281],\n",
       "       [0.92880255, 0.07119745],\n",
       "       [0.72828301, 0.27171699],\n",
       "       [0.68288267, 0.31711733],\n",
       "       [0.6721006 , 0.3278994 ],\n",
       "       [0.89079954, 0.10920046],\n",
       "       [0.79546149, 0.20453851],\n",
       "       [0.72859519, 0.27140481],\n",
       "       [0.57869293, 0.42130707],\n",
       "       [0.89177231, 0.10822769],\n",
       "       [0.0091507 , 0.9908493 ],\n",
       "       [0.35096357, 0.64903643],\n",
       "       [0.61226503, 0.38773497],\n",
       "       [0.32517494, 0.67482506],\n",
       "       [0.69021279, 0.30978721],\n",
       "       [0.67237901, 0.32762099],\n",
       "       [0.9547603 , 0.0452397 ],\n",
       "       [0.89444048, 0.10555952],\n",
       "       [0.5620062 , 0.4379938 ],\n",
       "       [0.88113892, 0.11886108],\n",
       "       [0.11340854, 0.88659146],\n",
       "       [0.83353013, 0.16646987],\n",
       "       [0.91771622, 0.08228378],\n",
       "       [0.57840663, 0.42159337],\n",
       "       [0.72976943, 0.27023057],\n",
       "       [0.3672247 , 0.6327753 ],\n",
       "       [0.87657196, 0.12342804],\n",
       "       [0.58038318, 0.41961682],\n",
       "       [0.57771922, 0.42228078],\n",
       "       [0.89664546, 0.10335454],\n",
       "       [0.94192794, 0.05807206],\n",
       "       [0.17726634, 0.82273366],\n",
       "       [0.83014667, 0.16985333],\n",
       "       [0.19220427, 0.80779573],\n",
       "       [0.90959227, 0.09040773],\n",
       "       [0.78126332, 0.21873668],\n",
       "       [0.93322337, 0.06677663],\n",
       "       [0.52514248, 0.47485752],\n",
       "       [0.72015756, 0.27984244],\n",
       "       [0.89000391, 0.10999609],\n",
       "       [0.96150905, 0.03849095],\n",
       "       [0.56339002, 0.43660998],\n",
       "       [0.91631864, 0.08368136],\n",
       "       [0.9780913 , 0.0219087 ],\n",
       "       [0.13412152, 0.86587848],\n",
       "       [0.18415196, 0.81584804],\n",
       "       [0.92201127, 0.07798873],\n",
       "       [0.87670778, 0.12329222],\n",
       "       [0.95373974, 0.04626026],\n",
       "       [0.80969257, 0.19030743],\n",
       "       [0.18657753, 0.81342247],\n",
       "       [0.94521723, 0.05478277],\n",
       "       [0.33842899, 0.66157101],\n",
       "       [0.88776488, 0.11223512],\n",
       "       [0.69823847, 0.30176153],\n",
       "       [0.72284869, 0.27715131],\n",
       "       [0.37249828, 0.62750172],\n",
       "       [0.83348661, 0.16651339],\n",
       "       [0.32491146, 0.67508854],\n",
       "       [0.93015154, 0.06984846],\n",
       "       [0.31263238, 0.68736762],\n",
       "       [0.72351369, 0.27648631],\n",
       "       [0.4631373 , 0.5368627 ],\n",
       "       [0.88033004, 0.11966996],\n",
       "       [0.51789355, 0.48210645],\n",
       "       [0.49594482, 0.50405518],\n",
       "       [0.43637602, 0.56362398],\n",
       "       [0.3885434 , 0.6114566 ],\n",
       "       [0.12034305, 0.87965695],\n",
       "       [0.15944268, 0.84055732],\n",
       "       [0.45071866, 0.54928134],\n",
       "       [0.98275266, 0.01724734],\n",
       "       [0.35637057, 0.64362943],\n",
       "       [0.82078881, 0.17921119],\n",
       "       [0.36414416, 0.63585584],\n",
       "       [0.67862042, 0.32137958],\n",
       "       [0.87498335, 0.12501665],\n",
       "       [0.313133  , 0.686867  ],\n",
       "       [0.30409113, 0.69590887],\n",
       "       [0.77836363, 0.22163637],\n",
       "       [0.54886178, 0.45113822],\n",
       "       [0.6852345 , 0.3147655 ],\n",
       "       [0.63472149, 0.36527851],\n",
       "       [0.25595888, 0.74404112],\n",
       "       [0.40743672, 0.59256328],\n",
       "       [0.77712688, 0.22287312],\n",
       "       [0.52265598, 0.47734402],\n",
       "       [0.73815718, 0.26184282],\n",
       "       [0.86151852, 0.13848148],\n",
       "       [0.95452586, 0.04547414],\n",
       "       [0.68513709, 0.31486291],\n",
       "       [0.84699326, 0.15300674],\n",
       "       [0.22118099, 0.77881901],\n",
       "       [0.59400866, 0.40599134],\n",
       "       [0.69022869, 0.30977131],\n",
       "       [0.78675418, 0.21324582],\n",
       "       [0.08019102, 0.91980898],\n",
       "       [0.87069367, 0.12930633],\n",
       "       [0.87349893, 0.12650107],\n",
       "       [0.7077028 , 0.2922972 ],\n",
       "       [0.24225653, 0.75774347],\n",
       "       [0.73808885, 0.26191115],\n",
       "       [0.89105202, 0.10894798],\n",
       "       [0.92214165, 0.07785835],\n",
       "       [0.58245805, 0.41754195],\n",
       "       [0.28312874, 0.71687126],\n",
       "       [0.77742507, 0.22257493],\n",
       "       [0.81704926, 0.18295074],\n",
       "       [0.53483677, 0.46516323],\n",
       "       [0.94382297, 0.05617703],\n",
       "       [0.48992006, 0.51007994],\n",
       "       [0.76824055, 0.23175945],\n",
       "       [0.44054971, 0.55945029],\n",
       "       [0.93020091, 0.06979909],\n",
       "       [0.89377806, 0.10622194],\n",
       "       [0.47866942, 0.52133058],\n",
       "       [0.61521265, 0.38478735],\n",
       "       [0.46049064, 0.53950936],\n",
       "       [0.78341651, 0.21658349],\n",
       "       [0.13761585, 0.86238415],\n",
       "       [0.65525229, 0.34474771],\n",
       "       [0.51339141, 0.48660859],\n",
       "       [0.82613752, 0.17386248],\n",
       "       [0.87834786, 0.12165214],\n",
       "       [0.72730872, 0.27269128],\n",
       "       [0.66590624, 0.33409376],\n",
       "       [0.34674536, 0.65325464],\n",
       "       [0.73736031, 0.26263969],\n",
       "       [0.03540517, 0.96459483],\n",
       "       [0.94339291, 0.05660709],\n",
       "       [0.51229189, 0.48770811],\n",
       "       [0.68984285, 0.31015715],\n",
       "       [0.86068811, 0.13931189],\n",
       "       [0.75750264, 0.24249736],\n",
       "       [0.93202605, 0.06797395],\n",
       "       [0.39748148, 0.60251852],\n",
       "       [0.81634714, 0.18365286],\n",
       "       [0.68391363, 0.31608637],\n",
       "       [0.04682973, 0.95317027],\n",
       "       [0.89177558, 0.10822442],\n",
       "       [0.8362703 , 0.1637297 ],\n",
       "       [0.1713059 , 0.8286941 ],\n",
       "       [0.30592885, 0.69407115],\n",
       "       [0.71473467, 0.28526533],\n",
       "       [0.93904161, 0.06095839],\n",
       "       [0.93167584, 0.06832416],\n",
       "       [0.73144053, 0.26855947],\n",
       "       [0.87938671, 0.12061329],\n",
       "       [0.69035189, 0.30964811],\n",
       "       [0.05271558, 0.94728442],\n",
       "       [0.31319037, 0.68680963],\n",
       "       [0.90797286, 0.09202714]])"
      ]
     },
     "execution_count": 16,
     "metadata": {},
     "output_type": "execute_result"
    }
   ],
   "source": [
    "model.predict_proba(xtest)"
   ]
  },
  {
   "cell_type": "code",
   "execution_count": 17,
   "id": "c09357ab",
   "metadata": {},
   "outputs": [],
   "source": [
    "ypredprob=model.predict_proba(xtest)[:,1]"
   ]
  },
  {
   "cell_type": "code",
   "execution_count": 18,
   "id": "1d80f151",
   "metadata": {},
   "outputs": [
    {
     "data": {
      "text/plain": [
       "array([0.4337484 , 0.31172323, 0.10218281, 0.07119745, 0.27171699,\n",
       "       0.31711733, 0.3278994 , 0.10920046, 0.20453851, 0.27140481,\n",
       "       0.42130707, 0.10822769, 0.9908493 , 0.64903643, 0.38773497,\n",
       "       0.67482506, 0.30978721, 0.32762099, 0.0452397 , 0.10555952,\n",
       "       0.4379938 , 0.11886108, 0.88659146, 0.16646987, 0.08228378,\n",
       "       0.42159337, 0.27023057, 0.6327753 , 0.12342804, 0.41961682,\n",
       "       0.42228078, 0.10335454, 0.05807206, 0.82273366, 0.16985333,\n",
       "       0.80779573, 0.09040773, 0.21873668, 0.06677663, 0.47485752,\n",
       "       0.27984244, 0.10999609, 0.03849095, 0.43660998, 0.08368136,\n",
       "       0.0219087 , 0.86587848, 0.81584804, 0.07798873, 0.12329222,\n",
       "       0.04626026, 0.19030743, 0.81342247, 0.05478277, 0.66157101,\n",
       "       0.11223512, 0.30176153, 0.27715131, 0.62750172, 0.16651339,\n",
       "       0.67508854, 0.06984846, 0.68736762, 0.27648631, 0.5368627 ,\n",
       "       0.11966996, 0.48210645, 0.50405518, 0.56362398, 0.6114566 ,\n",
       "       0.87965695, 0.84055732, 0.54928134, 0.01724734, 0.64362943,\n",
       "       0.17921119, 0.63585584, 0.32137958, 0.12501665, 0.686867  ,\n",
       "       0.69590887, 0.22163637, 0.45113822, 0.3147655 , 0.36527851,\n",
       "       0.74404112, 0.59256328, 0.22287312, 0.47734402, 0.26184282,\n",
       "       0.13848148, 0.04547414, 0.31486291, 0.15300674, 0.77881901,\n",
       "       0.40599134, 0.30977131, 0.21324582, 0.91980898, 0.12930633,\n",
       "       0.12650107, 0.2922972 , 0.75774347, 0.26191115, 0.10894798,\n",
       "       0.07785835, 0.41754195, 0.71687126, 0.22257493, 0.18295074,\n",
       "       0.46516323, 0.05617703, 0.51007994, 0.23175945, 0.55945029,\n",
       "       0.06979909, 0.10622194, 0.52133058, 0.38478735, 0.53950936,\n",
       "       0.21658349, 0.86238415, 0.34474771, 0.48660859, 0.17386248,\n",
       "       0.12165214, 0.27269128, 0.33409376, 0.65325464, 0.26263969,\n",
       "       0.96459483, 0.05660709, 0.48770811, 0.31015715, 0.13931189,\n",
       "       0.24249736, 0.06797395, 0.60251852, 0.18365286, 0.31608637,\n",
       "       0.95317027, 0.10822442, 0.1637297 , 0.8286941 , 0.69407115,\n",
       "       0.28526533, 0.06095839, 0.06832416, 0.26855947, 0.12061329,\n",
       "       0.30964811, 0.94728442, 0.68680963, 0.09202714])"
      ]
     },
     "execution_count": 18,
     "metadata": {},
     "output_type": "execute_result"
    }
   ],
   "source": [
    "ypredprob"
   ]
  },
  {
   "cell_type": "code",
   "execution_count": 19,
   "id": "f0ed6d29",
   "metadata": {},
   "outputs": [],
   "source": [
    "from sklearn.preprocessing import binarize"
   ]
  },
  {
   "cell_type": "code",
   "execution_count": 20,
   "id": "e206e0ca",
   "metadata": {},
   "outputs": [],
   "source": [
    "ypred=binarize([ypredprob],threshold=0.30)[0] #2D --->1D"
   ]
  },
  {
   "cell_type": "code",
   "execution_count": 21,
   "id": "19bcc310",
   "metadata": {},
   "outputs": [
    {
     "data": {
      "text/plain": [
       "array([1., 1., 0., 0., 0., 1., 1., 0., 0., 0., 1., 0., 1., 1., 1., 1., 1.,\n",
       "       1., 0., 0., 1., 0., 1., 0., 0., 1., 0., 1., 0., 1., 1., 0., 0., 1.,\n",
       "       0., 1., 0., 0., 0., 1., 0., 0., 0., 1., 0., 0., 1., 1., 0., 0., 0.,\n",
       "       0., 1., 0., 1., 0., 1., 0., 1., 0., 1., 0., 1., 0., 1., 0., 1., 1.,\n",
       "       1., 1., 1., 1., 1., 0., 1., 0., 1., 1., 0., 1., 1., 0., 1., 1., 1.,\n",
       "       1., 1., 0., 1., 0., 0., 0., 1., 0., 1., 1., 1., 0., 1., 0., 0., 0.,\n",
       "       1., 0., 0., 0., 1., 1., 0., 0., 1., 0., 1., 0., 1., 0., 0., 1., 1.,\n",
       "       1., 0., 1., 1., 1., 0., 0., 0., 1., 1., 0., 1., 0., 1., 1., 0., 0.,\n",
       "       0., 1., 0., 1., 1., 0., 0., 1., 1., 0., 0., 0., 0., 0., 1., 1., 1.,\n",
       "       0.])"
      ]
     },
     "execution_count": 21,
     "metadata": {},
     "output_type": "execute_result"
    }
   ],
   "source": [
    "ypred"
   ]
  },
  {
   "cell_type": "code",
   "execution_count": 22,
   "id": "cf459304",
   "metadata": {},
   "outputs": [
    {
     "name": "stdout",
     "output_type": "stream",
     "text": [
      "Actual values     -: [0 0 0 0 0 0 0 0 0 0 0 0 1 1 0 1 1 0 0 0 1 1 1 1 0]\n",
      "Predicted values  -: [1 1 0 0 0 1 1 0 0 0 1 0 1 1 1 1 1 1 0 0 1 0 1 0 0]\n"
     ]
    }
   ],
   "source": [
    "print(f\"Actual values     -: {ytest[:25].values}\")\n",
    "print(f\"Predicted values  -: {ypred[:25].astype(int)}\")"
   ]
  },
  {
   "cell_type": "code",
   "execution_count": 23,
   "id": "f27e45a1",
   "metadata": {},
   "outputs": [],
   "source": [
    "from sklearn.metrics import roc_curve"
   ]
  },
  {
   "cell_type": "code",
   "execution_count": 24,
   "id": "228f0ab4",
   "metadata": {},
   "outputs": [],
   "source": [
    "fpr,tpr,thres = roc_curve(ytest,ypredprob)"
   ]
  },
  {
   "cell_type": "code",
   "execution_count": 25,
   "id": "6b0e0d26",
   "metadata": {},
   "outputs": [
    {
     "data": {
      "text/plain": [
       "array([1.9908493 , 0.9908493 , 0.86238415, 0.84055732, 0.75774347,\n",
       "       0.71687126, 0.686867  , 0.67508854, 0.66157101, 0.65325464,\n",
       "       0.6327753 , 0.62750172, 0.6114566 , 0.60251852, 0.59256328,\n",
       "       0.56362398, 0.55945029, 0.54928134, 0.52133058, 0.51007994,\n",
       "       0.48770811, 0.48660859, 0.48210645, 0.47485752, 0.43660998,\n",
       "       0.4337484 , 0.42228078, 0.42130707, 0.41754195, 0.36527851,\n",
       "       0.33409376, 0.31486291, 0.3147655 , 0.31015715, 0.30978721,\n",
       "       0.30964811, 0.30176153, 0.2922972 , 0.28526533, 0.27023057,\n",
       "       0.26855947, 0.22287312, 0.22257493, 0.19030743, 0.18365286,\n",
       "       0.18295074, 0.17921119, 0.16651339, 0.16646987, 0.12342804,\n",
       "       0.12329222, 0.11966996, 0.11886108, 0.01724734])"
      ]
     },
     "execution_count": 25,
     "metadata": {},
     "output_type": "execute_result"
    }
   ],
   "source": [
    "thres"
   ]
  },
  {
   "cell_type": "code",
   "execution_count": 26,
   "id": "2999e47e",
   "metadata": {},
   "outputs": [
    {
     "data": {
      "image/png": "[encoded data removed]",
      "text/plain": [
       "<Figure size 432x288 with 1 Axes>"
      ]
     },
     "metadata": {
      "needs_background": "light"
     },
     "output_type": "display_data"
    }
   ],
   "source": [
    "plt.plot(fpr,tpr)\n",
    "plt.title(\"ROC curve for dibaties classifier\")\n",
    "plt.xlabel(\"Flase Positive Rate (1-specificity)\")\n",
    "plt.ylabel(\"True Positive Rate (sensitivity)\")\n",
    "plt.grid(True)\n",
    "plt.show()"
   ]
  },
  {
   "cell_type": "code",
   "execution_count": 28,
   "id": "0f9f837c",
   "metadata": {},
   "outputs": [
    {
     "name": "stdout",
     "output_type": "stream",
     "text": [
      "['lbfgs', 'l2'] ---> 0.7857142857142857 \n",
      "['lbfgs', 'none'] ---> 0.7857142857142857 \n",
      "['liblinear', 'l1'] ---> 0.7857142857142857 \n",
      "['liblinear', 'l2'] ---> 0.7857142857142857 \n",
      "['newton-cg', 'l2'] ---> 0.7857142857142857 \n",
      "['newton-cg', 'none'] ---> 0.7857142857142857 \n",
      "['sag', 'l2'] ---> 0.7857142857142857 \n",
      "['sag', 'none'] ---> 0.7857142857142857 \n",
      "['saga', 'l1'] ---> 0.7792207792207793 \n",
      "['saga', 'l2'] ---> 0.7857142857142857 \n",
      "['saga', 'none'] ---> 0.7857142857142857 \n"
     ]
    }
   ],
   "source": [
    "params = [ ['lbfgs','l2'],['lbfgs','none'],\n",
    "           ['liblinear','l1'],['liblinear','l2'],\n",
    "           ['newton-cg','l2'],['newton-cg','none'],\n",
    "           ['sag','l2'],['sag','none'],\n",
    "           ['saga','l1'],['saga','l2'],['saga','none']  ]\n",
    "\n",
    "#  ['saga','elasticnet']  --->  Need to perform Scalling on the Data \n",
    "\n",
    "all_combinations = []\n",
    "\n",
    "for i in params:\n",
    "\n",
    "    from sklearn.linear_model import LogisticRegression\n",
    "\n",
    "    model = LogisticRegression(solver=i[0] , penalty=i[1])\n",
    "\n",
    "    model.fit(xtrain,ytrain)\n",
    "\n",
    "    ypred = model.predict(xtest)\n",
    "    \n",
    "    from sklearn.metrics import accuracy_score\n",
    "    acc = accuracy_score(ytest,ypred)\n",
    "    \n",
    "    print(f\"{i} ---> {acc} \")\n",
    "    \n",
    "    all_combinations.append([i[0],i[1],acc])"
   ]
  },
  {
   "cell_type": "code",
   "execution_count": null,
   "id": "3d0ebdd0",
   "metadata": {},
   "outputs": [],
   "source": []
  }
 ],
 "metadata": {
  "kernelspec": {
   "display_name": "Python 3 (ipykernel)",
   "language": "python",
   "name": "python3"
  },
  "language_info": {
   "codemirror_mode": {
    "name": "ipython",
    "version": 3
   },
   "file_extension": ".py",
   "mimetype": "text/x-python",
   "name": "python",
   "nbconvert_exporter": "python",
   "pygments_lexer": "ipython3",
   "version": "3.10.5"
  }
 },
 "nbformat": 4,
 "nbformat_minor": 5
}
